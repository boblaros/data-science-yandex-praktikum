{
 "cells": [
  {
   "cell_type": "markdown",
   "id": "49b89bd3-6b85-4f0f-af6f-433eb7c8e23e",
   "metadata": {},
   "source": [
    "# Проект \"Музыка больших городов\""
   ]
  },
  {
   "cell_type": "markdown",
   "id": "e6526698-79ef-4cd3-8baa-478b4d8ddfd7",
   "metadata": {},
   "source": [
    "## Описание проекта"
   ]
  },
  {
   "cell_type": "markdown",
   "id": "9d7e4955-74fe-46aa-b894-7759683f37f1",
   "metadata": {},
   "source": [
    "**Контекст исследования**:\n",
    "\n",
    "Сравнение Москвы и Петербурга окружено мифами. Москва — мегаполис, подчинённый жёсткому ритму рабочей недели. Петербург — культурная столица, со своими вкусами. Используя данные Яндекс Музыки будет произведено сравненени и анализ поведения пользователей двух столиц.\n",
    "\n",
    "**Цель исследования**: — проверить три гипотезы:\n",
    "1. Активность пользователей зависит от дня недели. Причём в Москве и Петербурге это проявляется по-разному.\n",
    "2. В понедельник утром в Москве преобладают одни жанры, а в Петербурге — другие. Так же и вечером пятницы преобладают разные жанры — в зависимости от города.\n",
    "3. Москва и Петербург предпочитают разные жанры музыки. В Москве чаще слушают поп-музыку, в Петербурге — русский рэп.\n",
    "\n",
    "**Ход исследования**:\n",
    "\n",
    "Набор данных, `yandex_music_project.csv`, содержит информацию о поведении пользователей. Анализ проводится в соответствии со структурированным подходом:\n",
    "\n",
    "1. **[Обзор данных](#1)**: первичное изучение набора данных.\n",
    "2. **[Предобработка данных](#2)**: выявление и исправление критических ошибок в данных, чтобы обеспечить качество анализа.\n",
    "3. **[Проверка гипотез](#3)**: тщательные тесты для подтверждения гипотез.\n",
    "4. **[Заключение](#4)**: выводы по результатам исследования\n",
    "\n",
    "**Описание столбцов**:\n",
    "- `userID` — идентификатор пользователя;\n",
    "- `Track` — название трека;\n",
    "- `artist` — имя исполнителя;\n",
    "- `genre` — название жанра;\n",
    "- `City` — город пользователя;\n",
    "- `time` — время начала прослушивания;\n",
    "- `Day` — день недели."
   ]
  },
  {
   "cell_type": "markdown",
   "id": "4fd0f41c-1811-45fc-afd3-4ec80272b304",
   "metadata": {},
   "source": [
    "## 1. Обзор данных <a id='1'> </a>"
   ]
  },
  {
   "cell_type": "code",
   "execution_count": 1,
   "id": "f55c2905-7bb0-4d21-8635-efb5f89417f1",
   "metadata": {},
   "outputs": [],
   "source": [
    "#import libraries\n",
    "import pandas as pd"
   ]
  },
  {
   "cell_type": "code",
   "execution_count": 2,
   "id": "bcb2175d-18c6-45d0-ab75-9392ce89c547",
   "metadata": {},
   "outputs": [],
   "source": [
    "#import data\n",
    "df = pd.read_csv('yandex_music_project.csv')"
   ]
  },
  {
   "cell_type": "code",
   "execution_count": 3,
   "id": "502a0bf1-f591-42cf-9442-98c2dd22aa05",
   "metadata": {},
   "outputs": [
    {
     "data": {
      "text/html": [
       "<div>\n",
       "<style scoped>\n",
       "    .dataframe tbody tr th:only-of-type {\n",
       "        vertical-align: middle;\n",
       "    }\n",
       "\n",
       "    .dataframe tbody tr th {\n",
       "        vertical-align: top;\n",
       "    }\n",
       "\n",
       "    .dataframe thead th {\n",
       "        text-align: right;\n",
       "    }\n",
       "</style>\n",
       "<table border=\"1\" class=\"dataframe\">\n",
       "  <thead>\n",
       "    <tr style=\"text-align: right;\">\n",
       "      <th></th>\n",
       "      <th>userID</th>\n",
       "      <th>Track</th>\n",
       "      <th>artist</th>\n",
       "      <th>genre</th>\n",
       "      <th>City</th>\n",
       "      <th>time</th>\n",
       "      <th>Day</th>\n",
       "    </tr>\n",
       "  </thead>\n",
       "  <tbody>\n",
       "    <tr>\n",
       "      <th>11996</th>\n",
       "      <td>D09603B7</td>\n",
       "      <td>Простреленный флаг</td>\n",
       "      <td>ДМЦ</td>\n",
       "      <td>rusrock</td>\n",
       "      <td>Moscow</td>\n",
       "      <td>20:06:44</td>\n",
       "      <td>Monday</td>\n",
       "    </tr>\n",
       "    <tr>\n",
       "      <th>59418</th>\n",
       "      <td>7CED98E9</td>\n",
       "      <td>NaN</td>\n",
       "      <td>NaN</td>\n",
       "      <td>jazz</td>\n",
       "      <td>Moscow</td>\n",
       "      <td>14:20:11</td>\n",
       "      <td>Wednesday</td>\n",
       "    </tr>\n",
       "    <tr>\n",
       "      <th>6047</th>\n",
       "      <td>43E93FD9</td>\n",
       "      <td>Carbon 12</td>\n",
       "      <td>Jlin</td>\n",
       "      <td>electronic</td>\n",
       "      <td>Moscow</td>\n",
       "      <td>08:49:07</td>\n",
       "      <td>Wednesday</td>\n",
       "    </tr>\n",
       "    <tr>\n",
       "      <th>24629</th>\n",
       "      <td>F50DF282</td>\n",
       "      <td>Mistake</td>\n",
       "      <td>Nickelback</td>\n",
       "      <td>rock</td>\n",
       "      <td>Moscow</td>\n",
       "      <td>13:13:06</td>\n",
       "      <td>Wednesday</td>\n",
       "    </tr>\n",
       "    <tr>\n",
       "      <th>36125</th>\n",
       "      <td>A1CD242C</td>\n",
       "      <td>Solaria</td>\n",
       "      <td>Solaris</td>\n",
       "      <td>electronic</td>\n",
       "      <td>Moscow</td>\n",
       "      <td>09:51:41</td>\n",
       "      <td>Friday</td>\n",
       "    </tr>\n",
       "  </tbody>\n",
       "</table>\n",
       "</div>"
      ],
      "text/plain": [
       "         userID               Track      artist       genre   City    \\\n",
       "11996  D09603B7  Простреленный флаг         ДМЦ     rusrock   Moscow   \n",
       "59418  7CED98E9                 NaN         NaN        jazz   Moscow   \n",
       "6047   43E93FD9           Carbon 12        Jlin  electronic   Moscow   \n",
       "24629  F50DF282             Mistake  Nickelback        rock   Moscow   \n",
       "36125  A1CD242C             Solaria     Solaris  electronic   Moscow   \n",
       "\n",
       "           time        Day  \n",
       "11996  20:06:44     Monday  \n",
       "59418  14:20:11  Wednesday  \n",
       "6047   08:49:07  Wednesday  \n",
       "24629  13:13:06  Wednesday  \n",
       "36125  09:51:41     Friday  "
      ]
     },
     "execution_count": 3,
     "metadata": {},
     "output_type": "execute_result"
    }
   ],
   "source": [
    "df.sample(5) #getting random rows of df"
   ]
  },
  {
   "cell_type": "code",
   "execution_count": 4,
   "id": "fec158f4-9efa-4f96-b8d5-3ede4ff32d14",
   "metadata": {},
   "outputs": [
    {
     "name": "stdout",
     "output_type": "stream",
     "text": [
      "<class 'pandas.core.frame.DataFrame'>\n",
      "RangeIndex: 65079 entries, 0 to 65078\n",
      "Data columns (total 7 columns):\n",
      " #   Column    Non-Null Count  Dtype \n",
      "---  ------    --------------  ----- \n",
      " 0     userID  65079 non-null  object\n",
      " 1   Track     63848 non-null  object\n",
      " 2   artist    57876 non-null  object\n",
      " 3   genre     63881 non-null  object\n",
      " 4     City    65079 non-null  object\n",
      " 5   time      65079 non-null  object\n",
      " 6   Day       65079 non-null  object\n",
      "dtypes: object(7)\n",
      "memory usage: 3.5+ MB\n"
     ]
    }
   ],
   "source": [
    "df.info() #general df info"
   ]
  },
  {
   "cell_type": "markdown",
   "id": "cb66f046-4a94-46b1-9b2e-deaad4520d8b",
   "metadata": {},
   "source": [
    "<div class=\"alert\"; style=\"border-left: 7px solid pink\">\n",
    "\n",
    "**Мини-вывод**\n",
    "- 65079 строк;\n",
    "- В каждой строке таблицы — данные о прослушанном треке. Часть колонок описывает саму композицию: название, исполнителя и жанр. Остальные данные рассказывают о пользователе: из какого он города, когда он слушал музыку;\n",
    "- Есть пропуски в стобцах `Track`, `artist` и `genre`;\n",
    "- В названиях стобцов `userID`, `Track`, `City` и `Day` нарушен стиль.\n",
    "- Предварительно можно утверждать, что данных достаточно для проверки гипотез. Но так как встречаются пропуски в данных, а в названиях колонок есть расхождение с хорошим стилем, требуется устранить проблемы в данных, чтобы двигаться дальше.\n",
    "</div>"
   ]
  },
  {
   "cell_type": "markdown",
   "id": "7ef4c342-fa24-44fc-9fc8-cf91a1c944ad",
   "metadata": {},
   "source": [
    "## 2. Предобработка данных <a id='2'> </a>"
   ]
  },
  {
   "cell_type": "markdown",
   "id": "14d22e83-2e30-447d-8111-11a5423a8ee2",
   "metadata": {},
   "source": [
    "### 2.1 Название столбцов"
   ]
  },
  {
   "cell_type": "code",
   "execution_count": 5,
   "id": "d55fcc75-0943-405e-b45a-e5d1e31bc707",
   "metadata": {},
   "outputs": [
    {
     "data": {
      "text/html": [
       "<div>\n",
       "<style scoped>\n",
       "    .dataframe tbody tr th:only-of-type {\n",
       "        vertical-align: middle;\n",
       "    }\n",
       "\n",
       "    .dataframe tbody tr th {\n",
       "        vertical-align: top;\n",
       "    }\n",
       "\n",
       "    .dataframe thead th {\n",
       "        text-align: right;\n",
       "    }\n",
       "</style>\n",
       "<table border=\"1\" class=\"dataframe\">\n",
       "  <thead>\n",
       "    <tr style=\"text-align: right;\">\n",
       "      <th></th>\n",
       "      <th>user_id</th>\n",
       "      <th>track</th>\n",
       "      <th>artist</th>\n",
       "      <th>genre</th>\n",
       "      <th>city</th>\n",
       "      <th>time</th>\n",
       "      <th>day</th>\n",
       "    </tr>\n",
       "  </thead>\n",
       "  <tbody>\n",
       "    <tr>\n",
       "      <th>0</th>\n",
       "      <td>FFB692EC</td>\n",
       "      <td>Kamigata To Boots</td>\n",
       "      <td>The Mass Missile</td>\n",
       "      <td>rock</td>\n",
       "      <td>Saint-Petersburg</td>\n",
       "      <td>20:28:33</td>\n",
       "      <td>Wednesday</td>\n",
       "    </tr>\n",
       "    <tr>\n",
       "      <th>1</th>\n",
       "      <td>55204538</td>\n",
       "      <td>Delayed Because of Accident</td>\n",
       "      <td>Andreas Rönnberg</td>\n",
       "      <td>rock</td>\n",
       "      <td>Moscow</td>\n",
       "      <td>14:07:09</td>\n",
       "      <td>Friday</td>\n",
       "    </tr>\n",
       "    <tr>\n",
       "      <th>2</th>\n",
       "      <td>20EC38</td>\n",
       "      <td>Funiculì funiculà</td>\n",
       "      <td>Mario Lanza</td>\n",
       "      <td>pop</td>\n",
       "      <td>Saint-Petersburg</td>\n",
       "      <td>20:58:07</td>\n",
       "      <td>Wednesday</td>\n",
       "    </tr>\n",
       "    <tr>\n",
       "      <th>3</th>\n",
       "      <td>A3DD03C9</td>\n",
       "      <td>Dragons in the Sunset</td>\n",
       "      <td>Fire + Ice</td>\n",
       "      <td>folk</td>\n",
       "      <td>Saint-Petersburg</td>\n",
       "      <td>08:37:09</td>\n",
       "      <td>Monday</td>\n",
       "    </tr>\n",
       "    <tr>\n",
       "      <th>4</th>\n",
       "      <td>E2DC1FAE</td>\n",
       "      <td>Soul People</td>\n",
       "      <td>Space Echo</td>\n",
       "      <td>dance</td>\n",
       "      <td>Moscow</td>\n",
       "      <td>08:34:34</td>\n",
       "      <td>Monday</td>\n",
       "    </tr>\n",
       "  </tbody>\n",
       "</table>\n",
       "</div>"
      ],
      "text/plain": [
       "    user_id                        track            artist  genre  \\\n",
       "0  FFB692EC            Kamigata To Boots  The Mass Missile   rock   \n",
       "1  55204538  Delayed Because of Accident  Andreas Rönnberg   rock   \n",
       "2    20EC38            Funiculì funiculà       Mario Lanza    pop   \n",
       "3  A3DD03C9        Dragons in the Sunset        Fire + Ice   folk   \n",
       "4  E2DC1FAE                  Soul People        Space Echo  dance   \n",
       "\n",
       "               city      time        day  \n",
       "0  Saint-Petersburg  20:28:33  Wednesday  \n",
       "1            Moscow  14:07:09     Friday  \n",
       "2  Saint-Petersburg  20:58:07  Wednesday  \n",
       "3  Saint-Petersburg  08:37:09     Monday  \n",
       "4            Moscow  08:34:34     Monday  "
      ]
     },
     "execution_count": 5,
     "metadata": {},
     "output_type": "execute_result"
    }
   ],
   "source": [
    "#column renaming\n",
    "df = df.rename(columns = {'  userID': 'user_id', 'Track': 'track', '  City  ': 'city', 'Day': 'day'})\n",
    "df.head()"
   ]
  },
  {
   "cell_type": "markdown",
   "id": "5fcef3ed-439e-4bb1-859b-3acb77901ac1",
   "metadata": {},
   "source": [
    "### 2.2 Пропуски"
   ]
  },
  {
   "cell_type": "code",
   "execution_count": 6,
   "id": "6a0b2e61-6fba-4aa9-98f8-6881628d898c",
   "metadata": {},
   "outputs": [
    {
     "data": {
      "text/plain": [
       "user_id       0\n",
       "track      1231\n",
       "artist     7203\n",
       "genre      1198\n",
       "city          0\n",
       "time          0\n",
       "day           0\n",
       "dtype: int64"
      ]
     },
     "execution_count": 6,
     "metadata": {},
     "output_type": "execute_result"
    }
   ],
   "source": [
    "df.isna().sum() #counting missing values"
   ]
  },
  {
   "cell_type": "markdown",
   "id": "d6ee2b8b-f71e-4ba8-a30f-cb5a4402989f",
   "metadata": {},
   "source": [
    "Пропуски в track и artist не важны и могут быть заменены явными обозначениями, но пропуски в genre могут затруднить сравнение музыкальных вкусов Москвы и Санкт-Петербурга, поэтому их также нужно заполнить и оценить влияние на расчёты."
   ]
  },
  {
   "cell_type": "code",
   "execution_count": 7,
   "id": "eefbd878-f6b4-4c13-a91f-42b64960d423",
   "metadata": {},
   "outputs": [
    {
     "data": {
      "text/plain": [
       "user_id    0\n",
       "track      0\n",
       "artist     0\n",
       "genre      0\n",
       "city       0\n",
       "time       0\n",
       "day        0\n",
       "dtype: int64"
      ]
     },
     "execution_count": 7,
     "metadata": {},
     "output_type": "execute_result"
    }
   ],
   "source": [
    "df = df.fillna('unknown') #missing value processing\n",
    "df.isna().sum()"
   ]
  },
  {
   "cell_type": "markdown",
   "id": "9097739f-b8c1-4e36-9570-bbcf8911b8d5",
   "metadata": {},
   "source": [
    "### 2.3 Дубликаты"
   ]
  },
  {
   "cell_type": "code",
   "execution_count": 8,
   "id": "fc150489-bf7f-4051-a28c-89dc13b19c0d",
   "metadata": {},
   "outputs": [
    {
     "data": {
      "text/plain": [
       "3826"
      ]
     },
     "execution_count": 8,
     "metadata": {},
     "output_type": "execute_result"
    }
   ],
   "source": [
    "df.duplicated().sum() #counting duplicates"
   ]
  },
  {
   "cell_type": "code",
   "execution_count": 9,
   "id": "0db2338b-843a-4559-a237-b4fc5dc527c5",
   "metadata": {},
   "outputs": [
    {
     "data": {
      "text/plain": [
       "0"
      ]
     },
     "execution_count": 9,
     "metadata": {},
     "output_type": "execute_result"
    }
   ],
   "source": [
    "df = df.drop_duplicates() #deletion of exact duplicates\n",
    "df.duplicated().sum()"
   ]
  },
  {
   "cell_type": "markdown",
   "id": "6ff9f18e-4c98-4729-856e-1b84d70d5f6d",
   "metadata": {},
   "source": [
    "Избавимся от неявных дубликатов:"
   ]
  },
  {
   "cell_type": "code",
   "execution_count": 10,
   "id": "67a3e30f-cccc-4b49-bc87-0368f138462f",
   "metadata": {},
   "outputs": [
    {
     "data": {
      "text/plain": [
       "array(['acid', 'acoustic', 'action', 'adult', 'africa', 'afrikaans',\n",
       "       'alternative', 'alternativepunk', 'ambient', 'americana',\n",
       "       'animated', 'anime', 'arabesk', 'arabic', 'arena',\n",
       "       'argentinetango', 'art', 'audiobook', 'author', 'avantgarde',\n",
       "       'axé', 'baile', 'balkan', 'beats', 'bigroom', 'black', 'bluegrass',\n",
       "       'blues', 'bollywood', 'bossa', 'brazilian', 'breakbeat', 'breaks',\n",
       "       'broadway', 'cantautori', 'cantopop', 'canzone', 'caribbean',\n",
       "       'caucasian', 'celtic', 'chamber', 'chanson', 'children', 'chill',\n",
       "       'chinese', 'choral', 'christian', 'christmas', 'classical',\n",
       "       'classicmetal', 'club', 'colombian', 'comedy', 'conjazz',\n",
       "       'contemporary', 'country', 'cuban', 'dance', 'dancehall',\n",
       "       'dancepop', 'dark', 'death', 'deep', 'deutschrock', 'deutschspr',\n",
       "       'dirty', 'disco', 'dnb', 'documentary', 'downbeat', 'downtempo',\n",
       "       'drum', 'dub', 'dubstep', 'eastern', 'easy', 'electronic',\n",
       "       'electropop', 'emo', 'entehno', 'epicmetal', 'estrada', 'ethnic',\n",
       "       'eurofolk', 'european', 'experimental', 'extrememetal', 'fado',\n",
       "       'fairytail', 'film', 'fitness', 'flamenco', 'folk', 'folklore',\n",
       "       'folkmetal', 'folkrock', 'folktronica', 'forró', 'frankreich',\n",
       "       'französisch', 'french', 'funk', 'future', 'gangsta', 'garage',\n",
       "       'german', 'ghazal', 'gitarre', 'glitch', 'gospel', 'gothic',\n",
       "       'grime', 'grunge', 'gypsy', 'handsup', \"hard'n'heavy\", 'hardcore',\n",
       "       'hardstyle', 'hardtechno', 'hip', 'hip-hop', 'hiphop',\n",
       "       'historisch', 'holiday', 'hop', 'horror', 'house', 'hymn', 'idm',\n",
       "       'independent', 'indian', 'indie', 'indipop', 'industrial',\n",
       "       'inspirational', 'instrumental', 'international', 'irish', 'jam',\n",
       "       'japanese', 'jazz', 'jewish', 'jpop', 'jungle', 'k-pop',\n",
       "       'karadeniz', 'karaoke', 'kayokyoku', 'korean', 'laiko', 'latin',\n",
       "       'latino', 'leftfield', 'local', 'lounge', 'loungeelectronic',\n",
       "       'lovers', 'malaysian', 'mandopop', 'marschmusik', 'meditative',\n",
       "       'mediterranean', 'melodic', 'metal', 'metalcore', 'mexican',\n",
       "       'middle', 'minimal', 'miscellaneous', 'modern', 'mood', 'mpb',\n",
       "       'muslim', 'native', 'neoklassik', 'neue', 'new', 'newage',\n",
       "       'newwave', 'nu', 'nujazz', 'numetal', 'oceania', 'old', 'opera',\n",
       "       'orchestral', 'other', 'piano', 'podcasts', 'pop', 'popdance',\n",
       "       'popelectronic', 'popeurodance', 'poprussian', 'post',\n",
       "       'posthardcore', 'postrock', 'power', 'progmetal', 'progressive',\n",
       "       'psychedelic', 'punjabi', 'punk', 'quebecois', 'ragga', 'ram',\n",
       "       'rancheras', 'rap', 'rave', 'reggae', 'reggaeton', 'regional',\n",
       "       'relax', 'religious', 'retro', 'rhythm', 'rnb', 'rnr', 'rock',\n",
       "       'rockabilly', 'rockalternative', 'rockindie', 'rockother',\n",
       "       'romance', 'roots', 'ruspop', 'rusrap', 'rusrock', 'russian',\n",
       "       'salsa', 'samba', 'scenic', 'schlager', 'self', 'sertanejo',\n",
       "       'shanson', 'shoegazing', 'showtunes', 'singer', 'ska', 'skarock',\n",
       "       'slow', 'smooth', 'soft', 'soul', 'soulful', 'sound', 'soundtrack',\n",
       "       'southern', 'specialty', 'speech', 'spiritual', 'sport',\n",
       "       'stonerrock', 'surf', 'swing', 'synthpop', 'synthrock',\n",
       "       'sängerportrait', 'tango', 'tanzorchester', 'taraftar', 'tatar',\n",
       "       'tech', 'techno', 'teen', 'thrash', 'top', 'traditional',\n",
       "       'tradjazz', 'trance', 'tribal', 'trip', 'triphop', 'tropical',\n",
       "       'türk', 'türkçe', 'ukrrock', 'unknown', 'urban', 'uzbek',\n",
       "       'variété', 'vi', 'videogame', 'vocal', 'western', 'world',\n",
       "       'worldbeat', 'ïîï', 'электроника'], dtype=object)"
      ]
     },
     "execution_count": 10,
     "metadata": {},
     "output_type": "execute_result"
    }
   ],
   "source": [
    "df['genre'].sort_values().unique() # getting unique genres"
   ]
  },
  {
   "cell_type": "code",
   "execution_count": 11,
   "id": "85feac10-9386-48ca-abab-99ad4fb6c022",
   "metadata": {},
   "outputs": [],
   "source": [
    "#processing implicit duplicates\n",
    "df['genre'] = df['genre'].replace(['hip', 'hop', 'hip-hop'], 'hiphop')\n",
    "df['genre'] = df['genre'].replace(['french', 'frankreich', 'französisch'], 'french')\n",
    "df['genre'] = df['genre'].replace(['ruspop', 'russian'], 'ruspop')\n",
    "df['genre'] = df['genre'].replace(['rockalternative', 'rockindie', 'rockother'], 'rock')\n",
    "df['genre'] = df['genre'].replace(['rnb', 'rhythm'], 'rnb')\n",
    "df['genre'] = df['genre'].replace(['metal', 'metalcore'], 'metal')\n",
    "df['genre'] = df['genre'].replace(['triphop', 'trip'], 'triphop')\n",
    "df['genre'] = df['genre'].replace(['newage', 'new'], 'newage')\n",
    "df['genre'] = df['genre'].replace(['popdance', 'pop', 'popelectronic', 'popeurodance'], 'pop')\n",
    "df['genre'] = df['genre'].replace(['country', 'american'], 'country')\n",
    "df['genre'] = df['genre'].replace(['world', 'worldbeat'], 'world')\n",
    "df['genre'] = df['genre'].replace(['electronic', 'electropop', 'электроника'], 'electronic')\n",
    "df['genre'] = df['genre'].replace(['türk', 'türkçe'], 'turkish')"
   ]
  },
  {
   "cell_type": "markdown",
   "id": "1fc5ec73-cee4-48fa-b59d-5c5c8f4606c0",
   "metadata": {},
   "source": [
    "Выведем количество уникальных жанров после обработки:"
   ]
  },
  {
   "cell_type": "code",
   "execution_count": 12,
   "id": "968fdd17-797b-414d-b354-86075901ef4f",
   "metadata": {},
   "outputs": [
    {
     "data": {
      "text/plain": [
       "270"
      ]
     },
     "execution_count": 12,
     "metadata": {},
     "output_type": "execute_result"
    }
   ],
   "source": [
    "len(df['genre'].sort_values().unique()) # getting unique genres after processing duplicates"
   ]
  },
  {
   "cell_type": "markdown",
   "id": "dd521143-90eb-4a97-a5ae-bc251c638471",
   "metadata": {},
   "source": [
    "Отметим также, что в данных есть жанр `ïîï`, который возможно является результатом неправильной кодировки и требуется дополнительной проверки."
   ]
  },
  {
   "cell_type": "markdown",
   "id": "bab835fa-0a93-408a-99be-b9d9d9135a92",
   "metadata": {},
   "source": [
    "<div class=\"alert\"; style=\"border-left: 7px solid pink\">\n",
    "\n",
    "**Мини-вывод по предобработке**\n",
    "- Название столбцов скорректированы;\n",
    "- Пропуски обработаны (заменены на 'unknown');\n",
    "- Явные и неявные дубликаты обработаны;\n",
    "- Данные готовы для проверки гипотез.\n",
    "</div>"
   ]
  },
  {
   "cell_type": "markdown",
   "id": "b1777888-f34f-487c-8d5e-c728c481cdd8",
   "metadata": {},
   "source": [
    "## 3. Проверка гипотез <a id='3'> </a>"
   ]
  },
  {
   "cell_type": "markdown",
   "id": "02b71c56-197d-4bc3-9c3f-f8c4cb296fb4",
   "metadata": {},
   "source": [
    "### 3.1 Сравнение поведения пользователей двух столиц"
   ]
  },
  {
   "cell_type": "markdown",
   "id": "f27140f6-3b4d-4c64-9a42-da6ff8a57f02",
   "metadata": {},
   "source": [
    "Первая гипотеза утверждает, что пользователи по-разному слушают музыку в Москве и Санкт-Петербурге. Проверим это предположение по данным о трёх днях недели — понедельнике, среде и пятнице. Для этого:\n",
    "\n",
    "* Разделим пользователей Москвы и Санкт-Петербурга.\n",
    "* Сравним, сколько треков послушала каждая группа пользователей в понедельник, среду и пятницу (в данных есть информация о прослушиваниях только за эти дни)."
   ]
  },
  {
   "cell_type": "markdown",
   "id": "ceb08150-c822-44d0-bb86-94094d3f76d8",
   "metadata": {},
   "source": [
    "Оценим активность пользователей в каждом городе. Сгруппируем данные по городу и посчитаем прослушивания в каждой группе:"
   ]
  },
  {
   "cell_type": "code",
   "execution_count": 13,
   "id": "df124f2a-7218-4255-8c65-191a27bbbb7c",
   "metadata": {},
   "outputs": [
    {
     "data": {
      "text/plain": [
       "city\n",
       "Moscow              42741\n",
       "Saint-Petersburg    18512\n",
       "Name: track, dtype: int64"
      ]
     },
     "execution_count": 13,
     "metadata": {},
     "output_type": "execute_result"
    }
   ],
   "source": [
    "df.groupby('city')['track'].count() #сounting auditions in each city"
   ]
  },
  {
   "cell_type": "markdown",
   "id": "fc572478-ca11-4335-a308-75bf87bb6f35",
   "metadata": {},
   "source": [
    "В Москве прослушиваний больше, чем в Петербурге. Из этого не следует, что московские пользователи чаще слушают музыку. Просто самих пользователей в Москве больше."
   ]
  },
  {
   "cell_type": "markdown",
   "id": "ec193730-ef24-4741-89e6-5617493e53e7",
   "metadata": {},
   "source": [
    "Далее сгруппируем данные по дню недели и посчитаем прослушивания в понедельник, среду и пятницу:"
   ]
  },
  {
   "cell_type": "code",
   "execution_count": 14,
   "id": "f1efce38-3326-4f32-83c0-146629269c3f",
   "metadata": {},
   "outputs": [
    {
     "data": {
      "text/plain": [
       "day\n",
       "Friday       21840\n",
       "Monday       21354\n",
       "Wednesday    18059\n",
       "Name: track, dtype: int64"
      ]
     },
     "execution_count": 14,
     "metadata": {},
     "output_type": "execute_result"
    }
   ],
   "source": [
    "df.groupby('day')['track'].count() #сounting auditions in each city"
   ]
  },
  {
   "cell_type": "markdown",
   "id": "ab9f10b4-a529-415b-a827-3eca99ddb121",
   "metadata": {},
   "source": [
    "Пользователи менее активны по средам, однакоо картина может измениться, если рассмотреть каждый город в отдельности."
   ]
  },
  {
   "cell_type": "markdown",
   "id": "4e2f4ac8-ea28-404a-a4ab-007b527567ac",
   "metadata": {},
   "source": [
    "Теперь напишем функцию `number_tracks`, которая посчитает прослушивания для заданного дня и города:"
   ]
  },
  {
   "cell_type": "code",
   "execution_count": 15,
   "id": "63d40fa3-9ab1-4bbc-b14c-30904dd92bc7",
   "metadata": {},
   "outputs": [],
   "source": [
    "def number_tracks(day, city):\n",
    "    track_list = df[df['city'] == city]\n",
    "    track_list = track_list[track_list['day'] == day]\n",
    "    track_list_count = track_list['user_id'].count()\n",
    "    return track_list_count"
   ]
  },
  {
   "cell_type": "markdown",
   "id": "888662dc-cb10-4c90-837d-2a51fc2c0962",
   "metadata": {},
   "source": [
    "Создадим таблицу, показывающую прослушивания для каждого города в разрезе дней недели:"
   ]
  },
  {
   "cell_type": "code",
   "execution_count": 16,
   "id": "a26da63a-0ce4-4d31-b2f3-cd641ad5c020",
   "metadata": {},
   "outputs": [
    {
     "data": {
      "text/html": [
       "<div>\n",
       "<style scoped>\n",
       "    .dataframe tbody tr th:only-of-type {\n",
       "        vertical-align: middle;\n",
       "    }\n",
       "\n",
       "    .dataframe tbody tr th {\n",
       "        vertical-align: top;\n",
       "    }\n",
       "\n",
       "    .dataframe thead th {\n",
       "        text-align: right;\n",
       "    }\n",
       "</style>\n",
       "<table border=\"1\" class=\"dataframe\">\n",
       "  <thead>\n",
       "    <tr style=\"text-align: right;\">\n",
       "      <th></th>\n",
       "      <th>сity</th>\n",
       "      <th>wednesday</th>\n",
       "      <th>friday</th>\n",
       "      <th>monday</th>\n",
       "    </tr>\n",
       "  </thead>\n",
       "  <tbody>\n",
       "    <tr>\n",
       "      <th>0</th>\n",
       "      <td>Saint-Petersburg</td>\n",
       "      <td>7003</td>\n",
       "      <td>5895</td>\n",
       "      <td>5614</td>\n",
       "    </tr>\n",
       "    <tr>\n",
       "      <th>1</th>\n",
       "      <td>Moscow</td>\n",
       "      <td>11056</td>\n",
       "      <td>15945</td>\n",
       "      <td>15740</td>\n",
       "    </tr>\n",
       "  </tbody>\n",
       "</table>\n",
       "</div>"
      ],
      "text/plain": [
       "               сity  wednesday  friday  monday\n",
       "0  Saint-Petersburg       7003    5895    5614\n",
       "1            Moscow      11056   15945   15740"
      ]
     },
     "metadata": {},
     "output_type": "display_data"
    }
   ],
   "source": [
    "columns = ['сity'] + list(map(str.lower, df.day.unique()))\n",
    "data = []\n",
    "\n",
    "for city in df.city.unique():\n",
    "    row = [city]\n",
    "    for day in df.day.unique():\n",
    "        num_tracks = number_tracks(day, city)\n",
    "        row.append(num_tracks)\n",
    "    data.append(row)\n",
    "\n",
    "result_df = pd.DataFrame(data=data, columns=columns)\n",
    "\n",
    "display(result_df)"
   ]
  },
  {
   "cell_type": "markdown",
   "id": "7f486a5d-a5cb-42d2-adbd-41a67294c7d3",
   "metadata": {},
   "source": [
    "Данные показывают разницу поведения пользователей. В Москве пик прослушиваний приходится на понедельник и пятницу, а в среду заметен спад. В Петербурге, наоборот, больше слушают музыку по средам. Следовательно, данные говорят в пользу первой гипотезы."
   ]
  },
  {
   "cell_type": "markdown",
   "id": "3333fe37-b7bd-496d-ab55-6e6759e4001e",
   "metadata": {},
   "source": [
    "### 3.2 Музыка в начале и в конце недели"
   ]
  },
  {
   "cell_type": "markdown",
   "id": "0611f276-0cbf-4bc6-a3c4-6680da90d6d9",
   "metadata": {},
   "source": [
    "Согласно второй гипотезе, утром в понедельник в Москве преобладают одни жанры, а в Петербурге — другие. Так же и вечером пятницы преобладают разные жанры — в зависимости от города."
   ]
  },
  {
   "cell_type": "markdown",
   "id": "40609083-7447-4405-b67f-2154ff4fe85b",
   "metadata": {},
   "source": [
    "Сохраним таблицы с данными в две переменные:\n",
    "* по Москве — в `moscow_general`;\n",
    "* по Санкт-Петербургу — в `spb_general`."
   ]
  },
  {
   "cell_type": "code",
   "execution_count": 17,
   "id": "71031762-d8e6-4fbd-9965-e79e0b331279",
   "metadata": {},
   "outputs": [],
   "source": [
    "#separating data\n",
    "moscow_general = df[df['city'] == 'Moscow']\n",
    "spb_general = df[df['city'] == 'Saint-Petersburg']"
   ]
  },
  {
   "cell_type": "markdown",
   "id": "ae8149bc-8290-4745-959f-963c80314d66",
   "metadata": {},
   "source": [
    "Далее создадим функцию `genre_weekday()` с четырьмя параметрами:\n",
    "* таблица (датафрейм) с данными,\n",
    "* день недели,\n",
    "* начальная временная метка в формате 'hh:mm',\n",
    "* последняя временная метка в формате 'hh:mm'.\n",
    "\n",
    "Функция будет возвращать информацию о топ-10 жанров тех треков, которые прослушивали в указанный день, в промежутке между двумя отметками времени."
   ]
  },
  {
   "cell_type": "code",
   "execution_count": 18,
   "id": "ea0b41f7-7553-4ef2-b8a8-000afcd6d72b",
   "metadata": {},
   "outputs": [],
   "source": [
    "# creating function\n",
    "def genre_weekday(df, day, time1, time2):\n",
    "    genre_df = df[df['day'] == day]\n",
    "    genre_df = genre_df[(genre_df['time'] > time1) & (genre_df['time'] < time2)]\n",
    "    genre_df = genre_df.groupby('genre')['genre'].count().sort_values(ascending = False)\n",
    "    return genre_df[:10]"
   ]
  },
  {
   "cell_type": "markdown",
   "id": "3baf3b9d-1191-4238-b760-0c85a2bb1734",
   "metadata": {},
   "source": [
    "Cравним результаты функции для Москвы и Санкт-Петербурга в понедельник утром (с 7:00 до 11:00) и в пятницу вечером (с 17:00 до 23:00):"
   ]
  },
  {
   "cell_type": "code",
   "execution_count": 19,
   "id": "cc58e734-66e4-437d-a93f-ad7076248789",
   "metadata": {},
   "outputs": [
    {
     "data": {
      "text/plain": [
       "genre\n",
       "pop            781\n",
       "dance          549\n",
       "electronic     483\n",
       "rock           475\n",
       "hiphop         286\n",
       "ruspop         193\n",
       "world          182\n",
       "rusrap         175\n",
       "alternative    164\n",
       "unknown        161\n",
       "Name: genre, dtype: int64"
      ]
     },
     "execution_count": 19,
     "metadata": {},
     "output_type": "execute_result"
    }
   ],
   "source": [
    "#moscow monday morning\n",
    "genre_weekday(moscow_general, 'Monday', '07:00', '11:00')"
   ]
  },
  {
   "cell_type": "code",
   "execution_count": 20,
   "id": "0af6031e-9671-4be4-a9e6-4dc0db02a03f",
   "metadata": {},
   "outputs": [
    {
     "data": {
      "text/plain": [
       "genre\n",
       "pop            218\n",
       "dance          182\n",
       "rock           162\n",
       "electronic     147\n",
       "hiphop          80\n",
       "ruspop          65\n",
       "alternative     58\n",
       "rusrap          55\n",
       "jazz            44\n",
       "classical       40\n",
       "Name: genre, dtype: int64"
      ]
     },
     "execution_count": 20,
     "metadata": {},
     "output_type": "execute_result"
    }
   ],
   "source": [
    "#spb monday morning\n",
    "genre_weekday(spb_general, 'Monday', '07:00', '11:00')"
   ]
  },
  {
   "cell_type": "code",
   "execution_count": 21,
   "id": "9cf11ce7-0b48-4c3f-9962-f36113896ac3",
   "metadata": {},
   "outputs": [
    {
     "data": {
      "text/plain": [
       "genre\n",
       "pop            713\n",
       "rock           518\n",
       "dance          495\n",
       "electronic     482\n",
       "hiphop         273\n",
       "world          208\n",
       "ruspop         175\n",
       "classical      163\n",
       "alternative    163\n",
       "rusrap         142\n",
       "Name: genre, dtype: int64"
      ]
     },
     "execution_count": 21,
     "metadata": {},
     "output_type": "execute_result"
    }
   ],
   "source": [
    "#moscow friday evening\n",
    "genre_weekday(moscow_general, 'Friday', '17:00', '23:00')"
   ]
  },
  {
   "cell_type": "code",
   "execution_count": 22,
   "id": "2dabef3b-9256-4698-bb15-e5350bc5dd3d",
   "metadata": {},
   "outputs": [
    {
     "data": {
      "text/plain": [
       "genre\n",
       "pop            256\n",
       "electronic     216\n",
       "rock           216\n",
       "dance          210\n",
       "hiphop          97\n",
       "alternative     63\n",
       "jazz            61\n",
       "classical       60\n",
       "rusrap          59\n",
       "world           54\n",
       "Name: genre, dtype: int64"
      ]
     },
     "execution_count": 22,
     "metadata": {},
     "output_type": "execute_result"
    }
   ],
   "source": [
    "#spb friday evening\n",
    "genre_weekday(spb_general, 'Friday', '17:00', '23:00')"
   ]
  },
  {
   "cell_type": "markdown",
   "id": "a3294836-f319-4c3b-a4d4-ea754fc88e34",
   "metadata": {},
   "source": [
    "Если сравнить топ-10 жанров в понедельник утром, можно сделать такие выводы:\n",
    "\n",
    "1. В Москве и Петербурге слушают похожую музыку. Единственное различие — в московский рейтинг вошёл жанр `world`, а в петербургский — `джаз` и `классика`.\n",
    "2. В Москве пропущенных значений оказалось так много, что значение `unknown` заняло десятое место среди самых популярных жанров. Значит, пропущенные значения занимают существенную долю в данных и угрожают достоверности исследования.\n",
    "\n",
    "Вечер пятницы не меняет эту картину. Некоторые жанры поднимаются немного выше, другие спускаются, но в целом топ-10 остаётся тем же самым.\n",
    "\n",
    "Таким образом, вторая гипотеза подтвердилась лишь частично:\n",
    "* Пользователи слушают похожую музыку в начале недели и в конце.\n",
    "* Разница между Москвой и Петербургом не слишком выражена. В Москве чаще слушают русскую популярную музыку, в Петербурге — джаз.\n",
    "\n",
    "Однако пропуски в данных ставят под сомнение этот результат. В Москве их так много, что рейтинг топ-10 мог бы выглядеть иначе, если бы не утерянные  данные о жанрах."
   ]
  },
  {
   "cell_type": "markdown",
   "id": "4d641494-ef3a-4f89-a873-95f7203423ce",
   "metadata": {},
   "source": [
    "### 3.1 Жанровые предпочтения в Москве и Петербурге"
   ]
  },
  {
   "cell_type": "markdown",
   "id": "562c0e99-bf84-4421-994b-4a721c9d7b22",
   "metadata": {},
   "source": [
    "Гипотеза: Петербург — столица рэпа, музыку этого жанра там слушают чаще, чем в Москве. А Москва — город контрастов, в котором, тем не менее, преобладает поп-музыка."
   ]
  },
  {
   "cell_type": "markdown",
   "id": "eb36bfe7-02b5-4e12-8be2-e0d05d410ec8",
   "metadata": {},
   "source": [
    "Сгруппируем таблицу moscow_general по жанру и посчитайте прослушивания треков каждого жанра методом count(). Затем отсортируем результат в порядке убывания и сохраним его в таблице moscow_genres:"
   ]
  },
  {
   "cell_type": "code",
   "execution_count": 23,
   "id": "466d3c4c-e689-43eb-be71-1e8782af1523",
   "metadata": {},
   "outputs": [
    {
     "data": {
      "text/plain": [
       "genre\n",
       "pop            5893\n",
       "dance          4435\n",
       "rock           3969\n",
       "electronic     3792\n",
       "hiphop         2096\n",
       "classical      1616\n",
       "ruspop         1435\n",
       "world          1433\n",
       "alternative    1379\n",
       "rusrap         1161\n",
       "Name: genre, dtype: int64"
      ]
     },
     "execution_count": 23,
     "metadata": {},
     "output_type": "execute_result"
    }
   ],
   "source": [
    "#moscow top genres\n",
    "moscow_genres = moscow_general.groupby('genre')['genre'].count()\n",
    "moscow_genres = moscow_genres.sort_values(ascending = False)\n",
    "moscow_genres.head(10)"
   ]
  },
  {
   "cell_type": "markdown",
   "id": "d0c7de49-78c4-40f7-bdbc-412262b5082e",
   "metadata": {},
   "source": [
    "Проделаем аналогичную работу для СПб:"
   ]
  },
  {
   "cell_type": "code",
   "execution_count": 24,
   "id": "7ba1552b-7357-4434-b557-df05f0a5d0e7",
   "metadata": {},
   "outputs": [
    {
     "data": {
      "text/plain": [
       "genre\n",
       "pop            2433\n",
       "dance          1932\n",
       "rock           1880\n",
       "electronic     1738\n",
       "hiphop          960\n",
       "alternative     649\n",
       "classical       646\n",
       "ruspop          565\n",
       "rusrap          564\n",
       "world           516\n",
       "Name: genre, dtype: int64"
      ]
     },
     "execution_count": 24,
     "metadata": {},
     "output_type": "execute_result"
    }
   ],
   "source": [
    "#spb top genres\n",
    "spb_genres = spb_general.groupby('genre')['genre'].count()\n",
    "spb_genres = spb_genres.sort_values(ascending = False)\n",
    "spb_genres.head(10)"
   ]
  },
  {
   "cell_type": "markdown",
   "id": "b6340793-2f23-4761-9d90-685802dcbb89",
   "metadata": {},
   "source": [
    "Гипотеза не подтвердилась:\n",
    "- Поп-музыка — самый популярный жанр и в Москве, и в Спб.\n",
    "- Вопреки ожиданиям, рэп одинаково популярен в Москве и Петербурге."
   ]
  },
  {
   "cell_type": "markdown",
   "id": "2910d800-aa13-43c9-b5df-4d9d1256d135",
   "metadata": {},
   "source": [
    "<div class=\"alert\"; style=\"border-left: 7px solid pink\">\n",
    "\n",
    "**Мини-вывод**\n",
    "- Первая гипотеза подтвердилась: в Москве пик прослушиваний приходится на понедельник и пятницу, а в СПб - наоборот;\n",
    "- Вторая гипотеза подтвердлилась частично: в Москве и Петербурге слушают похожую музыку. Единственное различие — в московский рейтинг вошёл жанр `world`, а в петербургский — `джаз` и `классика`;\n",
    "- Третья гипотеза не подтвердлилась: `поп-музыка` — самый популярный жанр и в Москве, и СПб, при этом `рэп` одинаково популярен в обоих городах.\n",
    "</div>"
   ]
  },
  {
   "cell_type": "markdown",
   "id": "79f7c175-c64a-4245-9d26-9cc4f988e1d3",
   "metadata": {},
   "source": [
    "## Заключение <a id='4'> </a>"
   ]
  },
  {
   "cell_type": "markdown",
   "id": "b3da61d9-7a12-48a6-b42d-d97067a8fcae",
   "metadata": {},
   "source": [
    "В рамках исследования анализировалась информация о поведении слушателей Яндекс.Музыки в Москве и Санкт-Петербург.\n",
    "\n",
    "**Предварительно данные были предобработаны**:\n",
    "- Название столбцов скорректированы;\n",
    "- Пропуски обработаны (заменены на 'unknown');\n",
    "- Явные и неявные дубликаты обработаны.\n",
    "\n",
    "**Далее было проверено три гипотезы и установлено**:\n",
    "\n",
    "1. День недели по-разному влияет на активность пользователей в Москве и Петербурге. В Москве пик прослушиваний приходится на понедельник и пятницу, а в среду заметен спад. В Петербурге, наоборот, больше слушают музыку по средам. Следовательно, данные говорят в пользу первой гипотезы.\n",
    "\n",
    "Таким образом, первая *гипотеза полностью подтвердилась*.\n",
    "\n",
    "2. Музыкальные предпочтения не сильно меняются в течение недели — будь то Москва или Петербург. Небольшие различия заметны в начале недели, по понедельникам:\n",
    "* в Москве слушают музыку жанра “world”,\n",
    "* в Петербурге — джаз и классику.\n",
    "\n",
    "Таким образом, вторая гипотеза *подтвердилась лишь отчасти*. Этот результат мог оказаться иным, если бы не пропуски в данных.\n",
    "\n",
    "3. Во вкусах пользователей Москвы и Петербурга больше общего, чем различий. Вопреки ожиданиям, предпочтения жанров в Петербурге напоминают московские.\n",
    "\n",
    "Третья гипотеза *не подтвердилась*. Если различия в предпочтениях и существуют, на основной массе пользователей они незаметны."
   ]
  }
 ],
 "metadata": {
  "kernelspec": {
   "display_name": "Python 3 (ipykernel)",
   "language": "python",
   "name": "python3"
  },
  "language_info": {
   "codemirror_mode": {
    "name": "ipython",
    "version": 3
   },
   "file_extension": ".py",
   "mimetype": "text/x-python",
   "name": "python",
   "nbconvert_exporter": "python",
   "pygments_lexer": "ipython3",
   "version": "3.11.7"
  }
 },
 "nbformat": 4,
 "nbformat_minor": 5
}
