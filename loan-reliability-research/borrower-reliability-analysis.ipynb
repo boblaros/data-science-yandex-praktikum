{
 "cells": [
  {
   "cell_type": "markdown",
   "id": "59ed8fa8-6e35-45bf-88e0-9c4e5dddd9b6",
   "metadata": {},
   "source": [
    "# Проект \"Исследование надежности заемщиков\""
   ]
  },
  {
   "cell_type": "markdown",
   "id": "1b23677b-7e94-4145-9759-a91cffc81c1e",
   "metadata": {},
   "source": [
    "## 1. Описание проекта <a id='1'> </a>"
   ]
  },
  {
   "cell_type": "markdown",
   "id": "70c06b23-0f32-48cd-8bbb-6aba054842ac",
   "metadata": {},
   "source": [
    "**Контекст исследования**:\n",
    "\n",
    "Заказчик — кредитный отдел банка. Нужно разобраться, влияет ли семейное положение и количество детей клиента на факт погашения кредита в срок. Входные данные от банка — статистика о платёжеспособности клиентов.\n",
    "Результаты исследования будут учтены при построении модели кредитного скоринга — специальной системы, которая оценивает способность потенциального заёмщика вернуть кредит банку.\n",
    "\n",
    "**Цель исследования**: определить, влияет ли семейное положение и количество детей клиента на факт погашения кредита в срок.\n",
    "\n",
    "**План исследования**:\n",
    "\n",
    "1) **[Описание проекта](#1)**\n",
    "2) **[Обзор данных](#2)**\n",
    "3) **[Предобработка данных](#3)**\n",
    "4) **[Исследование данных](#4)**\n",
    "5) **[Вывод](#5)**\n",
    "\n",
    "**Описание столбцов**:\n",
    "- `children` — количество детей в семье\n",
    "- `days_employed` — общий трудовой стаж в днях\n",
    "- `dob_years` — возраст клиента в годах\n",
    "- `education` — уровень образования клиента\n",
    "- `education_id` — идентификатор уровня образования\n",
    "- `family_status` — семейное положение\n",
    "- `family_status_id` — идентификатор семейного положения\n",
    "- `gender` — пол клиента\n",
    "- `income_type` — тип занятости\n",
    "- `debt` — имел ли задолженность по возврату кредитов\n",
    "- `total_income` — ежемесячный доход\n",
    "- `purpose` — цель получения кредита"
   ]
  },
  {
   "cell_type": "markdown",
   "id": "8da6f400-536a-45ac-ad06-b88da148ea21",
   "metadata": {},
   "source": [
    "## 2. Обзор данных <a id='2'> </a>"
   ]
  },
  {
   "cell_type": "code",
   "execution_count": 1,
   "id": "4e06c34c-dd24-49e4-90aa-32b1d37da069",
   "metadata": {},
   "outputs": [],
   "source": [
    "#import libraries\n",
    "import pandas as pd"
   ]
  },
  {
   "cell_type": "code",
   "execution_count": 2,
   "id": "86a2f9e8-48ed-4cdb-8de5-9238019fd2e6",
   "metadata": {},
   "outputs": [],
   "source": [
    "#read data\n",
    "try:\n",
    "    data = pd.read_csv('data.csv')\n",
    "except:\n",
    "    data = pd.read_csv('https://code.s3.yandex.net/datasets/data.csv')"
   ]
  },
  {
   "cell_type": "code",
   "execution_count": 3,
   "id": "e31e651f-9ec6-4f9b-935b-cd5d3ee0533e",
   "metadata": {},
   "outputs": [
    {
     "data": {
      "text/html": [
       "<div>\n",
       "<style scoped>\n",
       "    .dataframe tbody tr th:only-of-type {\n",
       "        vertical-align: middle;\n",
       "    }\n",
       "\n",
       "    .dataframe tbody tr th {\n",
       "        vertical-align: top;\n",
       "    }\n",
       "\n",
       "    .dataframe thead th {\n",
       "        text-align: right;\n",
       "    }\n",
       "</style>\n",
       "<table border=\"1\" class=\"dataframe\">\n",
       "  <thead>\n",
       "    <tr style=\"text-align: right;\">\n",
       "      <th></th>\n",
       "      <th>children</th>\n",
       "      <th>days_employed</th>\n",
       "      <th>dob_years</th>\n",
       "      <th>education</th>\n",
       "      <th>education_id</th>\n",
       "      <th>family_status</th>\n",
       "      <th>family_status_id</th>\n",
       "      <th>gender</th>\n",
       "      <th>income_type</th>\n",
       "      <th>debt</th>\n",
       "      <th>total_income</th>\n",
       "      <th>purpose</th>\n",
       "    </tr>\n",
       "  </thead>\n",
       "  <tbody>\n",
       "    <tr>\n",
       "      <th>16872</th>\n",
       "      <td>1</td>\n",
       "      <td>-101.861350</td>\n",
       "      <td>28</td>\n",
       "      <td>высшее</td>\n",
       "      <td>0</td>\n",
       "      <td>гражданский брак</td>\n",
       "      <td>1</td>\n",
       "      <td>M</td>\n",
       "      <td>сотрудник</td>\n",
       "      <td>0</td>\n",
       "      <td>101948.053221</td>\n",
       "      <td>сыграть свадьбу</td>\n",
       "    </tr>\n",
       "    <tr>\n",
       "      <th>13900</th>\n",
       "      <td>0</td>\n",
       "      <td>-949.943142</td>\n",
       "      <td>29</td>\n",
       "      <td>среднее</td>\n",
       "      <td>1</td>\n",
       "      <td>Не женат / не замужем</td>\n",
       "      <td>4</td>\n",
       "      <td>M</td>\n",
       "      <td>сотрудник</td>\n",
       "      <td>1</td>\n",
       "      <td>138864.225938</td>\n",
       "      <td>строительство собственной недвижимости</td>\n",
       "    </tr>\n",
       "    <tr>\n",
       "      <th>19286</th>\n",
       "      <td>0</td>\n",
       "      <td>383930.088898</td>\n",
       "      <td>61</td>\n",
       "      <td>среднее</td>\n",
       "      <td>1</td>\n",
       "      <td>женат / замужем</td>\n",
       "      <td>0</td>\n",
       "      <td>F</td>\n",
       "      <td>пенсионер</td>\n",
       "      <td>0</td>\n",
       "      <td>439443.346784</td>\n",
       "      <td>покупка недвижимости</td>\n",
       "    </tr>\n",
       "    <tr>\n",
       "      <th>559</th>\n",
       "      <td>1</td>\n",
       "      <td>-8124.768051</td>\n",
       "      <td>53</td>\n",
       "      <td>среднее</td>\n",
       "      <td>1</td>\n",
       "      <td>вдовец / вдова</td>\n",
       "      <td>2</td>\n",
       "      <td>F</td>\n",
       "      <td>компаньон</td>\n",
       "      <td>0</td>\n",
       "      <td>101876.814932</td>\n",
       "      <td>жилье</td>\n",
       "    </tr>\n",
       "    <tr>\n",
       "      <th>5951</th>\n",
       "      <td>1</td>\n",
       "      <td>-5104.078736</td>\n",
       "      <td>42</td>\n",
       "      <td>среднее</td>\n",
       "      <td>1</td>\n",
       "      <td>женат / замужем</td>\n",
       "      <td>0</td>\n",
       "      <td>F</td>\n",
       "      <td>госслужащий</td>\n",
       "      <td>0</td>\n",
       "      <td>370985.730460</td>\n",
       "      <td>на покупку подержанного автомобиля</td>\n",
       "    </tr>\n",
       "  </tbody>\n",
       "</table>\n",
       "</div>"
      ],
      "text/plain": [
       "       children  days_employed  dob_years education  education_id  \\\n",
       "16872         1    -101.861350         28    высшее             0   \n",
       "13900         0    -949.943142         29   среднее             1   \n",
       "19286         0  383930.088898         61   среднее             1   \n",
       "559           1   -8124.768051         53   среднее             1   \n",
       "5951          1   -5104.078736         42   среднее             1   \n",
       "\n",
       "               family_status  family_status_id gender  income_type  debt  \\\n",
       "16872       гражданский брак                 1      M    сотрудник     0   \n",
       "13900  Не женат / не замужем                 4      M    сотрудник     1   \n",
       "19286        женат / замужем                 0      F    пенсионер     0   \n",
       "559           вдовец / вдова                 2      F    компаньон     0   \n",
       "5951         женат / замужем                 0      F  госслужащий     0   \n",
       "\n",
       "        total_income                                 purpose  \n",
       "16872  101948.053221                         сыграть свадьбу  \n",
       "13900  138864.225938  строительство собственной недвижимости  \n",
       "19286  439443.346784                    покупка недвижимости  \n",
       "559    101876.814932                                   жилье  \n",
       "5951   370985.730460      на покупку подержанного автомобиля  "
      ]
     },
     "execution_count": 3,
     "metadata": {},
     "output_type": "execute_result"
    }
   ],
   "source": [
    "#5 random records\n",
    "data.sample(5)"
   ]
  },
  {
   "cell_type": "code",
   "execution_count": 4,
   "id": "1bdfa03d-0f5e-4579-be3c-c071f1fddb56",
   "metadata": {},
   "outputs": [
    {
     "name": "stdout",
     "output_type": "stream",
     "text": [
      "<class 'pandas.core.frame.DataFrame'>\n",
      "RangeIndex: 21525 entries, 0 to 21524\n",
      "Data columns (total 12 columns):\n",
      " #   Column            Non-Null Count  Dtype  \n",
      "---  ------            --------------  -----  \n",
      " 0   children          21525 non-null  int64  \n",
      " 1   days_employed     19351 non-null  float64\n",
      " 2   dob_years         21525 non-null  int64  \n",
      " 3   education         21525 non-null  object \n",
      " 4   education_id      21525 non-null  int64  \n",
      " 5   family_status     21525 non-null  object \n",
      " 6   family_status_id  21525 non-null  int64  \n",
      " 7   gender            21525 non-null  object \n",
      " 8   income_type       21525 non-null  object \n",
      " 9   debt              21525 non-null  int64  \n",
      " 10  total_income      19351 non-null  float64\n",
      " 11  purpose           21525 non-null  object \n",
      "dtypes: float64(2), int64(5), object(5)\n",
      "memory usage: 2.0+ MB\n"
     ]
    }
   ],
   "source": [
    "#main info\n",
    "data.info()"
   ]
  },
  {
   "cell_type": "markdown",
   "id": "776efb82-c718-4edc-8107-5abe0f4160fb",
   "metadata": {},
   "source": [
    "<div class=\"alert\"; style=\"border-left: 7px solid pink\">\n",
    "\n",
    "**Промежуточный вывод**\n",
    "- 21525 строк;\n",
    "- В каждой строке таблицы — данные о одному клиенту банка.;\n",
    "- Присутствуют отрицительные значения в столбце `days_employed`;\n",
    "- Присутствуют пропуски в столбцах `days_employed` и `total_income`.\n",
    "</div>"
   ]
  },
  {
   "cell_type": "markdown",
   "id": "203772ba-e2fc-448f-8df0-0851f3970852",
   "metadata": {},
   "source": [
    "## 3. Предобработка данных <a id='3'> </a>"
   ]
  },
  {
   "cell_type": "markdown",
   "id": "9aea3552-ff64-4ee9-9b13-76eb837c8a4e",
   "metadata": {},
   "source": [
    "### 3.1. Удаление пропусков"
   ]
  },
  {
   "cell_type": "code",
   "execution_count": 5,
   "id": "a7901f42-b48e-482e-8eda-2db24cb5751e",
   "metadata": {},
   "outputs": [
    {
     "data": {
      "text/plain": [
       "children               0\n",
       "days_employed       2174\n",
       "dob_years              0\n",
       "education              0\n",
       "education_id           0\n",
       "family_status          0\n",
       "family_status_id       0\n",
       "gender                 0\n",
       "income_type            0\n",
       "debt                   0\n",
       "total_income        2174\n",
       "purpose                0\n",
       "dtype: int64"
      ]
     },
     "execution_count": 5,
     "metadata": {},
     "output_type": "execute_result"
    }
   ],
   "source": [
    "#missing values\n",
    "data.isna().sum()"
   ]
  },
  {
   "cell_type": "markdown",
   "id": "2cf2fd5e-68f8-4aee-86b9-a60a45db323c",
   "metadata": {},
   "source": [
    "`total_income` хранит данные о доходах. На сумму дохода сильнее всего влияет тип занятости, поэтому заполним пропуски в этом столбце медианным значением по каждому типу из столбца `income_type`:"
   ]
  },
  {
   "cell_type": "code",
   "execution_count": 6,
   "id": "bf968d73-8474-4bbc-b0c2-73e5c66bd2ad",
   "metadata": {},
   "outputs": [],
   "source": [
    "for t in data['income_type'].unique():\n",
    "    data.loc[(data['income_type'] == t) & (data['total_income'].isna()), 'total_income'] = \\\n",
    "    data.loc[(data['income_type'] == t), 'total_income'].median()"
   ]
  },
  {
   "cell_type": "code",
   "execution_count": 7,
   "id": "4c0ccf40-57b0-4134-b5fc-dc3ca5742413",
   "metadata": {},
   "outputs": [
    {
     "data": {
      "text/plain": [
       "children               0\n",
       "days_employed       2174\n",
       "dob_years              0\n",
       "education              0\n",
       "education_id           0\n",
       "family_status          0\n",
       "family_status_id       0\n",
       "gender                 0\n",
       "income_type            0\n",
       "debt                   0\n",
       "total_income           0\n",
       "purpose                0\n",
       "dtype: int64"
      ]
     },
     "execution_count": 7,
     "metadata": {},
     "output_type": "execute_result"
    }
   ],
   "source": [
    "#checking missing values\n",
    "data.isna().sum()"
   ]
  },
  {
   "cell_type": "markdown",
   "id": "74fc9322-c895-4124-a955-8eb3eda261d0",
   "metadata": {},
   "source": [
    "### 3.2. Обработка аномальных значений"
   ]
  },
  {
   "cell_type": "markdown",
   "id": "c95cda86-0285-4edd-bd3d-4e3f21d1792a",
   "metadata": {},
   "source": [
    "В данных встречаются аномалии — отрицательное количество дней трудового стажа в столбце `days_employed`. Обработаем значения в этом столбце: заменим все отрицательные значения положительными:"
   ]
  },
  {
   "cell_type": "code",
   "execution_count": 8,
   "id": "0f86df89-a1a6-4ebd-bb50-0a8ecb5ecfea",
   "metadata": {},
   "outputs": [],
   "source": [
    "data['days_employed'] = data['days_employed'].abs()"
   ]
  },
  {
   "cell_type": "markdown",
   "id": "8ef679e0-f815-429e-abcf-05496fe89cd9",
   "metadata": {},
   "source": [
    "Для каждого типа занятости выведим медианное значение трудового стажа `days_employed` в днях:"
   ]
  },
  {
   "cell_type": "code",
   "execution_count": 9,
   "id": "a84e6f7d-f50a-4c46-9b04-cf86bd287ea8",
   "metadata": {},
   "outputs": [
    {
     "data": {
      "text/plain": [
       "income_type\n",
       "безработный        366413.652744\n",
       "в декрете            3296.759962\n",
       "госслужащий          2689.368353\n",
       "компаньон            1547.382223\n",
       "пенсионер          365213.306266\n",
       "предприниматель       520.848083\n",
       "сотрудник            1574.202821\n",
       "студент               578.751554\n",
       "Name: days_employed, dtype: float64"
      ]
     },
     "execution_count": 9,
     "metadata": {},
     "output_type": "execute_result"
    }
   ],
   "source": [
    "data.groupby('income_type')['days_employed'].agg('median')"
   ]
  },
  {
   "cell_type": "markdown",
   "id": "8bc98a1e-13dc-458e-8c19-2a2d5e41d921",
   "metadata": {},
   "source": [
    "У двух типов (безработные и пенсионеры) получатся аномально большие значения. Исправить такие значения сложно, поэтому оставим их как есть. Тем более этот столбец не понадобится для исследования."
   ]
  },
  {
   "cell_type": "markdown",
   "id": "94be6468-5b7c-428e-bd0b-fb2d54e69c8f",
   "metadata": {},
   "source": [
    "Выведем перечень уникальных значений столбца `children`:"
   ]
  },
  {
   "cell_type": "code",
   "execution_count": 10,
   "id": "0b3c29ff-276e-480e-a5f1-ba34a22bfae6",
   "metadata": {},
   "outputs": [
    {
     "data": {
      "text/plain": [
       "array([ 1,  0,  3,  2, -1,  4, 20,  5])"
      ]
     },
     "execution_count": 10,
     "metadata": {},
     "output_type": "execute_result"
    }
   ],
   "source": [
    "data['children'].unique()"
   ]
  },
  {
   "cell_type": "markdown",
   "id": "cb5eee6a-fcd6-4de4-aa2a-a90ccadbe874",
   "metadata": {},
   "source": [
    " Заметим, что в столбце `children` есть два аномальных значения. Удалим строки, в которых встречаются такие аномальные значения из датафрейма `data`:"
   ]
  },
  {
   "cell_type": "code",
   "execution_count": 11,
   "id": "93c6400e-3e4e-4d7a-aca5-2db2fa8853ba",
   "metadata": {},
   "outputs": [
    {
     "data": {
      "text/plain": [
       "array([1, 0, 3, 2, 4, 5])"
      ]
     },
     "execution_count": 11,
     "metadata": {},
     "output_type": "execute_result"
    }
   ],
   "source": [
    "data = data[(data['children'] != -1) & (data['children'] != 20)]\n",
    "data['children'].unique()"
   ]
  },
  {
   "cell_type": "markdown",
   "id": "87ebf6a6-b3cf-47af-a502-9235fe832a83",
   "metadata": {},
   "source": [
    "### 3.3. Удаление пропусков (продолжение)"
   ]
  },
  {
   "cell_type": "markdown",
   "id": "d8f1fa34-5c6a-4a6b-a77d-8701ad6fab35",
   "metadata": {},
   "source": [
    "Заполним пропуски в столбце `days_employed` медианными значениями по каждого типа занятости `income_type`:"
   ]
  },
  {
   "cell_type": "code",
   "execution_count": 12,
   "id": "adaf4bf0-6aac-4655-acdf-b6673c7ef24c",
   "metadata": {},
   "outputs": [],
   "source": [
    "for t in data['income_type'].unique():\n",
    "    data.loc[(data['income_type'] == t) & (data['days_employed'].isna()), 'days_employed'] = \\\n",
    "    data.loc[(data['income_type'] == t), 'days_employed'].median()"
   ]
  },
  {
   "cell_type": "code",
   "execution_count": 13,
   "id": "418387c2-64bd-472c-92ce-0f1cc6192600",
   "metadata": {},
   "outputs": [
    {
     "data": {
      "text/plain": [
       "children            0\n",
       "days_employed       0\n",
       "dob_years           0\n",
       "education           0\n",
       "education_id        0\n",
       "family_status       0\n",
       "family_status_id    0\n",
       "gender              0\n",
       "income_type         0\n",
       "debt                0\n",
       "total_income        0\n",
       "purpose             0\n",
       "dtype: int64"
      ]
     },
     "execution_count": 13,
     "metadata": {},
     "output_type": "execute_result"
    }
   ],
   "source": [
    "#checking missing values\n",
    "data.isna().sum()"
   ]
  },
  {
   "cell_type": "markdown",
   "id": "7be76629-2b28-49d0-aaec-30a902628c93",
   "metadata": {},
   "source": [
    "### 3.4. Замена типов данных"
   ]
  },
  {
   "cell_type": "markdown",
   "id": "69a38069-fba7-4e18-a648-13898c3d3a9c",
   "metadata": {},
   "source": [
    "Заменим вещественный тип данных в столбце `total_income` на целочисленный с помощью метода `astype()`:"
   ]
  },
  {
   "cell_type": "code",
   "execution_count": 14,
   "id": "9c64ca18-e9c7-41f6-bde6-b66ae8b44695",
   "metadata": {},
   "outputs": [],
   "source": [
    "data['total_income'] = data['total_income'].astype(int)"
   ]
  },
  {
   "cell_type": "markdown",
   "id": "960fa1f7-dbbd-4ff9-8896-243e78f07591",
   "metadata": {},
   "source": [
    "### 3.4. Обработка дубликатов"
   ]
  },
  {
   "cell_type": "code",
   "execution_count": 15,
   "id": "d766108b-0618-48a0-8eab-7a90a1cd5d12",
   "metadata": {},
   "outputs": [
    {
     "data": {
      "text/plain": [
       "54"
      ]
     },
     "execution_count": 15,
     "metadata": {},
     "output_type": "execute_result"
    }
   ],
   "source": [
    "#checking duplicates\n",
    "data.duplicated().sum()"
   ]
  },
  {
   "cell_type": "code",
   "execution_count": 16,
   "id": "5131d97e-2d5c-425b-b862-ab12c1f2c463",
   "metadata": {},
   "outputs": [],
   "source": [
    "#processing duplicates\n",
    "data = data.drop_duplicates()"
   ]
  },
  {
   "cell_type": "code",
   "execution_count": 17,
   "id": "753111b8-880e-437f-97e4-a1f52d421b04",
   "metadata": {},
   "outputs": [
    {
     "data": {
      "text/plain": [
       "0"
      ]
     },
     "execution_count": 17,
     "metadata": {},
     "output_type": "execute_result"
    }
   ],
   "source": [
    "#checking duplicates x2\n",
    "data.duplicated().sum()"
   ]
  },
  {
   "cell_type": "markdown",
   "id": "6979a603-16a1-4a5c-95ad-26271a481815",
   "metadata": {},
   "source": [
    "### 3.4. Категоризация данных"
   ]
  },
  {
   "cell_type": "markdown",
   "id": "f83a8790-d8cf-4d4b-be25-58662362cac6",
   "metadata": {},
   "source": [
    "**Доход**"
   ]
  },
  {
   "cell_type": "markdown",
   "id": "2b3605c7-f88b-4cee-9875-413c01ce98bb",
   "metadata": {},
   "source": [
    "На основании диапазонов, указанных ниже, создим в датафрейме `data` столбец `total_income_category` с категориями:**\n",
    "- 0–30000 — `'E'`;\n",
    "- 30001–50000 — `'D'`;\n",
    "- 50001–200000 — `'C'`;\n",
    "- 200001–1000000 — `'B'`;\n",
    "- 1000001 и выше — `'A'`."
   ]
  },
  {
   "cell_type": "code",
   "execution_count": 18,
   "id": "714efc59-fc46-4f8d-8fcf-2ec9742f5073",
   "metadata": {},
   "outputs": [],
   "source": [
    "def categorize_income(income):\n",
    "    try:\n",
    "        if 0 <= income <= 30000:\n",
    "            return 'E'\n",
    "        elif 30001 <= income <= 50000:\n",
    "            return 'D'\n",
    "        elif 50001 <= income <= 200000:\n",
    "            return 'C'\n",
    "        elif 200001 <= income <= 1000000:\n",
    "            return 'B'\n",
    "        elif income >= 1000001:\n",
    "            return 'A'\n",
    "    except:\n",
    "        pass"
   ]
  },
  {
   "cell_type": "code",
   "execution_count": 19,
   "id": "76c21c80-3f6c-4a6c-aade-97ffb0908405",
   "metadata": {},
   "outputs": [],
   "source": [
    "data['total_income_category'] = data['total_income'].apply(categorize_income)"
   ]
  },
  {
   "cell_type": "markdown",
   "id": "460b0802-58bd-47b5-87ec-6f9ae8691635",
   "metadata": {},
   "source": [
    "**Цель кредита**"
   ]
  },
  {
   "cell_type": "code",
   "execution_count": 20,
   "id": "58e6708e-a299-48da-9a1e-0aac27c322e8",
   "metadata": {},
   "outputs": [
    {
     "data": {
      "text/plain": [
       "array(['покупка жилья', 'приобретение автомобиля',\n",
       "       'дополнительное образование', 'сыграть свадьбу',\n",
       "       'операции с жильем', 'образование', 'на проведение свадьбы',\n",
       "       'покупка жилья для семьи', 'покупка недвижимости',\n",
       "       'покупка коммерческой недвижимости', 'покупка жилой недвижимости',\n",
       "       'строительство собственной недвижимости', 'недвижимость',\n",
       "       'строительство недвижимости', 'на покупку подержанного автомобиля',\n",
       "       'на покупку своего автомобиля',\n",
       "       'операции с коммерческой недвижимостью',\n",
       "       'строительство жилой недвижимости', 'жилье',\n",
       "       'операции со своей недвижимостью', 'автомобили',\n",
       "       'заняться образованием', 'сделка с подержанным автомобилем',\n",
       "       'получение образования', 'автомобиль', 'свадьба',\n",
       "       'получение дополнительного образования', 'покупка своего жилья',\n",
       "       'операции с недвижимостью', 'получение высшего образования',\n",
       "       'свой автомобиль', 'сделка с автомобилем',\n",
       "       'профильное образование', 'высшее образование',\n",
       "       'покупка жилья для сдачи', 'на покупку автомобиля', 'ремонт жилью',\n",
       "       'заняться высшим образованием'], dtype=object)"
      ]
     },
     "execution_count": 20,
     "metadata": {},
     "output_type": "execute_result"
    }
   ],
   "source": [
    "data['purpose'].unique()"
   ]
  },
  {
   "cell_type": "markdown",
   "id": "ea3da362-cf68-4e25-a550-e03c312cbb9c",
   "metadata": {},
   "source": [
    "Создадим функцию, которая на основании данных из столбца `purpose` сформирует новый столбец `purpose_category`, в который войдут следующие категории:\n",
    "\n",
    "- `'операции с автомобилем'`,\n",
    "- `'операции с недвижимостью'`,\n",
    "- `'проведение свадьбы'`,\n",
    "- `'получение образования'`."
   ]
  },
  {
   "cell_type": "code",
   "execution_count": 21,
   "id": "267fa527-402f-49e9-ad2d-50d85b9377c5",
   "metadata": {},
   "outputs": [],
   "source": [
    "def categorize_purpose(row):\n",
    "    try:\n",
    "        if 'автом' in row:\n",
    "            return 'операции с автомобилем'\n",
    "        elif 'жил' in row or 'недвиж' in row:\n",
    "            return 'операции с недвижимостью'\n",
    "        elif 'свад' in row:\n",
    "            return 'проведение свадьбы'\n",
    "        elif 'образов' in row:\n",
    "            return 'получение образования'\n",
    "    except:\n",
    "        return 'нет категории'"
   ]
  },
  {
   "cell_type": "code",
   "execution_count": 22,
   "id": "b21a3383-6f1a-4cb2-8ef9-6e63bd3f79c1",
   "metadata": {},
   "outputs": [],
   "source": [
    "data['purpose_category'] = data['purpose'].apply(categorize_purpose)"
   ]
  },
  {
   "cell_type": "markdown",
   "id": "a1843231-b7f4-401e-ad9c-3766d96743ff",
   "metadata": {},
   "source": [
    "<div class=\"alert\"; style=\"border-left: 7px solid pink\">\n",
    "\n",
    "**Промежуточный вывод**\n",
    "- Обработали пропуски из столбцов `days_employed` и `total_income`;\n",
    "- Обработали аномальные значения;\n",
    "- Удалили дубликаты в столбце с образованием;\n",
    "- Категоризовали данные по столбцам `total_income` и `purpose`.\n",
    "</div>"
   ]
  },
  {
   "cell_type": "markdown",
   "id": "34cd9562-16cf-4743-8e4c-d9acf1235fbc",
   "metadata": {},
   "source": [
    "## 4. Исследование данных <a id='4'> </a>"
   ]
  },
  {
   "cell_type": "markdown",
   "id": "fdc5127b-d8bb-430f-921a-e3acd8eaeac9",
   "metadata": {},
   "source": [
    "### 4.1. Зависимость между количеством детей и возвратом кредита в срок"
   ]
  },
  {
   "cell_type": "code",
   "execution_count": 23,
   "id": "c2d19081-d33e-4c73-b311-dfef4cbcec9a",
   "metadata": {},
   "outputs": [],
   "source": [
    "def percent_apply(a):\n",
    "    pivot_table = pd.pivot_table(data, values='debt', index = [a], aggfunc = ['sum', 'count'])\n",
    "    pivot_table['Доля должников, %'] = (pivot_table['sum'] / pivot_table['count'])\n",
    "    pivot_table['Доля должников, %'] = pivot_table['Доля должников, %'].apply('{:.2%}'.format)\n",
    "    pivot_table.columns = ['Всего должников', 'Всего кредитополучателей', 'Процент должников']\n",
    "    return pivot_table"
   ]
  },
  {
   "cell_type": "code",
   "execution_count": 24,
   "id": "634ccf1c-2d73-4a6b-97e8-30047c0866fc",
   "metadata": {},
   "outputs": [
    {
     "data": {
      "text/html": [
       "<div>\n",
       "<style scoped>\n",
       "    .dataframe tbody tr th:only-of-type {\n",
       "        vertical-align: middle;\n",
       "    }\n",
       "\n",
       "    .dataframe tbody tr th {\n",
       "        vertical-align: top;\n",
       "    }\n",
       "\n",
       "    .dataframe thead th {\n",
       "        text-align: right;\n",
       "    }\n",
       "</style>\n",
       "<table border=\"1\" class=\"dataframe\">\n",
       "  <thead>\n",
       "    <tr style=\"text-align: right;\">\n",
       "      <th></th>\n",
       "      <th>Всего должников</th>\n",
       "      <th>Всего кредитополучателей</th>\n",
       "      <th>Процент должников</th>\n",
       "    </tr>\n",
       "    <tr>\n",
       "      <th>children</th>\n",
       "      <th></th>\n",
       "      <th></th>\n",
       "      <th></th>\n",
       "    </tr>\n",
       "  </thead>\n",
       "  <tbody>\n",
       "    <tr>\n",
       "      <th>0</th>\n",
       "      <td>1063</td>\n",
       "      <td>14107</td>\n",
       "      <td>7.54%</td>\n",
       "    </tr>\n",
       "    <tr>\n",
       "      <th>1</th>\n",
       "      <td>444</td>\n",
       "      <td>4809</td>\n",
       "      <td>9.23%</td>\n",
       "    </tr>\n",
       "    <tr>\n",
       "      <th>2</th>\n",
       "      <td>194</td>\n",
       "      <td>2052</td>\n",
       "      <td>9.45%</td>\n",
       "    </tr>\n",
       "    <tr>\n",
       "      <th>3</th>\n",
       "      <td>27</td>\n",
       "      <td>330</td>\n",
       "      <td>8.18%</td>\n",
       "    </tr>\n",
       "    <tr>\n",
       "      <th>4</th>\n",
       "      <td>4</td>\n",
       "      <td>41</td>\n",
       "      <td>9.76%</td>\n",
       "    </tr>\n",
       "    <tr>\n",
       "      <th>5</th>\n",
       "      <td>0</td>\n",
       "      <td>9</td>\n",
       "      <td>0.00%</td>\n",
       "    </tr>\n",
       "  </tbody>\n",
       "</table>\n",
       "</div>"
      ],
      "text/plain": [
       "          Всего должников  Всего кредитополучателей Процент должников\n",
       "children                                                             \n",
       "0                    1063                     14107             7.54%\n",
       "1                     444                      4809             9.23%\n",
       "2                     194                      2052             9.45%\n",
       "3                      27                       330             8.18%\n",
       "4                       4                        41             9.76%\n",
       "5                       0                         9             0.00%"
      ]
     },
     "execution_count": 24,
     "metadata": {},
     "output_type": "execute_result"
    }
   ],
   "source": [
    "percent_apply('children')"
   ]
  },
  {
   "cell_type": "markdown",
   "id": "6d39098b-f948-448e-9afe-b11c4154f39e",
   "metadata": {},
   "source": [
    "Данных по клиентам с количество детей 3 и более значительно меньше, чем по другим категориям: 330, 41 и 9 записей соответственно. Это не дает возможности делать однозначные и корректные выводы по ним. Говоря про клиентов с количеством детей 0, 1 и 2 можно сделать вывод что с количеством детей растет доля задолженностей. Следоваельно, в рамках этого количества детей зависимость имеется."
   ]
  },
  {
   "cell_type": "markdown",
   "id": "44dadead-2394-4af0-bc38-0d544584345a",
   "metadata": {},
   "source": [
    "### 4.2. Зависимость между семейным положением и возвратом кредита в срок"
   ]
  },
  {
   "cell_type": "code",
   "execution_count": 25,
   "id": "96a6473a-b8b2-4f10-8d69-899766d27941",
   "metadata": {},
   "outputs": [
    {
     "data": {
      "text/html": [
       "<div>\n",
       "<style scoped>\n",
       "    .dataframe tbody tr th:only-of-type {\n",
       "        vertical-align: middle;\n",
       "    }\n",
       "\n",
       "    .dataframe tbody tr th {\n",
       "        vertical-align: top;\n",
       "    }\n",
       "\n",
       "    .dataframe thead th {\n",
       "        text-align: right;\n",
       "    }\n",
       "</style>\n",
       "<table border=\"1\" class=\"dataframe\">\n",
       "  <thead>\n",
       "    <tr style=\"text-align: right;\">\n",
       "      <th></th>\n",
       "      <th>Всего должников</th>\n",
       "      <th>Всего кредитополучателей</th>\n",
       "      <th>Процент должников</th>\n",
       "    </tr>\n",
       "    <tr>\n",
       "      <th>family_status</th>\n",
       "      <th></th>\n",
       "      <th></th>\n",
       "      <th></th>\n",
       "    </tr>\n",
       "  </thead>\n",
       "  <tbody>\n",
       "    <tr>\n",
       "      <th>Не женат / не замужем</th>\n",
       "      <td>273</td>\n",
       "      <td>2796</td>\n",
       "      <td>9.76%</td>\n",
       "    </tr>\n",
       "    <tr>\n",
       "      <th>в разводе</th>\n",
       "      <td>84</td>\n",
       "      <td>1189</td>\n",
       "      <td>7.06%</td>\n",
       "    </tr>\n",
       "    <tr>\n",
       "      <th>вдовец / вдова</th>\n",
       "      <td>63</td>\n",
       "      <td>951</td>\n",
       "      <td>6.62%</td>\n",
       "    </tr>\n",
       "    <tr>\n",
       "      <th>гражданский брак</th>\n",
       "      <td>385</td>\n",
       "      <td>4146</td>\n",
       "      <td>9.29%</td>\n",
       "    </tr>\n",
       "    <tr>\n",
       "      <th>женат / замужем</th>\n",
       "      <td>927</td>\n",
       "      <td>12266</td>\n",
       "      <td>7.56%</td>\n",
       "    </tr>\n",
       "  </tbody>\n",
       "</table>\n",
       "</div>"
      ],
      "text/plain": [
       "                       Всего должников  Всего кредитополучателей  \\\n",
       "family_status                                                      \n",
       "Не женат / не замужем              273                      2796   \n",
       "в разводе                           84                      1189   \n",
       "вдовец / вдова                      63                       951   \n",
       "гражданский брак                   385                      4146   \n",
       "женат / замужем                    927                     12266   \n",
       "\n",
       "                      Процент должников  \n",
       "family_status                            \n",
       "Не женат / не замужем             9.76%  \n",
       "в разводе                         7.06%  \n",
       "вдовец / вдова                    6.62%  \n",
       "гражданский брак                  9.29%  \n",
       "женат / замужем                   7.56%  "
      ]
     },
     "execution_count": 25,
     "metadata": {},
     "output_type": "execute_result"
    }
   ],
   "source": [
    "percent_apply('family_status')"
   ]
  },
  {
   "cell_type": "markdown",
   "id": "dba1d4c5-3eb0-4249-986a-86f1b34c126f",
   "metadata": {},
   "source": [
    "Можно заметить, что доля должников среди людей, которые побывали в браке, меньше. Можно предположить, что есть связь с возрастом либо психологическими особенностями. Также наблюдается то, что среди тех, чте находятся в официальном браке, задолденностей больше, что, возможно, связано с меньшем чувством ответственности"
   ]
  },
  {
   "cell_type": "markdown",
   "id": "6698738f-cbc4-4220-a327-d618b0a345bf",
   "metadata": {},
   "source": [
    "### 4.3. Зависимость между уровнем дохода и возвратом кредита в срок"
   ]
  },
  {
   "cell_type": "code",
   "execution_count": 26,
   "id": "252ca34c-dc51-4fc8-aa59-5aed069a5958",
   "metadata": {},
   "outputs": [
    {
     "data": {
      "text/html": [
       "<div>\n",
       "<style scoped>\n",
       "    .dataframe tbody tr th:only-of-type {\n",
       "        vertical-align: middle;\n",
       "    }\n",
       "\n",
       "    .dataframe tbody tr th {\n",
       "        vertical-align: top;\n",
       "    }\n",
       "\n",
       "    .dataframe thead th {\n",
       "        text-align: right;\n",
       "    }\n",
       "</style>\n",
       "<table border=\"1\" class=\"dataframe\">\n",
       "  <thead>\n",
       "    <tr style=\"text-align: right;\">\n",
       "      <th></th>\n",
       "      <th>Всего должников</th>\n",
       "      <th>Всего кредитополучателей</th>\n",
       "      <th>Процент должников</th>\n",
       "    </tr>\n",
       "    <tr>\n",
       "      <th>total_income_category</th>\n",
       "      <th></th>\n",
       "      <th></th>\n",
       "      <th></th>\n",
       "    </tr>\n",
       "  </thead>\n",
       "  <tbody>\n",
       "    <tr>\n",
       "      <th>A</th>\n",
       "      <td>2</td>\n",
       "      <td>25</td>\n",
       "      <td>8.00%</td>\n",
       "    </tr>\n",
       "    <tr>\n",
       "      <th>B</th>\n",
       "      <td>354</td>\n",
       "      <td>5014</td>\n",
       "      <td>7.06%</td>\n",
       "    </tr>\n",
       "    <tr>\n",
       "      <th>C</th>\n",
       "      <td>1353</td>\n",
       "      <td>15938</td>\n",
       "      <td>8.49%</td>\n",
       "    </tr>\n",
       "    <tr>\n",
       "      <th>D</th>\n",
       "      <td>21</td>\n",
       "      <td>349</td>\n",
       "      <td>6.02%</td>\n",
       "    </tr>\n",
       "    <tr>\n",
       "      <th>E</th>\n",
       "      <td>2</td>\n",
       "      <td>22</td>\n",
       "      <td>9.09%</td>\n",
       "    </tr>\n",
       "  </tbody>\n",
       "</table>\n",
       "</div>"
      ],
      "text/plain": [
       "                       Всего должников  Всего кредитополучателей  \\\n",
       "total_income_category                                              \n",
       "A                                    2                        25   \n",
       "B                                  354                      5014   \n",
       "C                                 1353                     15938   \n",
       "D                                   21                       349   \n",
       "E                                    2                        22   \n",
       "\n",
       "                      Процент должников  \n",
       "total_income_category                    \n",
       "A                                 8.00%  \n",
       "B                                 7.06%  \n",
       "C                                 8.49%  \n",
       "D                                 6.02%  \n",
       "E                                 9.09%  "
      ]
     },
     "execution_count": 26,
     "metadata": {},
     "output_type": "execute_result"
    }
   ],
   "source": [
    "percent_apply('total_income_category')"
   ]
  },
  {
   "cell_type": "markdown",
   "id": "351dfdee-bdd2-4557-9165-8141eab7ea55",
   "metadata": {},
   "source": [
    "В рамках анализа данной сводной таблицы смотрим на категории \"B\" и \"С\" - по другим количество записей слишком маленькое для формирования статистически корректных выводов. Исходя из категорий \"B\" и \"С\" можно сделать вывод, что среди людей с большим доходом процент своевременно выплаченных кредитов выше."
   ]
  },
  {
   "cell_type": "markdown",
   "id": "9aaf9c0f-8f76-4f4b-9a48-90bbcc86cd43",
   "metadata": {},
   "source": [
    "### 4.3. Влияние цели кредита на его возврат в срок"
   ]
  },
  {
   "cell_type": "code",
   "execution_count": 27,
   "id": "e7cd17a0-8023-4336-abf3-a520d94b5de4",
   "metadata": {},
   "outputs": [
    {
     "data": {
      "text/html": [
       "<div>\n",
       "<style scoped>\n",
       "    .dataframe tbody tr th:only-of-type {\n",
       "        vertical-align: middle;\n",
       "    }\n",
       "\n",
       "    .dataframe tbody tr th {\n",
       "        vertical-align: top;\n",
       "    }\n",
       "\n",
       "    .dataframe thead th {\n",
       "        text-align: right;\n",
       "    }\n",
       "</style>\n",
       "<table border=\"1\" class=\"dataframe\">\n",
       "  <thead>\n",
       "    <tr style=\"text-align: right;\">\n",
       "      <th></th>\n",
       "      <th>Всего должников</th>\n",
       "      <th>Всего кредитополучателей</th>\n",
       "      <th>Процент должников</th>\n",
       "    </tr>\n",
       "    <tr>\n",
       "      <th>purpose_category</th>\n",
       "      <th></th>\n",
       "      <th></th>\n",
       "      <th></th>\n",
       "    </tr>\n",
       "  </thead>\n",
       "  <tbody>\n",
       "    <tr>\n",
       "      <th>операции с автомобилем</th>\n",
       "      <td>400</td>\n",
       "      <td>4281</td>\n",
       "      <td>9.34%</td>\n",
       "    </tr>\n",
       "    <tr>\n",
       "      <th>операции с недвижимостью</th>\n",
       "      <td>780</td>\n",
       "      <td>10754</td>\n",
       "      <td>7.25%</td>\n",
       "    </tr>\n",
       "    <tr>\n",
       "      <th>получение образования</th>\n",
       "      <td>369</td>\n",
       "      <td>3989</td>\n",
       "      <td>9.25%</td>\n",
       "    </tr>\n",
       "    <tr>\n",
       "      <th>проведение свадьбы</th>\n",
       "      <td>183</td>\n",
       "      <td>2324</td>\n",
       "      <td>7.87%</td>\n",
       "    </tr>\n",
       "  </tbody>\n",
       "</table>\n",
       "</div>"
      ],
      "text/plain": [
       "                          Всего должников  Всего кредитополучателей  \\\n",
       "purpose_category                                                      \n",
       "операции с автомобилем                400                      4281   \n",
       "операции с недвижимостью              780                     10754   \n",
       "получение образования                 369                      3989   \n",
       "проведение свадьбы                    183                      2324   \n",
       "\n",
       "                         Процент должников  \n",
       "purpose_category                            \n",
       "операции с автомобилем               9.34%  \n",
       "операции с недвижимостью             7.25%  \n",
       "получение образования                9.25%  \n",
       "проведение свадьбы                   7.87%  "
      ]
     },
     "execution_count": 27,
     "metadata": {},
     "output_type": "execute_result"
    }
   ],
   "source": [
    "percent_apply('purpose_category')"
   ]
  },
  {
   "cell_type": "markdown",
   "id": "1aea150c-06e7-4584-ac3e-8033e4406cc5",
   "metadata": {},
   "source": [
    "Наиболее надежная цель - \"операции с недвижимостью\", наиболее рискованные - \"операции с автомобилем\" и \"получение образования\""
   ]
  },
  {
   "cell_type": "markdown",
   "id": "b8bd99e3-1a42-4e32-a4ed-a02873657fb4",
   "metadata": {},
   "source": [
    "### 4.4. Возможные причины появления пропусков в исходных данных"
   ]
  },
  {
   "cell_type": "markdown",
   "id": "ec90d26d-d14e-4dce-8f85-a6fc67c5049f",
   "metadata": {},
   "source": [
    "В исходных данных пропуски появлялись в двух столбцах:\n",
    "- в общем трудовом стаже в днях\n",
    "- в ежемесячном доходе.\n",
    "\n",
    "Говоря о трудовом стаже, пропуски можно объяснить тем, что человек попросту не работал или же тем, что в банковскую систему не подгрузились данные из пенсионного фонда.\n",
    "\n",
    "Говоря про среднемесячный доход, можно предположить, что пропуски обусловлены тем, что человек официально не трудоустроен либо же не дал согласие на предоставление банку данных о своих доходах.\n",
    "\n",
    "Кроме того, можно отметить человеческий и технический факторы. Так, клиенты могли не предоставить данные ввиду того, что эту информацию не требуют в некоторых случаях. Или же проблемы могли возникнуть на этапе загрузки и на этапе выгрузки данных: неправильный запрос, объединение таблиц и т.д."
   ]
  },
  {
   "cell_type": "markdown",
   "id": "0a5bade4-badb-4e0b-b59c-e0aaf50f4f6c",
   "metadata": {},
   "source": [
    "## 5. Вывод <a id='5'> </a>"
   ]
  },
  {
   "cell_type": "markdown",
   "id": "84b2be2a-8fbe-429f-86fc-d2ca56e0b3f7",
   "metadata": {},
   "source": [
    "**Перед исследования данные были предобработаны, в частности**:\n",
    "- обработаны пропуски из столбцов `days_employed` и `total_income`\n",
    "- обработаны аномальные значения\n",
    "- удалены дубликаты в столбце с образованием\n",
    "- категоризованы данные по столбцам `total_income` и `purpose`\n",
    "\n",
    "**В результате исследования были выявлены некоторые зависимости в данных и сформулированы умозаключения, в частности**:\n",
    "- с количеством детей растет доля задолженностей в данных (распростроняется на данные, где кол-во детей  0, 1 и 2)\n",
    "- доля должников среди людей, которые побывали в браке, меньше чем среди тех, кто состоит в официальном браке (наибольшая доля должников у людей, никогда не бывавших в официальном браке)\n",
    "- среди людей с высоким доходом, но до миллиона рублей в месяц, с ростом уменьшается доля просроченных кредитов\n",
    "- наиболее надежная цель кредита - операции с недвижимостью, наиболее рискованные - операции с автомобилем и получение образования\n",
    "- пропуски в данных могут быть обсуловлены человеческими, техническими и социально-экономическими факторами\n",
    "- аномальные значения влияют на репрезентативность и правдивость выводов\n",
    "\n",
    "**Рекомендации**:\n",
    "- сформировать другую категоризацию по доходам\n",
    "- исследовать другие признаки\n",
    "- рассчитать другие метрики (отношение дохода к сумме выплат и др.)\n",
    "- сделать ы анкете сделать поля о доходе и стаже обязательными к заполнению, добавить автопроверку на формат вводимых пользователем данных"
   ]
  }
 ],
 "metadata": {
  "kernelspec": {
   "display_name": "Python 3 (ipykernel)",
   "language": "python",
   "name": "python3"
  },
  "language_info": {
   "codemirror_mode": {
    "name": "ipython",
    "version": 3
   },
   "file_extension": ".py",
   "mimetype": "text/x-python",
   "name": "python",
   "nbconvert_exporter": "python",
   "pygments_lexer": "ipython3",
   "version": "3.11.7"
  }
 },
 "nbformat": 4,
 "nbformat_minor": 5
}
