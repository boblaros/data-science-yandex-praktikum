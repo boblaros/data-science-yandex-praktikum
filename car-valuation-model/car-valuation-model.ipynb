{
 "cells": [
  {
   "cell_type": "markdown",
   "id": "b0e0526b",
   "metadata": {},
   "source": [
    "# Проект \"Предсказание стоимости автомобиля\""
   ]
  },
  {
   "cell_type": "markdown",
   "id": "1e04323e-6fdf-4282-8c54-4e63718532eb",
   "metadata": {},
   "source": [
    "## Описание проекта <a id='0'></a>"
   ]
  },
  {
   "cell_type": "markdown",
   "id": "dcb0e9ca",
   "metadata": {},
   "source": [
    "**Заказчик**: сервис по продаже автомобилей с пробегом «Не бит, не крашен»\n",
    "\n",
    "**Бизнес контекст**: компания разрабатывает приложение, чтобы привлечь новых клиентов. В нём можно будет узнать рыночную стоимость своего автомобиля\n",
    "\n",
    "**Цель проекта**: построить модель, которая умеет определять рыночную стоимость автомобиля на основании данных о технических характеристиках, комплектации и ценах других автомобилей\n",
    "\n",
    "**Критерии, которые важны заказчику**:\n",
    "- качество предсказания\n",
    "- время обучения модели\n",
    "- время предсказания модели\n",
    "\n",
    "**План проекта**:  \n",
    "- [Описание проекта](#0)\n",
    "- [Описание и загрузка данных](#1)\n",
    "- [Изучение и предобработка данных](#2)\n",
    "- [Исследовательский и корреляционный анализ данных](#3)\n",
    "- [Подготовка данных к обучению](#4)\n",
    "- [Обучение моделей](#5)\n",
    "- [Вывод](#6)"
   ]
  },
  {
   "cell_type": "markdown",
   "id": "4bd1237f",
   "metadata": {},
   "source": [
    "Импортируем библиотеки:"
   ]
  },
  {
   "cell_type": "code",
   "execution_count": 1,
   "id": "ab5139fd",
   "metadata": {},
   "outputs": [],
   "source": [
    "!pip install --upgrade scikit-learn -q\n",
    "!pip install --upgrade pandas \"dask[complete]\" -q\n",
    "!pip install lightgbm -q\n",
    "\n",
    "import seaborn as sns\n",
    "import pandas as pd\n",
    "import numpy as np\n",
    "import math\n",
    "import time\n",
    "import os\n",
    "\n",
    "import phik\n",
    "from phik.report import plot_correlation_matrix\n",
    "\n",
    "from sklearn.pipeline import Pipeline\n",
    "from sklearn.compose import ColumnTransformer\n",
    "from sklearn.impute import SimpleImputer\n",
    "from sklearn.preprocessing import OneHotEncoder, StandardScaler, OrdinalEncoder, MinMaxScaler, LabelEncoder\n",
    "from sklearn.model_selection import train_test_split, RandomizedSearchCV\n",
    "from sklearn.multiclass import OneVsRestClassifier\n",
    "from sklearn.linear_model import LinearRegression\n",
    "from sklearn.tree import DecisionTreeRegressor\n",
    "from sklearn.metrics import mean_squared_error\n",
    "from scipy.stats import uniform\n",
    "\n",
    "import lightgbm as lgb\n",
    "import matplotlib.pyplot as plt\n",
    "from datetime import datetime as dt"
   ]
  },
  {
   "cell_type": "markdown",
   "id": "10c1051b",
   "metadata": {},
   "source": [
    "## Описание и загрузка данных <a id='1'></a>"
   ]
  },
  {
   "cell_type": "markdown",
   "id": "4da3edaa",
   "metadata": {},
   "source": [
    "Таблица с данными содержит следующие столбцы:\n",
    "- `DateCrawled` — дата скачивания анкеты из базы\n",
    "- `VehicleType` — тип автомобильного кузова\n",
    "- `RegistrationYear` — год регистрации автомобиля\n",
    "- `Gearbox` — тип коробки передач\n",
    "- `Power` — мощность (л. с.)\n",
    "- `Model` — модель автомобиля\n",
    "- `Kilometer` — пробег (км)\n",
    "- `RegistrationMonth` — месяц регистрации автомобиля\n",
    "- `FuelType` — тип топлива\n",
    "- `Brand` — марка автомобиля\n",
    "- `Repaired` — была машина в ремонте или нет\n",
    "- `DateCreated` — дата создания анкеты\n",
    "- `NumberOfPictures` — количество фотографий автомобиля\n",
    "- `PostalCode` — почтовый индекс владельца анкеты (пользователя)\n",
    "- `LastSeen` — дата последней активности пользователя\n",
    "- **`Price`** — цена в евро (целевой признак)"
   ]
  },
  {
   "cell_type": "markdown",
   "id": "87e85cda",
   "metadata": {},
   "source": [
    "Загрузим таблицу в тетрадку, присвоим ей переменную:"
   ]
  },
  {
   "cell_type": "code",
   "execution_count": 2,
   "id": "952910dd",
   "metadata": {},
   "outputs": [
    {
     "data": {
      "text/html": [
       "<div>\n",
       "<style scoped>\n",
       "    .dataframe tbody tr th:only-of-type {\n",
       "        vertical-align: middle;\n",
       "    }\n",
       "\n",
       "    .dataframe tbody tr th {\n",
       "        vertical-align: top;\n",
       "    }\n",
       "\n",
       "    .dataframe thead th {\n",
       "        text-align: right;\n",
       "    }\n",
       "</style>\n",
       "<table border=\"1\" class=\"dataframe\">\n",
       "  <thead>\n",
       "    <tr style=\"text-align: right;\">\n",
       "      <th></th>\n",
       "      <th>DateCrawled</th>\n",
       "      <th>Price</th>\n",
       "      <th>VehicleType</th>\n",
       "      <th>RegistrationYear</th>\n",
       "      <th>Gearbox</th>\n",
       "      <th>Power</th>\n",
       "      <th>Model</th>\n",
       "      <th>Kilometer</th>\n",
       "      <th>RegistrationMonth</th>\n",
       "      <th>FuelType</th>\n",
       "      <th>Brand</th>\n",
       "      <th>Repaired</th>\n",
       "      <th>DateCreated</th>\n",
       "      <th>NumberOfPictures</th>\n",
       "      <th>PostalCode</th>\n",
       "      <th>LastSeen</th>\n",
       "    </tr>\n",
       "  </thead>\n",
       "  <tbody>\n",
       "    <tr>\n",
       "      <th>0</th>\n",
       "      <td>2016-03-24 11:52:17</td>\n",
       "      <td>480</td>\n",
       "      <td>NaN</td>\n",
       "      <td>1993</td>\n",
       "      <td>manual</td>\n",
       "      <td>0</td>\n",
       "      <td>golf</td>\n",
       "      <td>150000</td>\n",
       "      <td>0</td>\n",
       "      <td>petrol</td>\n",
       "      <td>volkswagen</td>\n",
       "      <td>NaN</td>\n",
       "      <td>2016-03-24 00:00:00</td>\n",
       "      <td>0</td>\n",
       "      <td>70435</td>\n",
       "      <td>2016-04-07 03:16:57</td>\n",
       "    </tr>\n",
       "    <tr>\n",
       "      <th>1</th>\n",
       "      <td>2016-03-24 10:58:45</td>\n",
       "      <td>18300</td>\n",
       "      <td>coupe</td>\n",
       "      <td>2011</td>\n",
       "      <td>manual</td>\n",
       "      <td>190</td>\n",
       "      <td>NaN</td>\n",
       "      <td>125000</td>\n",
       "      <td>5</td>\n",
       "      <td>gasoline</td>\n",
       "      <td>audi</td>\n",
       "      <td>yes</td>\n",
       "      <td>2016-03-24 00:00:00</td>\n",
       "      <td>0</td>\n",
       "      <td>66954</td>\n",
       "      <td>2016-04-07 01:46:50</td>\n",
       "    </tr>\n",
       "    <tr>\n",
       "      <th>2</th>\n",
       "      <td>2016-03-14 12:52:21</td>\n",
       "      <td>9800</td>\n",
       "      <td>suv</td>\n",
       "      <td>2004</td>\n",
       "      <td>auto</td>\n",
       "      <td>163</td>\n",
       "      <td>grand</td>\n",
       "      <td>125000</td>\n",
       "      <td>8</td>\n",
       "      <td>gasoline</td>\n",
       "      <td>jeep</td>\n",
       "      <td>NaN</td>\n",
       "      <td>2016-03-14 00:00:00</td>\n",
       "      <td>0</td>\n",
       "      <td>90480</td>\n",
       "      <td>2016-04-05 12:47:46</td>\n",
       "    </tr>\n",
       "    <tr>\n",
       "      <th>3</th>\n",
       "      <td>2016-03-17 16:54:04</td>\n",
       "      <td>1500</td>\n",
       "      <td>small</td>\n",
       "      <td>2001</td>\n",
       "      <td>manual</td>\n",
       "      <td>75</td>\n",
       "      <td>golf</td>\n",
       "      <td>150000</td>\n",
       "      <td>6</td>\n",
       "      <td>petrol</td>\n",
       "      <td>volkswagen</td>\n",
       "      <td>no</td>\n",
       "      <td>2016-03-17 00:00:00</td>\n",
       "      <td>0</td>\n",
       "      <td>91074</td>\n",
       "      <td>2016-03-17 17:40:17</td>\n",
       "    </tr>\n",
       "    <tr>\n",
       "      <th>4</th>\n",
       "      <td>2016-03-31 17:25:20</td>\n",
       "      <td>3600</td>\n",
       "      <td>small</td>\n",
       "      <td>2008</td>\n",
       "      <td>manual</td>\n",
       "      <td>69</td>\n",
       "      <td>fabia</td>\n",
       "      <td>90000</td>\n",
       "      <td>7</td>\n",
       "      <td>gasoline</td>\n",
       "      <td>skoda</td>\n",
       "      <td>no</td>\n",
       "      <td>2016-03-31 00:00:00</td>\n",
       "      <td>0</td>\n",
       "      <td>60437</td>\n",
       "      <td>2016-04-06 10:17:21</td>\n",
       "    </tr>\n",
       "  </tbody>\n",
       "</table>\n",
       "</div>"
      ],
      "text/plain": [
       "           DateCrawled  Price VehicleType  RegistrationYear Gearbox  Power  \\\n",
       "0  2016-03-24 11:52:17    480         NaN              1993  manual      0   \n",
       "1  2016-03-24 10:58:45  18300       coupe              2011  manual    190   \n",
       "2  2016-03-14 12:52:21   9800         suv              2004    auto    163   \n",
       "3  2016-03-17 16:54:04   1500       small              2001  manual     75   \n",
       "4  2016-03-31 17:25:20   3600       small              2008  manual     69   \n",
       "\n",
       "   Model  Kilometer  RegistrationMonth  FuelType       Brand Repaired  \\\n",
       "0   golf     150000                  0    petrol  volkswagen      NaN   \n",
       "1    NaN     125000                  5  gasoline        audi      yes   \n",
       "2  grand     125000                  8  gasoline        jeep      NaN   \n",
       "3   golf     150000                  6    petrol  volkswagen       no   \n",
       "4  fabia      90000                  7  gasoline       skoda       no   \n",
       "\n",
       "           DateCreated  NumberOfPictures  PostalCode             LastSeen  \n",
       "0  2016-03-24 00:00:00                 0       70435  2016-04-07 03:16:57  \n",
       "1  2016-03-24 00:00:00                 0       66954  2016-04-07 01:46:50  \n",
       "2  2016-03-14 00:00:00                 0       90480  2016-04-05 12:47:46  \n",
       "3  2016-03-17 00:00:00                 0       91074  2016-03-17 17:40:17  \n",
       "4  2016-03-31 00:00:00                 0       60437  2016-04-06 10:17:21  "
      ]
     },
     "execution_count": 2,
     "metadata": {},
     "output_type": "execute_result"
    }
   ],
   "source": [
    "def csv_reader(pth):\n",
    "    if os.path.exists(pth):\n",
    "        return pd.read_csv(pth)\n",
    "    elif os.path.exists(os.path.join('/datasets', pth)):\n",
    "        return pd.read_csv(os.path.join('/datasets', pth))\n",
    "    \n",
    "df = csv_reader('autos.csv')\n",
    "df.head()"
   ]
  },
  {
   "cell_type": "markdown",
   "id": "f9d3ae21",
   "metadata": {},
   "source": [
    "## Изучение и предобработка данных <a id='2'></a>"
   ]
  },
  {
   "cell_type": "markdown",
   "id": "839f3bd1",
   "metadata": {},
   "source": [
    "### Изучение данных"
   ]
  },
  {
   "cell_type": "markdown",
   "id": "18b2ff29",
   "metadata": {},
   "source": [
    "Запишем наименования столбцов в змеином регистре:"
   ]
  },
  {
   "cell_type": "code",
   "execution_count": 3,
   "id": "1086ac6d",
   "metadata": {},
   "outputs": [
    {
     "data": {
      "text/html": [
       "<div>\n",
       "<style scoped>\n",
       "    .dataframe tbody tr th:only-of-type {\n",
       "        vertical-align: middle;\n",
       "    }\n",
       "\n",
       "    .dataframe tbody tr th {\n",
       "        vertical-align: top;\n",
       "    }\n",
       "\n",
       "    .dataframe thead th {\n",
       "        text-align: right;\n",
       "    }\n",
       "</style>\n",
       "<table border=\"1\" class=\"dataframe\">\n",
       "  <thead>\n",
       "    <tr style=\"text-align: right;\">\n",
       "      <th></th>\n",
       "      <th>date_crawled</th>\n",
       "      <th>price</th>\n",
       "      <th>vehicle_type</th>\n",
       "      <th>registration_year</th>\n",
       "      <th>gearbox</th>\n",
       "      <th>power</th>\n",
       "      <th>model</th>\n",
       "      <th>kilometer</th>\n",
       "      <th>registration_month</th>\n",
       "      <th>fuel_type</th>\n",
       "      <th>brand</th>\n",
       "      <th>repaired</th>\n",
       "      <th>date_created</th>\n",
       "      <th>number_of_pictures</th>\n",
       "      <th>postal_code</th>\n",
       "      <th>last_seen</th>\n",
       "    </tr>\n",
       "  </thead>\n",
       "  <tbody>\n",
       "    <tr>\n",
       "      <th>0</th>\n",
       "      <td>2016-03-24 11:52:17</td>\n",
       "      <td>480</td>\n",
       "      <td>NaN</td>\n",
       "      <td>1993</td>\n",
       "      <td>manual</td>\n",
       "      <td>0</td>\n",
       "      <td>golf</td>\n",
       "      <td>150000</td>\n",
       "      <td>0</td>\n",
       "      <td>petrol</td>\n",
       "      <td>volkswagen</td>\n",
       "      <td>NaN</td>\n",
       "      <td>2016-03-24 00:00:00</td>\n",
       "      <td>0</td>\n",
       "      <td>70435</td>\n",
       "      <td>2016-04-07 03:16:57</td>\n",
       "    </tr>\n",
       "    <tr>\n",
       "      <th>1</th>\n",
       "      <td>2016-03-24 10:58:45</td>\n",
       "      <td>18300</td>\n",
       "      <td>coupe</td>\n",
       "      <td>2011</td>\n",
       "      <td>manual</td>\n",
       "      <td>190</td>\n",
       "      <td>NaN</td>\n",
       "      <td>125000</td>\n",
       "      <td>5</td>\n",
       "      <td>gasoline</td>\n",
       "      <td>audi</td>\n",
       "      <td>yes</td>\n",
       "      <td>2016-03-24 00:00:00</td>\n",
       "      <td>0</td>\n",
       "      <td>66954</td>\n",
       "      <td>2016-04-07 01:46:50</td>\n",
       "    </tr>\n",
       "    <tr>\n",
       "      <th>2</th>\n",
       "      <td>2016-03-14 12:52:21</td>\n",
       "      <td>9800</td>\n",
       "      <td>suv</td>\n",
       "      <td>2004</td>\n",
       "      <td>auto</td>\n",
       "      <td>163</td>\n",
       "      <td>grand</td>\n",
       "      <td>125000</td>\n",
       "      <td>8</td>\n",
       "      <td>gasoline</td>\n",
       "      <td>jeep</td>\n",
       "      <td>NaN</td>\n",
       "      <td>2016-03-14 00:00:00</td>\n",
       "      <td>0</td>\n",
       "      <td>90480</td>\n",
       "      <td>2016-04-05 12:47:46</td>\n",
       "    </tr>\n",
       "    <tr>\n",
       "      <th>3</th>\n",
       "      <td>2016-03-17 16:54:04</td>\n",
       "      <td>1500</td>\n",
       "      <td>small</td>\n",
       "      <td>2001</td>\n",
       "      <td>manual</td>\n",
       "      <td>75</td>\n",
       "      <td>golf</td>\n",
       "      <td>150000</td>\n",
       "      <td>6</td>\n",
       "      <td>petrol</td>\n",
       "      <td>volkswagen</td>\n",
       "      <td>no</td>\n",
       "      <td>2016-03-17 00:00:00</td>\n",
       "      <td>0</td>\n",
       "      <td>91074</td>\n",
       "      <td>2016-03-17 17:40:17</td>\n",
       "    </tr>\n",
       "    <tr>\n",
       "      <th>4</th>\n",
       "      <td>2016-03-31 17:25:20</td>\n",
       "      <td>3600</td>\n",
       "      <td>small</td>\n",
       "      <td>2008</td>\n",
       "      <td>manual</td>\n",
       "      <td>69</td>\n",
       "      <td>fabia</td>\n",
       "      <td>90000</td>\n",
       "      <td>7</td>\n",
       "      <td>gasoline</td>\n",
       "      <td>skoda</td>\n",
       "      <td>no</td>\n",
       "      <td>2016-03-31 00:00:00</td>\n",
       "      <td>0</td>\n",
       "      <td>60437</td>\n",
       "      <td>2016-04-06 10:17:21</td>\n",
       "    </tr>\n",
       "  </tbody>\n",
       "</table>\n",
       "</div>"
      ],
      "text/plain": [
       "          date_crawled  price vehicle_type  registration_year gearbox  power  \\\n",
       "0  2016-03-24 11:52:17    480          NaN               1993  manual      0   \n",
       "1  2016-03-24 10:58:45  18300        coupe               2011  manual    190   \n",
       "2  2016-03-14 12:52:21   9800          suv               2004    auto    163   \n",
       "3  2016-03-17 16:54:04   1500        small               2001  manual     75   \n",
       "4  2016-03-31 17:25:20   3600        small               2008  manual     69   \n",
       "\n",
       "   model  kilometer  registration_month fuel_type       brand repaired  \\\n",
       "0   golf     150000                   0    petrol  volkswagen      NaN   \n",
       "1    NaN     125000                   5  gasoline        audi      yes   \n",
       "2  grand     125000                   8  gasoline        jeep      NaN   \n",
       "3   golf     150000                   6    petrol  volkswagen       no   \n",
       "4  fabia      90000                   7  gasoline       skoda       no   \n",
       "\n",
       "          date_created  number_of_pictures  postal_code            last_seen  \n",
       "0  2016-03-24 00:00:00                   0        70435  2016-04-07 03:16:57  \n",
       "1  2016-03-24 00:00:00                   0        66954  2016-04-07 01:46:50  \n",
       "2  2016-03-14 00:00:00                   0        90480  2016-04-05 12:47:46  \n",
       "3  2016-03-17 00:00:00                   0        91074  2016-03-17 17:40:17  \n",
       "4  2016-03-31 00:00:00                   0        60437  2016-04-06 10:17:21  "
      ]
     },
     "execution_count": 3,
     "metadata": {},
     "output_type": "execute_result"
    }
   ],
   "source": [
    "df = df.rename(columns = {\n",
    "    'DateCrawled' : 'date_crawled',\n",
    "    'Price' : 'price',\n",
    "    'VehicleType' : 'vehicle_type',\n",
    "    'RegistrationYear' : 'registration_year',\n",
    "    'Gearbox' : 'gearbox',\n",
    "    'Power' : 'power',\n",
    "    'Model' : 'model',\n",
    "    'Kilometer' : 'kilometer',\n",
    "    'RegistrationMonth' : 'registration_month',\n",
    "    'FuelType' : 'fuel_type',\n",
    "    'Brand' : 'brand',\n",
    "    'Repaired' : 'repaired',\n",
    "    'DateCreated' : 'date_created',\n",
    "    'NumberOfPictures' : 'number_of_pictures',\n",
    "    'PostalCode' : 'postal_code',\n",
    "    'LastSeen' : 'last_seen'\n",
    "})\n",
    "df.head()"
   ]
  },
  {
   "cell_type": "markdown",
   "id": "1ab78357",
   "metadata": {},
   "source": [
    "Выведем основную информацию о табоице:"
   ]
  },
  {
   "cell_type": "code",
   "execution_count": 4,
   "id": "eb6d8820",
   "metadata": {},
   "outputs": [
    {
     "name": "stdout",
     "output_type": "stream",
     "text": [
      "<class 'pandas.core.frame.DataFrame'>\n",
      "RangeIndex: 354369 entries, 0 to 354368\n",
      "Data columns (total 16 columns):\n",
      " #   Column              Non-Null Count   Dtype \n",
      "---  ------              --------------   ----- \n",
      " 0   date_crawled        354369 non-null  object\n",
      " 1   price               354369 non-null  int64 \n",
      " 2   vehicle_type        316879 non-null  object\n",
      " 3   registration_year   354369 non-null  int64 \n",
      " 4   gearbox             334536 non-null  object\n",
      " 5   power               354369 non-null  int64 \n",
      " 6   model               334664 non-null  object\n",
      " 7   kilometer           354369 non-null  int64 \n",
      " 8   registration_month  354369 non-null  int64 \n",
      " 9   fuel_type           321474 non-null  object\n",
      " 10  brand               354369 non-null  object\n",
      " 11  repaired            283215 non-null  object\n",
      " 12  date_created        354369 non-null  object\n",
      " 13  number_of_pictures  354369 non-null  int64 \n",
      " 14  postal_code         354369 non-null  int64 \n",
      " 15  last_seen           354369 non-null  object\n",
      "dtypes: int64(7), object(9)\n",
      "memory usage: 43.3+ MB\n"
     ]
    }
   ],
   "source": [
    "df.info()"
   ]
  },
  {
   "cell_type": "code",
   "execution_count": 5,
   "id": "2ee64ac6",
   "metadata": {},
   "outputs": [
    {
     "data": {
      "text/plain": [
       "date_crawled              0\n",
       "price                     0\n",
       "vehicle_type          37490\n",
       "registration_year         0\n",
       "gearbox               19833\n",
       "power                     0\n",
       "model                 19705\n",
       "kilometer                 0\n",
       "registration_month        0\n",
       "fuel_type             32895\n",
       "brand                     0\n",
       "repaired              71154\n",
       "date_created              0\n",
       "number_of_pictures        0\n",
       "postal_code               0\n",
       "last_seen                 0\n",
       "dtype: int64"
      ]
     },
     "execution_count": 5,
     "metadata": {},
     "output_type": "execute_result"
    }
   ],
   "source": [
    "df.isna().sum()"
   ]
  },
  {
   "cell_type": "markdown",
   "id": "5cd2cc9b",
   "metadata": {},
   "source": [
    "Посмотрим, есть ли в данных дубликаты (без столбцов со временем, только по характеристикам машины и объявления):"
   ]
  },
  {
   "cell_type": "code",
   "execution_count": 6,
   "id": "e3966b01",
   "metadata": {
    "scrolled": true
   },
   "outputs": [
    {
     "data": {
      "text/plain": [
       "10194"
      ]
     },
     "execution_count": 6,
     "metadata": {},
     "output_type": "execute_result"
    }
   ],
   "source": [
    "df.drop(['date_crawled', 'last_seen'], axis=1).duplicated().sum()"
   ]
  },
  {
   "cell_type": "markdown",
   "id": "056e9123",
   "metadata": {},
   "source": [
    "**Заметим, что**:\n",
    "- в таблице `354369` строк и `16` столбков (признаков);\n",
    "- в стобцах `vehicle_type`, `gearbox`, `model`, `fuel_type`, `repaired` есть пропуски;\n",
    "- тип данных в столбцах со временем - `date_crawled` и `last_seen` типа object, а не datetime;\n",
    "- в таблице `10194` явных дубликатов."
   ]
  },
  {
   "cell_type": "markdown",
   "id": "09a401aa",
   "metadata": {},
   "source": [
    "Посмотрим, есть ли записи, в которых год регистрации автомобиля больше даты создания объявления:"
   ]
  },
  {
   "cell_type": "code",
   "execution_count": 7,
   "id": "f6341331",
   "metadata": {},
   "outputs": [
    {
     "data": {
      "text/html": [
       "<div>\n",
       "<style scoped>\n",
       "    .dataframe tbody tr th:only-of-type {\n",
       "        vertical-align: middle;\n",
       "    }\n",
       "\n",
       "    .dataframe tbody tr th {\n",
       "        vertical-align: top;\n",
       "    }\n",
       "\n",
       "    .dataframe thead th {\n",
       "        text-align: right;\n",
       "    }\n",
       "</style>\n",
       "<table border=\"1\" class=\"dataframe\">\n",
       "  <thead>\n",
       "    <tr style=\"text-align: right;\">\n",
       "      <th></th>\n",
       "      <th>date_crawled</th>\n",
       "      <th>price</th>\n",
       "      <th>vehicle_type</th>\n",
       "      <th>registration_year</th>\n",
       "      <th>gearbox</th>\n",
       "      <th>power</th>\n",
       "      <th>model</th>\n",
       "      <th>kilometer</th>\n",
       "      <th>registration_month</th>\n",
       "      <th>fuel_type</th>\n",
       "      <th>brand</th>\n",
       "      <th>repaired</th>\n",
       "      <th>date_created</th>\n",
       "      <th>number_of_pictures</th>\n",
       "      <th>postal_code</th>\n",
       "      <th>last_seen</th>\n",
       "    </tr>\n",
       "  </thead>\n",
       "  <tbody>\n",
       "    <tr>\n",
       "      <th>22</th>\n",
       "      <td>2016-03-23 14:52:51</td>\n",
       "      <td>2900</td>\n",
       "      <td>NaN</td>\n",
       "      <td>2018</td>\n",
       "      <td>manual</td>\n",
       "      <td>90</td>\n",
       "      <td>meriva</td>\n",
       "      <td>150000</td>\n",
       "      <td>5</td>\n",
       "      <td>petrol</td>\n",
       "      <td>opel</td>\n",
       "      <td>no</td>\n",
       "      <td>2016-03-23</td>\n",
       "      <td>0</td>\n",
       "      <td>49716</td>\n",
       "      <td>2016-03-31 01:16:33</td>\n",
       "    </tr>\n",
       "    <tr>\n",
       "      <th>26</th>\n",
       "      <td>2016-03-10 19:38:18</td>\n",
       "      <td>5555</td>\n",
       "      <td>NaN</td>\n",
       "      <td>2017</td>\n",
       "      <td>manual</td>\n",
       "      <td>125</td>\n",
       "      <td>c4</td>\n",
       "      <td>125000</td>\n",
       "      <td>4</td>\n",
       "      <td>NaN</td>\n",
       "      <td>citroen</td>\n",
       "      <td>no</td>\n",
       "      <td>2016-03-10</td>\n",
       "      <td>0</td>\n",
       "      <td>31139</td>\n",
       "      <td>2016-03-16 09:16:46</td>\n",
       "    </tr>\n",
       "    <tr>\n",
       "      <th>48</th>\n",
       "      <td>2016-03-25 14:40:12</td>\n",
       "      <td>7750</td>\n",
       "      <td>NaN</td>\n",
       "      <td>2017</td>\n",
       "      <td>manual</td>\n",
       "      <td>80</td>\n",
       "      <td>golf</td>\n",
       "      <td>100000</td>\n",
       "      <td>1</td>\n",
       "      <td>petrol</td>\n",
       "      <td>volkswagen</td>\n",
       "      <td>NaN</td>\n",
       "      <td>2016-03-25</td>\n",
       "      <td>0</td>\n",
       "      <td>48499</td>\n",
       "      <td>2016-03-31 21:47:44</td>\n",
       "    </tr>\n",
       "    <tr>\n",
       "      <th>51</th>\n",
       "      <td>2016-03-07 18:57:08</td>\n",
       "      <td>2000</td>\n",
       "      <td>NaN</td>\n",
       "      <td>2017</td>\n",
       "      <td>manual</td>\n",
       "      <td>90</td>\n",
       "      <td>punto</td>\n",
       "      <td>150000</td>\n",
       "      <td>11</td>\n",
       "      <td>gasoline</td>\n",
       "      <td>fiat</td>\n",
       "      <td>yes</td>\n",
       "      <td>2016-03-07</td>\n",
       "      <td>0</td>\n",
       "      <td>66115</td>\n",
       "      <td>2016-03-07 18:57:08</td>\n",
       "    </tr>\n",
       "    <tr>\n",
       "      <th>57</th>\n",
       "      <td>2016-03-10 20:53:19</td>\n",
       "      <td>2399</td>\n",
       "      <td>NaN</td>\n",
       "      <td>2018</td>\n",
       "      <td>manual</td>\n",
       "      <td>64</td>\n",
       "      <td>other</td>\n",
       "      <td>125000</td>\n",
       "      <td>3</td>\n",
       "      <td>NaN</td>\n",
       "      <td>seat</td>\n",
       "      <td>no</td>\n",
       "      <td>2016-03-10</td>\n",
       "      <td>0</td>\n",
       "      <td>33397</td>\n",
       "      <td>2016-03-25 10:17:37</td>\n",
       "    </tr>\n",
       "    <tr>\n",
       "      <th>...</th>\n",
       "      <td>...</td>\n",
       "      <td>...</td>\n",
       "      <td>...</td>\n",
       "      <td>...</td>\n",
       "      <td>...</td>\n",
       "      <td>...</td>\n",
       "      <td>...</td>\n",
       "      <td>...</td>\n",
       "      <td>...</td>\n",
       "      <td>...</td>\n",
       "      <td>...</td>\n",
       "      <td>...</td>\n",
       "      <td>...</td>\n",
       "      <td>...</td>\n",
       "      <td>...</td>\n",
       "      <td>...</td>\n",
       "    </tr>\n",
       "    <tr>\n",
       "      <th>354112</th>\n",
       "      <td>2016-03-11 15:49:51</td>\n",
       "      <td>3600</td>\n",
       "      <td>NaN</td>\n",
       "      <td>2017</td>\n",
       "      <td>manual</td>\n",
       "      <td>86</td>\n",
       "      <td>transit</td>\n",
       "      <td>150000</td>\n",
       "      <td>5</td>\n",
       "      <td>gasoline</td>\n",
       "      <td>ford</td>\n",
       "      <td>NaN</td>\n",
       "      <td>2016-03-11</td>\n",
       "      <td>0</td>\n",
       "      <td>32339</td>\n",
       "      <td>2016-03-12 05:45:02</td>\n",
       "    </tr>\n",
       "    <tr>\n",
       "      <th>354140</th>\n",
       "      <td>2016-03-29 16:47:29</td>\n",
       "      <td>1000</td>\n",
       "      <td>NaN</td>\n",
       "      <td>2017</td>\n",
       "      <td>manual</td>\n",
       "      <td>101</td>\n",
       "      <td>a4</td>\n",
       "      <td>150000</td>\n",
       "      <td>9</td>\n",
       "      <td>NaN</td>\n",
       "      <td>audi</td>\n",
       "      <td>NaN</td>\n",
       "      <td>2016-03-29</td>\n",
       "      <td>0</td>\n",
       "      <td>38315</td>\n",
       "      <td>2016-04-06 02:44:27</td>\n",
       "    </tr>\n",
       "    <tr>\n",
       "      <th>354203</th>\n",
       "      <td>2016-03-17 00:56:26</td>\n",
       "      <td>2140</td>\n",
       "      <td>NaN</td>\n",
       "      <td>2018</td>\n",
       "      <td>manual</td>\n",
       "      <td>80</td>\n",
       "      <td>fiesta</td>\n",
       "      <td>150000</td>\n",
       "      <td>6</td>\n",
       "      <td>NaN</td>\n",
       "      <td>ford</td>\n",
       "      <td>no</td>\n",
       "      <td>2016-03-17</td>\n",
       "      <td>0</td>\n",
       "      <td>44866</td>\n",
       "      <td>2016-03-29 15:45:04</td>\n",
       "    </tr>\n",
       "    <tr>\n",
       "      <th>354253</th>\n",
       "      <td>2016-03-25 09:37:59</td>\n",
       "      <td>1250</td>\n",
       "      <td>NaN</td>\n",
       "      <td>2018</td>\n",
       "      <td>NaN</td>\n",
       "      <td>0</td>\n",
       "      <td>corsa</td>\n",
       "      <td>150000</td>\n",
       "      <td>0</td>\n",
       "      <td>petrol</td>\n",
       "      <td>opel</td>\n",
       "      <td>NaN</td>\n",
       "      <td>2016-03-25</td>\n",
       "      <td>0</td>\n",
       "      <td>45527</td>\n",
       "      <td>2016-04-06 07:46:13</td>\n",
       "    </tr>\n",
       "    <tr>\n",
       "      <th>354289</th>\n",
       "      <td>2016-03-05 14:55:29</td>\n",
       "      <td>5000</td>\n",
       "      <td>NaN</td>\n",
       "      <td>2017</td>\n",
       "      <td>manual</td>\n",
       "      <td>120</td>\n",
       "      <td>other</td>\n",
       "      <td>150000</td>\n",
       "      <td>7</td>\n",
       "      <td>NaN</td>\n",
       "      <td>citroen</td>\n",
       "      <td>yes</td>\n",
       "      <td>2016-03-05</td>\n",
       "      <td>0</td>\n",
       "      <td>15518</td>\n",
       "      <td>2016-04-05 11:48:09</td>\n",
       "    </tr>\n",
       "  </tbody>\n",
       "</table>\n",
       "<p>14530 rows × 16 columns</p>\n",
       "</div>"
      ],
      "text/plain": [
       "               date_crawled  price vehicle_type  registration_year gearbox  \\\n",
       "22      2016-03-23 14:52:51   2900          NaN               2018  manual   \n",
       "26      2016-03-10 19:38:18   5555          NaN               2017  manual   \n",
       "48      2016-03-25 14:40:12   7750          NaN               2017  manual   \n",
       "51      2016-03-07 18:57:08   2000          NaN               2017  manual   \n",
       "57      2016-03-10 20:53:19   2399          NaN               2018  manual   \n",
       "...                     ...    ...          ...                ...     ...   \n",
       "354112  2016-03-11 15:49:51   3600          NaN               2017  manual   \n",
       "354140  2016-03-29 16:47:29   1000          NaN               2017  manual   \n",
       "354203  2016-03-17 00:56:26   2140          NaN               2018  manual   \n",
       "354253  2016-03-25 09:37:59   1250          NaN               2018     NaN   \n",
       "354289  2016-03-05 14:55:29   5000          NaN               2017  manual   \n",
       "\n",
       "        power    model  kilometer  registration_month fuel_type       brand  \\\n",
       "22         90   meriva     150000                   5    petrol        opel   \n",
       "26        125       c4     125000                   4       NaN     citroen   \n",
       "48         80     golf     100000                   1    petrol  volkswagen   \n",
       "51         90    punto     150000                  11  gasoline        fiat   \n",
       "57         64    other     125000                   3       NaN        seat   \n",
       "...       ...      ...        ...                 ...       ...         ...   \n",
       "354112     86  transit     150000                   5  gasoline        ford   \n",
       "354140    101       a4     150000                   9       NaN        audi   \n",
       "354203     80   fiesta     150000                   6       NaN        ford   \n",
       "354253      0    corsa     150000                   0    petrol        opel   \n",
       "354289    120    other     150000                   7       NaN     citroen   \n",
       "\n",
       "       repaired date_created  number_of_pictures  postal_code  \\\n",
       "22           no   2016-03-23                   0        49716   \n",
       "26           no   2016-03-10                   0        31139   \n",
       "48          NaN   2016-03-25                   0        48499   \n",
       "51          yes   2016-03-07                   0        66115   \n",
       "57           no   2016-03-10                   0        33397   \n",
       "...         ...          ...                 ...          ...   \n",
       "354112      NaN   2016-03-11                   0        32339   \n",
       "354140      NaN   2016-03-29                   0        38315   \n",
       "354203       no   2016-03-17                   0        44866   \n",
       "354253      NaN   2016-03-25                   0        45527   \n",
       "354289      yes   2016-03-05                   0        15518   \n",
       "\n",
       "                  last_seen  \n",
       "22      2016-03-31 01:16:33  \n",
       "26      2016-03-16 09:16:46  \n",
       "48      2016-03-31 21:47:44  \n",
       "51      2016-03-07 18:57:08  \n",
       "57      2016-03-25 10:17:37  \n",
       "...                     ...  \n",
       "354112  2016-03-12 05:45:02  \n",
       "354140  2016-04-06 02:44:27  \n",
       "354203  2016-03-29 15:45:04  \n",
       "354253  2016-04-06 07:46:13  \n",
       "354289  2016-04-05 11:48:09  \n",
       "\n",
       "[14530 rows x 16 columns]"
      ]
     },
     "execution_count": 7,
     "metadata": {},
     "output_type": "execute_result"
    }
   ],
   "source": [
    "df['date_created'] = pd.to_datetime(df['date_created'])\n",
    "df[df['registration_year'] > df['date_created'].dt.year]"
   ]
  },
  {
   "cell_type": "markdown",
   "id": "378e93b0",
   "metadata": {},
   "source": [
    "Посмотрим на статистические показатели таблицы:"
   ]
  },
  {
   "cell_type": "code",
   "execution_count": 8,
   "id": "ad7ed433",
   "metadata": {},
   "outputs": [
    {
     "data": {
      "text/html": [
       "<div>\n",
       "<style scoped>\n",
       "    .dataframe tbody tr th:only-of-type {\n",
       "        vertical-align: middle;\n",
       "    }\n",
       "\n",
       "    .dataframe tbody tr th {\n",
       "        vertical-align: top;\n",
       "    }\n",
       "\n",
       "    .dataframe thead th {\n",
       "        text-align: right;\n",
       "    }\n",
       "</style>\n",
       "<table border=\"1\" class=\"dataframe\">\n",
       "  <thead>\n",
       "    <tr style=\"text-align: right;\">\n",
       "      <th></th>\n",
       "      <th>price</th>\n",
       "      <th>registration_year</th>\n",
       "      <th>power</th>\n",
       "      <th>kilometer</th>\n",
       "      <th>registration_month</th>\n",
       "      <th>date_created</th>\n",
       "      <th>number_of_pictures</th>\n",
       "      <th>postal_code</th>\n",
       "    </tr>\n",
       "  </thead>\n",
       "  <tbody>\n",
       "    <tr>\n",
       "      <th>count</th>\n",
       "      <td>354369.000000</td>\n",
       "      <td>354369.000000</td>\n",
       "      <td>354369.000000</td>\n",
       "      <td>354369.000000</td>\n",
       "      <td>354369.000000</td>\n",
       "      <td>354369</td>\n",
       "      <td>354369.0</td>\n",
       "      <td>354369.000000</td>\n",
       "    </tr>\n",
       "    <tr>\n",
       "      <th>mean</th>\n",
       "      <td>4416.656776</td>\n",
       "      <td>2004.234448</td>\n",
       "      <td>110.094337</td>\n",
       "      <td>128211.172535</td>\n",
       "      <td>5.714645</td>\n",
       "      <td>2016-03-20 19:12:07.753274112</td>\n",
       "      <td>0.0</td>\n",
       "      <td>50508.689087</td>\n",
       "    </tr>\n",
       "    <tr>\n",
       "      <th>min</th>\n",
       "      <td>0.000000</td>\n",
       "      <td>1000.000000</td>\n",
       "      <td>0.000000</td>\n",
       "      <td>5000.000000</td>\n",
       "      <td>0.000000</td>\n",
       "      <td>2014-03-10 00:00:00</td>\n",
       "      <td>0.0</td>\n",
       "      <td>1067.000000</td>\n",
       "    </tr>\n",
       "    <tr>\n",
       "      <th>25%</th>\n",
       "      <td>1050.000000</td>\n",
       "      <td>1999.000000</td>\n",
       "      <td>69.000000</td>\n",
       "      <td>125000.000000</td>\n",
       "      <td>3.000000</td>\n",
       "      <td>2016-03-13 00:00:00</td>\n",
       "      <td>0.0</td>\n",
       "      <td>30165.000000</td>\n",
       "    </tr>\n",
       "    <tr>\n",
       "      <th>50%</th>\n",
       "      <td>2700.000000</td>\n",
       "      <td>2003.000000</td>\n",
       "      <td>105.000000</td>\n",
       "      <td>150000.000000</td>\n",
       "      <td>6.000000</td>\n",
       "      <td>2016-03-21 00:00:00</td>\n",
       "      <td>0.0</td>\n",
       "      <td>49413.000000</td>\n",
       "    </tr>\n",
       "    <tr>\n",
       "      <th>75%</th>\n",
       "      <td>6400.000000</td>\n",
       "      <td>2008.000000</td>\n",
       "      <td>143.000000</td>\n",
       "      <td>150000.000000</td>\n",
       "      <td>9.000000</td>\n",
       "      <td>2016-03-29 00:00:00</td>\n",
       "      <td>0.0</td>\n",
       "      <td>71083.000000</td>\n",
       "    </tr>\n",
       "    <tr>\n",
       "      <th>max</th>\n",
       "      <td>20000.000000</td>\n",
       "      <td>9999.000000</td>\n",
       "      <td>20000.000000</td>\n",
       "      <td>150000.000000</td>\n",
       "      <td>12.000000</td>\n",
       "      <td>2016-04-07 00:00:00</td>\n",
       "      <td>0.0</td>\n",
       "      <td>99998.000000</td>\n",
       "    </tr>\n",
       "    <tr>\n",
       "      <th>std</th>\n",
       "      <td>4514.158514</td>\n",
       "      <td>90.227958</td>\n",
       "      <td>189.850405</td>\n",
       "      <td>37905.341530</td>\n",
       "      <td>3.726421</td>\n",
       "      <td>NaN</td>\n",
       "      <td>0.0</td>\n",
       "      <td>25783.096248</td>\n",
       "    </tr>\n",
       "  </tbody>\n",
       "</table>\n",
       "</div>"
      ],
      "text/plain": [
       "               price  registration_year          power      kilometer  \\\n",
       "count  354369.000000      354369.000000  354369.000000  354369.000000   \n",
       "mean     4416.656776        2004.234448     110.094337  128211.172535   \n",
       "min         0.000000        1000.000000       0.000000    5000.000000   \n",
       "25%      1050.000000        1999.000000      69.000000  125000.000000   \n",
       "50%      2700.000000        2003.000000     105.000000  150000.000000   \n",
       "75%      6400.000000        2008.000000     143.000000  150000.000000   \n",
       "max     20000.000000        9999.000000   20000.000000  150000.000000   \n",
       "std      4514.158514          90.227958     189.850405   37905.341530   \n",
       "\n",
       "       registration_month                   date_created  number_of_pictures  \\\n",
       "count       354369.000000                         354369            354369.0   \n",
       "mean             5.714645  2016-03-20 19:12:07.753274112                 0.0   \n",
       "min              0.000000            2014-03-10 00:00:00                 0.0   \n",
       "25%              3.000000            2016-03-13 00:00:00                 0.0   \n",
       "50%              6.000000            2016-03-21 00:00:00                 0.0   \n",
       "75%              9.000000            2016-03-29 00:00:00                 0.0   \n",
       "max             12.000000            2016-04-07 00:00:00                 0.0   \n",
       "std              3.726421                            NaN                 0.0   \n",
       "\n",
       "         postal_code  \n",
       "count  354369.000000  \n",
       "mean    50508.689087  \n",
       "min      1067.000000  \n",
       "25%     30165.000000  \n",
       "50%     49413.000000  \n",
       "75%     71083.000000  \n",
       "max     99998.000000  \n",
       "std     25783.096248  "
      ]
     },
     "execution_count": 8,
     "metadata": {},
     "output_type": "execute_result"
    }
   ],
   "source": [
    " df.describe()"
   ]
  },
  {
   "cell_type": "markdown",
   "id": "43c0ed22",
   "metadata": {},
   "source": [
    "**Заметим, что**:\n",
    "- есть записи с `нулевой ценой`\n",
    "- есть с `нереальной годом` регистрации автомобиля (1000 г. и 9999 г.)\n",
    "- есть записи с `нулевой мощностью` автомобиля\n",
    "- есть записи с `нулевым месяцем` регистрации автомобиля\n",
    "- во всех объявлениях` 0 фотографий` автомобиля (судя по данным)\n",
    "- в данных присутствует `14530` записей, где дата регистрации автомобиля `позже` даты создания объявления"
   ]
  },
  {
   "cell_type": "markdown",
   "id": "8aebffa7",
   "metadata": {},
   "source": [
    "### Предобработка данных"
   ]
  },
  {
   "cell_type": "markdown",
   "id": "55f2bb93",
   "metadata": {},
   "source": [
    "Предобработаем данные по следующему алгоритму:\n",
    "\n",
    "1) Удаление аномалий\n",
    "    - price\n",
    "    - power\n",
    "    - registration_year\n",
    "    - 'нереальные' анкеты\n",
    "2) Удаление дубликатов\n",
    "3) Удаление неинформативных признаков\n",
    "    - number_of_pictures\n",
    "    - registration_month\n",
    "    - date_crawled\n",
    "    - last_seen\n",
    "    - date_created\n",
    "    - postal_code\n",
    "    - model"
   ]
  },
  {
   "cell_type": "markdown",
   "id": "07eb08d2",
   "metadata": {},
   "source": [
    "#### Удаление аномалий"
   ]
  },
  {
   "cell_type": "markdown",
   "id": "d2cc5fd2",
   "metadata": {},
   "source": [
    "Удалим записи, где дата регистрации автомобиля позже даты создания объявления:"
   ]
  },
  {
   "cell_type": "code",
   "execution_count": 9,
   "id": "4590d784",
   "metadata": {},
   "outputs": [
    {
     "name": "stdout",
     "output_type": "stream",
     "text": [
      "Количество записей: 354369\n"
     ]
    }
   ],
   "source": [
    "print('Количество записей:', df.shape[0])"
   ]
  },
  {
   "cell_type": "code",
   "execution_count": 10,
   "id": "dc48b633",
   "metadata": {},
   "outputs": [],
   "source": [
    "df = df[df['registration_year'] <= df['date_created'].dt.year]"
   ]
  },
  {
   "cell_type": "code",
   "execution_count": 11,
   "id": "95aaa191",
   "metadata": {},
   "outputs": [
    {
     "name": "stdout",
     "output_type": "stream",
     "text": [
      "Количество записей: 339839\n"
     ]
    }
   ],
   "source": [
    "print('Количество записей:', df.shape[0])"
   ]
  },
  {
   "cell_type": "markdown",
   "id": "6595bbb9",
   "metadata": {},
   "source": [
    "Удалим записи с нулевой ценой:"
   ]
  },
  {
   "cell_type": "code",
   "execution_count": 12,
   "id": "b416fe65",
   "metadata": {},
   "outputs": [],
   "source": [
    "df = df.query('price != 0')"
   ]
  },
  {
   "cell_type": "code",
   "execution_count": 13,
   "id": "827df806",
   "metadata": {},
   "outputs": [
    {
     "name": "stdout",
     "output_type": "stream",
     "text": [
      "Количество записей: 329818\n"
     ]
    }
   ],
   "source": [
    "print('Количество записей:', df.shape[0])"
   ]
  },
  {
   "cell_type": "markdown",
   "id": "efe19586",
   "metadata": {},
   "source": [
    "В значениях мощности автомобилей есть аномальные значения, в частности 0 или 1. Уберём 2.5% значений аномальных значений с конца сторон, а порогом минимума поставим значение 50 л. с."
   ]
  },
  {
   "cell_type": "code",
   "execution_count": 14,
   "id": "13ba5dfe",
   "metadata": {},
   "outputs": [],
   "source": [
    "df = df[(df['power'] < df.power.quantile(.975)) & (df['power'] >= 50)]"
   ]
  },
  {
   "cell_type": "code",
   "execution_count": 15,
   "id": "9aa043b7",
   "metadata": {},
   "outputs": [
    {
     "name": "stdout",
     "output_type": "stream",
     "text": [
      "Количество записей: 282890\n"
     ]
    }
   ],
   "source": [
    "print('Количество записей:', df.shape[0])"
   ]
  },
  {
   "cell_type": "code",
   "execution_count": 16,
   "id": "5679acab",
   "metadata": {},
   "outputs": [
    {
     "data": {
      "text/plain": [
       "0"
      ]
     },
     "execution_count": 16,
     "metadata": {},
     "output_type": "execute_result"
    }
   ],
   "source": [
    "df.power.isna().sum()"
   ]
  },
  {
   "cell_type": "markdown",
   "id": "7ac9f6e0",
   "metadata": {},
   "source": [
    "Удалим записи объявлений, в которых значения года регистрации автомобиля выходит за 3 стандартных отклонения:"
   ]
  },
  {
   "cell_type": "code",
   "execution_count": 17,
   "id": "0d606a59",
   "metadata": {},
   "outputs": [],
   "source": [
    "STD = np.std(df.registration_year)\n",
    "MDN = np.median(df.registration_year)\n",
    "\n",
    "df = df[(df['registration_year'] > MDN-3*STD) & (df['registration_year'] < MDN+3*STD)]"
   ]
  },
  {
   "cell_type": "code",
   "execution_count": 18,
   "id": "866236be",
   "metadata": {},
   "outputs": [
    {
     "data": {
      "text/html": [
       "<div>\n",
       "<style scoped>\n",
       "    .dataframe tbody tr th:only-of-type {\n",
       "        vertical-align: middle;\n",
       "    }\n",
       "\n",
       "    .dataframe tbody tr th {\n",
       "        vertical-align: top;\n",
       "    }\n",
       "\n",
       "    .dataframe thead th {\n",
       "        text-align: right;\n",
       "    }\n",
       "</style>\n",
       "<table border=\"1\" class=\"dataframe\">\n",
       "  <thead>\n",
       "    <tr style=\"text-align: right;\">\n",
       "      <th></th>\n",
       "      <th>price</th>\n",
       "      <th>registration_year</th>\n",
       "      <th>power</th>\n",
       "      <th>kilometer</th>\n",
       "      <th>registration_month</th>\n",
       "      <th>date_created</th>\n",
       "      <th>number_of_pictures</th>\n",
       "      <th>postal_code</th>\n",
       "    </tr>\n",
       "  </thead>\n",
       "  <tbody>\n",
       "    <tr>\n",
       "      <th>count</th>\n",
       "      <td>280662.000000</td>\n",
       "      <td>280662.000000</td>\n",
       "      <td>280662.000000</td>\n",
       "      <td>280662.000000</td>\n",
       "      <td>280662.000000</td>\n",
       "      <td>280662</td>\n",
       "      <td>280662.0</td>\n",
       "      <td>280662.000000</td>\n",
       "    </tr>\n",
       "    <tr>\n",
       "      <th>mean</th>\n",
       "      <td>4709.180983</td>\n",
       "      <td>2003.187004</td>\n",
       "      <td>117.169278</td>\n",
       "      <td>128589.370845</td>\n",
       "      <td>6.002679</td>\n",
       "      <td>2016-03-20 19:13:49.715457792</td>\n",
       "      <td>0.0</td>\n",
       "      <td>51283.402024</td>\n",
       "    </tr>\n",
       "    <tr>\n",
       "      <th>min</th>\n",
       "      <td>1.000000</td>\n",
       "      <td>1983.000000</td>\n",
       "      <td>50.000000</td>\n",
       "      <td>5000.000000</td>\n",
       "      <td>0.000000</td>\n",
       "      <td>2015-03-20 00:00:00</td>\n",
       "      <td>0.0</td>\n",
       "      <td>1067.000000</td>\n",
       "    </tr>\n",
       "    <tr>\n",
       "      <th>25%</th>\n",
       "      <td>1349.000000</td>\n",
       "      <td>1999.000000</td>\n",
       "      <td>80.000000</td>\n",
       "      <td>125000.000000</td>\n",
       "      <td>3.000000</td>\n",
       "      <td>2016-03-13 00:00:00</td>\n",
       "      <td>0.0</td>\n",
       "      <td>30966.000000</td>\n",
       "    </tr>\n",
       "    <tr>\n",
       "      <th>50%</th>\n",
       "      <td>3000.000000</td>\n",
       "      <td>2003.000000</td>\n",
       "      <td>110.000000</td>\n",
       "      <td>150000.000000</td>\n",
       "      <td>6.000000</td>\n",
       "      <td>2016-03-21 00:00:00</td>\n",
       "      <td>0.0</td>\n",
       "      <td>50354.000000</td>\n",
       "    </tr>\n",
       "    <tr>\n",
       "      <th>75%</th>\n",
       "      <td>6800.000000</td>\n",
       "      <td>2007.000000</td>\n",
       "      <td>144.000000</td>\n",
       "      <td>150000.000000</td>\n",
       "      <td>9.000000</td>\n",
       "      <td>2016-03-29 00:00:00</td>\n",
       "      <td>0.0</td>\n",
       "      <td>72108.000000</td>\n",
       "    </tr>\n",
       "    <tr>\n",
       "      <th>max</th>\n",
       "      <td>20000.000000</td>\n",
       "      <td>2016.000000</td>\n",
       "      <td>240.000000</td>\n",
       "      <td>150000.000000</td>\n",
       "      <td>12.000000</td>\n",
       "      <td>2016-04-07 00:00:00</td>\n",
       "      <td>0.0</td>\n",
       "      <td>99998.000000</td>\n",
       "    </tr>\n",
       "    <tr>\n",
       "      <th>std</th>\n",
       "      <td>4462.219881</td>\n",
       "      <td>5.782389</td>\n",
       "      <td>44.017999</td>\n",
       "      <td>36484.297410</td>\n",
       "      <td>3.581781</td>\n",
       "      <td>NaN</td>\n",
       "      <td>0.0</td>\n",
       "      <td>25767.263646</td>\n",
       "    </tr>\n",
       "  </tbody>\n",
       "</table>\n",
       "</div>"
      ],
      "text/plain": [
       "               price  registration_year          power      kilometer  \\\n",
       "count  280662.000000      280662.000000  280662.000000  280662.000000   \n",
       "mean     4709.180983        2003.187004     117.169278  128589.370845   \n",
       "min         1.000000        1983.000000      50.000000    5000.000000   \n",
       "25%      1349.000000        1999.000000      80.000000  125000.000000   \n",
       "50%      3000.000000        2003.000000     110.000000  150000.000000   \n",
       "75%      6800.000000        2007.000000     144.000000  150000.000000   \n",
       "max     20000.000000        2016.000000     240.000000  150000.000000   \n",
       "std      4462.219881           5.782389      44.017999   36484.297410   \n",
       "\n",
       "       registration_month                   date_created  number_of_pictures  \\\n",
       "count       280662.000000                         280662            280662.0   \n",
       "mean             6.002679  2016-03-20 19:13:49.715457792                 0.0   \n",
       "min              0.000000            2015-03-20 00:00:00                 0.0   \n",
       "25%              3.000000            2016-03-13 00:00:00                 0.0   \n",
       "50%              6.000000            2016-03-21 00:00:00                 0.0   \n",
       "75%              9.000000            2016-03-29 00:00:00                 0.0   \n",
       "max             12.000000            2016-04-07 00:00:00                 0.0   \n",
       "std              3.581781                            NaN                 0.0   \n",
       "\n",
       "         postal_code  \n",
       "count  280662.000000  \n",
       "mean    51283.402024  \n",
       "min      1067.000000  \n",
       "25%     30966.000000  \n",
       "50%     50354.000000  \n",
       "75%     72108.000000  \n",
       "max     99998.000000  \n",
       "std     25767.263646  "
      ]
     },
     "execution_count": 18,
     "metadata": {},
     "output_type": "execute_result"
    }
   ],
   "source": [
    "df.describe()"
   ]
  },
  {
   "cell_type": "markdown",
   "id": "b15e8619",
   "metadata": {},
   "source": [
    "#### Удаление дубликатов"
   ]
  },
  {
   "cell_type": "code",
   "execution_count": 19,
   "id": "86e9031d",
   "metadata": {},
   "outputs": [
    {
     "data": {
      "text/plain": [
       "8660"
      ]
     },
     "execution_count": 19,
     "metadata": {},
     "output_type": "execute_result"
    }
   ],
   "source": [
    "df.drop(['date_crawled', 'last_seen'], axis=1).duplicated().sum()"
   ]
  },
  {
   "cell_type": "markdown",
   "id": "479694e3",
   "metadata": {},
   "source": [
    "Удалим дубликаты"
   ]
  },
  {
   "cell_type": "code",
   "execution_count": 20,
   "id": "40a00f26",
   "metadata": {},
   "outputs": [],
   "source": [
    "df = df.reset_index().drop(['index'], axis=1)\n",
    "df = df.drop_duplicates(subset =[\n",
    " 'price',\n",
    " 'vehicle_type',\n",
    " 'registration_year',\n",
    " 'gearbox',\n",
    " 'power',\n",
    " 'model',\n",
    " 'kilometer',\n",
    " 'registration_month',\n",
    " 'fuel_type',\n",
    " 'brand',\n",
    " 'repaired',\n",
    " 'date_created',\n",
    " 'number_of_pictures',\n",
    " 'postal_code'])"
   ]
  },
  {
   "cell_type": "code",
   "execution_count": 21,
   "id": "5b363e6f",
   "metadata": {},
   "outputs": [
    {
     "data": {
      "text/plain": [
       "0"
      ]
     },
     "execution_count": 21,
     "metadata": {},
     "output_type": "execute_result"
    }
   ],
   "source": [
    "df.drop(['date_crawled', 'last_seen'], axis=1).duplicated().sum()"
   ]
  },
  {
   "cell_type": "markdown",
   "id": "b2e60870",
   "metadata": {},
   "source": [
    "Дубликаты удалены"
   ]
  },
  {
   "cell_type": "markdown",
   "id": "bccc5a09",
   "metadata": {},
   "source": [
    "#### Удаление неинформативных признаков"
   ]
  },
  {
   "cell_type": "markdown",
   "id": "885ff913",
   "metadata": {},
   "source": [
    "Такие признаки, как `number_of_pictures`, `registration_month`, `date_crawled`, `last_seen`, `date_created`, `postal_code` и `model` являются неинформативными с т. з. обучения модели, предсказывающей цену автомобиля. Удалим их."
   ]
  },
  {
   "cell_type": "code",
   "execution_count": 22,
   "id": "9ba1c721",
   "metadata": {
    "scrolled": true
   },
   "outputs": [
    {
     "data": {
      "text/html": [
       "<div>\n",
       "<style scoped>\n",
       "    .dataframe tbody tr th:only-of-type {\n",
       "        vertical-align: middle;\n",
       "    }\n",
       "\n",
       "    .dataframe tbody tr th {\n",
       "        vertical-align: top;\n",
       "    }\n",
       "\n",
       "    .dataframe thead th {\n",
       "        text-align: right;\n",
       "    }\n",
       "</style>\n",
       "<table border=\"1\" class=\"dataframe\">\n",
       "  <thead>\n",
       "    <tr style=\"text-align: right;\">\n",
       "      <th></th>\n",
       "      <th>price</th>\n",
       "      <th>vehicle_type</th>\n",
       "      <th>registration_year</th>\n",
       "      <th>gearbox</th>\n",
       "      <th>power</th>\n",
       "      <th>model</th>\n",
       "      <th>kilometer</th>\n",
       "      <th>fuel_type</th>\n",
       "      <th>brand</th>\n",
       "      <th>repaired</th>\n",
       "    </tr>\n",
       "  </thead>\n",
       "  <tbody>\n",
       "    <tr>\n",
       "      <th>0</th>\n",
       "      <td>18300</td>\n",
       "      <td>coupe</td>\n",
       "      <td>2011</td>\n",
       "      <td>manual</td>\n",
       "      <td>190</td>\n",
       "      <td>NaN</td>\n",
       "      <td>125000</td>\n",
       "      <td>gasoline</td>\n",
       "      <td>audi</td>\n",
       "      <td>yes</td>\n",
       "    </tr>\n",
       "    <tr>\n",
       "      <th>1</th>\n",
       "      <td>9800</td>\n",
       "      <td>suv</td>\n",
       "      <td>2004</td>\n",
       "      <td>auto</td>\n",
       "      <td>163</td>\n",
       "      <td>grand</td>\n",
       "      <td>125000</td>\n",
       "      <td>gasoline</td>\n",
       "      <td>jeep</td>\n",
       "      <td>NaN</td>\n",
       "    </tr>\n",
       "    <tr>\n",
       "      <th>2</th>\n",
       "      <td>1500</td>\n",
       "      <td>small</td>\n",
       "      <td>2001</td>\n",
       "      <td>manual</td>\n",
       "      <td>75</td>\n",
       "      <td>golf</td>\n",
       "      <td>150000</td>\n",
       "      <td>petrol</td>\n",
       "      <td>volkswagen</td>\n",
       "      <td>no</td>\n",
       "    </tr>\n",
       "    <tr>\n",
       "      <th>3</th>\n",
       "      <td>3600</td>\n",
       "      <td>small</td>\n",
       "      <td>2008</td>\n",
       "      <td>manual</td>\n",
       "      <td>69</td>\n",
       "      <td>fabia</td>\n",
       "      <td>90000</td>\n",
       "      <td>gasoline</td>\n",
       "      <td>skoda</td>\n",
       "      <td>no</td>\n",
       "    </tr>\n",
       "    <tr>\n",
       "      <th>4</th>\n",
       "      <td>650</td>\n",
       "      <td>sedan</td>\n",
       "      <td>1995</td>\n",
       "      <td>manual</td>\n",
       "      <td>102</td>\n",
       "      <td>3er</td>\n",
       "      <td>150000</td>\n",
       "      <td>petrol</td>\n",
       "      <td>bmw</td>\n",
       "      <td>yes</td>\n",
       "    </tr>\n",
       "  </tbody>\n",
       "</table>\n",
       "</div>"
      ],
      "text/plain": [
       "   price vehicle_type  registration_year gearbox  power  model  kilometer  \\\n",
       "0  18300        coupe               2011  manual    190    NaN     125000   \n",
       "1   9800          suv               2004    auto    163  grand     125000   \n",
       "2   1500        small               2001  manual     75   golf     150000   \n",
       "3   3600        small               2008  manual     69  fabia      90000   \n",
       "4    650        sedan               1995  manual    102    3er     150000   \n",
       "\n",
       "  fuel_type       brand repaired  \n",
       "0  gasoline        audi      yes  \n",
       "1  gasoline        jeep      NaN  \n",
       "2    petrol  volkswagen       no  \n",
       "3  gasoline       skoda       no  \n",
       "4    petrol         bmw      yes  "
      ]
     },
     "execution_count": 22,
     "metadata": {},
     "output_type": "execute_result"
    }
   ],
   "source": [
    "df = df.drop(['number_of_pictures', 'registration_month', 'date_crawled', 'last_seen', 'date_created', 'postal_code'], axis=1)\n",
    "df.head()"
   ]
  },
  {
   "cell_type": "markdown",
   "id": "5a7ea532",
   "metadata": {},
   "source": [
    "Изменим также для удобства порядок столбцов:"
   ]
  },
  {
   "cell_type": "code",
   "execution_count": 23,
   "id": "0f401453",
   "metadata": {},
   "outputs": [
    {
     "data": {
      "text/html": [
       "<div>\n",
       "<style scoped>\n",
       "    .dataframe tbody tr th:only-of-type {\n",
       "        vertical-align: middle;\n",
       "    }\n",
       "\n",
       "    .dataframe tbody tr th {\n",
       "        vertical-align: top;\n",
       "    }\n",
       "\n",
       "    .dataframe thead th {\n",
       "        text-align: right;\n",
       "    }\n",
       "</style>\n",
       "<table border=\"1\" class=\"dataframe\">\n",
       "  <thead>\n",
       "    <tr style=\"text-align: right;\">\n",
       "      <th></th>\n",
       "      <th>brand</th>\n",
       "      <th>model</th>\n",
       "      <th>vehicle_type</th>\n",
       "      <th>fuel_type</th>\n",
       "      <th>gearbox</th>\n",
       "      <th>power</th>\n",
       "      <th>kilometer</th>\n",
       "      <th>registration_year</th>\n",
       "      <th>repaired</th>\n",
       "      <th>price</th>\n",
       "    </tr>\n",
       "  </thead>\n",
       "  <tbody>\n",
       "    <tr>\n",
       "      <th>0</th>\n",
       "      <td>audi</td>\n",
       "      <td>NaN</td>\n",
       "      <td>coupe</td>\n",
       "      <td>gasoline</td>\n",
       "      <td>manual</td>\n",
       "      <td>190</td>\n",
       "      <td>125000</td>\n",
       "      <td>2011</td>\n",
       "      <td>yes</td>\n",
       "      <td>18300</td>\n",
       "    </tr>\n",
       "    <tr>\n",
       "      <th>1</th>\n",
       "      <td>jeep</td>\n",
       "      <td>grand</td>\n",
       "      <td>suv</td>\n",
       "      <td>gasoline</td>\n",
       "      <td>auto</td>\n",
       "      <td>163</td>\n",
       "      <td>125000</td>\n",
       "      <td>2004</td>\n",
       "      <td>NaN</td>\n",
       "      <td>9800</td>\n",
       "    </tr>\n",
       "    <tr>\n",
       "      <th>2</th>\n",
       "      <td>volkswagen</td>\n",
       "      <td>golf</td>\n",
       "      <td>small</td>\n",
       "      <td>petrol</td>\n",
       "      <td>manual</td>\n",
       "      <td>75</td>\n",
       "      <td>150000</td>\n",
       "      <td>2001</td>\n",
       "      <td>no</td>\n",
       "      <td>1500</td>\n",
       "    </tr>\n",
       "    <tr>\n",
       "      <th>3</th>\n",
       "      <td>skoda</td>\n",
       "      <td>fabia</td>\n",
       "      <td>small</td>\n",
       "      <td>gasoline</td>\n",
       "      <td>manual</td>\n",
       "      <td>69</td>\n",
       "      <td>90000</td>\n",
       "      <td>2008</td>\n",
       "      <td>no</td>\n",
       "      <td>3600</td>\n",
       "    </tr>\n",
       "    <tr>\n",
       "      <th>4</th>\n",
       "      <td>bmw</td>\n",
       "      <td>3er</td>\n",
       "      <td>sedan</td>\n",
       "      <td>petrol</td>\n",
       "      <td>manual</td>\n",
       "      <td>102</td>\n",
       "      <td>150000</td>\n",
       "      <td>1995</td>\n",
       "      <td>yes</td>\n",
       "      <td>650</td>\n",
       "    </tr>\n",
       "  </tbody>\n",
       "</table>\n",
       "</div>"
      ],
      "text/plain": [
       "        brand  model vehicle_type fuel_type gearbox  power  kilometer  \\\n",
       "0        audi    NaN        coupe  gasoline  manual    190     125000   \n",
       "1        jeep  grand          suv  gasoline    auto    163     125000   \n",
       "2  volkswagen   golf        small    petrol  manual     75     150000   \n",
       "3       skoda  fabia        small  gasoline  manual     69      90000   \n",
       "4         bmw    3er        sedan    petrol  manual    102     150000   \n",
       "\n",
       "   registration_year repaired  price  \n",
       "0               2011      yes  18300  \n",
       "1               2004      NaN   9800  \n",
       "2               2001       no   1500  \n",
       "3               2008       no   3600  \n",
       "4               1995      yes    650  "
      ]
     },
     "execution_count": 23,
     "metadata": {},
     "output_type": "execute_result"
    }
   ],
   "source": [
    "df = df[['brand', 'model', 'vehicle_type', 'fuel_type', 'gearbox', 'power', 'kilometer', 'registration_year', 'repaired', 'price']]\n",
    "df.head()"
   ]
  },
  {
   "cell_type": "markdown",
   "id": "12093b5c",
   "metadata": {},
   "source": [
    "Так как мы удалили часть признаков, у нас могут появиться новые явные дубликаты. Проверим дубликаты в финальной версии таблицы:"
   ]
  },
  {
   "cell_type": "code",
   "execution_count": 24,
   "id": "ab42bf06",
   "metadata": {},
   "outputs": [
    {
     "data": {
      "text/plain": [
       "28897"
      ]
     },
     "execution_count": 24,
     "metadata": {},
     "output_type": "execute_result"
    }
   ],
   "source": [
    "df.duplicated().sum()"
   ]
  },
  {
   "cell_type": "markdown",
   "id": "a1007bfb",
   "metadata": {},
   "source": [
    "Дубликаты есть - удалим их."
   ]
  },
  {
   "cell_type": "code",
   "execution_count": 25,
   "id": "64472fc6",
   "metadata": {},
   "outputs": [],
   "source": [
    "df = df.drop_duplicates().reset_index().drop(['index'], axis=1)"
   ]
  },
  {
   "cell_type": "code",
   "execution_count": 26,
   "id": "a3e5b139",
   "metadata": {},
   "outputs": [
    {
     "data": {
      "text/plain": [
       "0"
      ]
     },
     "execution_count": 26,
     "metadata": {},
     "output_type": "execute_result"
    }
   ],
   "source": [
    "df.duplicated().sum()"
   ]
  },
  {
   "cell_type": "markdown",
   "id": "e1871286",
   "metadata": {},
   "source": [
    "#### Заполнение пропусков"
   ]
  },
  {
   "cell_type": "markdown",
   "id": "133a5b32",
   "metadata": {},
   "source": [
    "Заполнение пропусков в столбцах `vehicle_type`, `gearbox`, `fuel_type`, `repaired` и `model` выполним в пайплайне:"
   ]
  },
  {
   "cell_type": "markdown",
   "id": "b7ca00d6",
   "metadata": {},
   "source": [
    "<div class=\"alert\"; style=\"border-left: 7px solid pink\">\n",
    "\n",
    "**Мини-вывод**\n",
    "- В результате изучения данных было выявлено, что\n",
    "    - в таблице `354369` строк и `16` столбков (признаков)\n",
    "    - в стобцах `vehicle_type`, `gearbox`, `model`, `fuel_type`, `repaired` есть пропуски\n",
    "    - в таблице `10194` явных дубликатов\n",
    "    - есть записи с `нулевой ценой`\n",
    "    - есть с `нереальной годом` регистрации автомобиля (1000 г. и 9999 г.)\n",
    "    - есть записи с `нулевой мощностью` автомобиля\n",
    "    - есть записи с `нулевым месяцем` регистрации автомобиля\n",
    "    - во всех объявлениях` 0 фотографий` автомобиля (судя по данным)\n",
    "- В результате предобработки произведено:\n",
    "    - заполнение пропусков\n",
    "    - удаление аномалий\n",
    "    - Удаление дубликатов\n",
    "    -Удаление неинформативных признаков\n",
    "</div>"
   ]
  },
  {
   "cell_type": "markdown",
   "id": "6f4ed7bd",
   "metadata": {},
   "source": [
    "## Исследовательский и корреляционный анализ данных <a id='3'> </a>"
   ]
  },
  {
   "cell_type": "markdown",
   "id": "86862fa6",
   "metadata": {},
   "source": [
    "Присвоим названиям количественных и категориальных признаков переменные:"
   ]
  },
  {
   "cell_type": "code",
   "execution_count": 27,
   "id": "8d23d51e",
   "metadata": {},
   "outputs": [],
   "source": [
    "cat_col = ['brand', 'model', 'vehicle_type', 'fuel_type', 'gearbox', 'repaired']\n",
    "num_col = ['kilometer', 'registration_year', 'price', 'power']"
   ]
  },
  {
   "cell_type": "markdown",
   "id": "32061ced",
   "metadata": {},
   "source": [
    "Построим гистограмму и ящик с усами для количественным признаков:"
   ]
  },
  {
   "cell_type": "code",
   "execution_count": 28,
   "id": "a6fb34bb",
   "metadata": {},
   "outputs": [
    {
     "data": {
      "image/png": "[encoded data removed]",
      "text/plain": [
       "<Figure size 1000x400 with 2 Axes>"
      ]
     },
     "metadata": {},
     "output_type": "display_data"
    },
    {
     "data": {
      "image/png": "[encoded data removed]",
      "text/plain": [
       "<Figure size 1000x400 with 2 Axes>"
      ]
     },
     "metadata": {},
     "output_type": "display_data"
    },
    {
     "data": {
      "image/png": "[encoded data removed]",
      "text/plain": [
       "<Figure size 1000x400 with 2 Axes>"
      ]
     },
     "metadata": {},
     "output_type": "display_data"
    },
    {
     "data": {
      "image/png": "[encoded data removed]",
      "text/plain": [
       "<Figure size 1000x400 with 2 Axes>"
      ]
     },
     "metadata": {},
     "output_type": "display_data"
    }
   ],
   "source": [
    "for num_column in num_col:\n",
    "    plt.rcParams['figure.figsize'] = 10, 4\n",
    "    plt.subplot(1, 2, 1)\n",
    "    sns.histplot(data=df, x=num_column, hue='repaired')\n",
    "    plt.subplot(1, 2, 2)\n",
    "    sns.boxplot(data=df, y=num_column, x='repaired')\n",
    "    plt.show()"
   ]
  },
  {
   "cell_type": "code",
   "execution_count": 29,
   "id": "6db3503d",
   "metadata": {},
   "outputs": [
    {
     "data": {
      "image/png": "[encoded data removed]",
      "text/plain": [
       "<Figure size 1000x400 with 1 Axes>"
      ]
     },
     "metadata": {},
     "output_type": "display_data"
    }
   ],
   "source": [
    "repaired_values = df['repaired'].unique()\n",
    "for value in repaired_values:\n",
    "    plt.hist(df[df['repaired'] == value]['registration_year'], bins=50, range=(1970, 2020), alpha=0.6, label=value)\n",
    "\n",
    "plt.title('Гистограмма годов регистрации')\n",
    "plt.xlabel('Год регистрации')\n",
    "plt.ylabel('Частота')\n",
    "plt.legend(title='repaired')\n",
    "\n",
    "plt.show()"
   ]
  },
  {
   "cell_type": "markdown",
   "id": "9c2e8cd4",
   "metadata": {},
   "source": [
    "**Заметим, что есть**:\n",
    "- Представленные машин имеют пробег более `80 000 км`, как правило - более `120 000 км`. При этом по данному показателю есть `небольшое число выбросов`;\n",
    "- В данных с годом регистрации `большое количество выбросов`. Большинство машин были зарегистрированы с `1990 по 2018`. Машины, которые `ремонтировались`, как правило, `более старые`;\n",
    "- Распределение цен на машины имеет `левосторонний номральный вид`. При этом в данных `большое количество выбросов`. Машины, которые `ремонитровались`, как правило `дешевле`."
   ]
  },
  {
   "cell_type": "markdown",
   "id": "aa5b386f",
   "metadata": {},
   "source": [
    "Построим круговые диаграммы для категориальных признаков таблицы:"
   ]
  },
  {
   "cell_type": "code",
   "execution_count": 30,
   "id": "0bf3ae49",
   "metadata": {},
   "outputs": [],
   "source": [
    "def pie_cat_col(df, cat_col, index=int):\n",
    "    print(f'Круговая диаграмма для признака \"{cat_col[index]}\"')\n",
    "    plt.rcParams['figure.figsize'] = 4, 4\n",
    "    x=df.groupby([cat_col[index]])[cat_col[index]].count()\n",
    "    plt.pie(x=x, labels=x.index, autopct='%1.1f%%', colors=plt.cm.Set2.colors)\n",
    "    plt.show()"
   ]
  },
  {
   "cell_type": "code",
   "execution_count": 31,
   "id": "baa61dd3",
   "metadata": {},
   "outputs": [
    {
     "name": "stdout",
     "output_type": "stream",
     "text": [
      "Круговая диаграмма для признака \"vehicle_type\"\n"
     ]
    },
    {
     "data": {
      "image/png": "[encoded data removed]",
      "text/plain": [
       "<Figure size 400x400 with 1 Axes>"
      ]
     },
     "metadata": {},
     "output_type": "display_data"
    }
   ],
   "source": [
    "pie_cat_col(df, cat_col, 2)"
   ]
  },
  {
   "cell_type": "code",
   "execution_count": 32,
   "id": "d98e4b5b",
   "metadata": {},
   "outputs": [
    {
     "name": "stdout",
     "output_type": "stream",
     "text": [
      "Круговая диаграмма для признака \"gearbox\"\n"
     ]
    },
    {
     "data": {
      "image/png": "[encoded data removed]",
      "text/plain": [
       "<Figure size 400x400 with 1 Axes>"
      ]
     },
     "metadata": {},
     "output_type": "display_data"
    }
   ],
   "source": [
    "pie_cat_col(df, cat_col, 4)"
   ]
  },
  {
   "cell_type": "code",
   "execution_count": 33,
   "id": "cc0beaaf",
   "metadata": {},
   "outputs": [
    {
     "name": "stdout",
     "output_type": "stream",
     "text": [
      "Круговая диаграмма для признака \"vehicle_type\"\n"
     ]
    },
    {
     "data": {
      "image/png": "[encoded data removed]",
      "text/plain": [
       "<Figure size 400x400 with 1 Axes>"
      ]
     },
     "metadata": {},
     "output_type": "display_data"
    }
   ],
   "source": [
    "pie_cat_col(df, cat_col, 2)"
   ]
  },
  {
   "cell_type": "code",
   "execution_count": 34,
   "id": "e3f0e07c",
   "metadata": {},
   "outputs": [
    {
     "data": {
      "image/png": "[encoded data removed]",
      "text/plain": [
       "<Figure size 800x400 with 1 Axes>"
      ]
     },
     "metadata": {},
     "output_type": "display_data"
    }
   ],
   "source": [
    "brand_counts = df['brand'].value_counts()\n",
    "\n",
    "top_10_brands = brand_counts.head(10)\n",
    "\n",
    "other_brands_count = brand_counts[10:].sum()\n",
    "\n",
    "# Используем pd.concat вместо append\n",
    "top_brands_combined = pd.concat([top_10_brands, pd.Series({'Other': other_brands_count})])\n",
    "\n",
    "plt.figure(figsize=(8, 4))\n",
    "top_brands_combined.plot(kind='bar')\n",
    "plt.title('Топ-10 брендов и Other по количеству упоминаний')\n",
    "plt.xlabel('Бренд')\n",
    "plt.ylabel('Количество упоминаний')\n",
    "plt.tight_layout()\n",
    "plt.show()\n"
   ]
  },
  {
   "cell_type": "code",
   "execution_count": 35,
   "id": "7bf1d031",
   "metadata": {},
   "outputs": [
    {
     "data": {
      "image/png": "[encoded data removed]",
      "text/plain": [
       "<Figure size 800x400 with 1 Axes>"
      ]
     },
     "metadata": {},
     "output_type": "display_data"
    }
   ],
   "source": [
    "fuel_type_counts = df['fuel_type'].value_counts()\n",
    "\n",
    "plt.figure(figsize=(8, 4))\n",
    "fuel_type_counts.plot(kind='bar')\n",
    "plt.title('Топ-10 fuel_type_counts по количеству упоминаний')\n",
    "plt.xlabel('fuel_type_counts')\n",
    "plt.ylabel('Количество упоминаний')\n",
    "plt.tight_layout()\n",
    "plt.show()"
   ]
  },
  {
   "cell_type": "markdown",
   "id": "d3d1ed6b",
   "metadata": {},
   "source": [
    "**Заметим, что есть**:\n",
    "- `~29%` машин - `sedan`, `~25.3%` машин - `small`, `~20.7%` машин - `wagon`, `~9.1%` машин - `bus`;\n",
    "- `80%` машин имеют `механическую` коробку передач, `20%` машин имеют `автоматическую` коробку передач;\n",
    "- `~90%` машин  не ремонитровались, `~10%` машин - ремонитровались;\n",
    "- наиболее `популярные бренды` мащин - `volkswagen`, `opel`, `bmw`, `mercedes_benz` и `audi`. Около `50 тыс.` машин - `менее известных` брендов;\n",
    "- наиболее `популярные типы топлива` - `petrol` (`68%`) и `gasoline` (`31%`)."
   ]
  },
  {
   "cell_type": "markdown",
   "id": "3322c0c9",
   "metadata": {},
   "source": [
    "Посмотрим на взаимосвязь (корреляцию) числовых и категориальных признаков с помощью статистики `Phik (Φk)`:"
   ]
  },
  {
   "cell_type": "code",
   "execution_count": 36,
   "id": "3438ed84",
   "metadata": {},
   "outputs": [
    {
     "data": {
      "image/png": "[encoded data removed]",
      "text/plain": [
       "<Figure size 700x500 with 2 Axes>"
      ]
     },
     "metadata": {},
     "output_type": "display_data"
    }
   ],
   "source": [
    "phik_overview = df.phik_matrix(interval_cols = ['power', 'kilometer', 'registration_year', 'price'])\n",
    "phik_overview.round(2)\n",
    "\n",
    "plot_correlation_matrix(phik_overview.values,\n",
    "                        x_labels=phik_overview.columns, \n",
    "                        y_labels=phik_overview.index, \n",
    "                        vmin=0, vmax=1, color_map=\"Greens\", \n",
    "                        title=r\"correlation $\\phi_K$\", \n",
    "                        fontsize_factor=1,\n",
    "                        figsize=(7, 5))\n",
    "plt.tight_layout()"
   ]
  },
  {
   "cell_type": "markdown",
   "id": "ecc255d6",
   "metadata": {},
   "source": [
    "**Заметим, что есть**:\n",
    "- `умеренная` положительная связь между `price` и `registration_year`;\n",
    "- `умеренная` положительная связь между `model` и `gearbox`;\n",
    "- `умеренная` положительная связь между `vehicle_type` и `brand`;\n",
    "- `умеренная` положительная связь между `brand` и `gearbox`;\n",
    "-----\n",
    "- `сильная` положительная связь между `vehicle_type` и `model`;\n",
    "- `сильная` положительная связь между `model` и `brand`."
   ]
  },
  {
   "cell_type": "markdown",
   "id": "89ec5e88",
   "metadata": {},
   "source": [
    "<div class=\"alert\"; style=\"border-left: 7px solid pink\">\n",
    "\n",
    "***Мини-вывод***:   \n",
    "- **В результате исследовательсого анализа числовых признаков**:\n",
    "    - Представленные машин имеют пробег более `80 000 км`, как правило - более `120 000 км`. При этом по данному показателю есть `небольшое число выбросов`;\n",
    "    - В данных с годом регистрации `большое количество выбросов`. Большинство машин были зарегистрированы с `1990 по 2018`. Машины, которые `ремонтировались`, как правило, `более старые`;\n",
    "    - Распределение цен на машины имеет `левосторонний номральный вид`. При этом в данных `большое количество выбросов`. Машины, которые `ремонитровались`, как правило `дешевле`\n",
    "\n",
    "- **В результате исследовательсого анализа категориальных признаков**:\n",
    "    - `~29%` машин - `sedan`, `~25.3%` машин - `small`, `~20.7%` машин - `wagon`, `~9.1%` машин - `bus`;\n",
    "    - `80%` машин имеют `механическую` коробку передач, `20%` машин имеют `автоматическую` коробку передач;\n",
    "    - `~90%` машин  не ремонитровались, `~10%` машин - ремонитровались;\n",
    "    - наиболее `популярные бренды` мащин - `volkswagen`, `opel`, `bmw`, `mercedes_benz` и `audi`. Около `50 тыс.` машин - `менее известных` брендов;\n",
    "    - наиболее `популярные типы топлива` - `petrol` (`68%`) и `gasoline` (`31%`).\n",
    "\n",
    "- **В результате корреляционного анализа признаков**:\n",
    "    - `умеренная` положительная связь между `price` и `registration_year`;\n",
    "    - `умеренная` положительная связь между `price` и `model`;\n",
    "    - `умеренная` положительная связь между `registration_year` и `model`;\n",
    "    - `умеренная` положительная связь между `model` и `gearbox`;\n",
    "    - `умеренная` положительная связь между `vehicle_type` и `brand`;\n",
    "    - `умеренная` положительная связь между `brand` и `gearbox`;\n",
    "    - `сильная` положительная связь между `vehicle_type` и `model`;\n",
    "    - `сильная` положительная связь между `model` и `brand`.\n",
    "</div>"
   ]
  },
  {
   "cell_type": "markdown",
   "id": "01c10e92",
   "metadata": {},
   "source": [
    "## Подготовка данных к обучению <a id='4'> </a>"
   ]
  },
  {
   "cell_type": "code",
   "execution_count": 37,
   "id": "b5b84659",
   "metadata": {},
   "outputs": [],
   "source": [
    "ohe_columns = ['brand', 'model', 'fuel_type', 'gearbox', 'repaired', 'vehicle_type']\n",
    "num_columns = ['kilometer', 'registration_year', 'power']"
   ]
  },
  {
   "cell_type": "code",
   "execution_count": 38,
   "id": "ed7ecd37",
   "metadata": {},
   "outputs": [],
   "source": [
    "ohe_pipe = Pipeline(\n",
    "    [\n",
    "        (\n",
    "            'simpleImputer_ohe', \n",
    "            SimpleImputer(missing_values=np.nan, strategy='most_frequent')\n",
    "        ),\n",
    "        (\n",
    "            'ohe', \n",
    "            OneHotEncoder(drop='first', handle_unknown='ignore')\n",
    "        )\n",
    "    ]\n",
    ")\n",
    "\n",
    "ord_pipe = Pipeline(\n",
    "    [\n",
    "        (\n",
    "            'simpleImputer_before_ord', \n",
    "            SimpleImputer(missing_values=np.nan, strategy='most_frequent')\n",
    "        ),\n",
    "        (\n",
    "            'ord',  \n",
    "            OrdinalEncoder(\n",
    "                categories=[['small', 'convertible', 'sedan', 'suv', 'wagon', 'coupe', 'bus', 'other']], \n",
    "                handle_unknown='use_encoded_value', unknown_value=np.nan\n",
    "            )\n",
    "        ),\n",
    "        (\n",
    "            'simpleImputer_after_ord', \n",
    "            SimpleImputer(missing_values=np.nan, strategy='most_frequent')\n",
    "        )\n",
    "    ]\n",
    ") "
   ]
  },
  {
   "cell_type": "code",
   "execution_count": 39,
   "id": "670b418e",
   "metadata": {},
   "outputs": [],
   "source": [
    "data_preprocessor = ColumnTransformer(\n",
    "    [\n",
    "        ('ohe', ohe_pipe, ohe_columns),\n",
    "        ('num', StandardScaler(), num_columns)\n",
    "    ], \n",
    "    remainder='passthrough'\n",
    ")"
   ]
  },
  {
   "cell_type": "markdown",
   "id": "b7d99c44",
   "metadata": {},
   "source": [
    "Для начала закодируем и масштабируем данные. Выполним это в пайплайне:"
   ]
  },
  {
   "cell_type": "code",
   "execution_count": 40,
   "id": "a2543762",
   "metadata": {},
   "outputs": [],
   "source": [
    "X = df.drop(['price'], axis=1)\n",
    "y = df['price']"
   ]
  },
  {
   "cell_type": "code",
   "execution_count": 41,
   "id": "95badf1f",
   "metadata": {},
   "outputs": [],
   "source": [
    "RANDOM_STATE = 42\n",
    "X_train, X_test, y_train, y_test = train_test_split(\n",
    "    X,\n",
    "    y, random_state=RANDOM_STATE)"
   ]
  },
  {
   "cell_type": "markdown",
   "id": "adc027c8",
   "metadata": {},
   "source": [
    "## Обучение моделей <a id='5'> </a>"
   ]
  },
  {
   "cell_type": "markdown",
   "id": "9b6a3550",
   "metadata": {},
   "source": [
    "### DecisionTreeRegressor"
   ]
  },
  {
   "cell_type": "code",
   "execution_count": 42,
   "id": "72a50627",
   "metadata": {},
   "outputs": [
    {
     "name": "stderr",
     "output_type": "stream",
     "text": [
      "/opt/anaconda3/lib/python3.11/site-packages/sklearn/preprocessing/_encoders.py:242: UserWarning: Found unknown categories in columns [1] during transform. These unknown categories will be encoded as all zeros\n",
      "  warnings.warn(\n",
      "/opt/anaconda3/lib/python3.11/site-packages/sklearn/preprocessing/_encoders.py:242: UserWarning: Found unknown categories in columns [1] during transform. These unknown categories will be encoded as all zeros\n",
      "  warnings.warn(\n",
      "/opt/anaconda3/lib/python3.11/site-packages/sklearn/preprocessing/_encoders.py:242: UserWarning: Found unknown categories in columns [1] during transform. These unknown categories will be encoded as all zeros\n",
      "  warnings.warn(\n",
      "/opt/anaconda3/lib/python3.11/site-packages/sklearn/preprocessing/_encoders.py:242: UserWarning: Found unknown categories in columns [1] during transform. These unknown categories will be encoded as all zeros\n",
      "  warnings.warn(\n",
      "/opt/anaconda3/lib/python3.11/site-packages/sklearn/preprocessing/_encoders.py:242: UserWarning: Found unknown categories in columns [1] during transform. These unknown categories will be encoded as all zeros\n",
      "  warnings.warn(\n",
      "/opt/anaconda3/lib/python3.11/site-packages/sklearn/preprocessing/_encoders.py:242: UserWarning: Found unknown categories in columns [1] during transform. These unknown categories will be encoded as all zeros\n",
      "  warnings.warn(\n",
      "/opt/anaconda3/lib/python3.11/site-packages/sklearn/preprocessing/_encoders.py:242: UserWarning: Found unknown categories in columns [1] during transform. These unknown categories will be encoded as all zeros\n",
      "  warnings.warn(\n",
      "/opt/anaconda3/lib/python3.11/site-packages/sklearn/preprocessing/_encoders.py:242: UserWarning: Found unknown categories in columns [1] during transform. These unknown categories will be encoded as all zeros\n",
      "  warnings.warn(\n",
      "/opt/anaconda3/lib/python3.11/site-packages/sklearn/preprocessing/_encoders.py:242: UserWarning: Found unknown categories in columns [1] during transform. These unknown categories will be encoded as all zeros\n",
      "  warnings.warn(\n",
      "/opt/anaconda3/lib/python3.11/site-packages/sklearn/preprocessing/_encoders.py:242: UserWarning: Found unknown categories in columns [1] during transform. These unknown categories will be encoded as all zeros\n",
      "  warnings.warn(\n",
      "/opt/anaconda3/lib/python3.11/site-packages/sklearn/preprocessing/_encoders.py:242: UserWarning: Found unknown categories in columns [1] during transform. These unknown categories will be encoded as all zeros\n",
      "  warnings.warn(\n",
      "/opt/anaconda3/lib/python3.11/site-packages/sklearn/preprocessing/_encoders.py:242: UserWarning: Found unknown categories in columns [1] during transform. These unknown categories will be encoded as all zeros\n",
      "  warnings.warn(\n",
      "/opt/anaconda3/lib/python3.11/site-packages/sklearn/preprocessing/_encoders.py:242: UserWarning: Found unknown categories in columns [1] during transform. These unknown categories will be encoded as all zeros\n",
      "  warnings.warn(\n",
      "/opt/anaconda3/lib/python3.11/site-packages/sklearn/preprocessing/_encoders.py:242: UserWarning: Found unknown categories in columns [1] during transform. These unknown categories will be encoded as all zeros\n",
      "  warnings.warn(\n",
      "/opt/anaconda3/lib/python3.11/site-packages/sklearn/preprocessing/_encoders.py:242: UserWarning: Found unknown categories in columns [1] during transform. These unknown categories will be encoded as all zeros\n",
      "  warnings.warn(\n",
      "/opt/anaconda3/lib/python3.11/site-packages/sklearn/preprocessing/_encoders.py:242: UserWarning: Found unknown categories in columns [1] during transform. These unknown categories will be encoded as all zeros\n",
      "  warnings.warn(\n",
      "/opt/anaconda3/lib/python3.11/site-packages/sklearn/preprocessing/_encoders.py:242: UserWarning: Found unknown categories in columns [1] during transform. These unknown categories will be encoded as all zeros\n",
      "  warnings.warn(\n",
      "/opt/anaconda3/lib/python3.11/site-packages/sklearn/preprocessing/_encoders.py:242: UserWarning: Found unknown categories in columns [1] during transform. These unknown categories will be encoded as all zeros\n",
      "  warnings.warn(\n",
      "/opt/anaconda3/lib/python3.11/site-packages/sklearn/preprocessing/_encoders.py:242: UserWarning: Found unknown categories in columns [1] during transform. These unknown categories will be encoded as all zeros\n",
      "  warnings.warn(\n",
      "/opt/anaconda3/lib/python3.11/site-packages/sklearn/preprocessing/_encoders.py:242: UserWarning: Found unknown categories in columns [1] during transform. These unknown categories will be encoded as all zeros\n",
      "  warnings.warn(\n"
     ]
    },
    {
     "data": {
      "text/html": [
       "<style>#sk-container-id-1 {\n",
       "  /* Definition of color scheme common for light and dark mode */\n",
       "  --sklearn-color-text: black;\n",
       "  --sklearn-color-line: gray;\n",
       "  /* Definition of color scheme for unfitted estimators */\n",
       "  --sklearn-color-unfitted-level-0: #fff5e6;\n",
       "  --sklearn-color-unfitted-level-1: #f6e4d2;\n",
       "  --sklearn-color-unfitted-level-2: #ffe0b3;\n",
       "  --sklearn-color-unfitted-level-3: chocolate;\n",
       "  /* Definition of color scheme for fitted estimators */\n",
       "  --sklearn-color-fitted-level-0: #f0f8ff;\n",
       "  --sklearn-color-fitted-level-1: #d4ebff;\n",
       "  --sklearn-color-fitted-level-2: #b3dbfd;\n",
       "  --sklearn-color-fitted-level-3: cornflowerblue;\n",
       "\n",
       "  /* Specific color for light theme */\n",
       "  --sklearn-color-text-on-default-background: var(--sg-text-color, var(--theme-code-foreground, var(--jp-content-font-color1, black)));\n",
       "  --sklearn-color-background: var(--sg-background-color, var(--theme-background, var(--jp-layout-color0, white)));\n",
       "  --sklearn-color-border-box: var(--sg-text-color, var(--theme-code-foreground, var(--jp-content-font-color1, black)));\n",
       "  --sklearn-color-icon: #696969;\n",
       "\n",
       "  @media (prefers-color-scheme: dark) {\n",
       "    /* Redefinition of color scheme for dark theme */\n",
       "    --sklearn-color-text-on-default-background: var(--sg-text-color, var(--theme-code-foreground, var(--jp-content-font-color1, white)));\n",
       "    --sklearn-color-background: var(--sg-background-color, var(--theme-background, var(--jp-layout-color0, #111)));\n",
       "    --sklearn-color-border-box: var(--sg-text-color, var(--theme-code-foreground, var(--jp-content-font-color1, white)));\n",
       "    --sklearn-color-icon: #878787;\n",
       "  }\n",
       "}\n",
       "\n",
       "#sk-container-id-1 {\n",
       "  color: var(--sklearn-color-text);\n",
       "}\n",
       "\n",
       "#sk-container-id-1 pre {\n",
       "  padding: 0;\n",
       "}\n",
       "\n",
       "#sk-container-id-1 input.sk-hidden--visually {\n",
       "  border: 0;\n",
       "  clip: rect(1px 1px 1px 1px);\n",
       "  clip: rect(1px, 1px, 1px, 1px);\n",
       "  height: 1px;\n",
       "  margin: -1px;\n",
       "  overflow: hidden;\n",
       "  padding: 0;\n",
       "  position: absolute;\n",
       "  width: 1px;\n",
       "}\n",
       "\n",
       "#sk-container-id-1 div.sk-dashed-wrapped {\n",
       "  border: 1px dashed var(--sklearn-color-line);\n",
       "  margin: 0 0.4em 0.5em 0.4em;\n",
       "  box-sizing: border-box;\n",
       "  padding-bottom: 0.4em;\n",
       "  background-color: var(--sklearn-color-background);\n",
       "}\n",
       "\n",
       "#sk-container-id-1 div.sk-container {\n",
       "  /* jupyter's `normalize.less` sets `[hidden] { display: none; }`\n",
       "     but bootstrap.min.css set `[hidden] { display: none !important; }`\n",
       "     so we also need the `!important` here to be able to override the\n",
       "     default hidden behavior on the sphinx rendered scikit-learn.org.\n",
       "     See: https://github.com/scikit-learn/scikit-learn/issues/21755 */\n",
       "  display: inline-block !important;\n",
       "  position: relative;\n",
       "}\n",
       "\n",
       "#sk-container-id-1 div.sk-text-repr-fallback {\n",
       "  display: none;\n",
       "}\n",
       "\n",
       "div.sk-parallel-item,\n",
       "div.sk-serial,\n",
       "div.sk-item {\n",
       "  /* draw centered vertical line to link estimators */\n",
       "  background-image: linear-gradient(var(--sklearn-color-text-on-default-background), var(--sklearn-color-text-on-default-background));\n",
       "  background-size: 2px 100%;\n",
       "  background-repeat: no-repeat;\n",
       "  background-position: center center;\n",
       "}\n",
       "\n",
       "/* Parallel-specific style estimator block */\n",
       "\n",
       "#sk-container-id-1 div.sk-parallel-item::after {\n",
       "  content: \"\";\n",
       "  width: 100%;\n",
       "  border-bottom: 2px solid var(--sklearn-color-text-on-default-background);\n",
       "  flex-grow: 1;\n",
       "}\n",
       "\n",
       "#sk-container-id-1 div.sk-parallel {\n",
       "  display: flex;\n",
       "  align-items: stretch;\n",
       "  justify-content: center;\n",
       "  background-color: var(--sklearn-color-background);\n",
       "  position: relative;\n",
       "}\n",
       "\n",
       "#sk-container-id-1 div.sk-parallel-item {\n",
       "  display: flex;\n",
       "  flex-direction: column;\n",
       "}\n",
       "\n",
       "#sk-container-id-1 div.sk-parallel-item:first-child::after {\n",
       "  align-self: flex-end;\n",
       "  width: 50%;\n",
       "}\n",
       "\n",
       "#sk-container-id-1 div.sk-parallel-item:last-child::after {\n",
       "  align-self: flex-start;\n",
       "  width: 50%;\n",
       "}\n",
       "\n",
       "#sk-container-id-1 div.sk-parallel-item:only-child::after {\n",
       "  width: 0;\n",
       "}\n",
       "\n",
       "/* Serial-specific style estimator block */\n",
       "\n",
       "#sk-container-id-1 div.sk-serial {\n",
       "  display: flex;\n",
       "  flex-direction: column;\n",
       "  align-items: center;\n",
       "  background-color: var(--sklearn-color-background);\n",
       "  padding-right: 1em;\n",
       "  padding-left: 1em;\n",
       "}\n",
       "\n",
       "\n",
       "/* Toggleable style: style used for estimator/Pipeline/ColumnTransformer box that is\n",
       "clickable and can be expanded/collapsed.\n",
       "- Pipeline and ColumnTransformer use this feature and define the default style\n",
       "- Estimators will overwrite some part of the style using the `sk-estimator` class\n",
       "*/\n",
       "\n",
       "/* Pipeline and ColumnTransformer style (default) */\n",
       "\n",
       "#sk-container-id-1 div.sk-toggleable {\n",
       "  /* Default theme specific background. It is overwritten whether we have a\n",
       "  specific estimator or a Pipeline/ColumnTransformer */\n",
       "  background-color: var(--sklearn-color-background);\n",
       "}\n",
       "\n",
       "/* Toggleable label */\n",
       "#sk-container-id-1 label.sk-toggleable__label {\n",
       "  cursor: pointer;\n",
       "  display: block;\n",
       "  width: 100%;\n",
       "  margin-bottom: 0;\n",
       "  padding: 0.5em;\n",
       "  box-sizing: border-box;\n",
       "  text-align: center;\n",
       "}\n",
       "\n",
       "#sk-container-id-1 label.sk-toggleable__label-arrow:before {\n",
       "  /* Arrow on the left of the label */\n",
       "  content: \"▸\";\n",
       "  float: left;\n",
       "  margin-right: 0.25em;\n",
       "  color: var(--sklearn-color-icon);\n",
       "}\n",
       "\n",
       "#sk-container-id-1 label.sk-toggleable__label-arrow:hover:before {\n",
       "  color: var(--sklearn-color-text);\n",
       "}\n",
       "\n",
       "/* Toggleable content - dropdown */\n",
       "\n",
       "#sk-container-id-1 div.sk-toggleable__content {\n",
       "  max-height: 0;\n",
       "  max-width: 0;\n",
       "  overflow: hidden;\n",
       "  text-align: left;\n",
       "  /* unfitted */\n",
       "  background-color: var(--sklearn-color-unfitted-level-0);\n",
       "}\n",
       "\n",
       "#sk-container-id-1 div.sk-toggleable__content.fitted {\n",
       "  /* fitted */\n",
       "  background-color: var(--sklearn-color-fitted-level-0);\n",
       "}\n",
       "\n",
       "#sk-container-id-1 div.sk-toggleable__content pre {\n",
       "  margin: 0.2em;\n",
       "  border-radius: 0.25em;\n",
       "  color: var(--sklearn-color-text);\n",
       "  /* unfitted */\n",
       "  background-color: var(--sklearn-color-unfitted-level-0);\n",
       "}\n",
       "\n",
       "#sk-container-id-1 div.sk-toggleable__content.fitted pre {\n",
       "  /* unfitted */\n",
       "  background-color: var(--sklearn-color-fitted-level-0);\n",
       "}\n",
       "\n",
       "#sk-container-id-1 input.sk-toggleable__control:checked~div.sk-toggleable__content {\n",
       "  /* Expand drop-down */\n",
       "  max-height: 200px;\n",
       "  max-width: 100%;\n",
       "  overflow: auto;\n",
       "}\n",
       "\n",
       "#sk-container-id-1 input.sk-toggleable__control:checked~label.sk-toggleable__label-arrow:before {\n",
       "  content: \"▾\";\n",
       "}\n",
       "\n",
       "/* Pipeline/ColumnTransformer-specific style */\n",
       "\n",
       "#sk-container-id-1 div.sk-label input.sk-toggleable__control:checked~label.sk-toggleable__label {\n",
       "  color: var(--sklearn-color-text);\n",
       "  background-color: var(--sklearn-color-unfitted-level-2);\n",
       "}\n",
       "\n",
       "#sk-container-id-1 div.sk-label.fitted input.sk-toggleable__control:checked~label.sk-toggleable__label {\n",
       "  background-color: var(--sklearn-color-fitted-level-2);\n",
       "}\n",
       "\n",
       "/* Estimator-specific style */\n",
       "\n",
       "/* Colorize estimator box */\n",
       "#sk-container-id-1 div.sk-estimator input.sk-toggleable__control:checked~label.sk-toggleable__label {\n",
       "  /* unfitted */\n",
       "  background-color: var(--sklearn-color-unfitted-level-2);\n",
       "}\n",
       "\n",
       "#sk-container-id-1 div.sk-estimator.fitted input.sk-toggleable__control:checked~label.sk-toggleable__label {\n",
       "  /* fitted */\n",
       "  background-color: var(--sklearn-color-fitted-level-2);\n",
       "}\n",
       "\n",
       "#sk-container-id-1 div.sk-label label.sk-toggleable__label,\n",
       "#sk-container-id-1 div.sk-label label {\n",
       "  /* The background is the default theme color */\n",
       "  color: var(--sklearn-color-text-on-default-background);\n",
       "}\n",
       "\n",
       "/* On hover, darken the color of the background */\n",
       "#sk-container-id-1 div.sk-label:hover label.sk-toggleable__label {\n",
       "  color: var(--sklearn-color-text);\n",
       "  background-color: var(--sklearn-color-unfitted-level-2);\n",
       "}\n",
       "\n",
       "/* Label box, darken color on hover, fitted */\n",
       "#sk-container-id-1 div.sk-label.fitted:hover label.sk-toggleable__label.fitted {\n",
       "  color: var(--sklearn-color-text);\n",
       "  background-color: var(--sklearn-color-fitted-level-2);\n",
       "}\n",
       "\n",
       "/* Estimator label */\n",
       "\n",
       "#sk-container-id-1 div.sk-label label {\n",
       "  font-family: monospace;\n",
       "  font-weight: bold;\n",
       "  display: inline-block;\n",
       "  line-height: 1.2em;\n",
       "}\n",
       "\n",
       "#sk-container-id-1 div.sk-label-container {\n",
       "  text-align: center;\n",
       "}\n",
       "\n",
       "/* Estimator-specific */\n",
       "#sk-container-id-1 div.sk-estimator {\n",
       "  font-family: monospace;\n",
       "  border: 1px dotted var(--sklearn-color-border-box);\n",
       "  border-radius: 0.25em;\n",
       "  box-sizing: border-box;\n",
       "  margin-bottom: 0.5em;\n",
       "  /* unfitted */\n",
       "  background-color: var(--sklearn-color-unfitted-level-0);\n",
       "}\n",
       "\n",
       "#sk-container-id-1 div.sk-estimator.fitted {\n",
       "  /* fitted */\n",
       "  background-color: var(--sklearn-color-fitted-level-0);\n",
       "}\n",
       "\n",
       "/* on hover */\n",
       "#sk-container-id-1 div.sk-estimator:hover {\n",
       "  /* unfitted */\n",
       "  background-color: var(--sklearn-color-unfitted-level-2);\n",
       "}\n",
       "\n",
       "#sk-container-id-1 div.sk-estimator.fitted:hover {\n",
       "  /* fitted */\n",
       "  background-color: var(--sklearn-color-fitted-level-2);\n",
       "}\n",
       "\n",
       "/* Specification for estimator info (e.g. \"i\" and \"?\") */\n",
       "\n",
       "/* Common style for \"i\" and \"?\" */\n",
       "\n",
       ".sk-estimator-doc-link,\n",
       "a:link.sk-estimator-doc-link,\n",
       "a:visited.sk-estimator-doc-link {\n",
       "  float: right;\n",
       "  font-size: smaller;\n",
       "  line-height: 1em;\n",
       "  font-family: monospace;\n",
       "  background-color: var(--sklearn-color-background);\n",
       "  border-radius: 1em;\n",
       "  height: 1em;\n",
       "  width: 1em;\n",
       "  text-decoration: none !important;\n",
       "  margin-left: 1ex;\n",
       "  /* unfitted */\n",
       "  border: var(--sklearn-color-unfitted-level-1) 1pt solid;\n",
       "  color: var(--sklearn-color-unfitted-level-1);\n",
       "}\n",
       "\n",
       ".sk-estimator-doc-link.fitted,\n",
       "a:link.sk-estimator-doc-link.fitted,\n",
       "a:visited.sk-estimator-doc-link.fitted {\n",
       "  /* fitted */\n",
       "  border: var(--sklearn-color-fitted-level-1) 1pt solid;\n",
       "  color: var(--sklearn-color-fitted-level-1);\n",
       "}\n",
       "\n",
       "/* On hover */\n",
       "div.sk-estimator:hover .sk-estimator-doc-link:hover,\n",
       ".sk-estimator-doc-link:hover,\n",
       "div.sk-label-container:hover .sk-estimator-doc-link:hover,\n",
       ".sk-estimator-doc-link:hover {\n",
       "  /* unfitted */\n",
       "  background-color: var(--sklearn-color-unfitted-level-3);\n",
       "  color: var(--sklearn-color-background);\n",
       "  text-decoration: none;\n",
       "}\n",
       "\n",
       "div.sk-estimator.fitted:hover .sk-estimator-doc-link.fitted:hover,\n",
       ".sk-estimator-doc-link.fitted:hover,\n",
       "div.sk-label-container:hover .sk-estimator-doc-link.fitted:hover,\n",
       ".sk-estimator-doc-link.fitted:hover {\n",
       "  /* fitted */\n",
       "  background-color: var(--sklearn-color-fitted-level-3);\n",
       "  color: var(--sklearn-color-background);\n",
       "  text-decoration: none;\n",
       "}\n",
       "\n",
       "/* Span, style for the box shown on hovering the info icon */\n",
       ".sk-estimator-doc-link span {\n",
       "  display: none;\n",
       "  z-index: 9999;\n",
       "  position: relative;\n",
       "  font-weight: normal;\n",
       "  right: .2ex;\n",
       "  padding: .5ex;\n",
       "  margin: .5ex;\n",
       "  width: min-content;\n",
       "  min-width: 20ex;\n",
       "  max-width: 50ex;\n",
       "  color: var(--sklearn-color-text);\n",
       "  box-shadow: 2pt 2pt 4pt #999;\n",
       "  /* unfitted */\n",
       "  background: var(--sklearn-color-unfitted-level-0);\n",
       "  border: .5pt solid var(--sklearn-color-unfitted-level-3);\n",
       "}\n",
       "\n",
       ".sk-estimator-doc-link.fitted span {\n",
       "  /* fitted */\n",
       "  background: var(--sklearn-color-fitted-level-0);\n",
       "  border: var(--sklearn-color-fitted-level-3);\n",
       "}\n",
       "\n",
       ".sk-estimator-doc-link:hover span {\n",
       "  display: block;\n",
       "}\n",
       "\n",
       "/* \"?\"-specific style due to the `<a>` HTML tag */\n",
       "\n",
       "#sk-container-id-1 a.estimator_doc_link {\n",
       "  float: right;\n",
       "  font-size: 1rem;\n",
       "  line-height: 1em;\n",
       "  font-family: monospace;\n",
       "  background-color: var(--sklearn-color-background);\n",
       "  border-radius: 1rem;\n",
       "  height: 1rem;\n",
       "  width: 1rem;\n",
       "  text-decoration: none;\n",
       "  /* unfitted */\n",
       "  color: var(--sklearn-color-unfitted-level-1);\n",
       "  border: var(--sklearn-color-unfitted-level-1) 1pt solid;\n",
       "}\n",
       "\n",
       "#sk-container-id-1 a.estimator_doc_link.fitted {\n",
       "  /* fitted */\n",
       "  border: var(--sklearn-color-fitted-level-1) 1pt solid;\n",
       "  color: var(--sklearn-color-fitted-level-1);\n",
       "}\n",
       "\n",
       "/* On hover */\n",
       "#sk-container-id-1 a.estimator_doc_link:hover {\n",
       "  /* unfitted */\n",
       "  background-color: var(--sklearn-color-unfitted-level-3);\n",
       "  color: var(--sklearn-color-background);\n",
       "  text-decoration: none;\n",
       "}\n",
       "\n",
       "#sk-container-id-1 a.estimator_doc_link.fitted:hover {\n",
       "  /* fitted */\n",
       "  background-color: var(--sklearn-color-fitted-level-3);\n",
       "}\n",
       "</style><div id=\"sk-container-id-1\" class=\"sk-top-container\"><div class=\"sk-text-repr-fallback\"><pre>RandomizedSearchCV(cv=5,\n",
       "                   estimator=Pipeline(steps=[(&#x27;preprocessor&#x27;,\n",
       "                                              ColumnTransformer(remainder=&#x27;passthrough&#x27;,\n",
       "                                                                transformers=[(&#x27;ohe&#x27;,\n",
       "                                                                               Pipeline(steps=[(&#x27;simpleImputer_ohe&#x27;,\n",
       "                                                                                                SimpleImputer(strategy=&#x27;most_frequent&#x27;)),\n",
       "                                                                                               (&#x27;ohe&#x27;,\n",
       "                                                                                                OneHotEncoder(drop=&#x27;first&#x27;,\n",
       "                                                                                                              handle_unknown=&#x27;ignore&#x27;))]),\n",
       "                                                                               [&#x27;brand&#x27;,\n",
       "                                                                                &#x27;model&#x27;,\n",
       "                                                                                &#x27;fuel_type&#x27;,\n",
       "                                                                                &#x27;gearbox&#x27;,\n",
       "                                                                                &#x27;repaired&#x27;,\n",
       "                                                                                &#x27;vehicle_type&#x27;]),\n",
       "                                                                              (&#x27;num&#x27;,\n",
       "                                                                               StandardScaler(),\n",
       "                                                                               [&#x27;kilometer&#x27;,\n",
       "                                                                                &#x27;registration_year&#x27;,\n",
       "                                                                                &#x27;power&#x27;])])),\n",
       "                                             (&#x27;models&#x27;,\n",
       "                                              DecisionTreeRegressor(random_state=42))]),\n",
       "                   n_jobs=1,\n",
       "                   param_distributions={&#x27;models__max_depth&#x27;: range(2, 6),\n",
       "                                        &#x27;models__min_samples_leaf&#x27;: range(1, 6),\n",
       "                                        &#x27;models__min_samples_split&#x27;: range(2, 6)},\n",
       "                   random_state=42, scoring=&#x27;neg_root_mean_squared_error&#x27;)</pre><b>In a Jupyter environment, please rerun this cell to show the HTML representation or trust the notebook. <br />On GitHub, the HTML representation is unable to render, please try loading this page with nbviewer.org.</b></div><div class=\"sk-container\" hidden><div class=\"sk-item sk-dashed-wrapped\"><div class=\"sk-label-container\"><div class=\"sk-label fitted sk-toggleable\"><input class=\"sk-toggleable__control sk-hidden--visually\" id=\"sk-estimator-id-1\" type=\"checkbox\" ><label for=\"sk-estimator-id-1\" class=\"sk-toggleable__label fitted sk-toggleable__label-arrow fitted\">&nbsp;&nbsp;RandomizedSearchCV<a class=\"sk-estimator-doc-link fitted\" rel=\"noreferrer\" target=\"_blank\" href=\"https://scikit-learn.org/1.5/modules/generated/sklearn.model_selection.RandomizedSearchCV.html\">?<span>Documentation for RandomizedSearchCV</span></a><span class=\"sk-estimator-doc-link fitted\">i<span>Fitted</span></span></label><div class=\"sk-toggleable__content fitted\"><pre>RandomizedSearchCV(cv=5,\n",
       "                   estimator=Pipeline(steps=[(&#x27;preprocessor&#x27;,\n",
       "                                              ColumnTransformer(remainder=&#x27;passthrough&#x27;,\n",
       "                                                                transformers=[(&#x27;ohe&#x27;,\n",
       "                                                                               Pipeline(steps=[(&#x27;simpleImputer_ohe&#x27;,\n",
       "                                                                                                SimpleImputer(strategy=&#x27;most_frequent&#x27;)),\n",
       "                                                                                               (&#x27;ohe&#x27;,\n",
       "                                                                                                OneHotEncoder(drop=&#x27;first&#x27;,\n",
       "                                                                                                              handle_unknown=&#x27;ignore&#x27;))]),\n",
       "                                                                               [&#x27;brand&#x27;,\n",
       "                                                                                &#x27;model&#x27;,\n",
       "                                                                                &#x27;fuel_type&#x27;,\n",
       "                                                                                &#x27;gearbox&#x27;,\n",
       "                                                                                &#x27;repaired&#x27;,\n",
       "                                                                                &#x27;vehicle_type&#x27;]),\n",
       "                                                                              (&#x27;num&#x27;,\n",
       "                                                                               StandardScaler(),\n",
       "                                                                               [&#x27;kilometer&#x27;,\n",
       "                                                                                &#x27;registration_year&#x27;,\n",
       "                                                                                &#x27;power&#x27;])])),\n",
       "                                             (&#x27;models&#x27;,\n",
       "                                              DecisionTreeRegressor(random_state=42))]),\n",
       "                   n_jobs=1,\n",
       "                   param_distributions={&#x27;models__max_depth&#x27;: range(2, 6),\n",
       "                                        &#x27;models__min_samples_leaf&#x27;: range(1, 6),\n",
       "                                        &#x27;models__min_samples_split&#x27;: range(2, 6)},\n",
       "                   random_state=42, scoring=&#x27;neg_root_mean_squared_error&#x27;)</pre></div> </div></div><div class=\"sk-parallel\"><div class=\"sk-parallel-item\"><div class=\"sk-item\"><div class=\"sk-label-container\"><div class=\"sk-label fitted sk-toggleable\"><input class=\"sk-toggleable__control sk-hidden--visually\" id=\"sk-estimator-id-2\" type=\"checkbox\" ><label for=\"sk-estimator-id-2\" class=\"sk-toggleable__label fitted sk-toggleable__label-arrow fitted\">best_estimator_: Pipeline</label><div class=\"sk-toggleable__content fitted\"><pre>Pipeline(steps=[(&#x27;preprocessor&#x27;,\n",
       "                 ColumnTransformer(remainder=&#x27;passthrough&#x27;,\n",
       "                                   transformers=[(&#x27;ohe&#x27;,\n",
       "                                                  Pipeline(steps=[(&#x27;simpleImputer_ohe&#x27;,\n",
       "                                                                   SimpleImputer(strategy=&#x27;most_frequent&#x27;)),\n",
       "                                                                  (&#x27;ohe&#x27;,\n",
       "                                                                   OneHotEncoder(drop=&#x27;first&#x27;,\n",
       "                                                                                 handle_unknown=&#x27;ignore&#x27;))]),\n",
       "                                                  [&#x27;brand&#x27;, &#x27;model&#x27;,\n",
       "                                                   &#x27;fuel_type&#x27;, &#x27;gearbox&#x27;,\n",
       "                                                   &#x27;repaired&#x27;,\n",
       "                                                   &#x27;vehicle_type&#x27;]),\n",
       "                                                 (&#x27;num&#x27;, StandardScaler(),\n",
       "                                                  [&#x27;kilometer&#x27;,\n",
       "                                                   &#x27;registration_year&#x27;,\n",
       "                                                   &#x27;power&#x27;])])),\n",
       "                (&#x27;models&#x27;,\n",
       "                 DecisionTreeRegressor(max_depth=5, min_samples_leaf=3,\n",
       "                                       min_samples_split=4, random_state=42))])</pre></div> </div></div><div class=\"sk-serial\"><div class=\"sk-item\"><div class=\"sk-serial\"><div class=\"sk-item sk-dashed-wrapped\"><div class=\"sk-label-container\"><div class=\"sk-label fitted sk-toggleable\"><input class=\"sk-toggleable__control sk-hidden--visually\" id=\"sk-estimator-id-3\" type=\"checkbox\" ><label for=\"sk-estimator-id-3\" class=\"sk-toggleable__label fitted sk-toggleable__label-arrow fitted\">&nbsp;preprocessor: ColumnTransformer<a class=\"sk-estimator-doc-link fitted\" rel=\"noreferrer\" target=\"_blank\" href=\"https://scikit-learn.org/1.5/modules/generated/sklearn.compose.ColumnTransformer.html\">?<span>Documentation for preprocessor: ColumnTransformer</span></a></label><div class=\"sk-toggleable__content fitted\"><pre>ColumnTransformer(remainder=&#x27;passthrough&#x27;,\n",
       "                  transformers=[(&#x27;ohe&#x27;,\n",
       "                                 Pipeline(steps=[(&#x27;simpleImputer_ohe&#x27;,\n",
       "                                                  SimpleImputer(strategy=&#x27;most_frequent&#x27;)),\n",
       "                                                 (&#x27;ohe&#x27;,\n",
       "                                                  OneHotEncoder(drop=&#x27;first&#x27;,\n",
       "                                                                handle_unknown=&#x27;ignore&#x27;))]),\n",
       "                                 [&#x27;brand&#x27;, &#x27;model&#x27;, &#x27;fuel_type&#x27;, &#x27;gearbox&#x27;,\n",
       "                                  &#x27;repaired&#x27;, &#x27;vehicle_type&#x27;]),\n",
       "                                (&#x27;num&#x27;, StandardScaler(),\n",
       "                                 [&#x27;kilometer&#x27;, &#x27;registration_year&#x27;, &#x27;power&#x27;])])</pre></div> </div></div><div class=\"sk-parallel\"><div class=\"sk-parallel-item\"><div class=\"sk-item\"><div class=\"sk-label-container\"><div class=\"sk-label fitted sk-toggleable\"><input class=\"sk-toggleable__control sk-hidden--visually\" id=\"sk-estimator-id-4\" type=\"checkbox\" ><label for=\"sk-estimator-id-4\" class=\"sk-toggleable__label fitted sk-toggleable__label-arrow fitted\">ohe</label><div class=\"sk-toggleable__content fitted\"><pre>[&#x27;brand&#x27;, &#x27;model&#x27;, &#x27;fuel_type&#x27;, &#x27;gearbox&#x27;, &#x27;repaired&#x27;, &#x27;vehicle_type&#x27;]</pre></div> </div></div><div class=\"sk-serial\"><div class=\"sk-item\"><div class=\"sk-serial\"><div class=\"sk-item\"><div class=\"sk-estimator fitted sk-toggleable\"><input class=\"sk-toggleable__control sk-hidden--visually\" id=\"sk-estimator-id-5\" type=\"checkbox\" ><label for=\"sk-estimator-id-5\" class=\"sk-toggleable__label fitted sk-toggleable__label-arrow fitted\">&nbsp;SimpleImputer<a class=\"sk-estimator-doc-link fitted\" rel=\"noreferrer\" target=\"_blank\" href=\"https://scikit-learn.org/1.5/modules/generated/sklearn.impute.SimpleImputer.html\">?<span>Documentation for SimpleImputer</span></a></label><div class=\"sk-toggleable__content fitted\"><pre>SimpleImputer(strategy=&#x27;most_frequent&#x27;)</pre></div> </div></div><div class=\"sk-item\"><div class=\"sk-estimator fitted sk-toggleable\"><input class=\"sk-toggleable__control sk-hidden--visually\" id=\"sk-estimator-id-6\" type=\"checkbox\" ><label for=\"sk-estimator-id-6\" class=\"sk-toggleable__label fitted sk-toggleable__label-arrow fitted\">&nbsp;OneHotEncoder<a class=\"sk-estimator-doc-link fitted\" rel=\"noreferrer\" target=\"_blank\" href=\"https://scikit-learn.org/1.5/modules/generated/sklearn.preprocessing.OneHotEncoder.html\">?<span>Documentation for OneHotEncoder</span></a></label><div class=\"sk-toggleable__content fitted\"><pre>OneHotEncoder(drop=&#x27;first&#x27;, handle_unknown=&#x27;ignore&#x27;)</pre></div> </div></div></div></div></div></div></div><div class=\"sk-parallel-item\"><div class=\"sk-item\"><div class=\"sk-label-container\"><div class=\"sk-label fitted sk-toggleable\"><input class=\"sk-toggleable__control sk-hidden--visually\" id=\"sk-estimator-id-7\" type=\"checkbox\" ><label for=\"sk-estimator-id-7\" class=\"sk-toggleable__label fitted sk-toggleable__label-arrow fitted\">num</label><div class=\"sk-toggleable__content fitted\"><pre>[&#x27;kilometer&#x27;, &#x27;registration_year&#x27;, &#x27;power&#x27;]</pre></div> </div></div><div class=\"sk-serial\"><div class=\"sk-item\"><div class=\"sk-estimator fitted sk-toggleable\"><input class=\"sk-toggleable__control sk-hidden--visually\" id=\"sk-estimator-id-8\" type=\"checkbox\" ><label for=\"sk-estimator-id-8\" class=\"sk-toggleable__label fitted sk-toggleable__label-arrow fitted\">&nbsp;StandardScaler<a class=\"sk-estimator-doc-link fitted\" rel=\"noreferrer\" target=\"_blank\" href=\"https://scikit-learn.org/1.5/modules/generated/sklearn.preprocessing.StandardScaler.html\">?<span>Documentation for StandardScaler</span></a></label><div class=\"sk-toggleable__content fitted\"><pre>StandardScaler()</pre></div> </div></div></div></div></div><div class=\"sk-parallel-item\"><div class=\"sk-item\"><div class=\"sk-label-container\"><div class=\"sk-label fitted sk-toggleable\"><input class=\"sk-toggleable__control sk-hidden--visually\" id=\"sk-estimator-id-9\" type=\"checkbox\" ><label for=\"sk-estimator-id-9\" class=\"sk-toggleable__label fitted sk-toggleable__label-arrow fitted\">remainder</label><div class=\"sk-toggleable__content fitted\"><pre>[]</pre></div> </div></div><div class=\"sk-serial\"><div class=\"sk-item\"><div class=\"sk-estimator fitted sk-toggleable\"><input class=\"sk-toggleable__control sk-hidden--visually\" id=\"sk-estimator-id-10\" type=\"checkbox\" ><label for=\"sk-estimator-id-10\" class=\"sk-toggleable__label fitted sk-toggleable__label-arrow fitted\">passthrough</label><div class=\"sk-toggleable__content fitted\"><pre>passthrough</pre></div> </div></div></div></div></div></div></div><div class=\"sk-item\"><div class=\"sk-estimator fitted sk-toggleable\"><input class=\"sk-toggleable__control sk-hidden--visually\" id=\"sk-estimator-id-11\" type=\"checkbox\" ><label for=\"sk-estimator-id-11\" class=\"sk-toggleable__label fitted sk-toggleable__label-arrow fitted\">&nbsp;DecisionTreeRegressor<a class=\"sk-estimator-doc-link fitted\" rel=\"noreferrer\" target=\"_blank\" href=\"https://scikit-learn.org/1.5/modules/generated/sklearn.tree.DecisionTreeRegressor.html\">?<span>Documentation for DecisionTreeRegressor</span></a></label><div class=\"sk-toggleable__content fitted\"><pre>DecisionTreeRegressor(max_depth=5, min_samples_leaf=3, min_samples_split=4,\n",
       "                      random_state=42)</pre></div> </div></div></div></div></div></div></div></div></div></div></div>"
      ],
      "text/plain": [
       "RandomizedSearchCV(cv=5,\n",
       "                   estimator=Pipeline(steps=[('preprocessor',\n",
       "                                              ColumnTransformer(remainder='passthrough',\n",
       "                                                                transformers=[('ohe',\n",
       "                                                                               Pipeline(steps=[('simpleImputer_ohe',\n",
       "                                                                                                SimpleImputer(strategy='most_frequent')),\n",
       "                                                                                               ('ohe',\n",
       "                                                                                                OneHotEncoder(drop='first',\n",
       "                                                                                                              handle_unknown='ignore'))]),\n",
       "                                                                               ['brand',\n",
       "                                                                                'model',\n",
       "                                                                                'fuel_type',\n",
       "                                                                                'gearbox',\n",
       "                                                                                'repaired',\n",
       "                                                                                'vehicle_type']),\n",
       "                                                                              ('num',\n",
       "                                                                               StandardScaler(),\n",
       "                                                                               ['kilometer',\n",
       "                                                                                'registration_year',\n",
       "                                                                                'power'])])),\n",
       "                                             ('models',\n",
       "                                              DecisionTreeRegressor(random_state=42))]),\n",
       "                   n_jobs=1,\n",
       "                   param_distributions={'models__max_depth': range(2, 6),\n",
       "                                        'models__min_samples_leaf': range(1, 6),\n",
       "                                        'models__min_samples_split': range(2, 6)},\n",
       "                   random_state=42, scoring='neg_root_mean_squared_error')"
      ]
     },
     "execution_count": 42,
     "metadata": {},
     "output_type": "execute_result"
    }
   ],
   "source": [
    "pipe_final_DTR = Pipeline(\n",
    "    [\n",
    "        ('preprocessor', data_preprocessor),\n",
    "        ('models', DecisionTreeRegressor(random_state=RANDOM_STATE))\n",
    "    ]\n",
    ")\n",
    "\n",
    "param_distributions = {\n",
    "    'models__min_samples_split': range(2, 6),\n",
    "    'models__min_samples_leaf': range(1, 6),\n",
    "    'models__max_depth': range(2, 6)\n",
    "}\n",
    "\n",
    "rs_dtr = RandomizedSearchCV(\n",
    "    pipe_final_DTR,\n",
    "    param_distributions = param_distributions,\n",
    "    cv=5,\n",
    "    scoring='neg_root_mean_squared_error',\n",
    "    n_jobs=1,\n",
    "    random_state=RANDOM_STATE\n",
    ")\n",
    "\n",
    "rs_dtr.fit(X_train, y_train)"
   ]
  },
  {
   "cell_type": "code",
   "execution_count": 43,
   "id": "b7d4e707",
   "metadata": {},
   "outputs": [
    {
     "name": "stdout",
     "output_type": "stream",
     "text": [
      "Время обучения 0.4257528781890869\n",
      "Гиперпараметры {'models__min_samples_split': 4, 'models__min_samples_leaf': 3, 'models__max_depth': 5}\n",
      "RMSE 2324\n"
     ]
    }
   ],
   "source": [
    "print('Время обучения', rs_dtr.refit_time_)\n",
    "print('Гиперпараметры', rs_dtr.best_params_)\n",
    "print('RMSE', round(abs(rs_dtr.best_score_)))"
   ]
  },
  {
   "cell_type": "markdown",
   "id": "0ba2e29e",
   "metadata": {},
   "source": [
    "### LinearRegression"
   ]
  },
  {
   "cell_type": "code",
   "execution_count": 44,
   "id": "b1050bac",
   "metadata": {},
   "outputs": [
    {
     "name": "stderr",
     "output_type": "stream",
     "text": [
      "/opt/anaconda3/lib/python3.11/site-packages/sklearn/model_selection/_search.py:320: UserWarning: The total space of parameters 4 is smaller than n_iter=10. Running 4 iterations. For exhaustive searches, use GridSearchCV.\n",
      "  warnings.warn(\n",
      "/opt/anaconda3/lib/python3.11/site-packages/sklearn/preprocessing/_encoders.py:242: UserWarning: Found unknown categories in columns [1] during transform. These unknown categories will be encoded as all zeros\n",
      "  warnings.warn(\n",
      "/opt/anaconda3/lib/python3.11/site-packages/sklearn/preprocessing/_encoders.py:242: UserWarning: Found unknown categories in columns [1] during transform. These unknown categories will be encoded as all zeros\n",
      "  warnings.warn(\n",
      "/opt/anaconda3/lib/python3.11/site-packages/sklearn/preprocessing/_encoders.py:242: UserWarning: Found unknown categories in columns [1] during transform. These unknown categories will be encoded as all zeros\n",
      "  warnings.warn(\n",
      "/opt/anaconda3/lib/python3.11/site-packages/sklearn/preprocessing/_encoders.py:242: UserWarning: Found unknown categories in columns [1] during transform. These unknown categories will be encoded as all zeros\n",
      "  warnings.warn(\n",
      "/opt/anaconda3/lib/python3.11/site-packages/sklearn/preprocessing/_encoders.py:242: UserWarning: Found unknown categories in columns [1] during transform. These unknown categories will be encoded as all zeros\n",
      "  warnings.warn(\n",
      "/opt/anaconda3/lib/python3.11/site-packages/sklearn/preprocessing/_encoders.py:242: UserWarning: Found unknown categories in columns [1] during transform. These unknown categories will be encoded as all zeros\n",
      "  warnings.warn(\n",
      "/opt/anaconda3/lib/python3.11/site-packages/sklearn/preprocessing/_encoders.py:242: UserWarning: Found unknown categories in columns [1] during transform. These unknown categories will be encoded as all zeros\n",
      "  warnings.warn(\n",
      "/opt/anaconda3/lib/python3.11/site-packages/sklearn/preprocessing/_encoders.py:242: UserWarning: Found unknown categories in columns [1] during transform. These unknown categories will be encoded as all zeros\n",
      "  warnings.warn(\n"
     ]
    },
    {
     "data": {
      "text/html": [
       "<style>#sk-container-id-2 {\n",
       "  /* Definition of color scheme common for light and dark mode */\n",
       "  --sklearn-color-text: black;\n",
       "  --sklearn-color-line: gray;\n",
       "  /* Definition of color scheme for unfitted estimators */\n",
       "  --sklearn-color-unfitted-level-0: #fff5e6;\n",
       "  --sklearn-color-unfitted-level-1: #f6e4d2;\n",
       "  --sklearn-color-unfitted-level-2: #ffe0b3;\n",
       "  --sklearn-color-unfitted-level-3: chocolate;\n",
       "  /* Definition of color scheme for fitted estimators */\n",
       "  --sklearn-color-fitted-level-0: #f0f8ff;\n",
       "  --sklearn-color-fitted-level-1: #d4ebff;\n",
       "  --sklearn-color-fitted-level-2: #b3dbfd;\n",
       "  --sklearn-color-fitted-level-3: cornflowerblue;\n",
       "\n",
       "  /* Specific color for light theme */\n",
       "  --sklearn-color-text-on-default-background: var(--sg-text-color, var(--theme-code-foreground, var(--jp-content-font-color1, black)));\n",
       "  --sklearn-color-background: var(--sg-background-color, var(--theme-background, var(--jp-layout-color0, white)));\n",
       "  --sklearn-color-border-box: var(--sg-text-color, var(--theme-code-foreground, var(--jp-content-font-color1, black)));\n",
       "  --sklearn-color-icon: #696969;\n",
       "\n",
       "  @media (prefers-color-scheme: dark) {\n",
       "    /* Redefinition of color scheme for dark theme */\n",
       "    --sklearn-color-text-on-default-background: var(--sg-text-color, var(--theme-code-foreground, var(--jp-content-font-color1, white)));\n",
       "    --sklearn-color-background: var(--sg-background-color, var(--theme-background, var(--jp-layout-color0, #111)));\n",
       "    --sklearn-color-border-box: var(--sg-text-color, var(--theme-code-foreground, var(--jp-content-font-color1, white)));\n",
       "    --sklearn-color-icon: #878787;\n",
       "  }\n",
       "}\n",
       "\n",
       "#sk-container-id-2 {\n",
       "  color: var(--sklearn-color-text);\n",
       "}\n",
       "\n",
       "#sk-container-id-2 pre {\n",
       "  padding: 0;\n",
       "}\n",
       "\n",
       "#sk-container-id-2 input.sk-hidden--visually {\n",
       "  border: 0;\n",
       "  clip: rect(1px 1px 1px 1px);\n",
       "  clip: rect(1px, 1px, 1px, 1px);\n",
       "  height: 1px;\n",
       "  margin: -1px;\n",
       "  overflow: hidden;\n",
       "  padding: 0;\n",
       "  position: absolute;\n",
       "  width: 1px;\n",
       "}\n",
       "\n",
       "#sk-container-id-2 div.sk-dashed-wrapped {\n",
       "  border: 1px dashed var(--sklearn-color-line);\n",
       "  margin: 0 0.4em 0.5em 0.4em;\n",
       "  box-sizing: border-box;\n",
       "  padding-bottom: 0.4em;\n",
       "  background-color: var(--sklearn-color-background);\n",
       "}\n",
       "\n",
       "#sk-container-id-2 div.sk-container {\n",
       "  /* jupyter's `normalize.less` sets `[hidden] { display: none; }`\n",
       "     but bootstrap.min.css set `[hidden] { display: none !important; }`\n",
       "     so we also need the `!important` here to be able to override the\n",
       "     default hidden behavior on the sphinx rendered scikit-learn.org.\n",
       "     See: https://github.com/scikit-learn/scikit-learn/issues/21755 */\n",
       "  display: inline-block !important;\n",
       "  position: relative;\n",
       "}\n",
       "\n",
       "#sk-container-id-2 div.sk-text-repr-fallback {\n",
       "  display: none;\n",
       "}\n",
       "\n",
       "div.sk-parallel-item,\n",
       "div.sk-serial,\n",
       "div.sk-item {\n",
       "  /* draw centered vertical line to link estimators */\n",
       "  background-image: linear-gradient(var(--sklearn-color-text-on-default-background), var(--sklearn-color-text-on-default-background));\n",
       "  background-size: 2px 100%;\n",
       "  background-repeat: no-repeat;\n",
       "  background-position: center center;\n",
       "}\n",
       "\n",
       "/* Parallel-specific style estimator block */\n",
       "\n",
       "#sk-container-id-2 div.sk-parallel-item::after {\n",
       "  content: \"\";\n",
       "  width: 100%;\n",
       "  border-bottom: 2px solid var(--sklearn-color-text-on-default-background);\n",
       "  flex-grow: 1;\n",
       "}\n",
       "\n",
       "#sk-container-id-2 div.sk-parallel {\n",
       "  display: flex;\n",
       "  align-items: stretch;\n",
       "  justify-content: center;\n",
       "  background-color: var(--sklearn-color-background);\n",
       "  position: relative;\n",
       "}\n",
       "\n",
       "#sk-container-id-2 div.sk-parallel-item {\n",
       "  display: flex;\n",
       "  flex-direction: column;\n",
       "}\n",
       "\n",
       "#sk-container-id-2 div.sk-parallel-item:first-child::after {\n",
       "  align-self: flex-end;\n",
       "  width: 50%;\n",
       "}\n",
       "\n",
       "#sk-container-id-2 div.sk-parallel-item:last-child::after {\n",
       "  align-self: flex-start;\n",
       "  width: 50%;\n",
       "}\n",
       "\n",
       "#sk-container-id-2 div.sk-parallel-item:only-child::after {\n",
       "  width: 0;\n",
       "}\n",
       "\n",
       "/* Serial-specific style estimator block */\n",
       "\n",
       "#sk-container-id-2 div.sk-serial {\n",
       "  display: flex;\n",
       "  flex-direction: column;\n",
       "  align-items: center;\n",
       "  background-color: var(--sklearn-color-background);\n",
       "  padding-right: 1em;\n",
       "  padding-left: 1em;\n",
       "}\n",
       "\n",
       "\n",
       "/* Toggleable style: style used for estimator/Pipeline/ColumnTransformer box that is\n",
       "clickable and can be expanded/collapsed.\n",
       "- Pipeline and ColumnTransformer use this feature and define the default style\n",
       "- Estimators will overwrite some part of the style using the `sk-estimator` class\n",
       "*/\n",
       "\n",
       "/* Pipeline and ColumnTransformer style (default) */\n",
       "\n",
       "#sk-container-id-2 div.sk-toggleable {\n",
       "  /* Default theme specific background. It is overwritten whether we have a\n",
       "  specific estimator or a Pipeline/ColumnTransformer */\n",
       "  background-color: var(--sklearn-color-background);\n",
       "}\n",
       "\n",
       "/* Toggleable label */\n",
       "#sk-container-id-2 label.sk-toggleable__label {\n",
       "  cursor: pointer;\n",
       "  display: block;\n",
       "  width: 100%;\n",
       "  margin-bottom: 0;\n",
       "  padding: 0.5em;\n",
       "  box-sizing: border-box;\n",
       "  text-align: center;\n",
       "}\n",
       "\n",
       "#sk-container-id-2 label.sk-toggleable__label-arrow:before {\n",
       "  /* Arrow on the left of the label */\n",
       "  content: \"▸\";\n",
       "  float: left;\n",
       "  margin-right: 0.25em;\n",
       "  color: var(--sklearn-color-icon);\n",
       "}\n",
       "\n",
       "#sk-container-id-2 label.sk-toggleable__label-arrow:hover:before {\n",
       "  color: var(--sklearn-color-text);\n",
       "}\n",
       "\n",
       "/* Toggleable content - dropdown */\n",
       "\n",
       "#sk-container-id-2 div.sk-toggleable__content {\n",
       "  max-height: 0;\n",
       "  max-width: 0;\n",
       "  overflow: hidden;\n",
       "  text-align: left;\n",
       "  /* unfitted */\n",
       "  background-color: var(--sklearn-color-unfitted-level-0);\n",
       "}\n",
       "\n",
       "#sk-container-id-2 div.sk-toggleable__content.fitted {\n",
       "  /* fitted */\n",
       "  background-color: var(--sklearn-color-fitted-level-0);\n",
       "}\n",
       "\n",
       "#sk-container-id-2 div.sk-toggleable__content pre {\n",
       "  margin: 0.2em;\n",
       "  border-radius: 0.25em;\n",
       "  color: var(--sklearn-color-text);\n",
       "  /* unfitted */\n",
       "  background-color: var(--sklearn-color-unfitted-level-0);\n",
       "}\n",
       "\n",
       "#sk-container-id-2 div.sk-toggleable__content.fitted pre {\n",
       "  /* unfitted */\n",
       "  background-color: var(--sklearn-color-fitted-level-0);\n",
       "}\n",
       "\n",
       "#sk-container-id-2 input.sk-toggleable__control:checked~div.sk-toggleable__content {\n",
       "  /* Expand drop-down */\n",
       "  max-height: 200px;\n",
       "  max-width: 100%;\n",
       "  overflow: auto;\n",
       "}\n",
       "\n",
       "#sk-container-id-2 input.sk-toggleable__control:checked~label.sk-toggleable__label-arrow:before {\n",
       "  content: \"▾\";\n",
       "}\n",
       "\n",
       "/* Pipeline/ColumnTransformer-specific style */\n",
       "\n",
       "#sk-container-id-2 div.sk-label input.sk-toggleable__control:checked~label.sk-toggleable__label {\n",
       "  color: var(--sklearn-color-text);\n",
       "  background-color: var(--sklearn-color-unfitted-level-2);\n",
       "}\n",
       "\n",
       "#sk-container-id-2 div.sk-label.fitted input.sk-toggleable__control:checked~label.sk-toggleable__label {\n",
       "  background-color: var(--sklearn-color-fitted-level-2);\n",
       "}\n",
       "\n",
       "/* Estimator-specific style */\n",
       "\n",
       "/* Colorize estimator box */\n",
       "#sk-container-id-2 div.sk-estimator input.sk-toggleable__control:checked~label.sk-toggleable__label {\n",
       "  /* unfitted */\n",
       "  background-color: var(--sklearn-color-unfitted-level-2);\n",
       "}\n",
       "\n",
       "#sk-container-id-2 div.sk-estimator.fitted input.sk-toggleable__control:checked~label.sk-toggleable__label {\n",
       "  /* fitted */\n",
       "  background-color: var(--sklearn-color-fitted-level-2);\n",
       "}\n",
       "\n",
       "#sk-container-id-2 div.sk-label label.sk-toggleable__label,\n",
       "#sk-container-id-2 div.sk-label label {\n",
       "  /* The background is the default theme color */\n",
       "  color: var(--sklearn-color-text-on-default-background);\n",
       "}\n",
       "\n",
       "/* On hover, darken the color of the background */\n",
       "#sk-container-id-2 div.sk-label:hover label.sk-toggleable__label {\n",
       "  color: var(--sklearn-color-text);\n",
       "  background-color: var(--sklearn-color-unfitted-level-2);\n",
       "}\n",
       "\n",
       "/* Label box, darken color on hover, fitted */\n",
       "#sk-container-id-2 div.sk-label.fitted:hover label.sk-toggleable__label.fitted {\n",
       "  color: var(--sklearn-color-text);\n",
       "  background-color: var(--sklearn-color-fitted-level-2);\n",
       "}\n",
       "\n",
       "/* Estimator label */\n",
       "\n",
       "#sk-container-id-2 div.sk-label label {\n",
       "  font-family: monospace;\n",
       "  font-weight: bold;\n",
       "  display: inline-block;\n",
       "  line-height: 1.2em;\n",
       "}\n",
       "\n",
       "#sk-container-id-2 div.sk-label-container {\n",
       "  text-align: center;\n",
       "}\n",
       "\n",
       "/* Estimator-specific */\n",
       "#sk-container-id-2 div.sk-estimator {\n",
       "  font-family: monospace;\n",
       "  border: 1px dotted var(--sklearn-color-border-box);\n",
       "  border-radius: 0.25em;\n",
       "  box-sizing: border-box;\n",
       "  margin-bottom: 0.5em;\n",
       "  /* unfitted */\n",
       "  background-color: var(--sklearn-color-unfitted-level-0);\n",
       "}\n",
       "\n",
       "#sk-container-id-2 div.sk-estimator.fitted {\n",
       "  /* fitted */\n",
       "  background-color: var(--sklearn-color-fitted-level-0);\n",
       "}\n",
       "\n",
       "/* on hover */\n",
       "#sk-container-id-2 div.sk-estimator:hover {\n",
       "  /* unfitted */\n",
       "  background-color: var(--sklearn-color-unfitted-level-2);\n",
       "}\n",
       "\n",
       "#sk-container-id-2 div.sk-estimator.fitted:hover {\n",
       "  /* fitted */\n",
       "  background-color: var(--sklearn-color-fitted-level-2);\n",
       "}\n",
       "\n",
       "/* Specification for estimator info (e.g. \"i\" and \"?\") */\n",
       "\n",
       "/* Common style for \"i\" and \"?\" */\n",
       "\n",
       ".sk-estimator-doc-link,\n",
       "a:link.sk-estimator-doc-link,\n",
       "a:visited.sk-estimator-doc-link {\n",
       "  float: right;\n",
       "  font-size: smaller;\n",
       "  line-height: 1em;\n",
       "  font-family: monospace;\n",
       "  background-color: var(--sklearn-color-background);\n",
       "  border-radius: 1em;\n",
       "  height: 1em;\n",
       "  width: 1em;\n",
       "  text-decoration: none !important;\n",
       "  margin-left: 1ex;\n",
       "  /* unfitted */\n",
       "  border: var(--sklearn-color-unfitted-level-1) 1pt solid;\n",
       "  color: var(--sklearn-color-unfitted-level-1);\n",
       "}\n",
       "\n",
       ".sk-estimator-doc-link.fitted,\n",
       "a:link.sk-estimator-doc-link.fitted,\n",
       "a:visited.sk-estimator-doc-link.fitted {\n",
       "  /* fitted */\n",
       "  border: var(--sklearn-color-fitted-level-1) 1pt solid;\n",
       "  color: var(--sklearn-color-fitted-level-1);\n",
       "}\n",
       "\n",
       "/* On hover */\n",
       "div.sk-estimator:hover .sk-estimator-doc-link:hover,\n",
       ".sk-estimator-doc-link:hover,\n",
       "div.sk-label-container:hover .sk-estimator-doc-link:hover,\n",
       ".sk-estimator-doc-link:hover {\n",
       "  /* unfitted */\n",
       "  background-color: var(--sklearn-color-unfitted-level-3);\n",
       "  color: var(--sklearn-color-background);\n",
       "  text-decoration: none;\n",
       "}\n",
       "\n",
       "div.sk-estimator.fitted:hover .sk-estimator-doc-link.fitted:hover,\n",
       ".sk-estimator-doc-link.fitted:hover,\n",
       "div.sk-label-container:hover .sk-estimator-doc-link.fitted:hover,\n",
       ".sk-estimator-doc-link.fitted:hover {\n",
       "  /* fitted */\n",
       "  background-color: var(--sklearn-color-fitted-level-3);\n",
       "  color: var(--sklearn-color-background);\n",
       "  text-decoration: none;\n",
       "}\n",
       "\n",
       "/* Span, style for the box shown on hovering the info icon */\n",
       ".sk-estimator-doc-link span {\n",
       "  display: none;\n",
       "  z-index: 9999;\n",
       "  position: relative;\n",
       "  font-weight: normal;\n",
       "  right: .2ex;\n",
       "  padding: .5ex;\n",
       "  margin: .5ex;\n",
       "  width: min-content;\n",
       "  min-width: 20ex;\n",
       "  max-width: 50ex;\n",
       "  color: var(--sklearn-color-text);\n",
       "  box-shadow: 2pt 2pt 4pt #999;\n",
       "  /* unfitted */\n",
       "  background: var(--sklearn-color-unfitted-level-0);\n",
       "  border: .5pt solid var(--sklearn-color-unfitted-level-3);\n",
       "}\n",
       "\n",
       ".sk-estimator-doc-link.fitted span {\n",
       "  /* fitted */\n",
       "  background: var(--sklearn-color-fitted-level-0);\n",
       "  border: var(--sklearn-color-fitted-level-3);\n",
       "}\n",
       "\n",
       ".sk-estimator-doc-link:hover span {\n",
       "  display: block;\n",
       "}\n",
       "\n",
       "/* \"?\"-specific style due to the `<a>` HTML tag */\n",
       "\n",
       "#sk-container-id-2 a.estimator_doc_link {\n",
       "  float: right;\n",
       "  font-size: 1rem;\n",
       "  line-height: 1em;\n",
       "  font-family: monospace;\n",
       "  background-color: var(--sklearn-color-background);\n",
       "  border-radius: 1rem;\n",
       "  height: 1rem;\n",
       "  width: 1rem;\n",
       "  text-decoration: none;\n",
       "  /* unfitted */\n",
       "  color: var(--sklearn-color-unfitted-level-1);\n",
       "  border: var(--sklearn-color-unfitted-level-1) 1pt solid;\n",
       "}\n",
       "\n",
       "#sk-container-id-2 a.estimator_doc_link.fitted {\n",
       "  /* fitted */\n",
       "  border: var(--sklearn-color-fitted-level-1) 1pt solid;\n",
       "  color: var(--sklearn-color-fitted-level-1);\n",
       "}\n",
       "\n",
       "/* On hover */\n",
       "#sk-container-id-2 a.estimator_doc_link:hover {\n",
       "  /* unfitted */\n",
       "  background-color: var(--sklearn-color-unfitted-level-3);\n",
       "  color: var(--sklearn-color-background);\n",
       "  text-decoration: none;\n",
       "}\n",
       "\n",
       "#sk-container-id-2 a.estimator_doc_link.fitted:hover {\n",
       "  /* fitted */\n",
       "  background-color: var(--sklearn-color-fitted-level-3);\n",
       "}\n",
       "</style><div id=\"sk-container-id-2\" class=\"sk-top-container\"><div class=\"sk-text-repr-fallback\"><pre>RandomizedSearchCV(cv=5,\n",
       "                   estimator=Pipeline(steps=[(&#x27;preprocessor&#x27;,\n",
       "                                              ColumnTransformer(remainder=&#x27;passthrough&#x27;,\n",
       "                                                                transformers=[(&#x27;ohe&#x27;,\n",
       "                                                                               Pipeline(steps=[(&#x27;simpleImputer_ohe&#x27;,\n",
       "                                                                                                SimpleImputer(strategy=&#x27;most_frequent&#x27;)),\n",
       "                                                                                               (&#x27;ohe&#x27;,\n",
       "                                                                                                OneHotEncoder(drop=&#x27;first&#x27;,\n",
       "                                                                                                              handle_unknown=&#x27;ignore&#x27;))]),\n",
       "                                                                               [&#x27;brand&#x27;,\n",
       "                                                                                &#x27;model&#x27;,\n",
       "                                                                                &#x27;fuel_type&#x27;,\n",
       "                                                                                &#x27;gearbox&#x27;,\n",
       "                                                                                &#x27;repaired&#x27;,\n",
       "                                                                                &#x27;vehicle_type&#x27;]),\n",
       "                                                                              (&#x27;num&#x27;,\n",
       "                                                                               StandardScaler(),\n",
       "                                                                               [&#x27;kilometer&#x27;,\n",
       "                                                                                &#x27;registration_year&#x27;,\n",
       "                                                                                &#x27;power&#x27;])])),\n",
       "                                             (&#x27;models&#x27;, LinearRegression())]),\n",
       "                   n_jobs=1,\n",
       "                   param_distributions={&#x27;models__copy_X&#x27;: [True, False],\n",
       "                                        &#x27;models__fit_intercept&#x27;: [True, False]},\n",
       "                   random_state=42, scoring=&#x27;neg_root_mean_squared_error&#x27;)</pre><b>In a Jupyter environment, please rerun this cell to show the HTML representation or trust the notebook. <br />On GitHub, the HTML representation is unable to render, please try loading this page with nbviewer.org.</b></div><div class=\"sk-container\" hidden><div class=\"sk-item sk-dashed-wrapped\"><div class=\"sk-label-container\"><div class=\"sk-label fitted sk-toggleable\"><input class=\"sk-toggleable__control sk-hidden--visually\" id=\"sk-estimator-id-12\" type=\"checkbox\" ><label for=\"sk-estimator-id-12\" class=\"sk-toggleable__label fitted sk-toggleable__label-arrow fitted\">&nbsp;&nbsp;RandomizedSearchCV<a class=\"sk-estimator-doc-link fitted\" rel=\"noreferrer\" target=\"_blank\" href=\"https://scikit-learn.org/1.5/modules/generated/sklearn.model_selection.RandomizedSearchCV.html\">?<span>Documentation for RandomizedSearchCV</span></a><span class=\"sk-estimator-doc-link fitted\">i<span>Fitted</span></span></label><div class=\"sk-toggleable__content fitted\"><pre>RandomizedSearchCV(cv=5,\n",
       "                   estimator=Pipeline(steps=[(&#x27;preprocessor&#x27;,\n",
       "                                              ColumnTransformer(remainder=&#x27;passthrough&#x27;,\n",
       "                                                                transformers=[(&#x27;ohe&#x27;,\n",
       "                                                                               Pipeline(steps=[(&#x27;simpleImputer_ohe&#x27;,\n",
       "                                                                                                SimpleImputer(strategy=&#x27;most_frequent&#x27;)),\n",
       "                                                                                               (&#x27;ohe&#x27;,\n",
       "                                                                                                OneHotEncoder(drop=&#x27;first&#x27;,\n",
       "                                                                                                              handle_unknown=&#x27;ignore&#x27;))]),\n",
       "                                                                               [&#x27;brand&#x27;,\n",
       "                                                                                &#x27;model&#x27;,\n",
       "                                                                                &#x27;fuel_type&#x27;,\n",
       "                                                                                &#x27;gearbox&#x27;,\n",
       "                                                                                &#x27;repaired&#x27;,\n",
       "                                                                                &#x27;vehicle_type&#x27;]),\n",
       "                                                                              (&#x27;num&#x27;,\n",
       "                                                                               StandardScaler(),\n",
       "                                                                               [&#x27;kilometer&#x27;,\n",
       "                                                                                &#x27;registration_year&#x27;,\n",
       "                                                                                &#x27;power&#x27;])])),\n",
       "                                             (&#x27;models&#x27;, LinearRegression())]),\n",
       "                   n_jobs=1,\n",
       "                   param_distributions={&#x27;models__copy_X&#x27;: [True, False],\n",
       "                                        &#x27;models__fit_intercept&#x27;: [True, False]},\n",
       "                   random_state=42, scoring=&#x27;neg_root_mean_squared_error&#x27;)</pre></div> </div></div><div class=\"sk-parallel\"><div class=\"sk-parallel-item\"><div class=\"sk-item\"><div class=\"sk-label-container\"><div class=\"sk-label fitted sk-toggleable\"><input class=\"sk-toggleable__control sk-hidden--visually\" id=\"sk-estimator-id-13\" type=\"checkbox\" ><label for=\"sk-estimator-id-13\" class=\"sk-toggleable__label fitted sk-toggleable__label-arrow fitted\">best_estimator_: Pipeline</label><div class=\"sk-toggleable__content fitted\"><pre>Pipeline(steps=[(&#x27;preprocessor&#x27;,\n",
       "                 ColumnTransformer(remainder=&#x27;passthrough&#x27;,\n",
       "                                   transformers=[(&#x27;ohe&#x27;,\n",
       "                                                  Pipeline(steps=[(&#x27;simpleImputer_ohe&#x27;,\n",
       "                                                                   SimpleImputer(strategy=&#x27;most_frequent&#x27;)),\n",
       "                                                                  (&#x27;ohe&#x27;,\n",
       "                                                                   OneHotEncoder(drop=&#x27;first&#x27;,\n",
       "                                                                                 handle_unknown=&#x27;ignore&#x27;))]),\n",
       "                                                  [&#x27;brand&#x27;, &#x27;model&#x27;,\n",
       "                                                   &#x27;fuel_type&#x27;, &#x27;gearbox&#x27;,\n",
       "                                                   &#x27;repaired&#x27;,\n",
       "                                                   &#x27;vehicle_type&#x27;]),\n",
       "                                                 (&#x27;num&#x27;, StandardScaler(),\n",
       "                                                  [&#x27;kilometer&#x27;,\n",
       "                                                   &#x27;registration_year&#x27;,\n",
       "                                                   &#x27;power&#x27;])])),\n",
       "                (&#x27;models&#x27;, LinearRegression())])</pre></div> </div></div><div class=\"sk-serial\"><div class=\"sk-item\"><div class=\"sk-serial\"><div class=\"sk-item sk-dashed-wrapped\"><div class=\"sk-label-container\"><div class=\"sk-label fitted sk-toggleable\"><input class=\"sk-toggleable__control sk-hidden--visually\" id=\"sk-estimator-id-14\" type=\"checkbox\" ><label for=\"sk-estimator-id-14\" class=\"sk-toggleable__label fitted sk-toggleable__label-arrow fitted\">&nbsp;preprocessor: ColumnTransformer<a class=\"sk-estimator-doc-link fitted\" rel=\"noreferrer\" target=\"_blank\" href=\"https://scikit-learn.org/1.5/modules/generated/sklearn.compose.ColumnTransformer.html\">?<span>Documentation for preprocessor: ColumnTransformer</span></a></label><div class=\"sk-toggleable__content fitted\"><pre>ColumnTransformer(remainder=&#x27;passthrough&#x27;,\n",
       "                  transformers=[(&#x27;ohe&#x27;,\n",
       "                                 Pipeline(steps=[(&#x27;simpleImputer_ohe&#x27;,\n",
       "                                                  SimpleImputer(strategy=&#x27;most_frequent&#x27;)),\n",
       "                                                 (&#x27;ohe&#x27;,\n",
       "                                                  OneHotEncoder(drop=&#x27;first&#x27;,\n",
       "                                                                handle_unknown=&#x27;ignore&#x27;))]),\n",
       "                                 [&#x27;brand&#x27;, &#x27;model&#x27;, &#x27;fuel_type&#x27;, &#x27;gearbox&#x27;,\n",
       "                                  &#x27;repaired&#x27;, &#x27;vehicle_type&#x27;]),\n",
       "                                (&#x27;num&#x27;, StandardScaler(),\n",
       "                                 [&#x27;kilometer&#x27;, &#x27;registration_year&#x27;, &#x27;power&#x27;])])</pre></div> </div></div><div class=\"sk-parallel\"><div class=\"sk-parallel-item\"><div class=\"sk-item\"><div class=\"sk-label-container\"><div class=\"sk-label fitted sk-toggleable\"><input class=\"sk-toggleable__control sk-hidden--visually\" id=\"sk-estimator-id-15\" type=\"checkbox\" ><label for=\"sk-estimator-id-15\" class=\"sk-toggleable__label fitted sk-toggleable__label-arrow fitted\">ohe</label><div class=\"sk-toggleable__content fitted\"><pre>[&#x27;brand&#x27;, &#x27;model&#x27;, &#x27;fuel_type&#x27;, &#x27;gearbox&#x27;, &#x27;repaired&#x27;, &#x27;vehicle_type&#x27;]</pre></div> </div></div><div class=\"sk-serial\"><div class=\"sk-item\"><div class=\"sk-serial\"><div class=\"sk-item\"><div class=\"sk-estimator fitted sk-toggleable\"><input class=\"sk-toggleable__control sk-hidden--visually\" id=\"sk-estimator-id-16\" type=\"checkbox\" ><label for=\"sk-estimator-id-16\" class=\"sk-toggleable__label fitted sk-toggleable__label-arrow fitted\">&nbsp;SimpleImputer<a class=\"sk-estimator-doc-link fitted\" rel=\"noreferrer\" target=\"_blank\" href=\"https://scikit-learn.org/1.5/modules/generated/sklearn.impute.SimpleImputer.html\">?<span>Documentation for SimpleImputer</span></a></label><div class=\"sk-toggleable__content fitted\"><pre>SimpleImputer(strategy=&#x27;most_frequent&#x27;)</pre></div> </div></div><div class=\"sk-item\"><div class=\"sk-estimator fitted sk-toggleable\"><input class=\"sk-toggleable__control sk-hidden--visually\" id=\"sk-estimator-id-17\" type=\"checkbox\" ><label for=\"sk-estimator-id-17\" class=\"sk-toggleable__label fitted sk-toggleable__label-arrow fitted\">&nbsp;OneHotEncoder<a class=\"sk-estimator-doc-link fitted\" rel=\"noreferrer\" target=\"_blank\" href=\"https://scikit-learn.org/1.5/modules/generated/sklearn.preprocessing.OneHotEncoder.html\">?<span>Documentation for OneHotEncoder</span></a></label><div class=\"sk-toggleable__content fitted\"><pre>OneHotEncoder(drop=&#x27;first&#x27;, handle_unknown=&#x27;ignore&#x27;)</pre></div> </div></div></div></div></div></div></div><div class=\"sk-parallel-item\"><div class=\"sk-item\"><div class=\"sk-label-container\"><div class=\"sk-label fitted sk-toggleable\"><input class=\"sk-toggleable__control sk-hidden--visually\" id=\"sk-estimator-id-18\" type=\"checkbox\" ><label for=\"sk-estimator-id-18\" class=\"sk-toggleable__label fitted sk-toggleable__label-arrow fitted\">num</label><div class=\"sk-toggleable__content fitted\"><pre>[&#x27;kilometer&#x27;, &#x27;registration_year&#x27;, &#x27;power&#x27;]</pre></div> </div></div><div class=\"sk-serial\"><div class=\"sk-item\"><div class=\"sk-estimator fitted sk-toggleable\"><input class=\"sk-toggleable__control sk-hidden--visually\" id=\"sk-estimator-id-19\" type=\"checkbox\" ><label for=\"sk-estimator-id-19\" class=\"sk-toggleable__label fitted sk-toggleable__label-arrow fitted\">&nbsp;StandardScaler<a class=\"sk-estimator-doc-link fitted\" rel=\"noreferrer\" target=\"_blank\" href=\"https://scikit-learn.org/1.5/modules/generated/sklearn.preprocessing.StandardScaler.html\">?<span>Documentation for StandardScaler</span></a></label><div class=\"sk-toggleable__content fitted\"><pre>StandardScaler()</pre></div> </div></div></div></div></div><div class=\"sk-parallel-item\"><div class=\"sk-item\"><div class=\"sk-label-container\"><div class=\"sk-label fitted sk-toggleable\"><input class=\"sk-toggleable__control sk-hidden--visually\" id=\"sk-estimator-id-20\" type=\"checkbox\" ><label for=\"sk-estimator-id-20\" class=\"sk-toggleable__label fitted sk-toggleable__label-arrow fitted\">remainder</label><div class=\"sk-toggleable__content fitted\"><pre>[]</pre></div> </div></div><div class=\"sk-serial\"><div class=\"sk-item\"><div class=\"sk-estimator fitted sk-toggleable\"><input class=\"sk-toggleable__control sk-hidden--visually\" id=\"sk-estimator-id-21\" type=\"checkbox\" ><label for=\"sk-estimator-id-21\" class=\"sk-toggleable__label fitted sk-toggleable__label-arrow fitted\">passthrough</label><div class=\"sk-toggleable__content fitted\"><pre>passthrough</pre></div> </div></div></div></div></div></div></div><div class=\"sk-item\"><div class=\"sk-estimator fitted sk-toggleable\"><input class=\"sk-toggleable__control sk-hidden--visually\" id=\"sk-estimator-id-22\" type=\"checkbox\" ><label for=\"sk-estimator-id-22\" class=\"sk-toggleable__label fitted sk-toggleable__label-arrow fitted\">&nbsp;LinearRegression<a class=\"sk-estimator-doc-link fitted\" rel=\"noreferrer\" target=\"_blank\" href=\"https://scikit-learn.org/1.5/modules/generated/sklearn.linear_model.LinearRegression.html\">?<span>Documentation for LinearRegression</span></a></label><div class=\"sk-toggleable__content fitted\"><pre>LinearRegression()</pre></div> </div></div></div></div></div></div></div></div></div></div></div>"
      ],
      "text/plain": [
       "RandomizedSearchCV(cv=5,\n",
       "                   estimator=Pipeline(steps=[('preprocessor',\n",
       "                                              ColumnTransformer(remainder='passthrough',\n",
       "                                                                transformers=[('ohe',\n",
       "                                                                               Pipeline(steps=[('simpleImputer_ohe',\n",
       "                                                                                                SimpleImputer(strategy='most_frequent')),\n",
       "                                                                                               ('ohe',\n",
       "                                                                                                OneHotEncoder(drop='first',\n",
       "                                                                                                              handle_unknown='ignore'))]),\n",
       "                                                                               ['brand',\n",
       "                                                                                'model',\n",
       "                                                                                'fuel_type',\n",
       "                                                                                'gearbox',\n",
       "                                                                                'repaired',\n",
       "                                                                                'vehicle_type']),\n",
       "                                                                              ('num',\n",
       "                                                                               StandardScaler(),\n",
       "                                                                               ['kilometer',\n",
       "                                                                                'registration_year',\n",
       "                                                                                'power'])])),\n",
       "                                             ('models', LinearRegression())]),\n",
       "                   n_jobs=1,\n",
       "                   param_distributions={'models__copy_X': [True, False],\n",
       "                                        'models__fit_intercept': [True, False]},\n",
       "                   random_state=42, scoring='neg_root_mean_squared_error')"
      ]
     },
     "execution_count": 44,
     "metadata": {},
     "output_type": "execute_result"
    }
   ],
   "source": [
    "pipe_final_LR = Pipeline(\n",
    "    [\n",
    "        ('preprocessor', data_preprocessor),\n",
    "        ('models', LinearRegression())\n",
    "    ]\n",
    ")\n",
    "\n",
    "param_distributions = {\n",
    "    'models__fit_intercept': [True, False],\n",
    "    'models__copy_X': [True, False]\n",
    "}\n",
    "\n",
    "rs_lr = RandomizedSearchCV(\n",
    "    pipe_final_LR,\n",
    "    param_distributions = param_distributions,\n",
    "    cv=5,\n",
    "    scoring='neg_root_mean_squared_error',\n",
    "    n_jobs=1,\n",
    "    random_state=RANDOM_STATE\n",
    ")\n",
    "\n",
    "rs_lr.fit(X_train, y_train)"
   ]
  },
  {
   "cell_type": "code",
   "execution_count": 45,
   "id": "3eee02db",
   "metadata": {},
   "outputs": [
    {
     "name": "stdout",
     "output_type": "stream",
     "text": [
      "Время обучения 1.2306020259857178\n",
      "Гиперпараметры {'models__fit_intercept': True, 'models__copy_X': True}\n",
      "RMSE 2423\n"
     ]
    }
   ],
   "source": [
    "print('Время обучения', rs_lr.refit_time_)\n",
    "print('Гиперпараметры', rs_lr.best_params_)\n",
    "print('RMSE', round(abs(rs_lr.best_score_)))"
   ]
  },
  {
   "cell_type": "markdown",
   "id": "6518ddd8",
   "metadata": {},
   "source": [
    "### LightGBM"
   ]
  },
  {
   "cell_type": "code",
   "execution_count": 46,
   "id": "a245d9d5",
   "metadata": {},
   "outputs": [],
   "source": [
    "model_lgb = lgb.LGBMRegressor(random_state=RANDOM_STATE, num_threads= 5)\n",
    "\n",
    "for c in cat_col:\n",
    "    X_train[c] = X_train[c].astype('category')\n",
    "\n",
    "params = {\n",
    "            'objective': ['regression'],\n",
    "            'metric': ['mean_squared_error'],\n",
    "            'boosting_type' : ['gbdt']\n",
    "        }\n",
    "\n",
    "rs_lgb = RandomizedSearchCV(\n",
    "    model_lgb,\n",
    "    params,\n",
    "    cv=5,\n",
    "    scoring='neg_root_mean_squared_error',\n",
    "    n_jobs=1,\n",
    "    random_state=RANDOM_STATE\n",
    ")"
   ]
  },
  {
   "cell_type": "code",
   "execution_count": 47,
   "id": "c7a08f98",
   "metadata": {},
   "outputs": [
    {
     "name": "stdout",
     "output_type": "stream",
     "text": [
      "[LightGBM] [Info] Auto-choosing row-wise multi-threading, the overhead of testing was 0.001987 seconds.\n",
      "You can set `force_row_wise=true` to remove the overhead.\n",
      "And if memory is not enough, you can set `force_col_wise=true`.\n",
      "[LightGBM] [Info] Total Bins 546\n",
      "[LightGBM] [Info] Number of data points in the train set: 145862, number of used features: 9\n",
      "[LightGBM] [Info] Start training from score 4793.713942\n"
     ]
    },
    {
     "name": "stderr",
     "output_type": "stream",
     "text": [
      "/opt/anaconda3/lib/python3.11/site-packages/sklearn/model_selection/_search.py:320: UserWarning: The total space of parameters 1 is smaller than n_iter=10. Running 1 iterations. For exhaustive searches, use GridSearchCV.\n",
      "  warnings.warn(\n"
     ]
    },
    {
     "name": "stdout",
     "output_type": "stream",
     "text": [
      "[LightGBM] [Info] Auto-choosing row-wise multi-threading, the overhead of testing was 0.001973 seconds.\n",
      "You can set `force_row_wise=true` to remove the overhead.\n",
      "And if memory is not enough, you can set `force_col_wise=true`.\n",
      "[LightGBM] [Info] Total Bins 544\n",
      "[LightGBM] [Info] Number of data points in the train set: 145862, number of used features: 9\n",
      "[LightGBM] [Info] Start training from score 4794.211981\n",
      "[LightGBM] [Info] Auto-choosing row-wise multi-threading, the overhead of testing was 0.001821 seconds.\n",
      "You can set `force_row_wise=true` to remove the overhead.\n",
      "And if memory is not enough, you can set `force_col_wise=true`.\n",
      "[LightGBM] [Info] Total Bins 544\n",
      "[LightGBM] [Info] Number of data points in the train set: 145862, number of used features: 9\n",
      "[LightGBM] [Info] Start training from score 4776.927569\n",
      "[LightGBM] [Info] Auto-choosing row-wise multi-threading, the overhead of testing was 0.002041 seconds.\n",
      "You can set `force_row_wise=true` to remove the overhead.\n",
      "And if memory is not enough, you can set `force_col_wise=true`.\n",
      "[LightGBM] [Info] Total Bins 544\n",
      "[LightGBM] [Info] Number of data points in the train set: 145863, number of used features: 9\n",
      "[LightGBM] [Info] Start training from score 4781.228036\n",
      "[LightGBM] [Info] Auto-choosing row-wise multi-threading, the overhead of testing was 0.002010 seconds.\n",
      "You can set `force_row_wise=true` to remove the overhead.\n",
      "And if memory is not enough, you can set `force_col_wise=true`.\n",
      "[LightGBM] [Info] Total Bins 545\n",
      "[LightGBM] [Info] Number of data points in the train set: 145863, number of used features: 9\n",
      "[LightGBM] [Info] Start training from score 4787.666365\n",
      "[LightGBM] [Info] Auto-choosing row-wise multi-threading, the overhead of testing was 0.002308 seconds.\n",
      "You can set `force_row_wise=true` to remove the overhead.\n",
      "And if memory is not enough, you can set `force_col_wise=true`.\n",
      "[LightGBM] [Info] Total Bins 547\n",
      "[LightGBM] [Info] Number of data points in the train set: 182328, number of used features: 9\n",
      "[LightGBM] [Info] Start training from score 4786.749572\n"
     ]
    },
    {
     "data": {
      "text/html": [
       "<style>#sk-container-id-3 {\n",
       "  /* Definition of color scheme common for light and dark mode */\n",
       "  --sklearn-color-text: black;\n",
       "  --sklearn-color-line: gray;\n",
       "  /* Definition of color scheme for unfitted estimators */\n",
       "  --sklearn-color-unfitted-level-0: #fff5e6;\n",
       "  --sklearn-color-unfitted-level-1: #f6e4d2;\n",
       "  --sklearn-color-unfitted-level-2: #ffe0b3;\n",
       "  --sklearn-color-unfitted-level-3: chocolate;\n",
       "  /* Definition of color scheme for fitted estimators */\n",
       "  --sklearn-color-fitted-level-0: #f0f8ff;\n",
       "  --sklearn-color-fitted-level-1: #d4ebff;\n",
       "  --sklearn-color-fitted-level-2: #b3dbfd;\n",
       "  --sklearn-color-fitted-level-3: cornflowerblue;\n",
       "\n",
       "  /* Specific color for light theme */\n",
       "  --sklearn-color-text-on-default-background: var(--sg-text-color, var(--theme-code-foreground, var(--jp-content-font-color1, black)));\n",
       "  --sklearn-color-background: var(--sg-background-color, var(--theme-background, var(--jp-layout-color0, white)));\n",
       "  --sklearn-color-border-box: var(--sg-text-color, var(--theme-code-foreground, var(--jp-content-font-color1, black)));\n",
       "  --sklearn-color-icon: #696969;\n",
       "\n",
       "  @media (prefers-color-scheme: dark) {\n",
       "    /* Redefinition of color scheme for dark theme */\n",
       "    --sklearn-color-text-on-default-background: var(--sg-text-color, var(--theme-code-foreground, var(--jp-content-font-color1, white)));\n",
       "    --sklearn-color-background: var(--sg-background-color, var(--theme-background, var(--jp-layout-color0, #111)));\n",
       "    --sklearn-color-border-box: var(--sg-text-color, var(--theme-code-foreground, var(--jp-content-font-color1, white)));\n",
       "    --sklearn-color-icon: #878787;\n",
       "  }\n",
       "}\n",
       "\n",
       "#sk-container-id-3 {\n",
       "  color: var(--sklearn-color-text);\n",
       "}\n",
       "\n",
       "#sk-container-id-3 pre {\n",
       "  padding: 0;\n",
       "}\n",
       "\n",
       "#sk-container-id-3 input.sk-hidden--visually {\n",
       "  border: 0;\n",
       "  clip: rect(1px 1px 1px 1px);\n",
       "  clip: rect(1px, 1px, 1px, 1px);\n",
       "  height: 1px;\n",
       "  margin: -1px;\n",
       "  overflow: hidden;\n",
       "  padding: 0;\n",
       "  position: absolute;\n",
       "  width: 1px;\n",
       "}\n",
       "\n",
       "#sk-container-id-3 div.sk-dashed-wrapped {\n",
       "  border: 1px dashed var(--sklearn-color-line);\n",
       "  margin: 0 0.4em 0.5em 0.4em;\n",
       "  box-sizing: border-box;\n",
       "  padding-bottom: 0.4em;\n",
       "  background-color: var(--sklearn-color-background);\n",
       "}\n",
       "\n",
       "#sk-container-id-3 div.sk-container {\n",
       "  /* jupyter's `normalize.less` sets `[hidden] { display: none; }`\n",
       "     but bootstrap.min.css set `[hidden] { display: none !important; }`\n",
       "     so we also need the `!important` here to be able to override the\n",
       "     default hidden behavior on the sphinx rendered scikit-learn.org.\n",
       "     See: https://github.com/scikit-learn/scikit-learn/issues/21755 */\n",
       "  display: inline-block !important;\n",
       "  position: relative;\n",
       "}\n",
       "\n",
       "#sk-container-id-3 div.sk-text-repr-fallback {\n",
       "  display: none;\n",
       "}\n",
       "\n",
       "div.sk-parallel-item,\n",
       "div.sk-serial,\n",
       "div.sk-item {\n",
       "  /* draw centered vertical line to link estimators */\n",
       "  background-image: linear-gradient(var(--sklearn-color-text-on-default-background), var(--sklearn-color-text-on-default-background));\n",
       "  background-size: 2px 100%;\n",
       "  background-repeat: no-repeat;\n",
       "  background-position: center center;\n",
       "}\n",
       "\n",
       "/* Parallel-specific style estimator block */\n",
       "\n",
       "#sk-container-id-3 div.sk-parallel-item::after {\n",
       "  content: \"\";\n",
       "  width: 100%;\n",
       "  border-bottom: 2px solid var(--sklearn-color-text-on-default-background);\n",
       "  flex-grow: 1;\n",
       "}\n",
       "\n",
       "#sk-container-id-3 div.sk-parallel {\n",
       "  display: flex;\n",
       "  align-items: stretch;\n",
       "  justify-content: center;\n",
       "  background-color: var(--sklearn-color-background);\n",
       "  position: relative;\n",
       "}\n",
       "\n",
       "#sk-container-id-3 div.sk-parallel-item {\n",
       "  display: flex;\n",
       "  flex-direction: column;\n",
       "}\n",
       "\n",
       "#sk-container-id-3 div.sk-parallel-item:first-child::after {\n",
       "  align-self: flex-end;\n",
       "  width: 50%;\n",
       "}\n",
       "\n",
       "#sk-container-id-3 div.sk-parallel-item:last-child::after {\n",
       "  align-self: flex-start;\n",
       "  width: 50%;\n",
       "}\n",
       "\n",
       "#sk-container-id-3 div.sk-parallel-item:only-child::after {\n",
       "  width: 0;\n",
       "}\n",
       "\n",
       "/* Serial-specific style estimator block */\n",
       "\n",
       "#sk-container-id-3 div.sk-serial {\n",
       "  display: flex;\n",
       "  flex-direction: column;\n",
       "  align-items: center;\n",
       "  background-color: var(--sklearn-color-background);\n",
       "  padding-right: 1em;\n",
       "  padding-left: 1em;\n",
       "}\n",
       "\n",
       "\n",
       "/* Toggleable style: style used for estimator/Pipeline/ColumnTransformer box that is\n",
       "clickable and can be expanded/collapsed.\n",
       "- Pipeline and ColumnTransformer use this feature and define the default style\n",
       "- Estimators will overwrite some part of the style using the `sk-estimator` class\n",
       "*/\n",
       "\n",
       "/* Pipeline and ColumnTransformer style (default) */\n",
       "\n",
       "#sk-container-id-3 div.sk-toggleable {\n",
       "  /* Default theme specific background. It is overwritten whether we have a\n",
       "  specific estimator or a Pipeline/ColumnTransformer */\n",
       "  background-color: var(--sklearn-color-background);\n",
       "}\n",
       "\n",
       "/* Toggleable label */\n",
       "#sk-container-id-3 label.sk-toggleable__label {\n",
       "  cursor: pointer;\n",
       "  display: block;\n",
       "  width: 100%;\n",
       "  margin-bottom: 0;\n",
       "  padding: 0.5em;\n",
       "  box-sizing: border-box;\n",
       "  text-align: center;\n",
       "}\n",
       "\n",
       "#sk-container-id-3 label.sk-toggleable__label-arrow:before {\n",
       "  /* Arrow on the left of the label */\n",
       "  content: \"▸\";\n",
       "  float: left;\n",
       "  margin-right: 0.25em;\n",
       "  color: var(--sklearn-color-icon);\n",
       "}\n",
       "\n",
       "#sk-container-id-3 label.sk-toggleable__label-arrow:hover:before {\n",
       "  color: var(--sklearn-color-text);\n",
       "}\n",
       "\n",
       "/* Toggleable content - dropdown */\n",
       "\n",
       "#sk-container-id-3 div.sk-toggleable__content {\n",
       "  max-height: 0;\n",
       "  max-width: 0;\n",
       "  overflow: hidden;\n",
       "  text-align: left;\n",
       "  /* unfitted */\n",
       "  background-color: var(--sklearn-color-unfitted-level-0);\n",
       "}\n",
       "\n",
       "#sk-container-id-3 div.sk-toggleable__content.fitted {\n",
       "  /* fitted */\n",
       "  background-color: var(--sklearn-color-fitted-level-0);\n",
       "}\n",
       "\n",
       "#sk-container-id-3 div.sk-toggleable__content pre {\n",
       "  margin: 0.2em;\n",
       "  border-radius: 0.25em;\n",
       "  color: var(--sklearn-color-text);\n",
       "  /* unfitted */\n",
       "  background-color: var(--sklearn-color-unfitted-level-0);\n",
       "}\n",
       "\n",
       "#sk-container-id-3 div.sk-toggleable__content.fitted pre {\n",
       "  /* unfitted */\n",
       "  background-color: var(--sklearn-color-fitted-level-0);\n",
       "}\n",
       "\n",
       "#sk-container-id-3 input.sk-toggleable__control:checked~div.sk-toggleable__content {\n",
       "  /* Expand drop-down */\n",
       "  max-height: 200px;\n",
       "  max-width: 100%;\n",
       "  overflow: auto;\n",
       "}\n",
       "\n",
       "#sk-container-id-3 input.sk-toggleable__control:checked~label.sk-toggleable__label-arrow:before {\n",
       "  content: \"▾\";\n",
       "}\n",
       "\n",
       "/* Pipeline/ColumnTransformer-specific style */\n",
       "\n",
       "#sk-container-id-3 div.sk-label input.sk-toggleable__control:checked~label.sk-toggleable__label {\n",
       "  color: var(--sklearn-color-text);\n",
       "  background-color: var(--sklearn-color-unfitted-level-2);\n",
       "}\n",
       "\n",
       "#sk-container-id-3 div.sk-label.fitted input.sk-toggleable__control:checked~label.sk-toggleable__label {\n",
       "  background-color: var(--sklearn-color-fitted-level-2);\n",
       "}\n",
       "\n",
       "/* Estimator-specific style */\n",
       "\n",
       "/* Colorize estimator box */\n",
       "#sk-container-id-3 div.sk-estimator input.sk-toggleable__control:checked~label.sk-toggleable__label {\n",
       "  /* unfitted */\n",
       "  background-color: var(--sklearn-color-unfitted-level-2);\n",
       "}\n",
       "\n",
       "#sk-container-id-3 div.sk-estimator.fitted input.sk-toggleable__control:checked~label.sk-toggleable__label {\n",
       "  /* fitted */\n",
       "  background-color: var(--sklearn-color-fitted-level-2);\n",
       "}\n",
       "\n",
       "#sk-container-id-3 div.sk-label label.sk-toggleable__label,\n",
       "#sk-container-id-3 div.sk-label label {\n",
       "  /* The background is the default theme color */\n",
       "  color: var(--sklearn-color-text-on-default-background);\n",
       "}\n",
       "\n",
       "/* On hover, darken the color of the background */\n",
       "#sk-container-id-3 div.sk-label:hover label.sk-toggleable__label {\n",
       "  color: var(--sklearn-color-text);\n",
       "  background-color: var(--sklearn-color-unfitted-level-2);\n",
       "}\n",
       "\n",
       "/* Label box, darken color on hover, fitted */\n",
       "#sk-container-id-3 div.sk-label.fitted:hover label.sk-toggleable__label.fitted {\n",
       "  color: var(--sklearn-color-text);\n",
       "  background-color: var(--sklearn-color-fitted-level-2);\n",
       "}\n",
       "\n",
       "/* Estimator label */\n",
       "\n",
       "#sk-container-id-3 div.sk-label label {\n",
       "  font-family: monospace;\n",
       "  font-weight: bold;\n",
       "  display: inline-block;\n",
       "  line-height: 1.2em;\n",
       "}\n",
       "\n",
       "#sk-container-id-3 div.sk-label-container {\n",
       "  text-align: center;\n",
       "}\n",
       "\n",
       "/* Estimator-specific */\n",
       "#sk-container-id-3 div.sk-estimator {\n",
       "  font-family: monospace;\n",
       "  border: 1px dotted var(--sklearn-color-border-box);\n",
       "  border-radius: 0.25em;\n",
       "  box-sizing: border-box;\n",
       "  margin-bottom: 0.5em;\n",
       "  /* unfitted */\n",
       "  background-color: var(--sklearn-color-unfitted-level-0);\n",
       "}\n",
       "\n",
       "#sk-container-id-3 div.sk-estimator.fitted {\n",
       "  /* fitted */\n",
       "  background-color: var(--sklearn-color-fitted-level-0);\n",
       "}\n",
       "\n",
       "/* on hover */\n",
       "#sk-container-id-3 div.sk-estimator:hover {\n",
       "  /* unfitted */\n",
       "  background-color: var(--sklearn-color-unfitted-level-2);\n",
       "}\n",
       "\n",
       "#sk-container-id-3 div.sk-estimator.fitted:hover {\n",
       "  /* fitted */\n",
       "  background-color: var(--sklearn-color-fitted-level-2);\n",
       "}\n",
       "\n",
       "/* Specification for estimator info (e.g. \"i\" and \"?\") */\n",
       "\n",
       "/* Common style for \"i\" and \"?\" */\n",
       "\n",
       ".sk-estimator-doc-link,\n",
       "a:link.sk-estimator-doc-link,\n",
       "a:visited.sk-estimator-doc-link {\n",
       "  float: right;\n",
       "  font-size: smaller;\n",
       "  line-height: 1em;\n",
       "  font-family: monospace;\n",
       "  background-color: var(--sklearn-color-background);\n",
       "  border-radius: 1em;\n",
       "  height: 1em;\n",
       "  width: 1em;\n",
       "  text-decoration: none !important;\n",
       "  margin-left: 1ex;\n",
       "  /* unfitted */\n",
       "  border: var(--sklearn-color-unfitted-level-1) 1pt solid;\n",
       "  color: var(--sklearn-color-unfitted-level-1);\n",
       "}\n",
       "\n",
       ".sk-estimator-doc-link.fitted,\n",
       "a:link.sk-estimator-doc-link.fitted,\n",
       "a:visited.sk-estimator-doc-link.fitted {\n",
       "  /* fitted */\n",
       "  border: var(--sklearn-color-fitted-level-1) 1pt solid;\n",
       "  color: var(--sklearn-color-fitted-level-1);\n",
       "}\n",
       "\n",
       "/* On hover */\n",
       "div.sk-estimator:hover .sk-estimator-doc-link:hover,\n",
       ".sk-estimator-doc-link:hover,\n",
       "div.sk-label-container:hover .sk-estimator-doc-link:hover,\n",
       ".sk-estimator-doc-link:hover {\n",
       "  /* unfitted */\n",
       "  background-color: var(--sklearn-color-unfitted-level-3);\n",
       "  color: var(--sklearn-color-background);\n",
       "  text-decoration: none;\n",
       "}\n",
       "\n",
       "div.sk-estimator.fitted:hover .sk-estimator-doc-link.fitted:hover,\n",
       ".sk-estimator-doc-link.fitted:hover,\n",
       "div.sk-label-container:hover .sk-estimator-doc-link.fitted:hover,\n",
       ".sk-estimator-doc-link.fitted:hover {\n",
       "  /* fitted */\n",
       "  background-color: var(--sklearn-color-fitted-level-3);\n",
       "  color: var(--sklearn-color-background);\n",
       "  text-decoration: none;\n",
       "}\n",
       "\n",
       "/* Span, style for the box shown on hovering the info icon */\n",
       ".sk-estimator-doc-link span {\n",
       "  display: none;\n",
       "  z-index: 9999;\n",
       "  position: relative;\n",
       "  font-weight: normal;\n",
       "  right: .2ex;\n",
       "  padding: .5ex;\n",
       "  margin: .5ex;\n",
       "  width: min-content;\n",
       "  min-width: 20ex;\n",
       "  max-width: 50ex;\n",
       "  color: var(--sklearn-color-text);\n",
       "  box-shadow: 2pt 2pt 4pt #999;\n",
       "  /* unfitted */\n",
       "  background: var(--sklearn-color-unfitted-level-0);\n",
       "  border: .5pt solid var(--sklearn-color-unfitted-level-3);\n",
       "}\n",
       "\n",
       ".sk-estimator-doc-link.fitted span {\n",
       "  /* fitted */\n",
       "  background: var(--sklearn-color-fitted-level-0);\n",
       "  border: var(--sklearn-color-fitted-level-3);\n",
       "}\n",
       "\n",
       ".sk-estimator-doc-link:hover span {\n",
       "  display: block;\n",
       "}\n",
       "\n",
       "/* \"?\"-specific style due to the `<a>` HTML tag */\n",
       "\n",
       "#sk-container-id-3 a.estimator_doc_link {\n",
       "  float: right;\n",
       "  font-size: 1rem;\n",
       "  line-height: 1em;\n",
       "  font-family: monospace;\n",
       "  background-color: var(--sklearn-color-background);\n",
       "  border-radius: 1rem;\n",
       "  height: 1rem;\n",
       "  width: 1rem;\n",
       "  text-decoration: none;\n",
       "  /* unfitted */\n",
       "  color: var(--sklearn-color-unfitted-level-1);\n",
       "  border: var(--sklearn-color-unfitted-level-1) 1pt solid;\n",
       "}\n",
       "\n",
       "#sk-container-id-3 a.estimator_doc_link.fitted {\n",
       "  /* fitted */\n",
       "  border: var(--sklearn-color-fitted-level-1) 1pt solid;\n",
       "  color: var(--sklearn-color-fitted-level-1);\n",
       "}\n",
       "\n",
       "/* On hover */\n",
       "#sk-container-id-3 a.estimator_doc_link:hover {\n",
       "  /* unfitted */\n",
       "  background-color: var(--sklearn-color-unfitted-level-3);\n",
       "  color: var(--sklearn-color-background);\n",
       "  text-decoration: none;\n",
       "}\n",
       "\n",
       "#sk-container-id-3 a.estimator_doc_link.fitted:hover {\n",
       "  /* fitted */\n",
       "  background-color: var(--sklearn-color-fitted-level-3);\n",
       "}\n",
       "</style><div id=\"sk-container-id-3\" class=\"sk-top-container\"><div class=\"sk-text-repr-fallback\"><pre>RandomizedSearchCV(cv=5,\n",
       "                   estimator=LGBMRegressor(num_threads=5, random_state=42),\n",
       "                   n_jobs=1,\n",
       "                   param_distributions={&#x27;boosting_type&#x27;: [&#x27;gbdt&#x27;],\n",
       "                                        &#x27;metric&#x27;: [&#x27;mean_squared_error&#x27;],\n",
       "                                        &#x27;objective&#x27;: [&#x27;regression&#x27;]},\n",
       "                   random_state=42, scoring=&#x27;neg_root_mean_squared_error&#x27;)</pre><b>In a Jupyter environment, please rerun this cell to show the HTML representation or trust the notebook. <br />On GitHub, the HTML representation is unable to render, please try loading this page with nbviewer.org.</b></div><div class=\"sk-container\" hidden><div class=\"sk-item sk-dashed-wrapped\"><div class=\"sk-label-container\"><div class=\"sk-label fitted sk-toggleable\"><input class=\"sk-toggleable__control sk-hidden--visually\" id=\"sk-estimator-id-23\" type=\"checkbox\" ><label for=\"sk-estimator-id-23\" class=\"sk-toggleable__label fitted sk-toggleable__label-arrow fitted\">&nbsp;&nbsp;RandomizedSearchCV<a class=\"sk-estimator-doc-link fitted\" rel=\"noreferrer\" target=\"_blank\" href=\"https://scikit-learn.org/1.5/modules/generated/sklearn.model_selection.RandomizedSearchCV.html\">?<span>Documentation for RandomizedSearchCV</span></a><span class=\"sk-estimator-doc-link fitted\">i<span>Fitted</span></span></label><div class=\"sk-toggleable__content fitted\"><pre>RandomizedSearchCV(cv=5,\n",
       "                   estimator=LGBMRegressor(num_threads=5, random_state=42),\n",
       "                   n_jobs=1,\n",
       "                   param_distributions={&#x27;boosting_type&#x27;: [&#x27;gbdt&#x27;],\n",
       "                                        &#x27;metric&#x27;: [&#x27;mean_squared_error&#x27;],\n",
       "                                        &#x27;objective&#x27;: [&#x27;regression&#x27;]},\n",
       "                   random_state=42, scoring=&#x27;neg_root_mean_squared_error&#x27;)</pre></div> </div></div><div class=\"sk-parallel\"><div class=\"sk-parallel-item\"><div class=\"sk-item\"><div class=\"sk-label-container\"><div class=\"sk-label fitted sk-toggleable\"><input class=\"sk-toggleable__control sk-hidden--visually\" id=\"sk-estimator-id-24\" type=\"checkbox\" ><label for=\"sk-estimator-id-24\" class=\"sk-toggleable__label fitted sk-toggleable__label-arrow fitted\">best_estimator_: LGBMRegressor</label><div class=\"sk-toggleable__content fitted\"><pre>LGBMRegressor(metric=&#x27;mean_squared_error&#x27;, num_threads=5,\n",
       "              objective=&#x27;regression&#x27;, random_state=42)</pre></div> </div></div><div class=\"sk-serial\"><div class=\"sk-item\"><div class=\"sk-estimator fitted sk-toggleable\"><input class=\"sk-toggleable__control sk-hidden--visually\" id=\"sk-estimator-id-25\" type=\"checkbox\" ><label for=\"sk-estimator-id-25\" class=\"sk-toggleable__label fitted sk-toggleable__label-arrow fitted\">LGBMRegressor</label><div class=\"sk-toggleable__content fitted\"><pre>LGBMRegressor(metric=&#x27;mean_squared_error&#x27;, num_threads=5,\n",
       "              objective=&#x27;regression&#x27;, random_state=42)</pre></div> </div></div></div></div></div></div></div></div></div>"
      ],
      "text/plain": [
       "RandomizedSearchCV(cv=5,\n",
       "                   estimator=LGBMRegressor(num_threads=5, random_state=42),\n",
       "                   n_jobs=1,\n",
       "                   param_distributions={'boosting_type': ['gbdt'],\n",
       "                                        'metric': ['mean_squared_error'],\n",
       "                                        'objective': ['regression']},\n",
       "                   random_state=42, scoring='neg_root_mean_squared_error')"
      ]
     },
     "execution_count": 47,
     "metadata": {},
     "output_type": "execute_result"
    }
   ],
   "source": [
    "rs_lgb.fit(X_train, y_train)"
   ]
  },
  {
   "cell_type": "code",
   "execution_count": 48,
   "id": "32763d25",
   "metadata": {},
   "outputs": [
    {
     "name": "stdout",
     "output_type": "stream",
     "text": [
      "Время обучения 0.49607205390930176\n",
      "RMSE 1521\n"
     ]
    }
   ],
   "source": [
    "print('Время обучения', rs_lgb.refit_time_)\n",
    "print('RMSE', round(abs(rs_lgb.best_score_)))"
   ]
  },
  {
   "cell_type": "markdown",
   "id": "6138f309",
   "metadata": {},
   "source": [
    "Выберем лучшую модель, *основыясь на три признака*: RMSE по кросс-валидации, время обучения и скорость работы:"
   ]
  },
  {
   "cell_type": "code",
   "execution_count": 49,
   "id": "3c92361c",
   "metadata": {},
   "outputs": [
    {
     "name": "stderr",
     "output_type": "stream",
     "text": [
      "/opt/anaconda3/lib/python3.11/site-packages/sklearn/preprocessing/_encoders.py:242: UserWarning: Found unknown categories in columns [1] during transform. These unknown categories will be encoded as all zeros\n",
      "  warnings.warn(\n",
      "/opt/anaconda3/lib/python3.11/site-packages/sklearn/preprocessing/_encoders.py:242: UserWarning: Found unknown categories in columns [1] during transform. These unknown categories will be encoded as all zeros\n",
      "  warnings.warn(\n"
     ]
    }
   ],
   "source": [
    "# сперва посчитаем скорость предсказания\n",
    "start_time = time.time()\n",
    "y_pred_lr = rs_lr.predict(X_test)\n",
    "end_time = time.time()\n",
    "prediction_time_lr = end_time - start_time\n",
    "\n",
    "start_time = time.time()\n",
    "y_pred_dtr = rs_dtr.predict(X_test)\n",
    "end_time = time.time()\n",
    "prediction_time_dtr = end_time - start_time\n",
    "\n",
    "for c in cat_col:\n",
    "    X_test[c] = X_test[c].astype('category')\n",
    "\n",
    "start_time = time.time()\n",
    "y_pred_lbg = rs_lgb.predict(X_test)\n",
    "end_time = time.time()\n",
    "prediction_time_lbg = end_time - start_time"
   ]
  },
  {
   "cell_type": "markdown",
   "id": "730b88d9",
   "metadata": {},
   "source": [
    "Далее произведем сравнение. Для удобства создадим таблицу:"
   ]
  },
  {
   "cell_type": "code",
   "execution_count": 50,
   "id": "825008a5",
   "metadata": {},
   "outputs": [
    {
     "data": {
      "text/html": [
       "<div>\n",
       "<style scoped>\n",
       "    .dataframe tbody tr th:only-of-type {\n",
       "        vertical-align: middle;\n",
       "    }\n",
       "\n",
       "    .dataframe tbody tr th {\n",
       "        vertical-align: top;\n",
       "    }\n",
       "\n",
       "    .dataframe thead th {\n",
       "        text-align: right;\n",
       "    }\n",
       "</style>\n",
       "<table border=\"1\" class=\"dataframe\">\n",
       "  <thead>\n",
       "    <tr style=\"text-align: right;\">\n",
       "      <th></th>\n",
       "      <th>Модель</th>\n",
       "      <th>Время обучения</th>\n",
       "      <th>Время предсказания</th>\n",
       "      <th>RMSE</th>\n",
       "    </tr>\n",
       "  </thead>\n",
       "  <tbody>\n",
       "    <tr>\n",
       "      <th>0</th>\n",
       "      <td>Linear Regression</td>\n",
       "      <td>1.230602</td>\n",
       "      <td>0.070145</td>\n",
       "      <td>2423</td>\n",
       "    </tr>\n",
       "    <tr>\n",
       "      <th>1</th>\n",
       "      <td>Decision Tree</td>\n",
       "      <td>0.425753</td>\n",
       "      <td>0.071115</td>\n",
       "      <td>2324</td>\n",
       "    </tr>\n",
       "    <tr>\n",
       "      <th>2</th>\n",
       "      <td>LightGBM</td>\n",
       "      <td>0.496072</td>\n",
       "      <td>0.074483</td>\n",
       "      <td>1521</td>\n",
       "    </tr>\n",
       "  </tbody>\n",
       "</table>\n",
       "</div>"
      ],
      "text/plain": [
       "              Модель  Время обучения  Время предсказания  RMSE\n",
       "0  Linear Regression        1.230602            0.070145  2423\n",
       "1      Decision Tree        0.425753            0.071115  2324\n",
       "2           LightGBM        0.496072            0.074483  1521"
      ]
     },
     "metadata": {},
     "output_type": "display_data"
    }
   ],
   "source": [
    "models_info = {\n",
    "    'Модель': ['Linear Regression', 'Decision Tree', 'LightGBM'],\n",
    "    'Время обучения': [rs_lr.refit_time_, rs_dtr.refit_time_, rs_lgb.refit_time_],\n",
    "    'Время предсказания': [prediction_time_lr, prediction_time_dtr, prediction_time_lbg],\n",
    "    'RMSE': [round(abs(rs_lr.best_score_)), round(abs(rs_dtr.best_score_)), round(abs(rs_lgb.best_score_))]\n",
    "}\n",
    "\n",
    "models_comparison = pd.DataFrame(models_info)\n",
    "display(models_comparison)"
   ]
  },
  {
   "cell_type": "markdown",
   "id": "0a1d639f",
   "metadata": {},
   "source": [
    "Как видим, оптимальнее всего - `LightGBM`. Даже несмотря на то, что она незначительно усткпает Decision Tree в скорости обучения."
   ]
  },
  {
   "cell_type": "markdown",
   "id": "b75fef30",
   "metadata": {},
   "source": [
    "Применим данную модель к тестовым данным и посчитаем `итоговую метрику`:"
   ]
  },
  {
   "cell_type": "code",
   "execution_count": 51,
   "id": "6435c06f",
   "metadata": {},
   "outputs": [
    {
     "name": "stdout",
     "output_type": "stream",
     "text": [
      "Итогова метрика RMSE для модели LightGBM на тестовых данных: 1515.44\n"
     ]
    },
    {
     "name": "stderr",
     "output_type": "stream",
     "text": [
      "/opt/anaconda3/lib/python3.11/site-packages/sklearn/metrics/_regression.py:492: FutureWarning: 'squared' is deprecated in version 1.4 and will be removed in 1.6. To calculate the root mean squared error, use the function'root_mean_squared_error'.\n",
      "  warnings.warn(\n"
     ]
    }
   ],
   "source": [
    "#качество предсказания\n",
    "    \n",
    "y_preds = rs_lgb.predict(X_test)\n",
    "rmse = mean_squared_error(y_test, y_preds, squared=False)\n",
    "print(\"Итогова метрика RMSE для модели LightGBM на тестовых данных: {:.2f}\".format(rmse))"
   ]
  },
  {
   "cell_type": "markdown",
   "id": "ca44e053",
   "metadata": {},
   "source": [
    "<div class=\"alert\"; style=\"border-left: 7px solid pink\">\n",
    "\n",
    "**Мини-вывод**:   \n",
    "- Опираясь на критерии заказчика - качество предсказания, время обучения модели и время предсказания модели - лучшей моделью является `LightGBM`\n",
    "- `RMSE` = 1515\n",
    "- `Время обучения`: < 1 сек.\n",
    "- `Гиперпараметры`: {'objective': 'regression', 'metric': 'mean_squared_error', 'boosting_type': 'gbdt'}\n",
    "</div>"
   ]
  },
  {
   "cell_type": "markdown",
   "id": "c0cb9219",
   "metadata": {},
   "source": [
    "##  Вывод <a id='6'> </a>"
   ]
  },
  {
   "cell_type": "markdown",
   "id": "5388cc30",
   "metadata": {},
   "source": [
    "____\n",
    "В рамках проекта анализировались данные сервиса по продаже автомобилей с пробегом «Не бит, не крашен» **с целью** построения модели, которая умеет определять рыночную стоимость автомобиля на основании данных о технических характеристиках, комплектации и ценах других автомобилей.\n",
    "____\n",
    "**В результате первичного изучения и предобработки данных было определено**:\n",
    "- в таблице `354369` строк и `16` столбков (признаков)\n",
    "- в стобцах `vehicle_type`, `gearbox`, `model`, `fuel_type`, `repaired` есть пропуски\n",
    "- в таблице `10194` явных дубликатов\n",
    "- есть записи с `нулевой ценой`\n",
    "- есть с `нереальной годом` регистрации автомобиля (1000 г. и 9999 г.)\n",
    "- есть записи с `нулевой мощностью` автомобиля\n",
    "- есть записи с `нулевым месяцем` регистрации автомобиля\n",
    "- во всех объявлениях` 0 фотографий` автомобиля (судя по данным)\n",
    "- заполнение пропусков\n",
    "- удаление аномалий\n",
    "- Удаление дубликатов\n",
    "- Удаление неинформативных признаков\n",
    "\n",
    "____\n",
    "**В результате предобработки данных было произведено**:\n",
    "- заполнение пропусков\n",
    "- удаление аномалий\n",
    "- Удаление дубликатов\n",
    "- Удаление неинформативных признаков\n",
    "____\n",
    "**В результате исследовательского и корреляционного анализа данных было определено**:\n",
    "- Представленные машин имеют пробег более `80 000 км`, как правило - более `120 000 км`. При этом по данному показателю есть `небольшое число выбросов`;\n",
    "- В данных с годом регистрации `большое количество выбросов`. Большинство машин были зарегистрированы с `1990 по 2018`. Машины, которые `ремонтировались`, как правило, `более старые`;\n",
    "- Распределение цен на машины имеет `левосторонний номральный вид`. При этом в данных `большое количество выбросов`. Машины, которые `ремонитровались`, как правило `дешевле`\n",
    "- `~29%` машин - `sedan`, `~25.3%` машин - `small`, `~20.7%` машин - `wagon`, `~9.1%` машин - `bus`;\n",
    "- `80%` машин имеют `механическую` коробку передач, `20%` машин имеют `автоматическую` коробку передач;\n",
    "- `~90%` машин  не ремонитровались, `~10%` машин - ремонитровались;\n",
    "- наиболее `популярные бренды` мащин - `volkswagen`, `opel`, `bmw`, `mercedes_benz` и `audi`. Около `50 тыс.` машин - `менее известных` брендов;\n",
    "- наиболее `популярные типы топлива` - `petrol` (`68%`) и `gasoline` (`31%`).\n",
    "- `умеренная` положительная связь между `price` и `registration_year`;\n",
    "- `умеренная` положительная связь между `price` и `model`;\n",
    "- `умеренная` положительная связь между `registration_year` и `model`;\n",
    "- `умеренная` положительная связь между `model` и `gearbox`;\n",
    "- `умеренная` положительная связь между `vehicle_type` и `brand`;\n",
    "- `умеренная` положительная связь между `brand` и `gearbox`;\n",
    "- `сильная` положительная связь между `vehicle_type` и `model`;\n",
    "- `сильная` положительная связь между `model` и `brand`;\n",
    "____\n",
    "В рамках разработки модели наилучшим образом себя показала модель `LightGBM`: `RMSE` = `1521`. Скорость обучения модели - `1.12 секунды`. Скорость предсказания - `0.29 секунды`."
   ]
  }
 ],
 "metadata": {
  "ExecuteTimeLog": [
   {
    "duration": 1408,
    "start_time": "2024-03-11T15:46:25.520Z"
   },
   {
    "duration": 997,
    "start_time": "2024-03-11T15:46:26.930Z"
   },
   {
    "duration": 49,
    "start_time": "2024-03-11T15:46:27.928Z"
   },
   {
    "duration": 106,
    "start_time": "2024-03-11T15:46:27.978Z"
   },
   {
    "duration": 99,
    "start_time": "2024-03-11T15:46:28.086Z"
   },
   {
    "duration": 268,
    "start_time": "2024-03-11T15:46:28.186Z"
   },
   {
    "duration": 112,
    "start_time": "2024-03-11T15:46:28.456Z"
   },
   {
    "duration": 88,
    "start_time": "2024-03-11T15:46:28.569Z"
   },
   {
    "duration": 2,
    "start_time": "2024-03-11T15:46:28.658Z"
   },
   {
    "duration": 4,
    "start_time": "2024-03-11T15:46:28.661Z"
   },
   {
    "duration": 3,
    "start_time": "2024-03-11T15:46:28.666Z"
   },
   {
    "duration": 10,
    "start_time": "2024-03-11T15:46:28.670Z"
   },
   {
    "duration": 27,
    "start_time": "2024-03-11T15:46:28.681Z"
   },
   {
    "duration": 9,
    "start_time": "2024-03-11T15:46:28.710Z"
   },
   {
    "duration": 12,
    "start_time": "2024-03-11T15:46:28.720Z"
   },
   {
    "duration": 65,
    "start_time": "2024-03-11T15:46:28.733Z"
   },
   {
    "duration": 3,
    "start_time": "2024-03-11T15:46:28.799Z"
   },
   {
    "duration": 59,
    "start_time": "2024-03-11T15:46:28.803Z"
   },
   {
    "duration": 2,
    "start_time": "2024-03-11T15:46:28.864Z"
   },
   {
    "duration": 123,
    "start_time": "2024-03-11T15:46:28.867Z"
   },
   {
    "duration": 3,
    "start_time": "2024-03-11T15:46:28.991Z"
   },
   {
    "duration": 4,
    "start_time": "2024-03-11T15:46:29.001Z"
   },
   {
    "duration": 42,
    "start_time": "2024-03-11T15:46:29.006Z"
   },
   {
    "duration": 92,
    "start_time": "2024-03-11T15:46:29.050Z"
   },
   {
    "duration": 206,
    "start_time": "2024-03-11T15:46:29.144Z"
   },
   {
    "duration": 250,
    "start_time": "2024-03-11T15:46:29.351Z"
   },
   {
    "duration": 202,
    "start_time": "2024-03-11T15:46:29.603Z"
   },
   {
    "duration": 26,
    "start_time": "2024-03-11T15:46:29.806Z"
   },
   {
    "duration": 19,
    "start_time": "2024-03-11T15:46:29.833Z"
   },
   {
    "duration": 22,
    "start_time": "2024-03-11T15:46:29.853Z"
   },
   {
    "duration": 47,
    "start_time": "2024-03-11T15:47:03.760Z"
   },
   {
    "duration": 1255,
    "start_time": "2024-03-11T15:48:13.152Z"
   },
   {
    "duration": 734,
    "start_time": "2024-03-11T15:48:14.409Z"
   },
   {
    "duration": 49,
    "start_time": "2024-03-11T15:48:15.145Z"
   },
   {
    "duration": 111,
    "start_time": "2024-03-11T15:48:15.202Z"
   },
   {
    "duration": 116,
    "start_time": "2024-03-11T15:48:15.315Z"
   },
   {
    "duration": 290,
    "start_time": "2024-03-11T15:48:15.432Z"
   },
   {
    "duration": 117,
    "start_time": "2024-03-11T15:48:15.724Z"
   },
   {
    "duration": 94,
    "start_time": "2024-03-11T15:48:15.842Z"
   },
   {
    "duration": 2,
    "start_time": "2024-03-11T15:48:15.937Z"
   },
   {
    "duration": 20,
    "start_time": "2024-03-11T15:48:15.941Z"
   },
   {
    "duration": 25,
    "start_time": "2024-03-11T15:48:15.963Z"
   },
   {
    "duration": 15,
    "start_time": "2024-03-11T15:48:15.990Z"
   },
   {
    "duration": 11,
    "start_time": "2024-03-11T15:48:16.006Z"
   },
   {
    "duration": 8,
    "start_time": "2024-03-11T15:48:16.018Z"
   },
   {
    "duration": 30,
    "start_time": "2024-03-11T15:48:16.027Z"
   },
   {
    "duration": 62,
    "start_time": "2024-03-11T15:48:16.058Z"
   },
   {
    "duration": 2,
    "start_time": "2024-03-11T15:48:16.122Z"
   },
   {
    "duration": 54,
    "start_time": "2024-03-11T15:48:16.126Z"
   },
   {
    "duration": 2,
    "start_time": "2024-03-11T15:48:16.181Z"
   },
   {
    "duration": 150,
    "start_time": "2024-03-11T15:48:16.184Z"
   },
   {
    "duration": 3,
    "start_time": "2024-03-11T15:48:16.335Z"
   },
   {
    "duration": 7,
    "start_time": "2024-03-11T15:48:16.339Z"
   },
   {
    "duration": 58,
    "start_time": "2024-03-11T15:48:16.347Z"
   },
   {
    "duration": 80,
    "start_time": "2024-03-11T15:48:16.406Z"
   },
   {
    "duration": 206,
    "start_time": "2024-03-11T15:48:16.487Z"
   },
   {
    "duration": 257,
    "start_time": "2024-03-11T15:48:16.695Z"
   },
   {
    "duration": 201,
    "start_time": "2024-03-11T15:48:16.954Z"
   },
   {
    "duration": 27,
    "start_time": "2024-03-11T15:48:17.158Z"
   },
   {
    "duration": 28,
    "start_time": "2024-03-11T15:48:17.186Z"
   },
   {
    "duration": 23,
    "start_time": "2024-03-11T15:48:17.215Z"
   },
   {
    "duration": 63,
    "start_time": "2024-03-11T15:48:17.239Z"
   },
   {
    "duration": 3,
    "start_time": "2024-03-11T15:48:17.303Z"
   },
   {
    "duration": 3845,
    "start_time": "2024-03-11T15:48:17.307Z"
   },
   {
    "duration": 402,
    "start_time": "2024-03-11T15:48:21.154Z"
   },
   {
    "duration": 3,
    "start_time": "2024-03-11T15:48:21.558Z"
   },
   {
    "duration": 119,
    "start_time": "2024-03-11T15:48:21.563Z"
   },
   {
    "duration": 96,
    "start_time": "2024-03-11T15:48:21.683Z"
   },
   {
    "duration": 209,
    "start_time": "2024-03-11T15:48:21.781Z"
   },
   {
    "duration": 253,
    "start_time": "2024-03-11T15:48:21.992Z"
   },
   {
    "duration": 286,
    "start_time": "2024-03-11T15:48:22.247Z"
   },
   {
    "duration": 3486,
    "start_time": "2024-03-11T15:48:22.534Z"
   },
   {
    "duration": 11,
    "start_time": "2024-03-11T15:48:26.021Z"
   },
   {
    "duration": 2,
    "start_time": "2024-03-11T15:48:26.034Z"
   },
   {
    "duration": 118,
    "start_time": "2024-03-11T15:48:26.037Z"
   },
   {
    "duration": 0,
    "start_time": "2024-03-11T15:48:26.156Z"
   },
   {
    "duration": 0,
    "start_time": "2024-03-11T15:48:26.157Z"
   },
   {
    "duration": 0,
    "start_time": "2024-03-11T15:48:26.157Z"
   },
   {
    "duration": 0,
    "start_time": "2024-03-11T15:48:26.158Z"
   },
   {
    "duration": 0,
    "start_time": "2024-03-11T15:48:26.158Z"
   },
   {
    "duration": 0,
    "start_time": "2024-03-11T15:48:26.159Z"
   },
   {
    "duration": 0,
    "start_time": "2024-03-11T15:48:26.160Z"
   },
   {
    "duration": 0,
    "start_time": "2024-03-11T15:48:26.160Z"
   },
   {
    "duration": 0,
    "start_time": "2024-03-11T15:48:26.161Z"
   },
   {
    "duration": 0,
    "start_time": "2024-03-11T15:48:26.162Z"
   },
   {
    "duration": 0,
    "start_time": "2024-03-11T15:48:26.162Z"
   },
   {
    "duration": 0,
    "start_time": "2024-03-11T15:48:26.163Z"
   },
   {
    "duration": 0,
    "start_time": "2024-03-11T15:48:26.164Z"
   },
   {
    "duration": 0,
    "start_time": "2024-03-11T15:48:26.165Z"
   },
   {
    "duration": 0,
    "start_time": "2024-03-11T15:48:26.165Z"
   },
   {
    "duration": 0,
    "start_time": "2024-03-11T15:48:26.166Z"
   },
   {
    "duration": 0,
    "start_time": "2024-03-11T15:48:26.167Z"
   },
   {
    "duration": 0,
    "start_time": "2024-03-11T15:48:26.168Z"
   },
   {
    "duration": 0,
    "start_time": "2024-03-11T15:48:26.168Z"
   },
   {
    "duration": 0,
    "start_time": "2024-03-11T15:48:26.169Z"
   },
   {
    "duration": 0,
    "start_time": "2024-03-11T15:48:26.170Z"
   },
   {
    "duration": 0,
    "start_time": "2024-03-11T15:48:26.171Z"
   },
   {
    "duration": 0,
    "start_time": "2024-03-11T15:48:26.172Z"
   },
   {
    "duration": 0,
    "start_time": "2024-03-11T15:48:26.173Z"
   },
   {
    "duration": 0,
    "start_time": "2024-03-11T15:48:26.173Z"
   },
   {
    "duration": 0,
    "start_time": "2024-03-11T15:48:26.174Z"
   },
   {
    "duration": 0,
    "start_time": "2024-03-11T15:48:26.175Z"
   },
   {
    "duration": 0,
    "start_time": "2024-03-11T15:48:26.201Z"
   },
   {
    "duration": 7864,
    "start_time": "2024-03-11T15:50:11.114Z"
   },
   {
    "duration": 2756,
    "start_time": "2024-03-11T15:50:18.981Z"
   },
   {
    "duration": 757,
    "start_time": "2024-03-11T15:50:21.738Z"
   },
   {
    "duration": 55,
    "start_time": "2024-03-11T15:50:22.497Z"
   },
   {
    "duration": 111,
    "start_time": "2024-03-11T15:50:22.553Z"
   },
   {
    "duration": 101,
    "start_time": "2024-03-11T15:50:22.666Z"
   },
   {
    "duration": 277,
    "start_time": "2024-03-11T15:50:22.768Z"
   },
   {
    "duration": 108,
    "start_time": "2024-03-11T15:50:23.046Z"
   },
   {
    "duration": 96,
    "start_time": "2024-03-11T15:50:23.155Z"
   },
   {
    "duration": 2,
    "start_time": "2024-03-11T15:50:23.253Z"
   },
   {
    "duration": 4,
    "start_time": "2024-03-11T15:50:23.256Z"
   },
   {
    "duration": 7,
    "start_time": "2024-03-11T15:50:23.261Z"
   },
   {
    "duration": 5,
    "start_time": "2024-03-11T15:50:23.269Z"
   },
   {
    "duration": 14,
    "start_time": "2024-03-11T15:50:23.275Z"
   },
   {
    "duration": 5,
    "start_time": "2024-03-11T15:50:23.290Z"
   },
   {
    "duration": 5,
    "start_time": "2024-03-11T15:50:23.295Z"
   },
   {
    "duration": 57,
    "start_time": "2024-03-11T15:50:23.301Z"
   },
   {
    "duration": 3,
    "start_time": "2024-03-11T15:50:23.359Z"
   },
   {
    "duration": 59,
    "start_time": "2024-03-11T15:50:23.363Z"
   },
   {
    "duration": 3,
    "start_time": "2024-03-11T15:50:23.423Z"
   },
   {
    "duration": 126,
    "start_time": "2024-03-11T15:50:23.427Z"
   },
   {
    "duration": 3,
    "start_time": "2024-03-11T15:50:23.555Z"
   },
   {
    "duration": 6,
    "start_time": "2024-03-11T15:50:23.559Z"
   },
   {
    "duration": 49,
    "start_time": "2024-03-11T15:50:23.566Z"
   },
   {
    "duration": 85,
    "start_time": "2024-03-11T15:50:23.616Z"
   },
   {
    "duration": 194,
    "start_time": "2024-03-11T15:50:23.703Z"
   },
   {
    "duration": 239,
    "start_time": "2024-03-11T15:50:23.901Z"
   },
   {
    "duration": 178,
    "start_time": "2024-03-11T15:50:24.144Z"
   },
   {
    "duration": 25,
    "start_time": "2024-03-11T15:50:24.324Z"
   },
   {
    "duration": 17,
    "start_time": "2024-03-11T15:50:24.350Z"
   },
   {
    "duration": 37,
    "start_time": "2024-03-11T15:50:24.368Z"
   },
   {
    "duration": 48,
    "start_time": "2024-03-11T15:50:24.406Z"
   },
   {
    "duration": 12,
    "start_time": "2024-03-11T15:50:24.455Z"
   },
   {
    "duration": 3629,
    "start_time": "2024-03-11T15:50:24.468Z"
   },
   {
    "duration": 370,
    "start_time": "2024-03-11T15:50:28.099Z"
   },
   {
    "duration": 3,
    "start_time": "2024-03-11T15:50:28.471Z"
   },
   {
    "duration": 125,
    "start_time": "2024-03-11T15:50:28.476Z"
   },
   {
    "duration": 75,
    "start_time": "2024-03-11T15:50:28.603Z"
   },
   {
    "duration": 209,
    "start_time": "2024-03-11T15:50:28.680Z"
   },
   {
    "duration": 262,
    "start_time": "2024-03-11T15:50:28.891Z"
   },
   {
    "duration": 289,
    "start_time": "2024-03-11T15:50:29.155Z"
   },
   {
    "duration": 3563,
    "start_time": "2024-03-11T15:50:29.445Z"
   },
   {
    "duration": 11,
    "start_time": "2024-03-11T15:50:33.009Z"
   },
   {
    "duration": 11,
    "start_time": "2024-03-11T15:50:33.022Z"
   },
   {
    "duration": 11,
    "start_time": "2024-03-11T15:50:33.034Z"
   },
   {
    "duration": 13,
    "start_time": "2024-03-11T15:50:33.046Z"
   },
   {
    "duration": 57,
    "start_time": "2024-03-11T15:50:33.060Z"
   },
   {
    "duration": 2,
    "start_time": "2024-03-11T15:50:33.118Z"
   },
   {
    "duration": 5,
    "start_time": "2024-03-11T15:50:33.122Z"
   },
   {
    "duration": 4,
    "start_time": "2024-03-11T15:50:33.128Z"
   },
   {
    "duration": 3,
    "start_time": "2024-03-11T15:50:33.133Z"
   },
   {
    "duration": 1335,
    "start_time": "2024-03-11T15:50:33.137Z"
   },
   {
    "duration": 0,
    "start_time": "2024-03-11T15:50:34.473Z"
   },
   {
    "duration": 0,
    "start_time": "2024-03-11T15:50:34.474Z"
   },
   {
    "duration": 0,
    "start_time": "2024-03-11T15:50:34.475Z"
   },
   {
    "duration": 0,
    "start_time": "2024-03-11T15:50:34.476Z"
   },
   {
    "duration": 0,
    "start_time": "2024-03-11T15:50:34.476Z"
   },
   {
    "duration": 0,
    "start_time": "2024-03-11T15:50:34.477Z"
   },
   {
    "duration": 0,
    "start_time": "2024-03-11T15:50:34.478Z"
   },
   {
    "duration": 0,
    "start_time": "2024-03-11T15:50:34.479Z"
   },
   {
    "duration": 0,
    "start_time": "2024-03-11T15:50:34.479Z"
   },
   {
    "duration": 0,
    "start_time": "2024-03-11T15:50:34.481Z"
   },
   {
    "duration": 0,
    "start_time": "2024-03-11T15:50:34.481Z"
   },
   {
    "duration": 0,
    "start_time": "2024-03-11T15:50:34.482Z"
   },
   {
    "duration": 0,
    "start_time": "2024-03-11T15:50:34.501Z"
   },
   {
    "duration": 0,
    "start_time": "2024-03-11T15:50:34.502Z"
   },
   {
    "duration": 0,
    "start_time": "2024-03-11T15:50:34.503Z"
   },
   {
    "duration": 0,
    "start_time": "2024-03-11T15:50:34.504Z"
   },
   {
    "duration": 0,
    "start_time": "2024-03-11T15:50:34.505Z"
   },
   {
    "duration": 0,
    "start_time": "2024-03-11T15:50:34.506Z"
   },
   {
    "duration": 0,
    "start_time": "2024-03-11T15:50:34.507Z"
   },
   {
    "duration": 0,
    "start_time": "2024-03-11T15:50:34.508Z"
   },
   {
    "duration": 0,
    "start_time": "2024-03-11T15:50:34.509Z"
   },
   {
    "duration": 4851,
    "start_time": "2024-03-11T15:53:11.286Z"
   },
   {
    "duration": 1375,
    "start_time": "2024-03-11T15:53:16.139Z"
   },
   {
    "duration": 732,
    "start_time": "2024-03-11T15:53:17.515Z"
   },
   {
    "duration": 67,
    "start_time": "2024-03-11T15:53:18.249Z"
   },
   {
    "duration": 114,
    "start_time": "2024-03-11T15:53:18.319Z"
   },
   {
    "duration": 107,
    "start_time": "2024-03-11T15:53:18.435Z"
   },
   {
    "duration": 257,
    "start_time": "2024-03-11T15:53:18.543Z"
   },
   {
    "duration": 113,
    "start_time": "2024-03-11T15:53:18.802Z"
   },
   {
    "duration": 88,
    "start_time": "2024-03-11T15:53:18.917Z"
   },
   {
    "duration": 2,
    "start_time": "2024-03-11T15:53:19.007Z"
   },
   {
    "duration": 4,
    "start_time": "2024-03-11T15:53:19.011Z"
   },
   {
    "duration": 5,
    "start_time": "2024-03-11T15:53:19.016Z"
   },
   {
    "duration": 5,
    "start_time": "2024-03-11T15:53:19.022Z"
   },
   {
    "duration": 9,
    "start_time": "2024-03-11T15:53:19.029Z"
   },
   {
    "duration": 5,
    "start_time": "2024-03-11T15:53:19.039Z"
   },
   {
    "duration": 10,
    "start_time": "2024-03-11T15:53:19.045Z"
   },
   {
    "duration": 62,
    "start_time": "2024-03-11T15:53:19.056Z"
   },
   {
    "duration": 4,
    "start_time": "2024-03-11T15:53:19.119Z"
   },
   {
    "duration": 56,
    "start_time": "2024-03-11T15:53:19.124Z"
   },
   {
    "duration": 3,
    "start_time": "2024-03-11T15:53:19.182Z"
   },
   {
    "duration": 135,
    "start_time": "2024-03-11T15:53:19.186Z"
   },
   {
    "duration": 2,
    "start_time": "2024-03-11T15:53:19.323Z"
   },
   {
    "duration": 12,
    "start_time": "2024-03-11T15:53:19.326Z"
   },
   {
    "duration": 41,
    "start_time": "2024-03-11T15:53:19.339Z"
   },
   {
    "duration": 87,
    "start_time": "2024-03-11T15:53:19.381Z"
   },
   {
    "duration": 238,
    "start_time": "2024-03-11T15:53:19.470Z"
   },
   {
    "duration": 255,
    "start_time": "2024-03-11T15:53:19.710Z"
   },
   {
    "duration": 203,
    "start_time": "2024-03-11T15:53:19.967Z"
   },
   {
    "duration": 38,
    "start_time": "2024-03-11T15:53:20.171Z"
   },
   {
    "duration": 24,
    "start_time": "2024-03-11T15:53:20.210Z"
   },
   {
    "duration": 60,
    "start_time": "2024-03-11T15:53:20.235Z"
   },
   {
    "duration": 65,
    "start_time": "2024-03-11T15:53:20.296Z"
   },
   {
    "duration": 11,
    "start_time": "2024-03-11T15:53:20.363Z"
   },
   {
    "duration": 3689,
    "start_time": "2024-03-11T15:53:20.376Z"
   },
   {
    "duration": 355,
    "start_time": "2024-03-11T15:53:24.067Z"
   },
   {
    "duration": 10,
    "start_time": "2024-03-11T15:53:24.423Z"
   },
   {
    "duration": 129,
    "start_time": "2024-03-11T15:53:24.435Z"
   },
   {
    "duration": 83,
    "start_time": "2024-03-11T15:53:24.565Z"
   },
   {
    "duration": 197,
    "start_time": "2024-03-11T15:53:24.649Z"
   },
   {
    "duration": 282,
    "start_time": "2024-03-11T15:53:24.847Z"
   },
   {
    "duration": 290,
    "start_time": "2024-03-11T15:53:25.133Z"
   },
   {
    "duration": 3420,
    "start_time": "2024-03-11T15:53:25.424Z"
   },
   {
    "duration": 11,
    "start_time": "2024-03-11T15:53:28.845Z"
   },
   {
    "duration": 2,
    "start_time": "2024-03-11T15:53:28.858Z"
   },
   {
    "duration": 102,
    "start_time": "2024-03-11T15:53:28.862Z"
   },
   {
    "duration": 0,
    "start_time": "2024-03-11T15:53:28.965Z"
   },
   {
    "duration": 0,
    "start_time": "2024-03-11T15:53:28.967Z"
   },
   {
    "duration": 0,
    "start_time": "2024-03-11T15:53:28.968Z"
   },
   {
    "duration": 0,
    "start_time": "2024-03-11T15:53:28.969Z"
   },
   {
    "duration": 0,
    "start_time": "2024-03-11T15:53:28.970Z"
   },
   {
    "duration": 0,
    "start_time": "2024-03-11T15:53:28.971Z"
   },
   {
    "duration": 0,
    "start_time": "2024-03-11T15:53:28.973Z"
   },
   {
    "duration": 0,
    "start_time": "2024-03-11T15:53:28.974Z"
   },
   {
    "duration": 0,
    "start_time": "2024-03-11T15:53:28.975Z"
   },
   {
    "duration": 0,
    "start_time": "2024-03-11T15:53:28.976Z"
   },
   {
    "duration": 0,
    "start_time": "2024-03-11T15:53:28.977Z"
   },
   {
    "duration": 0,
    "start_time": "2024-03-11T15:53:28.979Z"
   },
   {
    "duration": 0,
    "start_time": "2024-03-11T15:53:28.980Z"
   },
   {
    "duration": 0,
    "start_time": "2024-03-11T15:53:28.981Z"
   },
   {
    "duration": 0,
    "start_time": "2024-03-11T15:53:29.001Z"
   },
   {
    "duration": 0,
    "start_time": "2024-03-11T15:53:29.003Z"
   },
   {
    "duration": 0,
    "start_time": "2024-03-11T15:53:29.004Z"
   },
   {
    "duration": 0,
    "start_time": "2024-03-11T15:53:29.005Z"
   },
   {
    "duration": 0,
    "start_time": "2024-03-11T15:53:29.006Z"
   },
   {
    "duration": 0,
    "start_time": "2024-03-11T15:53:29.008Z"
   },
   {
    "duration": 0,
    "start_time": "2024-03-11T15:53:29.009Z"
   },
   {
    "duration": 0,
    "start_time": "2024-03-11T15:53:29.010Z"
   },
   {
    "duration": 0,
    "start_time": "2024-03-11T15:53:29.011Z"
   },
   {
    "duration": 0,
    "start_time": "2024-03-11T15:53:29.011Z"
   },
   {
    "duration": 0,
    "start_time": "2024-03-11T15:53:29.012Z"
   },
   {
    "duration": 0,
    "start_time": "2024-03-11T15:53:29.013Z"
   },
   {
    "duration": 0,
    "start_time": "2024-03-11T15:53:29.014Z"
   },
   {
    "duration": 0,
    "start_time": "2024-03-11T15:53:29.015Z"
   },
   {
    "duration": 5,
    "start_time": "2024-03-11T15:54:43.408Z"
   },
   {
    "duration": 5,
    "start_time": "2024-03-11T15:54:55.347Z"
   },
   {
    "duration": 6,
    "start_time": "2024-03-11T15:55:03.451Z"
   },
   {
    "duration": 115,
    "start_time": "2024-03-11T15:58:59.457Z"
   },
   {
    "duration": 7386,
    "start_time": "2024-03-11T16:04:04.560Z"
   },
   {
    "duration": 759,
    "start_time": "2024-03-11T16:04:11.948Z"
   },
   {
    "duration": 53,
    "start_time": "2024-03-11T16:04:12.708Z"
   },
   {
    "duration": 109,
    "start_time": "2024-03-11T16:04:12.763Z"
   },
   {
    "duration": 96,
    "start_time": "2024-03-11T16:04:12.873Z"
   },
   {
    "duration": 251,
    "start_time": "2024-03-11T16:04:12.970Z"
   },
   {
    "duration": 113,
    "start_time": "2024-03-11T16:04:13.222Z"
   },
   {
    "duration": 90,
    "start_time": "2024-03-11T16:04:13.336Z"
   },
   {
    "duration": 3,
    "start_time": "2024-03-11T16:04:13.428Z"
   },
   {
    "duration": 22,
    "start_time": "2024-03-11T16:04:13.433Z"
   },
   {
    "duration": 8,
    "start_time": "2024-03-11T16:04:13.456Z"
   },
   {
    "duration": 4,
    "start_time": "2024-03-11T16:04:13.466Z"
   },
   {
    "duration": 7,
    "start_time": "2024-03-11T16:04:13.472Z"
   },
   {
    "duration": 9,
    "start_time": "2024-03-11T16:04:13.480Z"
   },
   {
    "duration": 4,
    "start_time": "2024-03-11T16:04:13.490Z"
   },
   {
    "duration": 65,
    "start_time": "2024-03-11T16:04:13.495Z"
   },
   {
    "duration": 3,
    "start_time": "2024-03-11T16:04:13.561Z"
   },
   {
    "duration": 59,
    "start_time": "2024-03-11T16:04:13.565Z"
   },
   {
    "duration": 3,
    "start_time": "2024-03-11T16:04:13.626Z"
   },
   {
    "duration": 123,
    "start_time": "2024-03-11T16:04:13.631Z"
   },
   {
    "duration": 3,
    "start_time": "2024-03-11T16:04:13.756Z"
   },
   {
    "duration": 13,
    "start_time": "2024-03-11T16:04:13.760Z"
   },
   {
    "duration": 5,
    "start_time": "2024-03-11T16:04:13.775Z"
   },
   {
    "duration": 54,
    "start_time": "2024-03-11T16:04:13.781Z"
   },
   {
    "duration": 87,
    "start_time": "2024-03-11T16:04:13.837Z"
   },
   {
    "duration": 199,
    "start_time": "2024-03-11T16:04:13.926Z"
   },
   {
    "duration": 235,
    "start_time": "2024-03-11T16:04:14.127Z"
   },
   {
    "duration": 172,
    "start_time": "2024-03-11T16:04:14.365Z"
   },
   {
    "duration": 33,
    "start_time": "2024-03-11T16:04:14.538Z"
   },
   {
    "duration": 34,
    "start_time": "2024-03-11T16:04:14.573Z"
   },
   {
    "duration": 44,
    "start_time": "2024-03-11T16:04:14.608Z"
   },
   {
    "duration": 56,
    "start_time": "2024-03-11T16:04:14.653Z"
   },
   {
    "duration": 2,
    "start_time": "2024-03-11T16:04:14.711Z"
   },
   {
    "duration": 3696,
    "start_time": "2024-03-11T16:04:14.714Z"
   },
   {
    "duration": 365,
    "start_time": "2024-03-11T16:04:18.412Z"
   },
   {
    "duration": 3,
    "start_time": "2024-03-11T16:04:18.778Z"
   },
   {
    "duration": 120,
    "start_time": "2024-03-11T16:04:18.783Z"
   },
   {
    "duration": 75,
    "start_time": "2024-03-11T16:04:18.904Z"
   },
   {
    "duration": 191,
    "start_time": "2024-03-11T16:04:18.980Z"
   },
   {
    "duration": 269,
    "start_time": "2024-03-11T16:04:19.173Z"
   },
   {
    "duration": 289,
    "start_time": "2024-03-11T16:04:19.443Z"
   },
   {
    "duration": 3586,
    "start_time": "2024-03-11T16:04:19.734Z"
   },
   {
    "duration": 17,
    "start_time": "2024-03-11T16:04:23.321Z"
   },
   {
    "duration": 5,
    "start_time": "2024-03-11T16:04:23.339Z"
   },
   {
    "duration": 3,
    "start_time": "2024-03-11T16:04:23.345Z"
   },
   {
    "duration": 5,
    "start_time": "2024-03-11T16:04:23.349Z"
   },
   {
    "duration": 37,
    "start_time": "2024-03-11T16:04:23.355Z"
   },
   {
    "duration": 2,
    "start_time": "2024-03-11T16:04:23.394Z"
   },
   {
    "duration": 27,
    "start_time": "2024-03-11T16:04:23.397Z"
   },
   {
    "duration": 5,
    "start_time": "2024-03-11T16:04:23.425Z"
   },
   {
    "duration": 4,
    "start_time": "2024-03-11T16:04:23.431Z"
   },
   {
    "duration": 1318,
    "start_time": "2024-03-11T16:04:23.436Z"
   },
   {
    "duration": 0,
    "start_time": "2024-03-11T16:04:24.755Z"
   },
   {
    "duration": 0,
    "start_time": "2024-03-11T16:04:24.756Z"
   },
   {
    "duration": 0,
    "start_time": "2024-03-11T16:04:24.757Z"
   },
   {
    "duration": 0,
    "start_time": "2024-03-11T16:04:24.758Z"
   },
   {
    "duration": 1,
    "start_time": "2024-03-11T16:04:24.758Z"
   },
   {
    "duration": 0,
    "start_time": "2024-03-11T16:04:24.759Z"
   },
   {
    "duration": 0,
    "start_time": "2024-03-11T16:04:24.760Z"
   },
   {
    "duration": 0,
    "start_time": "2024-03-11T16:04:24.761Z"
   },
   {
    "duration": 0,
    "start_time": "2024-03-11T16:04:24.761Z"
   },
   {
    "duration": 0,
    "start_time": "2024-03-11T16:04:24.762Z"
   },
   {
    "duration": 0,
    "start_time": "2024-03-11T16:04:24.763Z"
   },
   {
    "duration": 0,
    "start_time": "2024-03-11T16:04:24.764Z"
   },
   {
    "duration": 0,
    "start_time": "2024-03-11T16:04:24.764Z"
   },
   {
    "duration": 0,
    "start_time": "2024-03-11T16:04:24.765Z"
   },
   {
    "duration": 0,
    "start_time": "2024-03-11T16:04:24.765Z"
   },
   {
    "duration": 0,
    "start_time": "2024-03-11T16:04:24.766Z"
   },
   {
    "duration": 0,
    "start_time": "2024-03-11T16:04:24.767Z"
   },
   {
    "duration": 0,
    "start_time": "2024-03-11T16:04:24.768Z"
   },
   {
    "duration": 0,
    "start_time": "2024-03-11T16:04:24.768Z"
   },
   {
    "duration": 0,
    "start_time": "2024-03-11T16:04:24.769Z"
   },
   {
    "duration": 0,
    "start_time": "2024-03-11T16:04:24.770Z"
   },
   {
    "duration": 2,
    "start_time": "2024-03-11T16:09:44.417Z"
   },
   {
    "duration": 2,
    "start_time": "2024-03-11T16:09:45.389Z"
   },
   {
    "duration": 2,
    "start_time": "2024-03-11T16:09:45.798Z"
   },
   {
    "duration": 2,
    "start_time": "2024-03-11T16:09:46.430Z"
   },
   {
    "duration": 147,
    "start_time": "2024-03-11T16:09:47.189Z"
   },
   {
    "duration": 8600,
    "start_time": "2024-03-12T14:58:16.342Z"
   },
   {
    "duration": 1358,
    "start_time": "2024-03-12T14:58:24.944Z"
   },
   {
    "duration": 68,
    "start_time": "2024-03-12T14:58:26.303Z"
   },
   {
    "duration": 172,
    "start_time": "2024-03-12T14:58:26.372Z"
   },
   {
    "duration": 162,
    "start_time": "2024-03-12T14:58:26.546Z"
   },
   {
    "duration": 360,
    "start_time": "2024-03-12T14:58:26.710Z"
   },
   {
    "duration": 182,
    "start_time": "2024-03-12T14:58:27.072Z"
   },
   {
    "duration": 112,
    "start_time": "2024-03-12T14:58:27.256Z"
   },
   {
    "duration": 3,
    "start_time": "2024-03-12T14:58:27.370Z"
   },
   {
    "duration": 90,
    "start_time": "2024-03-12T14:58:27.375Z"
   },
   {
    "duration": 4,
    "start_time": "2024-03-12T14:58:27.467Z"
   },
   {
    "duration": 80,
    "start_time": "2024-03-12T14:58:27.473Z"
   },
   {
    "duration": 4,
    "start_time": "2024-03-12T14:58:27.555Z"
   },
   {
    "duration": 74,
    "start_time": "2024-03-12T14:58:27.562Z"
   },
   {
    "duration": 4,
    "start_time": "2024-03-12T14:58:27.638Z"
   },
   {
    "duration": 32,
    "start_time": "2024-03-12T14:58:27.644Z"
   },
   {
    "duration": 51,
    "start_time": "2024-03-12T14:58:27.678Z"
   },
   {
    "duration": 77,
    "start_time": "2024-03-12T14:58:27.734Z"
   },
   {
    "duration": 243,
    "start_time": "2024-03-12T14:58:27.813Z"
   },
   {
    "duration": 304,
    "start_time": "2024-03-12T14:58:28.057Z"
   },
   {
    "duration": 248,
    "start_time": "2024-03-12T14:58:28.364Z"
   },
   {
    "duration": 45,
    "start_time": "2024-03-12T14:58:28.614Z"
   },
   {
    "duration": 26,
    "start_time": "2024-03-12T14:58:28.660Z"
   },
   {
    "duration": 175,
    "start_time": "2024-03-12T14:58:28.688Z"
   },
   {
    "duration": 194,
    "start_time": "2024-03-12T14:58:28.864Z"
   },
   {
    "duration": 155,
    "start_time": "2024-03-12T14:58:29.059Z"
   },
   {
    "duration": 12,
    "start_time": "2024-03-12T14:58:29.215Z"
   },
   {
    "duration": 4119,
    "start_time": "2024-03-12T14:58:29.238Z"
   },
   {
    "duration": 706,
    "start_time": "2024-03-12T14:58:33.359Z"
   },
   {
    "duration": 5,
    "start_time": "2024-03-12T14:58:34.066Z"
   },
   {
    "duration": 188,
    "start_time": "2024-03-12T14:58:34.073Z"
   },
   {
    "duration": 120,
    "start_time": "2024-03-12T14:58:34.263Z"
   },
   {
    "duration": 168,
    "start_time": "2024-03-12T14:58:34.384Z"
   },
   {
    "duration": 390,
    "start_time": "2024-03-12T14:58:34.554Z"
   },
   {
    "duration": 333,
    "start_time": "2024-03-12T14:58:34.946Z"
   },
   {
    "duration": 6137,
    "start_time": "2024-03-12T14:58:35.281Z"
   },
   {
    "duration": 3,
    "start_time": "2024-03-12T14:58:41.420Z"
   },
   {
    "duration": 14,
    "start_time": "2024-03-12T14:58:41.426Z"
   },
   {
    "duration": 6,
    "start_time": "2024-03-12T14:58:41.442Z"
   },
   {
    "duration": 4,
    "start_time": "2024-03-12T14:58:41.450Z"
   },
   {
    "duration": 15,
    "start_time": "2024-03-12T14:58:41.457Z"
   },
   {
    "duration": 966,
    "start_time": "2024-03-12T14:58:41.473Z"
   },
   {
    "duration": 6345,
    "start_time": "2024-03-12T14:58:42.441Z"
   },
   {
    "duration": 89096,
    "start_time": "2024-03-12T14:58:48.788Z"
   },
   {
    "duration": 4,
    "start_time": "2024-03-12T15:00:17.886Z"
   },
   {
    "duration": 443741,
    "start_time": "2024-03-12T15:00:17.891Z"
   },
   {
    "duration": 5,
    "start_time": "2024-03-12T15:07:41.634Z"
   },
   {
    "duration": 73,
    "start_time": "2024-03-12T15:08:12.421Z"
   },
   {
    "duration": 46,
    "start_time": "2024-03-13T10:54:50.968Z"
   },
   {
    "duration": 0,
    "start_time": "2024-03-13T10:54:51.016Z"
   },
   {
    "duration": 0,
    "start_time": "2024-03-13T10:54:51.017Z"
   },
   {
    "duration": 0,
    "start_time": "2024-03-13T10:54:51.018Z"
   },
   {
    "duration": 0,
    "start_time": "2024-03-13T10:54:51.020Z"
   },
   {
    "duration": 0,
    "start_time": "2024-03-13T10:54:51.021Z"
   },
   {
    "duration": 0,
    "start_time": "2024-03-13T10:54:51.024Z"
   },
   {
    "duration": 0,
    "start_time": "2024-03-13T10:54:51.026Z"
   },
   {
    "duration": 5281,
    "start_time": "2024-03-13T10:55:01.008Z"
   },
   {
    "duration": 1205,
    "start_time": "2024-03-13T10:55:06.291Z"
   },
   {
    "duration": 72,
    "start_time": "2024-03-13T10:55:07.498Z"
   },
   {
    "duration": 161,
    "start_time": "2024-03-13T10:55:07.572Z"
   },
   {
    "duration": 140,
    "start_time": "2024-03-13T10:55:07.735Z"
   },
   {
    "duration": 343,
    "start_time": "2024-03-13T10:55:07.876Z"
   },
   {
    "duration": 166,
    "start_time": "2024-03-13T10:55:08.221Z"
   },
   {
    "duration": 99,
    "start_time": "2024-03-13T10:55:08.389Z"
   },
   {
    "duration": 3,
    "start_time": "2024-03-13T10:55:08.490Z"
   },
   {
    "duration": 104,
    "start_time": "2024-03-13T10:55:08.496Z"
   },
   {
    "duration": 4,
    "start_time": "2024-03-13T10:55:08.601Z"
   },
   {
    "duration": 77,
    "start_time": "2024-03-13T10:55:08.606Z"
   },
   {
    "duration": 3,
    "start_time": "2024-03-13T10:55:08.685Z"
   },
   {
    "duration": 57,
    "start_time": "2024-03-13T10:55:08.689Z"
   },
   {
    "duration": 3,
    "start_time": "2024-03-13T10:55:08.747Z"
   },
   {
    "duration": 30,
    "start_time": "2024-03-13T10:55:08.751Z"
   },
   {
    "duration": 52,
    "start_time": "2024-03-13T10:55:08.783Z"
   },
   {
    "duration": 70,
    "start_time": "2024-03-13T10:55:08.838Z"
   },
   {
    "duration": 252,
    "start_time": "2024-03-13T10:55:08.909Z"
   },
   {
    "duration": 301,
    "start_time": "2024-03-13T10:55:09.163Z"
   },
   {
    "duration": 268,
    "start_time": "2024-03-13T10:55:09.466Z"
   },
   {
    "duration": 26,
    "start_time": "2024-03-13T10:55:09.737Z"
   },
   {
    "duration": 20,
    "start_time": "2024-03-13T10:55:09.765Z"
   },
   {
    "duration": 171,
    "start_time": "2024-03-13T10:55:09.786Z"
   },
   {
    "duration": 194,
    "start_time": "2024-03-13T10:55:09.959Z"
   },
   {
    "duration": 139,
    "start_time": "2024-03-13T10:55:10.155Z"
   },
   {
    "duration": 3,
    "start_time": "2024-03-13T10:55:10.296Z"
   },
   {
    "duration": 4362,
    "start_time": "2024-03-13T10:55:10.303Z"
   },
   {
    "duration": 594,
    "start_time": "2024-03-13T10:55:14.666Z"
   },
   {
    "duration": 4,
    "start_time": "2024-03-13T10:55:15.262Z"
   },
   {
    "duration": 174,
    "start_time": "2024-03-13T10:55:15.267Z"
   },
   {
    "duration": 188,
    "start_time": "2024-03-13T10:55:15.443Z"
   },
   {
    "duration": 288,
    "start_time": "2024-03-13T10:55:15.633Z"
   },
   {
    "duration": 465,
    "start_time": "2024-03-13T10:55:15.923Z"
   },
   {
    "duration": 374,
    "start_time": "2024-03-13T10:55:16.390Z"
   },
   {
    "duration": 5542,
    "start_time": "2024-03-13T10:55:16.765Z"
   },
   {
    "duration": 3,
    "start_time": "2024-03-13T10:55:22.308Z"
   },
   {
    "duration": 9,
    "start_time": "2024-03-13T10:55:22.312Z"
   },
   {
    "duration": 11,
    "start_time": "2024-03-13T10:55:22.324Z"
   },
   {
    "duration": 26,
    "start_time": "2024-03-13T10:55:22.337Z"
   },
   {
    "duration": 44,
    "start_time": "2024-03-13T10:55:22.364Z"
   },
   {
    "duration": 33469,
    "start_time": "2024-03-13T10:55:22.409Z"
   },
   {
    "duration": 4,
    "start_time": "2024-03-13T10:55:55.879Z"
   },
   {
    "duration": 449108,
    "start_time": "2024-03-13T10:55:55.884Z"
   },
   {
    "duration": 5,
    "start_time": "2024-03-13T11:03:24.993Z"
   },
   {
    "duration": 133,
    "start_time": "2024-03-13T11:03:24.999Z"
   },
   {
    "duration": 189610,
    "start_time": "2024-03-13T11:03:25.134Z"
   },
   {
    "duration": 0,
    "start_time": "2024-03-13T11:06:34.746Z"
   },
   {
    "duration": 0,
    "start_time": "2024-03-13T11:06:34.747Z"
   },
   {
    "duration": 0,
    "start_time": "2024-03-13T11:06:34.748Z"
   },
   {
    "duration": 0,
    "start_time": "2024-03-13T11:06:34.749Z"
   },
   {
    "duration": 7,
    "start_time": "2024-03-13T11:06:36.439Z"
   },
   {
    "duration": 29966,
    "start_time": "2024-03-13T11:06:36.968Z"
   },
   {
    "duration": 4,
    "start_time": "2024-03-13T11:07:06.936Z"
   },
   {
    "duration": 979,
    "start_time": "2024-03-13T11:07:17.247Z"
   },
   {
    "duration": 9,
    "start_time": "2024-03-13T11:07:29.854Z"
   },
   {
    "duration": 655,
    "start_time": "2024-03-13T11:08:35.664Z"
   }
  ],
  "kernelspec": {
   "display_name": "Python 3 (ipykernel)",
   "language": "python",
   "name": "python3"
  },
  "language_info": {
   "codemirror_mode": {
    "name": "ipython",
    "version": 3
   },
   "file_extension": ".py",
   "mimetype": "text/x-python",
   "name": "python",
   "nbconvert_exporter": "python",
   "pygments_lexer": "ipython3",
   "version": "3.11.7"
  },
  "toc": {
   "base_numbering": 1,
   "nav_menu": {},
   "number_sections": true,
   "sideBar": true,
   "skip_h1_title": true,
   "title_cell": "Table of Contents",
   "title_sidebar": "Contents",
   "toc_cell": false,
   "toc_position": {},
   "toc_section_display": true,
   "toc_window_display": false
  }
 },
 "nbformat": 4,
 "nbformat_minor": 5
}
