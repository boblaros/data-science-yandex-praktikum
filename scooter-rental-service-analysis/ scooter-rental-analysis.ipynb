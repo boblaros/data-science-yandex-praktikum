{
 "cells": [
  {
   "cell_type": "markdown",
   "id": "8d1b4d8b",
   "metadata": {},
   "source": [
    "# Проект \"Исследование пользователей и поездок сервиса аренды самокатов GoFast\""
   ]
  },
  {
   "cell_type": "markdown",
   "id": "305d71a9-6f0f-45b5-958c-176dfecc61ff",
   "metadata": {},
   "source": [
    "## Описание проекта <a id='1'> </a>"
   ]
  },
  {
   "cell_type": "markdown",
   "id": "963920f2",
   "metadata": {},
   "source": [
    "В данном исследовании буду проанализированны данные о пользователях **сервиса аренды самокатов GoFast** из нескольких городов, а также об их поездках.\n",
    "\n",
    "**Цель**: проанализировать данные GoFast и проверить гипотезы, направленные на улучшение работы сервиса и определение точек роста.\n",
    "\n",
    "**Гипотезы**:\n",
    "- Тратят ли пользователи с подпиской больше времени на поездки? Если да, то пользователи с подпиской могут быть «выгоднее» для компании.\n",
    "- Расстояние одной поездки в  3130 метров — оптимальное с точки зрения износа самоката. Можно ли сказать, что среднее расстояние, которое проезжают пользователи с подпиской за одну поездку, не превышает 3130 метров?\n",
    "- Будет ли помесячная выручка от пользователей с подпиской по месяцам выше, чем выручка от пользователей без подписки?\n",
    "- Какое минимальное количество промокодов нужно разослать, чтобы вероятность не выполнить план по раздаче промокодов была примерно 5%?\n",
    "\n",
    "**План работ**:\n",
    "1) [Описание проектв](#1)\n",
    "2) [Описание данных](#2)\n",
    "3) [Загрузка данных](#3)\n",
    "4) [Предобработка данных](#4)\n",
    "5) [Исследовательский анализ данных](#5)\n",
    "6) [Объединение данных](#6)\n",
    "7) [Подсчёт выручки](#7)\n",
    "8) [Проверка гипотез](#8)\n",
    "9) [Распределения](#9)\n",
    "10) [Вывод](#10)\n",
    "***"
   ]
  },
  {
   "cell_type": "markdown",
   "id": "023a26ae",
   "metadata": {},
   "source": [
    "## Описание данных <a id='2'></a>"
   ]
  },
  {
   "cell_type": "markdown",
   "id": "bfb9a512",
   "metadata": {},
   "source": [
    "Данные для исследования включают в себя три таблицы - `о пользователях`, `о поездках` и `о подписках`."
   ]
  },
  {
   "cell_type": "markdown",
   "id": "794a1054",
   "metadata": {},
   "source": [
    "### Пользователи"
   ]
  },
  {
   "cell_type": "markdown",
   "id": "55ec51bf",
   "metadata": {},
   "source": [
    "- `user_id` — уникальный идентификатор пользователя\n",
    "- `name` — имя пользователя\n",
    "- `age` — возраст\n",
    "- `city` — город\n",
    "- `subscription_type` — тип подписки (*free*: абонентская плата отсутствует, стоимость одной минуты поездки — 8 рублей, стоимость начала поездки — 50 рублей; *Ultra*: абонентская плата — 199 рублей в месяц, стоимость одной минуты поездки — 6 рублей, стоимость старта — бесплатно)"
   ]
  },
  {
   "cell_type": "markdown",
   "id": "756e6e5f",
   "metadata": {},
   "source": [
    "### Поездки"
   ]
  },
  {
   "cell_type": "markdown",
   "id": "18801ae1",
   "metadata": {},
   "source": [
    "- `user_id` — уникальный идентификатор пользователя\n",
    "- `distance` — расстояние, которое пользователь проехал в текущей сессии (в метрах)\n",
    "- `duration` — продолжительность сессии (в минутах) — время с того момента, как пользователь нажал кнопку «Начать поездку» до момента, как он нажал кнопку «Завершить поездку»\n",
    "- `date` — дата совершения поездки"
   ]
  },
  {
   "cell_type": "markdown",
   "id": "9baa5460",
   "metadata": {},
   "source": [
    "### Подписки"
   ]
  },
  {
   "cell_type": "markdown",
   "id": "2eb01c66",
   "metadata": {},
   "source": [
    "- `subscription_type` — тип подписки\n",
    "- `minute_price` — стоимость одной минуты поездки по данной подписке\n",
    "- `start_ride_price` — стоимость начала поездки\n",
    "- `subscription_fee` — стоимость ежемесячного платежа"
   ]
  },
  {
   "cell_type": "markdown",
   "id": "73ef8545",
   "metadata": {},
   "source": [
    "<div class=\"alert\"; style=\"border-left: 7px solid pink\">\n",
    "\n",
    "*Отметим, что таблицы будут впоследствии могут быть объединины по общим столбцам*\n",
    "\n",
    "</div>"
   ]
  },
  {
   "cell_type": "markdown",
   "id": "1824a5ea",
   "metadata": {},
   "source": [
    "## Загрузка данных <a id='3'></a>"
   ]
  },
  {
   "cell_type": "code",
   "execution_count": 1,
   "id": "8e35fb85",
   "metadata": {},
   "outputs": [],
   "source": [
    "#import library\n",
    "import matplotlib.pyplot as plt\n",
    "from scipy import stats as st \n",
    "import seaborn as sns\n",
    "import pandas as pd\n",
    "from math import *"
   ]
  },
  {
   "cell_type": "code",
   "execution_count": 2,
   "id": "0fc732b6",
   "metadata": {},
   "outputs": [
    {
     "data": {
      "text/html": [
       "<div>\n",
       "<style scoped>\n",
       "    .dataframe tbody tr th:only-of-type {\n",
       "        vertical-align: middle;\n",
       "    }\n",
       "\n",
       "    .dataframe tbody tr th {\n",
       "        vertical-align: top;\n",
       "    }\n",
       "\n",
       "    .dataframe thead th {\n",
       "        text-align: right;\n",
       "    }\n",
       "</style>\n",
       "<table border=\"1\" class=\"dataframe\">\n",
       "  <thead>\n",
       "    <tr style=\"text-align: right;\">\n",
       "      <th></th>\n",
       "      <th>user_id</th>\n",
       "      <th>name</th>\n",
       "      <th>age</th>\n",
       "      <th>city</th>\n",
       "      <th>subscription_type</th>\n",
       "    </tr>\n",
       "  </thead>\n",
       "  <tbody>\n",
       "    <tr>\n",
       "      <th>0</th>\n",
       "      <td>1</td>\n",
       "      <td>Кира</td>\n",
       "      <td>22</td>\n",
       "      <td>Тюмень</td>\n",
       "      <td>ultra</td>\n",
       "    </tr>\n",
       "    <tr>\n",
       "      <th>1</th>\n",
       "      <td>2</td>\n",
       "      <td>Станислав</td>\n",
       "      <td>31</td>\n",
       "      <td>Омск</td>\n",
       "      <td>ultra</td>\n",
       "    </tr>\n",
       "    <tr>\n",
       "      <th>2</th>\n",
       "      <td>3</td>\n",
       "      <td>Алексей</td>\n",
       "      <td>20</td>\n",
       "      <td>Москва</td>\n",
       "      <td>ultra</td>\n",
       "    </tr>\n",
       "    <tr>\n",
       "      <th>3</th>\n",
       "      <td>4</td>\n",
       "      <td>Константин</td>\n",
       "      <td>26</td>\n",
       "      <td>Ростов-на-Дону</td>\n",
       "      <td>ultra</td>\n",
       "    </tr>\n",
       "    <tr>\n",
       "      <th>4</th>\n",
       "      <td>5</td>\n",
       "      <td>Адель</td>\n",
       "      <td>28</td>\n",
       "      <td>Омск</td>\n",
       "      <td>ultra</td>\n",
       "    </tr>\n",
       "  </tbody>\n",
       "</table>\n",
       "</div>"
      ],
      "text/plain": [
       "   user_id        name  age            city subscription_type\n",
       "0        1        Кира   22          Тюмень             ultra\n",
       "1        2   Станислав   31            Омск             ultra\n",
       "2        3     Алексей   20          Москва             ultra\n",
       "3        4  Константин   26  Ростов-на-Дону             ultra\n",
       "4        5       Адель   28            Омск             ultra"
      ]
     },
     "execution_count": 2,
     "metadata": {},
     "output_type": "execute_result"
    }
   ],
   "source": [
    "#data import #1\n",
    "try:\n",
    "    users = pd.read_csv('users_go.csv')\n",
    "except:\n",
    "    users = pd.read_csv('/datasets/users_go.csv')\n",
    "users.head()"
   ]
  },
  {
   "cell_type": "code",
   "execution_count": 3,
   "id": "acfc7fda",
   "metadata": {},
   "outputs": [
    {
     "name": "stdout",
     "output_type": "stream",
     "text": [
      "<class 'pandas.core.frame.DataFrame'>\n",
      "RangeIndex: 1565 entries, 0 to 1564\n",
      "Data columns (total 5 columns):\n",
      " #   Column             Non-Null Count  Dtype \n",
      "---  ------             --------------  ----- \n",
      " 0   user_id            1565 non-null   int64 \n",
      " 1   name               1565 non-null   object\n",
      " 2   age                1565 non-null   int64 \n",
      " 3   city               1565 non-null   object\n",
      " 4   subscription_type  1565 non-null   object\n",
      "dtypes: int64(2), object(3)\n",
      "memory usage: 61.3+ KB\n"
     ]
    }
   ],
   "source": [
    "users.info()"
   ]
  },
  {
   "cell_type": "code",
   "execution_count": 4,
   "id": "0c95b938-9d9c-4378-b68b-ad7dd2791b5e",
   "metadata": {},
   "outputs": [
    {
     "data": {
      "image/png": "[encoded data removed]",
      "text/plain": [
       "<Figure size 600x300 with 2 Axes>"
      ]
     },
     "metadata": {},
     "output_type": "display_data"
    }
   ],
   "source": [
    "fig, axs = plt.subplots(1, 2, figsize=(6, 3))\n",
    "\n",
    "users[['age']].hist(ax=axs[0], figsize=(3.5, 3.5))\n",
    "axs[0].set_title('Histogram')\n",
    "\n",
    "users[['age']].boxplot(ax=axs[1], figsize=(3.5, 3.5))\n",
    "axs[1].set_title('Boxplot')\n",
    "\n",
    "plt.tight_layout()\n",
    "\n",
    "plt.show()"
   ]
  },
  {
   "cell_type": "code",
   "execution_count": 5,
   "id": "67325243",
   "metadata": {},
   "outputs": [
    {
     "data": {
      "text/html": [
       "<div>\n",
       "<style scoped>\n",
       "    .dataframe tbody tr th:only-of-type {\n",
       "        vertical-align: middle;\n",
       "    }\n",
       "\n",
       "    .dataframe tbody tr th {\n",
       "        vertical-align: top;\n",
       "    }\n",
       "\n",
       "    .dataframe thead th {\n",
       "        text-align: right;\n",
       "    }\n",
       "</style>\n",
       "<table border=\"1\" class=\"dataframe\">\n",
       "  <thead>\n",
       "    <tr style=\"text-align: right;\">\n",
       "      <th></th>\n",
       "      <th>user_id</th>\n",
       "      <th>distance</th>\n",
       "      <th>duration</th>\n",
       "      <th>date</th>\n",
       "    </tr>\n",
       "  </thead>\n",
       "  <tbody>\n",
       "    <tr>\n",
       "      <th>0</th>\n",
       "      <td>1</td>\n",
       "      <td>4409.919140</td>\n",
       "      <td>25.599769</td>\n",
       "      <td>2021-01-01</td>\n",
       "    </tr>\n",
       "    <tr>\n",
       "      <th>1</th>\n",
       "      <td>1</td>\n",
       "      <td>2617.592153</td>\n",
       "      <td>15.816871</td>\n",
       "      <td>2021-01-18</td>\n",
       "    </tr>\n",
       "    <tr>\n",
       "      <th>2</th>\n",
       "      <td>1</td>\n",
       "      <td>754.159807</td>\n",
       "      <td>6.232113</td>\n",
       "      <td>2021-04-20</td>\n",
       "    </tr>\n",
       "    <tr>\n",
       "      <th>3</th>\n",
       "      <td>1</td>\n",
       "      <td>2694.783254</td>\n",
       "      <td>18.511000</td>\n",
       "      <td>2021-08-11</td>\n",
       "    </tr>\n",
       "    <tr>\n",
       "      <th>4</th>\n",
       "      <td>1</td>\n",
       "      <td>4028.687306</td>\n",
       "      <td>26.265803</td>\n",
       "      <td>2021-08-28</td>\n",
       "    </tr>\n",
       "  </tbody>\n",
       "</table>\n",
       "</div>"
      ],
      "text/plain": [
       "   user_id     distance   duration        date\n",
       "0        1  4409.919140  25.599769  2021-01-01\n",
       "1        1  2617.592153  15.816871  2021-01-18\n",
       "2        1   754.159807   6.232113  2021-04-20\n",
       "3        1  2694.783254  18.511000  2021-08-11\n",
       "4        1  4028.687306  26.265803  2021-08-28"
      ]
     },
     "execution_count": 5,
     "metadata": {},
     "output_type": "execute_result"
    }
   ],
   "source": [
    "#data import #2\n",
    "try:\n",
    "    rides = pd.read_csv('rides_go.csv')\n",
    "except:\n",
    "    rides = pd.read_csv('/datasets/rides_go.csv')\n",
    "rides.head()"
   ]
  },
  {
   "cell_type": "code",
   "execution_count": 6,
   "id": "ddae5d6c",
   "metadata": {},
   "outputs": [
    {
     "name": "stdout",
     "output_type": "stream",
     "text": [
      "<class 'pandas.core.frame.DataFrame'>\n",
      "RangeIndex: 18068 entries, 0 to 18067\n",
      "Data columns (total 4 columns):\n",
      " #   Column    Non-Null Count  Dtype  \n",
      "---  ------    --------------  -----  \n",
      " 0   user_id   18068 non-null  int64  \n",
      " 1   distance  18068 non-null  float64\n",
      " 2   duration  18068 non-null  float64\n",
      " 3   date      18068 non-null  object \n",
      "dtypes: float64(2), int64(1), object(1)\n",
      "memory usage: 564.8+ KB\n"
     ]
    }
   ],
   "source": [
    "rides.info()"
   ]
  },
  {
   "cell_type": "code",
   "execution_count": 7,
   "id": "2469d4af",
   "metadata": {},
   "outputs": [
    {
     "data": {
      "image/png": "[encoded data removed]",
      "text/plain": [
       "<Figure size 700x500 with 4 Axes>"
      ]
     },
     "metadata": {},
     "output_type": "display_data"
    }
   ],
   "source": [
    "fig, axs = plt.subplots(2, 2, figsize=(7, 5))\n",
    "\n",
    "rides[['duration']].hist(ax=axs[0, 0], figsize=(3.5, 3.5), bins=30)\n",
    "rides[['duration']].boxplot(ax=axs[0, 1], figsize=(3.5, 3.5))\n",
    "\n",
    "rides[['distance']].hist(ax=axs[1, 0], figsize=(3.5, 3.5), bins=30)\n",
    "rides[['distance']].boxplot(ax=axs[1, 1], figsize=(3.5, 3.5))\n",
    "\n",
    "plt.tight_layout()\n",
    "\n",
    "plt.show()"
   ]
  },
  {
   "cell_type": "code",
   "execution_count": 8,
   "id": "22db1528",
   "metadata": {},
   "outputs": [
    {
     "data": {
      "text/html": [
       "<div>\n",
       "<style scoped>\n",
       "    .dataframe tbody tr th:only-of-type {\n",
       "        vertical-align: middle;\n",
       "    }\n",
       "\n",
       "    .dataframe tbody tr th {\n",
       "        vertical-align: top;\n",
       "    }\n",
       "\n",
       "    .dataframe thead th {\n",
       "        text-align: right;\n",
       "    }\n",
       "</style>\n",
       "<table border=\"1\" class=\"dataframe\">\n",
       "  <thead>\n",
       "    <tr style=\"text-align: right;\">\n",
       "      <th></th>\n",
       "      <th>subscription_type</th>\n",
       "      <th>minute_price</th>\n",
       "      <th>start_ride_price</th>\n",
       "      <th>subscription_fee</th>\n",
       "    </tr>\n",
       "  </thead>\n",
       "  <tbody>\n",
       "    <tr>\n",
       "      <th>0</th>\n",
       "      <td>free</td>\n",
       "      <td>8</td>\n",
       "      <td>50</td>\n",
       "      <td>0</td>\n",
       "    </tr>\n",
       "    <tr>\n",
       "      <th>1</th>\n",
       "      <td>ultra</td>\n",
       "      <td>6</td>\n",
       "      <td>0</td>\n",
       "      <td>199</td>\n",
       "    </tr>\n",
       "  </tbody>\n",
       "</table>\n",
       "</div>"
      ],
      "text/plain": [
       "  subscription_type  minute_price  start_ride_price  subscription_fee\n",
       "0              free             8                50                 0\n",
       "1             ultra             6                 0               199"
      ]
     },
     "execution_count": 8,
     "metadata": {},
     "output_type": "execute_result"
    }
   ],
   "source": [
    "#import data #3\n",
    "try:\n",
    "    subscriptions = pd.read_csv('subscriptions_go.csv')\n",
    "except:\n",
    "    subscriptions = pd.read_csv('/datasets/subscriptions_go.csv')\n",
    "subscriptions.head()"
   ]
  },
  {
   "cell_type": "code",
   "execution_count": 9,
   "id": "d514ae1d",
   "metadata": {},
   "outputs": [
    {
     "name": "stdout",
     "output_type": "stream",
     "text": [
      "<class 'pandas.core.frame.DataFrame'>\n",
      "RangeIndex: 2 entries, 0 to 1\n",
      "Data columns (total 4 columns):\n",
      " #   Column             Non-Null Count  Dtype \n",
      "---  ------             --------------  ----- \n",
      " 0   subscription_type  2 non-null      object\n",
      " 1   minute_price       2 non-null      int64 \n",
      " 2   start_ride_price   2 non-null      int64 \n",
      " 3   subscription_fee   2 non-null      int64 \n",
      "dtypes: int64(3), object(1)\n",
      "memory usage: 196.0+ bytes\n"
     ]
    }
   ],
   "source": [
    "subscriptions.info()"
   ]
  },
  {
   "cell_type": "markdown",
   "id": "0e96d506",
   "metadata": {},
   "source": [
    "<div class=\"alert\"; style=\"border-left: 7px solid pink\">\n",
    "\n",
    "**Мини-вывод**\n",
    "- В таблице `users` 1565 строк, пропусков нет. С типами данных всё в порядке. Распределение по столбцу 'age' близко к нормальному\n",
    "- В таблице `rides` 18068 строк, пропусков нет. Столбец 'date' следуте привести к типу 'datetime'. Распределение по столбцам 'distance' и 'duration' близко к нормальному\n",
    "- В таблице `subscriptions` 2 строки, пропусков нет. С типами данных всё в порядке\n",
    "</div>"
   ]
  },
  {
   "cell_type": "markdown",
   "id": "a121c5e8",
   "metadata": {},
   "source": [
    "## Предобработка данных <a id='4'></a>"
   ]
  },
  {
   "cell_type": "code",
   "execution_count": 10,
   "id": "fcd7c233",
   "metadata": {},
   "outputs": [
    {
     "data": {
      "text/plain": [
       "0   2021-01-01\n",
       "1   2021-01-18\n",
       "2   2021-04-20\n",
       "3   2021-08-11\n",
       "4   2021-08-28\n",
       "Name: date, dtype: datetime64[ns]"
      ]
     },
     "execution_count": 10,
     "metadata": {},
     "output_type": "execute_result"
    }
   ],
   "source": [
    "#convert 'date' columns to the 'datetime' type\n",
    "rides.date = pd.to_datetime(rides.date, format='%Y-%m-%d')\n",
    "rides.date.head()"
   ]
  },
  {
   "cell_type": "code",
   "execution_count": 11,
   "id": "0531950f",
   "metadata": {},
   "outputs": [
    {
     "data": {
      "text/html": [
       "<div>\n",
       "<style scoped>\n",
       "    .dataframe tbody tr th:only-of-type {\n",
       "        vertical-align: middle;\n",
       "    }\n",
       "\n",
       "    .dataframe tbody tr th {\n",
       "        vertical-align: top;\n",
       "    }\n",
       "\n",
       "    .dataframe thead th {\n",
       "        text-align: right;\n",
       "    }\n",
       "</style>\n",
       "<table border=\"1\" class=\"dataframe\">\n",
       "  <thead>\n",
       "    <tr style=\"text-align: right;\">\n",
       "      <th></th>\n",
       "      <th>user_id</th>\n",
       "      <th>distance</th>\n",
       "      <th>duration</th>\n",
       "      <th>date</th>\n",
       "      <th>date_month</th>\n",
       "    </tr>\n",
       "  </thead>\n",
       "  <tbody>\n",
       "    <tr>\n",
       "      <th>0</th>\n",
       "      <td>1</td>\n",
       "      <td>4409.919140</td>\n",
       "      <td>25.599769</td>\n",
       "      <td>2021-01-01</td>\n",
       "      <td>1</td>\n",
       "    </tr>\n",
       "    <tr>\n",
       "      <th>1</th>\n",
       "      <td>1</td>\n",
       "      <td>2617.592153</td>\n",
       "      <td>15.816871</td>\n",
       "      <td>2021-01-18</td>\n",
       "      <td>1</td>\n",
       "    </tr>\n",
       "    <tr>\n",
       "      <th>2</th>\n",
       "      <td>1</td>\n",
       "      <td>754.159807</td>\n",
       "      <td>6.232113</td>\n",
       "      <td>2021-04-20</td>\n",
       "      <td>4</td>\n",
       "    </tr>\n",
       "    <tr>\n",
       "      <th>3</th>\n",
       "      <td>1</td>\n",
       "      <td>2694.783254</td>\n",
       "      <td>18.511000</td>\n",
       "      <td>2021-08-11</td>\n",
       "      <td>8</td>\n",
       "    </tr>\n",
       "    <tr>\n",
       "      <th>4</th>\n",
       "      <td>1</td>\n",
       "      <td>4028.687306</td>\n",
       "      <td>26.265803</td>\n",
       "      <td>2021-08-28</td>\n",
       "      <td>8</td>\n",
       "    </tr>\n",
       "  </tbody>\n",
       "</table>\n",
       "</div>"
      ],
      "text/plain": [
       "   user_id     distance   duration       date  date_month\n",
       "0        1  4409.919140  25.599769 2021-01-01           1\n",
       "1        1  2617.592153  15.816871 2021-01-18           1\n",
       "2        1   754.159807   6.232113 2021-04-20           4\n",
       "3        1  2694.783254  18.511000 2021-08-11           8\n",
       "4        1  4028.687306  26.265803 2021-08-28           8"
      ]
     },
     "execution_count": 11,
     "metadata": {},
     "output_type": "execute_result"
    }
   ],
   "source": [
    "#add a column with the month the trip was made\n",
    "rides['date_month'] = pd.DatetimeIndex(rides['date']).month\n",
    "rides.head()"
   ]
  },
  {
   "cell_type": "code",
   "execution_count": 12,
   "id": "a5c33d27",
   "metadata": {},
   "outputs": [
    {
     "name": "stdout",
     "output_type": "stream",
     "text": [
      "user_id       0\n",
      "distance      0\n",
      "duration      0\n",
      "date          0\n",
      "date_month    0\n",
      "dtype: int64\n",
      "user_id              0\n",
      "name                 0\n",
      "age                  0\n",
      "city                 0\n",
      "subscription_type    0\n",
      "dtype: int64\n"
     ]
    }
   ],
   "source": [
    "#checking for missing values\n",
    "print(rides.isna().sum())\n",
    "print(users.isna().sum())"
   ]
  },
  {
   "cell_type": "code",
   "execution_count": 13,
   "id": "99d98341",
   "metadata": {},
   "outputs": [
    {
     "name": "stdout",
     "output_type": "stream",
     "text": [
      "0\n",
      "31\n",
      "0\n"
     ]
    }
   ],
   "source": [
    "#checking for duplicates\n",
    "\n",
    "print(rides.duplicated().sum())\n",
    "print(users.duplicated().sum())\n",
    "\n",
    "users = users.drop_duplicates()\n",
    "print(users.duplicated().sum())"
   ]
  },
  {
   "cell_type": "code",
   "execution_count": 14,
   "id": "5744ae0e",
   "metadata": {},
   "outputs": [
    {
     "data": {
      "text/html": [
       "<div>\n",
       "<style scoped>\n",
       "    .dataframe tbody tr th:only-of-type {\n",
       "        vertical-align: middle;\n",
       "    }\n",
       "\n",
       "    .dataframe tbody tr th {\n",
       "        vertical-align: top;\n",
       "    }\n",
       "\n",
       "    .dataframe thead th {\n",
       "        text-align: right;\n",
       "    }\n",
       "</style>\n",
       "<table border=\"1\" class=\"dataframe\">\n",
       "  <thead>\n",
       "    <tr style=\"text-align: right;\">\n",
       "      <th></th>\n",
       "      <th>user_id</th>\n",
       "      <th>distance</th>\n",
       "      <th>duration</th>\n",
       "      <th>date</th>\n",
       "      <th>date_month</th>\n",
       "    </tr>\n",
       "  </thead>\n",
       "  <tbody>\n",
       "    <tr>\n",
       "      <th>0</th>\n",
       "      <td>1</td>\n",
       "      <td>4410.0</td>\n",
       "      <td>25.599769</td>\n",
       "      <td>2021-01-01</td>\n",
       "      <td>1</td>\n",
       "    </tr>\n",
       "    <tr>\n",
       "      <th>1</th>\n",
       "      <td>1</td>\n",
       "      <td>2618.0</td>\n",
       "      <td>15.816871</td>\n",
       "      <td>2021-01-18</td>\n",
       "      <td>1</td>\n",
       "    </tr>\n",
       "    <tr>\n",
       "      <th>2</th>\n",
       "      <td>1</td>\n",
       "      <td>754.0</td>\n",
       "      <td>6.232113</td>\n",
       "      <td>2021-04-20</td>\n",
       "      <td>4</td>\n",
       "    </tr>\n",
       "    <tr>\n",
       "      <th>3</th>\n",
       "      <td>1</td>\n",
       "      <td>2695.0</td>\n",
       "      <td>18.511000</td>\n",
       "      <td>2021-08-11</td>\n",
       "      <td>8</td>\n",
       "    </tr>\n",
       "    <tr>\n",
       "      <th>4</th>\n",
       "      <td>1</td>\n",
       "      <td>4029.0</td>\n",
       "      <td>26.265803</td>\n",
       "      <td>2021-08-28</td>\n",
       "      <td>8</td>\n",
       "    </tr>\n",
       "  </tbody>\n",
       "</table>\n",
       "</div>"
      ],
      "text/plain": [
       "   user_id  distance   duration       date  date_month\n",
       "0        1    4410.0  25.599769 2021-01-01           1\n",
       "1        1    2618.0  15.816871 2021-01-18           1\n",
       "2        1     754.0   6.232113 2021-04-20           4\n",
       "3        1    2695.0  18.511000 2021-08-11           8\n",
       "4        1    4029.0  26.265803 2021-08-28           8"
      ]
     },
     "execution_count": 14,
     "metadata": {},
     "output_type": "execute_result"
    }
   ],
   "source": [
    "#round the values of the 'distance' column\n",
    "\n",
    "rides['distance'] = round(rides['distance'])\n",
    "rides.head()"
   ]
  },
  {
   "cell_type": "markdown",
   "id": "fbf94450",
   "metadata": {},
   "source": [
    "<div class=\"alert\"; style=\"border-left: 7px solid pink\">\n",
    "\n",
    "**Мини-вывод**\n",
    "- Данные предобработаны и готовы для анализа\n",
    "- Данные в столбце 'date' был приведены к типу 'datetime'\n",
    "- В таблице 'users' был удален 31 дубликат\n",
    "- В таблицу 'rides' добавлен новый столбец с номером месяца \n",
    "- Значения в столбце 'distance' таблицы 'rides' округлены\n",
    "</div>"
   ]
  },
  {
   "cell_type": "markdown",
   "id": "72014ac5",
   "metadata": {},
   "source": [
    "## Исследовательский анализ данных <a id='5'></a>"
   ]
  },
  {
   "cell_type": "markdown",
   "id": "9e0f12a5",
   "metadata": {},
   "source": [
    "Опишем и визуализируем далее общую информацию о пользователях и поездках:\n",
    "- `частота встречаемости городов`\n",
    "- `соотношение пользователей с подпиской и без подписки`\n",
    "- `возраст пользователей`\n",
    "- `расстояние, которое пользователь преодолел за одну поездку`\n",
    "- `продолжительность поездок`"
   ]
  },
  {
   "cell_type": "markdown",
   "id": "a36084d2",
   "metadata": {},
   "source": [
    "### Частота встречаемости городов"
   ]
  },
  {
   "cell_type": "code",
   "execution_count": 15,
   "id": "9fb5617d",
   "metadata": {},
   "outputs": [
    {
     "data": {
      "image/png": "[encoded data removed]",
      "text/plain": [
       "<Figure size 1000x500 with 1 Axes>"
      ]
     },
     "metadata": {},
     "output_type": "display_data"
    }
   ],
   "source": [
    "users['city'].value_counts().plot(kind='barh', figsize=(10, 5))\n",
    "plt.xlabel(\"Количество уникальных пользователей\")\n",
    "plt.ylabel(\"Город\")\n",
    "\n",
    "for index, value in enumerate(users['city'].value_counts()):\n",
    "    plt.text(value, index, str(value))"
   ]
  },
  {
   "cell_type": "markdown",
   "id": "b63c7789",
   "metadata": {},
   "source": [
    "<div class=\"alert\"; style=\"border-left: 7px solid pink\">\n",
    "\n",
    "Большинство пользователей из Пятигорска, меньшинство - из Москвы. В целом, пользователи относительно равномерно распределены среди 8 городов.\n",
    "    \n",
    "</div>"
   ]
  },
  {
   "cell_type": "markdown",
   "id": "37d07b6d",
   "metadata": {},
   "source": [
    "### Соотношение пользователей с подпиской и без подписки"
   ]
  },
  {
   "cell_type": "code",
   "execution_count": 16,
   "id": "ec45bbe4",
   "metadata": {},
   "outputs": [
    {
     "data": {
      "text/plain": [
       "subscription_type\n",
       "free     835\n",
       "ultra    699\n",
       "Name: count, dtype: int64"
      ]
     },
     "execution_count": 16,
     "metadata": {},
     "output_type": "execute_result"
    }
   ],
   "source": [
    "users.subscription_type.value_counts()"
   ]
  },
  {
   "cell_type": "code",
   "execution_count": 17,
   "id": "83239912",
   "metadata": {},
   "outputs": [
    {
     "data": {
      "image/png": "[encoded data removed]",
      "text/plain": [
       "<Figure size 450x450 with 1 Axes>"
      ]
     },
     "metadata": {},
     "output_type": "display_data"
    }
   ],
   "source": [
    "plt.figure(figsize=(4.5, 4.5))\n",
    "plt.pie(users.subscription_type.value_counts().values, labels=users.subscription_type.value_counts().index, autopct='%1.1f%%')\n",
    "None"
   ]
  },
  {
   "cell_type": "markdown",
   "id": "37f5e94d",
   "metadata": {},
   "source": [
    "<div class=\"alert\"; style=\"border-left: 7px solid pink\">\n",
    "\n",
    "`54.4%` пользователей (835) пользуются бесплатной подпиской, `45.6%` пользователей (699) - платной.\n",
    "    \n",
    "</div>"
   ]
  },
  {
   "cell_type": "markdown",
   "id": "0aff384c",
   "metadata": {},
   "source": [
    "### Возраст пользователей"
   ]
  },
  {
   "cell_type": "markdown",
   "id": "1ed0bad7-6769-4020-8379-c9bebff3e57b",
   "metadata": {},
   "source": [
    "При загрузке данных мы предварительно взглянули на распределение возрастов в данных, рассмотрим данный параметр подробнее:"
   ]
  },
  {
   "cell_type": "code",
   "execution_count": 18,
   "id": "ae3b741e-a000-4ca0-ab6c-31d10ca5d46a",
   "metadata": {},
   "outputs": [
    {
     "data": {
      "image/png": "[encoded data removed]",
      "text/plain": [
       "<Figure size 600x300 with 2 Axes>"
      ]
     },
     "metadata": {},
     "output_type": "display_data"
    }
   ],
   "source": [
    "fig, axs = plt.subplots(1, 2, figsize=(6, 3))\n",
    "\n",
    "users[['age']].hist(ax=axs[0], figsize=(3.5, 3.5))\n",
    "axs[0].set_title('Histogram')\n",
    "\n",
    "users[['age']].boxplot(ax=axs[1], figsize=(3.5, 3.5))\n",
    "axs[1].set_title('Boxplot')\n",
    "\n",
    "plt.tight_layout()\n",
    "\n",
    "plt.show()"
   ]
  },
  {
   "cell_type": "code",
   "execution_count": 19,
   "id": "061ef862",
   "metadata": {},
   "outputs": [
    {
     "data": {
      "text/plain": [
       "count    1534.000000\n",
       "mean       24.903520\n",
       "std         4.572367\n",
       "min        12.000000\n",
       "25%        22.000000\n",
       "50%        25.000000\n",
       "75%        28.000000\n",
       "max        43.000000\n",
       "Name: age, dtype: float64"
      ]
     },
     "execution_count": 19,
     "metadata": {},
     "output_type": "execute_result"
    }
   ],
   "source": [
    "users.age.describe()"
   ]
  },
  {
   "cell_type": "markdown",
   "id": "f8b16d5b",
   "metadata": {},
   "source": [
    "<div class=\"alert\"; style=\"border-left: 7px solid pink\">\n",
    "\n",
    "- Данные имеют `нормальное распределение`\n",
    "- `Выбросов практически нет`. Медиана практически равна среднему\n",
    "- 75% значений укладываются до 28 лет. Возраст большинства пользователей в диапазоне `с 20 до 30 лет`\n",
    "- Самый молодой пользователь - `12 лет`, самый возрастной пользователь - `43 года`.\n",
    "    \n",
    "</div>"
   ]
  },
  {
   "cell_type": "markdown",
   "id": "1ed907d4",
   "metadata": {},
   "source": [
    "### Расстояние, которое пользователь преодолел за одну поездку"
   ]
  },
  {
   "cell_type": "markdown",
   "id": "dcdf4b4d-dc0f-49ea-98b7-4d7606eb86f1",
   "metadata": {},
   "source": [
    "Рассмотрим расстояние, которое пользователь преодолел за одну поездку, оно представлено в столбце distance (в метрах) в таблице `rides`."
   ]
  },
  {
   "cell_type": "code",
   "execution_count": 20,
   "id": "c4a7fff8-2fae-495c-8ec0-913592ecd930",
   "metadata": {},
   "outputs": [
    {
     "data": {
      "image/png": "[encoded data removed]",
      "text/plain": [
       "<Figure size 600x300 with 2 Axes>"
      ]
     },
     "metadata": {},
     "output_type": "display_data"
    }
   ],
   "source": [
    "fig, axs = plt.subplots(1, 2, figsize=(6, 3))\n",
    "\n",
    "rides[['distance']].hist(ax=axs[0], figsize=(3.5, 3.5), bins=30)\n",
    "rides[['distance']].boxplot(ax=axs[1], figsize=(3.5, 3.5))\n",
    "\n",
    "plt.tight_layout()\n",
    "\n",
    "plt.show()"
   ]
  },
  {
   "cell_type": "code",
   "execution_count": 21,
   "id": "5367e39f",
   "metadata": {},
   "outputs": [
    {
     "data": {
      "text/html": [
       "<div>\n",
       "<style scoped>\n",
       "    .dataframe tbody tr th:only-of-type {\n",
       "        vertical-align: middle;\n",
       "    }\n",
       "\n",
       "    .dataframe tbody tr th {\n",
       "        vertical-align: top;\n",
       "    }\n",
       "\n",
       "    .dataframe thead th {\n",
       "        text-align: right;\n",
       "    }\n",
       "</style>\n",
       "<table border=\"1\" class=\"dataframe\">\n",
       "  <thead>\n",
       "    <tr style=\"text-align: right;\">\n",
       "      <th></th>\n",
       "      <th>user_id</th>\n",
       "      <th>distance</th>\n",
       "      <th>duration</th>\n",
       "      <th>date</th>\n",
       "      <th>date_month</th>\n",
       "    </tr>\n",
       "  </thead>\n",
       "  <tbody>\n",
       "    <tr>\n",
       "      <th>11555</th>\n",
       "      <td>1069</td>\n",
       "      <td>1.0</td>\n",
       "      <td>10.001902</td>\n",
       "      <td>2021-01-31</td>\n",
       "      <td>1</td>\n",
       "    </tr>\n",
       "    <tr>\n",
       "      <th>9541</th>\n",
       "      <td>925</td>\n",
       "      <td>3.0</td>\n",
       "      <td>3.011018</td>\n",
       "      <td>2021-10-19</td>\n",
       "      <td>10</td>\n",
       "    </tr>\n",
       "    <tr>\n",
       "      <th>13690</th>\n",
       "      <td>1223</td>\n",
       "      <td>4.0</td>\n",
       "      <td>4.008958</td>\n",
       "      <td>2021-05-22</td>\n",
       "      <td>5</td>\n",
       "    </tr>\n",
       "    <tr>\n",
       "      <th>7841</th>\n",
       "      <td>796</td>\n",
       "      <td>7.0</td>\n",
       "      <td>10.026614</td>\n",
       "      <td>2021-11-26</td>\n",
       "      <td>11</td>\n",
       "    </tr>\n",
       "    <tr>\n",
       "      <th>8658</th>\n",
       "      <td>861</td>\n",
       "      <td>7.0</td>\n",
       "      <td>6.015656</td>\n",
       "      <td>2021-07-21</td>\n",
       "      <td>7</td>\n",
       "    </tr>\n",
       "  </tbody>\n",
       "</table>\n",
       "</div>"
      ],
      "text/plain": [
       "       user_id  distance   duration       date  date_month\n",
       "11555     1069       1.0  10.001902 2021-01-31           1\n",
       "9541       925       3.0   3.011018 2021-10-19          10\n",
       "13690     1223       4.0   4.008958 2021-05-22           5\n",
       "7841       796       7.0  10.026614 2021-11-26          11\n",
       "8658       861       7.0   6.015656 2021-07-21           7"
      ]
     },
     "execution_count": 21,
     "metadata": {},
     "output_type": "execute_result"
    }
   ],
   "source": [
    "rides.sort_values(by='distance').head()"
   ]
  },
  {
   "cell_type": "code",
   "execution_count": 22,
   "id": "14df2a45",
   "metadata": {},
   "outputs": [
    {
     "data": {
      "text/html": [
       "<div>\n",
       "<style scoped>\n",
       "    .dataframe tbody tr th:only-of-type {\n",
       "        vertical-align: middle;\n",
       "    }\n",
       "\n",
       "    .dataframe tbody tr th {\n",
       "        vertical-align: top;\n",
       "    }\n",
       "\n",
       "    .dataframe thead th {\n",
       "        text-align: right;\n",
       "    }\n",
       "</style>\n",
       "<table border=\"1\" class=\"dataframe\">\n",
       "  <thead>\n",
       "    <tr style=\"text-align: right;\">\n",
       "      <th></th>\n",
       "      <th>user_id</th>\n",
       "      <th>distance</th>\n",
       "      <th>duration</th>\n",
       "      <th>date</th>\n",
       "      <th>date_month</th>\n",
       "    </tr>\n",
       "  </thead>\n",
       "  <tbody>\n",
       "    <tr>\n",
       "      <th>16309</th>\n",
       "      <td>1411</td>\n",
       "      <td>7211.0</td>\n",
       "      <td>0.500000</td>\n",
       "      <td>2021-04-15</td>\n",
       "      <td>4</td>\n",
       "    </tr>\n",
       "    <tr>\n",
       "      <th>16484</th>\n",
       "      <td>1422</td>\n",
       "      <td>7066.0</td>\n",
       "      <td>23.619318</td>\n",
       "      <td>2021-02-12</td>\n",
       "      <td>2</td>\n",
       "    </tr>\n",
       "    <tr>\n",
       "      <th>15580</th>\n",
       "      <td>1361</td>\n",
       "      <td>6908.0</td>\n",
       "      <td>23.816983</td>\n",
       "      <td>2021-03-27</td>\n",
       "      <td>3</td>\n",
       "    </tr>\n",
       "    <tr>\n",
       "      <th>17171</th>\n",
       "      <td>1471</td>\n",
       "      <td>6761.0</td>\n",
       "      <td>32.043760</td>\n",
       "      <td>2021-08-03</td>\n",
       "      <td>8</td>\n",
       "    </tr>\n",
       "    <tr>\n",
       "      <th>17242</th>\n",
       "      <td>1477</td>\n",
       "      <td>6725.0</td>\n",
       "      <td>0.500000</td>\n",
       "      <td>2021-01-12</td>\n",
       "      <td>1</td>\n",
       "    </tr>\n",
       "  </tbody>\n",
       "</table>\n",
       "</div>"
      ],
      "text/plain": [
       "       user_id  distance   duration       date  date_month\n",
       "16309     1411    7211.0   0.500000 2021-04-15           4\n",
       "16484     1422    7066.0  23.619318 2021-02-12           2\n",
       "15580     1361    6908.0  23.816983 2021-03-27           3\n",
       "17171     1471    6761.0  32.043760 2021-08-03           8\n",
       "17242     1477    6725.0   0.500000 2021-01-12           1"
      ]
     },
     "execution_count": 22,
     "metadata": {},
     "output_type": "execute_result"
    }
   ],
   "source": [
    "rides.sort_values(by='distance', ascending=False).head()"
   ]
  },
  {
   "cell_type": "code",
   "execution_count": 23,
   "id": "41f1d7cd",
   "metadata": {},
   "outputs": [
    {
     "data": {
      "text/plain": [
       "count    18068.000000\n",
       "mean      3070.659010\n",
       "std       1116.832209\n",
       "min          1.000000\n",
       "25%       2543.000000\n",
       "50%       3134.000000\n",
       "75%       3776.000000\n",
       "max       7211.000000\n",
       "Name: distance, dtype: float64"
      ]
     },
     "execution_count": 23,
     "metadata": {},
     "output_type": "execute_result"
    }
   ],
   "source": [
    "rides.distance.describe()"
   ]
  },
  {
   "cell_type": "markdown",
   "id": "2f96b545",
   "metadata": {},
   "source": [
    "<div class=\"alert\"; style=\"border-left: 7px solid pink\">\n",
    "\n",
    "- Гистограмма имеет `бимодальный` вид. Основный пик - поездки длинной примерно `3000м`, второй пик - короткие поездки длиной `до 1000м`\n",
    "- Присутствуют очень короткие поездки - `до 10м`, и достаточно длинные поездки - `более 6000м`\n",
    "- Наиболее популярные поездки составляют около `3000м`. `75%` поездок - `до 3776м`\n",
    "    \n",
    "</div>"
   ]
  },
  {
   "cell_type": "markdown",
   "id": "f7461d09",
   "metadata": {},
   "source": [
    "### Продолжительность поездок"
   ]
  },
  {
   "cell_type": "markdown",
   "id": "5e87d389-03a5-4b1d-9fd1-c92da383aa5e",
   "metadata": {},
   "source": [
    "Взглянем теперь продолжительность сессии (в минутах), она указана в столбце `duration`:"
   ]
  },
  {
   "cell_type": "code",
   "execution_count": 24,
   "id": "956fc374",
   "metadata": {},
   "outputs": [
    {
     "data": {
      "image/png": "[encoded data removed]",
      "text/plain": [
       "<Figure size 600x300 with 2 Axes>"
      ]
     },
     "metadata": {},
     "output_type": "display_data"
    }
   ],
   "source": [
    "fig, axs = plt.subplots(1, 2, figsize=(6, 3))\n",
    "\n",
    "rides[['duration']].hist(ax=axs[0], figsize=(3.5, 3.5), bins=30)\n",
    "rides[['duration']].boxplot(ax=axs[1], figsize=(3.5, 3.5))\n",
    "\n",
    "plt.tight_layout()\n",
    "\n",
    "plt.show()"
   ]
  },
  {
   "cell_type": "code",
   "execution_count": 25,
   "id": "065c6ef5",
   "metadata": {},
   "outputs": [
    {
     "data": {
      "text/plain": [
       "count    18068.000000\n",
       "mean        17.805011\n",
       "std          6.091051\n",
       "min          0.500000\n",
       "25%         13.597563\n",
       "50%         17.678395\n",
       "75%         21.724800\n",
       "max         40.823963\n",
       "Name: duration, dtype: float64"
      ]
     },
     "execution_count": 25,
     "metadata": {},
     "output_type": "execute_result"
    }
   ],
   "source": [
    "rides.duration.describe()"
   ]
  },
  {
   "cell_type": "markdown",
   "id": "1c61d42a",
   "metadata": {},
   "source": [
    "<div class=\"alert\"; style=\"border-left: 7px solid pink\">\n",
    "\n",
    "- Гистограмма имеет `нормальное распределение` с `медианным` и `среднем` значением в диапазоне `17-18 минут`\n",
    "- `Имеются выбросы`: один среди слишком коротких поездок и несколько среди слишком длинных поездок\n",
    "    \n",
    "</div>"
   ]
  },
  {
   "cell_type": "markdown",
   "id": "9e969fba",
   "metadata": {},
   "source": [
    "<div class=\"alert\"; style=\"border-left: 7px solid pink\">\n",
    "\n",
    "**Мини-вывод**\n",
    "    \n",
    "В исследовательском анализе пользовательских данных выявлено следующее: большинство пользователей из Пятигорска, с небольшой долей из Москвы, равномерное распределение среди 8 городов. Половина пользователей использует бесплатную подписку, другая половина — платную. Возраст распределен нормально, практически без выбросов. Большинство пользователей в возрасте 20-30 лет, с наиболее популярной длиной поездки около 3000 метров. Продолжительность поездок также имеет нормальное распределение, с медианным значением около 17-18 минут.\n",
    " \n",
    "</div>"
   ]
  },
  {
   "cell_type": "markdown",
   "id": "61c92e44",
   "metadata": {},
   "source": [
    "## Объединение данных <a id='6'></a>"
   ]
  },
  {
   "cell_type": "markdown",
   "id": "b9d6646e",
   "metadata": {},
   "source": [
    "### Объединение таблиц и создание новых датафреймов"
   ]
  },
  {
   "cell_type": "markdown",
   "id": "9eb9a426-2fc2-4e2b-baa9-87a0ba40fe4b",
   "metadata": {},
   "source": [
    "Объединим данные о пользователях, поездках и подписках в один датафрейм:"
   ]
  },
  {
   "cell_type": "code",
   "execution_count": 26,
   "id": "947dd460",
   "metadata": {},
   "outputs": [
    {
     "name": "stdout",
     "output_type": "stream",
     "text": [
      "Исходная размерность таблицы \"users\": (1534, 5)\n",
      "Исходная размерность таблицы \"rides\": (18068, 5)\n",
      "Исходная размерность таблицы \"subscriptions\": (2, 4)\n",
      "\n",
      "Исходная размерность объединенной таблицы: (18068, 12)\n",
      "\n",
      "Количество пропусков в объединненой таблице:\n",
      "user_id              0\n",
      "name                 0\n",
      "age                  0\n",
      "city                 0\n",
      "subscription_type    0\n",
      "distance             0\n",
      "duration             0\n",
      "date                 0\n",
      "date_month           0\n",
      "minute_price         0\n",
      "start_ride_price     0\n",
      "subscription_fee     0\n",
      "dtype: int64\n"
     ]
    }
   ],
   "source": [
    "# посмотрим на исходную размерность. необходимо, чтобы после объединения размерность таблицы, к которой\n",
    "# присоединяем должна совпадать с исходной\n",
    "print('Исходная размерность таблицы \"users\":', users.shape)\n",
    "print('Исходная размерность таблицы \"rides\":', rides.shape)\n",
    "print('Исходная размерность таблицы \"subscriptions\":', subscriptions.shape)\n",
    "\n",
    "\n",
    "data = users.merge(rides, on='user_id')\n",
    "data = data.merge(subscriptions, on='subscription_type')\n",
    "\n",
    "print()\n",
    "print('Исходная размерность объединенной таблицы:', data.shape) # количество совпадает (18068)\n",
    "print()\n",
    "print('Количество пропусков в объединненой таблице:', data.isna().sum(), sep='\\n') # пропусков нет"
   ]
  },
  {
   "cell_type": "code",
   "execution_count": 27,
   "id": "2d3aeb7f",
   "metadata": {},
   "outputs": [
    {
     "data": {
      "text/html": [
       "<div>\n",
       "<style scoped>\n",
       "    .dataframe tbody tr th:only-of-type {\n",
       "        vertical-align: middle;\n",
       "    }\n",
       "\n",
       "    .dataframe tbody tr th {\n",
       "        vertical-align: top;\n",
       "    }\n",
       "\n",
       "    .dataframe thead th {\n",
       "        text-align: right;\n",
       "    }\n",
       "</style>\n",
       "<table border=\"1\" class=\"dataframe\">\n",
       "  <thead>\n",
       "    <tr style=\"text-align: right;\">\n",
       "      <th></th>\n",
       "      <th>user_id</th>\n",
       "      <th>name</th>\n",
       "      <th>age</th>\n",
       "      <th>city</th>\n",
       "      <th>subscription_type</th>\n",
       "      <th>distance</th>\n",
       "      <th>duration</th>\n",
       "      <th>date</th>\n",
       "      <th>date_month</th>\n",
       "      <th>minute_price</th>\n",
       "      <th>start_ride_price</th>\n",
       "      <th>subscription_fee</th>\n",
       "    </tr>\n",
       "  </thead>\n",
       "  <tbody>\n",
       "    <tr>\n",
       "      <th>0</th>\n",
       "      <td>1</td>\n",
       "      <td>Кира</td>\n",
       "      <td>22</td>\n",
       "      <td>Тюмень</td>\n",
       "      <td>ultra</td>\n",
       "      <td>4410.0</td>\n",
       "      <td>25.599769</td>\n",
       "      <td>2021-01-01</td>\n",
       "      <td>1</td>\n",
       "      <td>6</td>\n",
       "      <td>0</td>\n",
       "      <td>199</td>\n",
       "    </tr>\n",
       "    <tr>\n",
       "      <th>1</th>\n",
       "      <td>1</td>\n",
       "      <td>Кира</td>\n",
       "      <td>22</td>\n",
       "      <td>Тюмень</td>\n",
       "      <td>ultra</td>\n",
       "      <td>2618.0</td>\n",
       "      <td>15.816871</td>\n",
       "      <td>2021-01-18</td>\n",
       "      <td>1</td>\n",
       "      <td>6</td>\n",
       "      <td>0</td>\n",
       "      <td>199</td>\n",
       "    </tr>\n",
       "    <tr>\n",
       "      <th>2</th>\n",
       "      <td>1</td>\n",
       "      <td>Кира</td>\n",
       "      <td>22</td>\n",
       "      <td>Тюмень</td>\n",
       "      <td>ultra</td>\n",
       "      <td>754.0</td>\n",
       "      <td>6.232113</td>\n",
       "      <td>2021-04-20</td>\n",
       "      <td>4</td>\n",
       "      <td>6</td>\n",
       "      <td>0</td>\n",
       "      <td>199</td>\n",
       "    </tr>\n",
       "    <tr>\n",
       "      <th>3</th>\n",
       "      <td>1</td>\n",
       "      <td>Кира</td>\n",
       "      <td>22</td>\n",
       "      <td>Тюмень</td>\n",
       "      <td>ultra</td>\n",
       "      <td>2695.0</td>\n",
       "      <td>18.511000</td>\n",
       "      <td>2021-08-11</td>\n",
       "      <td>8</td>\n",
       "      <td>6</td>\n",
       "      <td>0</td>\n",
       "      <td>199</td>\n",
       "    </tr>\n",
       "    <tr>\n",
       "      <th>4</th>\n",
       "      <td>1</td>\n",
       "      <td>Кира</td>\n",
       "      <td>22</td>\n",
       "      <td>Тюмень</td>\n",
       "      <td>ultra</td>\n",
       "      <td>4029.0</td>\n",
       "      <td>26.265803</td>\n",
       "      <td>2021-08-28</td>\n",
       "      <td>8</td>\n",
       "      <td>6</td>\n",
       "      <td>0</td>\n",
       "      <td>199</td>\n",
       "    </tr>\n",
       "  </tbody>\n",
       "</table>\n",
       "</div>"
      ],
      "text/plain": [
       "   user_id  name  age    city subscription_type  distance   duration  \\\n",
       "0        1  Кира   22  Тюмень             ultra    4410.0  25.599769   \n",
       "1        1  Кира   22  Тюмень             ultra    2618.0  15.816871   \n",
       "2        1  Кира   22  Тюмень             ultra     754.0   6.232113   \n",
       "3        1  Кира   22  Тюмень             ultra    2695.0  18.511000   \n",
       "4        1  Кира   22  Тюмень             ultra    4029.0  26.265803   \n",
       "\n",
       "        date  date_month  minute_price  start_ride_price  subscription_fee  \n",
       "0 2021-01-01           1             6                 0               199  \n",
       "1 2021-01-18           1             6                 0               199  \n",
       "2 2021-04-20           4             6                 0               199  \n",
       "3 2021-08-11           8             6                 0               199  \n",
       "4 2021-08-28           8             6                 0               199  "
      ]
     },
     "execution_count": 27,
     "metadata": {},
     "output_type": "execute_result"
    }
   ],
   "source": [
    "data_ultra_users = data[data['subscription_type'] == 'ultra']\n",
    "data_ultra_users.head()"
   ]
  },
  {
   "cell_type": "markdown",
   "id": "507966c6-7f1c-4e4b-9cb1-0651eae89e8e",
   "metadata": {},
   "source": [
    "Создадим отдельный датафрейм с пользователями без подпиской:"
   ]
  },
  {
   "cell_type": "code",
   "execution_count": 28,
   "id": "8d7a9ebe",
   "metadata": {},
   "outputs": [
    {
     "data": {
      "text/html": [
       "<div>\n",
       "<style scoped>\n",
       "    .dataframe tbody tr th:only-of-type {\n",
       "        vertical-align: middle;\n",
       "    }\n",
       "\n",
       "    .dataframe tbody tr th {\n",
       "        vertical-align: top;\n",
       "    }\n",
       "\n",
       "    .dataframe thead th {\n",
       "        text-align: right;\n",
       "    }\n",
       "</style>\n",
       "<table border=\"1\" class=\"dataframe\">\n",
       "  <thead>\n",
       "    <tr style=\"text-align: right;\">\n",
       "      <th></th>\n",
       "      <th>user_id</th>\n",
       "      <th>name</th>\n",
       "      <th>age</th>\n",
       "      <th>city</th>\n",
       "      <th>subscription_type</th>\n",
       "      <th>distance</th>\n",
       "      <th>duration</th>\n",
       "      <th>date</th>\n",
       "      <th>date_month</th>\n",
       "      <th>minute_price</th>\n",
       "      <th>start_ride_price</th>\n",
       "      <th>subscription_fee</th>\n",
       "    </tr>\n",
       "  </thead>\n",
       "  <tbody>\n",
       "    <tr>\n",
       "      <th>6500</th>\n",
       "      <td>700</td>\n",
       "      <td>Айдар</td>\n",
       "      <td>22</td>\n",
       "      <td>Омск</td>\n",
       "      <td>free</td>\n",
       "      <td>2516.0</td>\n",
       "      <td>14.944286</td>\n",
       "      <td>2021-01-02</td>\n",
       "      <td>1</td>\n",
       "      <td>8</td>\n",
       "      <td>50</td>\n",
       "      <td>0</td>\n",
       "    </tr>\n",
       "    <tr>\n",
       "      <th>6501</th>\n",
       "      <td>700</td>\n",
       "      <td>Айдар</td>\n",
       "      <td>22</td>\n",
       "      <td>Омск</td>\n",
       "      <td>free</td>\n",
       "      <td>847.0</td>\n",
       "      <td>16.234663</td>\n",
       "      <td>2021-02-01</td>\n",
       "      <td>2</td>\n",
       "      <td>8</td>\n",
       "      <td>50</td>\n",
       "      <td>0</td>\n",
       "    </tr>\n",
       "    <tr>\n",
       "      <th>6502</th>\n",
       "      <td>700</td>\n",
       "      <td>Айдар</td>\n",
       "      <td>22</td>\n",
       "      <td>Омск</td>\n",
       "      <td>free</td>\n",
       "      <td>4004.0</td>\n",
       "      <td>20.016628</td>\n",
       "      <td>2021-02-04</td>\n",
       "      <td>2</td>\n",
       "      <td>8</td>\n",
       "      <td>50</td>\n",
       "      <td>0</td>\n",
       "    </tr>\n",
       "    <tr>\n",
       "      <th>6503</th>\n",
       "      <td>700</td>\n",
       "      <td>Айдар</td>\n",
       "      <td>22</td>\n",
       "      <td>Омск</td>\n",
       "      <td>free</td>\n",
       "      <td>1206.0</td>\n",
       "      <td>9.782872</td>\n",
       "      <td>2021-02-10</td>\n",
       "      <td>2</td>\n",
       "      <td>8</td>\n",
       "      <td>50</td>\n",
       "      <td>0</td>\n",
       "    </tr>\n",
       "    <tr>\n",
       "      <th>6504</th>\n",
       "      <td>700</td>\n",
       "      <td>Айдар</td>\n",
       "      <td>22</td>\n",
       "      <td>Омск</td>\n",
       "      <td>free</td>\n",
       "      <td>3047.0</td>\n",
       "      <td>17.427673</td>\n",
       "      <td>2021-02-14</td>\n",
       "      <td>2</td>\n",
       "      <td>8</td>\n",
       "      <td>50</td>\n",
       "      <td>0</td>\n",
       "    </tr>\n",
       "  </tbody>\n",
       "</table>\n",
       "</div>"
      ],
      "text/plain": [
       "      user_id   name  age  city subscription_type  distance   duration  \\\n",
       "6500      700  Айдар   22  Омск              free    2516.0  14.944286   \n",
       "6501      700  Айдар   22  Омск              free     847.0  16.234663   \n",
       "6502      700  Айдар   22  Омск              free    4004.0  20.016628   \n",
       "6503      700  Айдар   22  Омск              free    1206.0   9.782872   \n",
       "6504      700  Айдар   22  Омск              free    3047.0  17.427673   \n",
       "\n",
       "           date  date_month  minute_price  start_ride_price  subscription_fee  \n",
       "6500 2021-01-02           1             8                50                 0  \n",
       "6501 2021-02-01           2             8                50                 0  \n",
       "6502 2021-02-04           2             8                50                 0  \n",
       "6503 2021-02-10           2             8                50                 0  \n",
       "6504 2021-02-14           2             8                50                 0  "
      ]
     },
     "execution_count": 28,
     "metadata": {},
     "output_type": "execute_result"
    }
   ],
   "source": [
    "data_free_users = data[data['subscription_type'] == 'free']\n",
    "data_free_users.head()"
   ]
  },
  {
   "cell_type": "markdown",
   "id": "9b7e955e",
   "metadata": {},
   "source": [
    "### Анализ расстояния и времени поездок для пользователей с подпиской 'ultra' и 'free'"
   ]
  },
  {
   "cell_type": "code",
   "execution_count": 29,
   "id": "210cb30b",
   "metadata": {},
   "outputs": [
    {
     "name": "stderr",
     "output_type": "stream",
     "text": [
      "/opt/anaconda3/lib/python3.11/site-packages/seaborn/_oldcore.py:1119: FutureWarning: use_inf_as_na option is deprecated and will be removed in a future version. Convert inf values to NaN before operating instead.\n",
      "  with pd.option_context('mode.use_inf_as_na', True):\n",
      "/opt/anaconda3/lib/python3.11/site-packages/seaborn/_oldcore.py:1119: FutureWarning: use_inf_as_na option is deprecated and will be removed in a future version. Convert inf values to NaN before operating instead.\n",
      "  with pd.option_context('mode.use_inf_as_na', True):\n"
     ]
    },
    {
     "data": {
      "image/png": "[encoded data removed]",
      "text/plain": [
       "<Figure size 640x480 with 1 Axes>"
      ]
     },
     "metadata": {},
     "output_type": "display_data"
    }
   ],
   "source": [
    "sns.histplot(data=data_free_users, x=data_free_users['distance'], color=\"skyblue\", label=\"free\", kde=True)\n",
    "sns.histplot(data=data_ultra_users, x=data_ultra_users['distance'], color=\"red\", label=\"ultra\", kde=True)\n",
    "plt.title('Гистограмма распределения дистанций поездок')\n",
    "plt.xlabel('Дистанция поездки, м')\n",
    "plt.legend() \n",
    "plt.show()"
   ]
  },
  {
   "cell_type": "markdown",
   "id": "597ebbc9-9fe4-4552-9f6c-0a1fc5b7c24f",
   "metadata": {},
   "source": [
    "<div class=\"alert\"; style=\"border-left: 7px solid pink\">\n",
    "\n",
    "**Мини-вывод**\n",
    "- Пользователи с `платной` подписках чаще ездят на более `дальние` дистанции, чем пользователи с `бесплатной` подпиской\n",
    "- Среди пользователей с `бесплатной` подпиской больше `коротких` и `недолговременных` поездок \n",
    "</div>"
   ]
  },
  {
   "cell_type": "markdown",
   "id": "4e47a7d6",
   "metadata": {},
   "source": [
    "## Подсчёт выручки <a id='7'></a>"
   ]
  },
  {
   "cell_type": "markdown",
   "id": "2fda1221-0a1b-4b6e-a89b-8cc85f32c0ef",
   "metadata": {},
   "source": [
    "Создим датафрейм с помесячными данными о сумме дистанции, сумме времени и количестве поездкок пользователей:"
   ]
  },
  {
   "cell_type": "code",
   "execution_count": 30,
   "id": "e79227af",
   "metadata": {},
   "outputs": [
    {
     "data": {
      "text/html": [
       "<div>\n",
       "<style scoped>\n",
       "    .dataframe tbody tr th:only-of-type {\n",
       "        vertical-align: middle;\n",
       "    }\n",
       "\n",
       "    .dataframe tbody tr th {\n",
       "        vertical-align: top;\n",
       "    }\n",
       "\n",
       "    .dataframe thead th {\n",
       "        text-align: right;\n",
       "    }\n",
       "</style>\n",
       "<table border=\"1\" class=\"dataframe\">\n",
       "  <thead>\n",
       "    <tr style=\"text-align: right;\">\n",
       "      <th></th>\n",
       "      <th>user_id</th>\n",
       "      <th>date_month</th>\n",
       "      <th>distance_sum</th>\n",
       "      <th>duration_sum</th>\n",
       "      <th>rides_number</th>\n",
       "      <th>subscription_type</th>\n",
       "    </tr>\n",
       "  </thead>\n",
       "  <tbody>\n",
       "    <tr>\n",
       "      <th>0</th>\n",
       "      <td>1</td>\n",
       "      <td>1</td>\n",
       "      <td>7028.0</td>\n",
       "      <td>42</td>\n",
       "      <td>2</td>\n",
       "      <td>[ultra]</td>\n",
       "    </tr>\n",
       "    <tr>\n",
       "      <th>1</th>\n",
       "      <td>1</td>\n",
       "      <td>4</td>\n",
       "      <td>754.0</td>\n",
       "      <td>7</td>\n",
       "      <td>1</td>\n",
       "      <td>[ultra]</td>\n",
       "    </tr>\n",
       "    <tr>\n",
       "      <th>2</th>\n",
       "      <td>1</td>\n",
       "      <td>8</td>\n",
       "      <td>6724.0</td>\n",
       "      <td>46</td>\n",
       "      <td>2</td>\n",
       "      <td>[ultra]</td>\n",
       "    </tr>\n",
       "    <tr>\n",
       "      <th>3</th>\n",
       "      <td>1</td>\n",
       "      <td>10</td>\n",
       "      <td>5810.0</td>\n",
       "      <td>32</td>\n",
       "      <td>2</td>\n",
       "      <td>[ultra]</td>\n",
       "    </tr>\n",
       "    <tr>\n",
       "      <th>4</th>\n",
       "      <td>1</td>\n",
       "      <td>11</td>\n",
       "      <td>7004.0</td>\n",
       "      <td>56</td>\n",
       "      <td>3</td>\n",
       "      <td>[ultra]</td>\n",
       "    </tr>\n",
       "  </tbody>\n",
       "</table>\n",
       "</div>"
      ],
      "text/plain": [
       "   user_id  date_month  distance_sum  duration_sum  rides_number  \\\n",
       "0        1           1        7028.0            42             2   \n",
       "1        1           4         754.0             7             1   \n",
       "2        1           8        6724.0            46             2   \n",
       "3        1          10        5810.0            32             2   \n",
       "4        1          11        7004.0            56             3   \n",
       "\n",
       "  subscription_type  \n",
       "0           [ultra]  \n",
       "1           [ultra]  \n",
       "2           [ultra]  \n",
       "3           [ultra]  \n",
       "4           [ultra]  "
      ]
     },
     "execution_count": 30,
     "metadata": {},
     "output_type": "execute_result"
    }
   ],
   "source": [
    "#округлим продолжительность каждой поездк\n",
    "data['duration'] = data['duration'].apply(ceil)\n",
    "\n",
    "#создадим агрегированную таблицу с использованием сводных таблиц\n",
    "data_groupby_sub = data.groupby(['user_id', 'date_month'])['subscription_type'].unique()\n",
    "data_groupby_sub\n",
    "data_groupby = data.groupby(['user_id', 'date_month'])[['distance', 'duration']].agg(['sum', 'count'])\n",
    "data_groupby = data_groupby.droplevel(1,axis=1)\n",
    "data_groupby = data_groupby.join(data_groupby_sub)\n",
    "data_groupby.columns = ['distance_sum', 'distance_count', 'duration_sum', 'rides_number', 'subscription_type']\n",
    "data_groupby = data_groupby.drop(columns = ['distance_count'],axis = 1)\n",
    "data_groupby.reset_index(inplace=True)\n",
    "data_groupby.head()"
   ]
  },
  {
   "cell_type": "markdown",
   "id": "f219bbf5-94b9-4baf-9a95-bed129865747",
   "metadata": {},
   "source": [
    "Напишем функцию, которая опеределяет подписку по user_id, после чего добавим соответствующий столбец:"
   ]
  },
  {
   "cell_type": "code",
   "execution_count": 31,
   "id": "88cc796c",
   "metadata": {},
   "outputs": [
    {
     "data": {
      "text/html": [
       "<div>\n",
       "<style scoped>\n",
       "    .dataframe tbody tr th:only-of-type {\n",
       "        vertical-align: middle;\n",
       "    }\n",
       "\n",
       "    .dataframe tbody tr th {\n",
       "        vertical-align: top;\n",
       "    }\n",
       "\n",
       "    .dataframe thead th {\n",
       "        text-align: right;\n",
       "    }\n",
       "</style>\n",
       "<table border=\"1\" class=\"dataframe\">\n",
       "  <thead>\n",
       "    <tr style=\"text-align: right;\">\n",
       "      <th></th>\n",
       "      <th>user_id</th>\n",
       "      <th>date_month</th>\n",
       "      <th>distance_sum</th>\n",
       "      <th>duration_sum</th>\n",
       "      <th>rides_number</th>\n",
       "      <th>subscription_type</th>\n",
       "    </tr>\n",
       "  </thead>\n",
       "  <tbody>\n",
       "    <tr>\n",
       "      <th>0</th>\n",
       "      <td>1</td>\n",
       "      <td>1</td>\n",
       "      <td>7028.0</td>\n",
       "      <td>42</td>\n",
       "      <td>2</td>\n",
       "      <td>ultra</td>\n",
       "    </tr>\n",
       "    <tr>\n",
       "      <th>1</th>\n",
       "      <td>1</td>\n",
       "      <td>4</td>\n",
       "      <td>754.0</td>\n",
       "      <td>7</td>\n",
       "      <td>1</td>\n",
       "      <td>ultra</td>\n",
       "    </tr>\n",
       "    <tr>\n",
       "      <th>2</th>\n",
       "      <td>1</td>\n",
       "      <td>8</td>\n",
       "      <td>6724.0</td>\n",
       "      <td>46</td>\n",
       "      <td>2</td>\n",
       "      <td>ultra</td>\n",
       "    </tr>\n",
       "    <tr>\n",
       "      <th>3</th>\n",
       "      <td>1</td>\n",
       "      <td>10</td>\n",
       "      <td>5810.0</td>\n",
       "      <td>32</td>\n",
       "      <td>2</td>\n",
       "      <td>ultra</td>\n",
       "    </tr>\n",
       "    <tr>\n",
       "      <th>4</th>\n",
       "      <td>1</td>\n",
       "      <td>11</td>\n",
       "      <td>7004.0</td>\n",
       "      <td>56</td>\n",
       "      <td>3</td>\n",
       "      <td>ultra</td>\n",
       "    </tr>\n",
       "  </tbody>\n",
       "</table>\n",
       "</div>"
      ],
      "text/plain": [
       "   user_id  date_month  distance_sum  duration_sum  rides_number  \\\n",
       "0        1           1        7028.0            42             2   \n",
       "1        1           4         754.0             7             1   \n",
       "2        1           8        6724.0            46             2   \n",
       "3        1          10        5810.0            32             2   \n",
       "4        1          11        7004.0            56             3   \n",
       "\n",
       "  subscription_type  \n",
       "0             ultra  \n",
       "1             ultra  \n",
       "2             ultra  \n",
       "3             ultra  \n",
       "4             ultra  "
      ]
     },
     "execution_count": 31,
     "metadata": {},
     "output_type": "execute_result"
    }
   ],
   "source": [
    "def subscription_calculator(user_id):\n",
    "    return data[data['user_id'] == user_id]['subscription_type'].unique()[0]\n",
    "data_groupby['subscription_type'] = data_groupby['user_id'].apply(subscription_calculator)\n",
    "data_groupby.head()"
   ]
  },
  {
   "cell_type": "markdown",
   "id": "a0e25c67-7e1d-42dc-a397-90cd71c9cd31",
   "metadata": {},
   "source": [
    "Посмотрим на цены в зависимости от тарифа:"
   ]
  },
  {
   "cell_type": "code",
   "execution_count": 32,
   "id": "bd457e1d",
   "metadata": {},
   "outputs": [
    {
     "data": {
      "text/html": [
       "<div>\n",
       "<style scoped>\n",
       "    .dataframe tbody tr th:only-of-type {\n",
       "        vertical-align: middle;\n",
       "    }\n",
       "\n",
       "    .dataframe tbody tr th {\n",
       "        vertical-align: top;\n",
       "    }\n",
       "\n",
       "    .dataframe thead th {\n",
       "        text-align: right;\n",
       "    }\n",
       "</style>\n",
       "<table border=\"1\" class=\"dataframe\">\n",
       "  <thead>\n",
       "    <tr style=\"text-align: right;\">\n",
       "      <th></th>\n",
       "      <th>subscription_type</th>\n",
       "      <th>minute_price</th>\n",
       "      <th>start_ride_price</th>\n",
       "      <th>subscription_fee</th>\n",
       "    </tr>\n",
       "  </thead>\n",
       "  <tbody>\n",
       "    <tr>\n",
       "      <th>0</th>\n",
       "      <td>free</td>\n",
       "      <td>8</td>\n",
       "      <td>50</td>\n",
       "      <td>0</td>\n",
       "    </tr>\n",
       "    <tr>\n",
       "      <th>1</th>\n",
       "      <td>ultra</td>\n",
       "      <td>6</td>\n",
       "      <td>0</td>\n",
       "      <td>199</td>\n",
       "    </tr>\n",
       "  </tbody>\n",
       "</table>\n",
       "</div>"
      ],
      "text/plain": [
       "  subscription_type  minute_price  start_ride_price  subscription_fee\n",
       "0              free             8                50                 0\n",
       "1             ultra             6                 0               199"
      ]
     },
     "execution_count": 32,
     "metadata": {},
     "output_type": "execute_result"
    }
   ],
   "source": [
    "subscriptions"
   ]
  },
  {
   "cell_type": "markdown",
   "id": "1463fdef-2af2-4d0c-8770-13424f7c5f3b",
   "metadata": {},
   "source": [
    "Посчитаем функцию для подсчета выручка с поездки:"
   ]
  },
  {
   "cell_type": "code",
   "execution_count": 33,
   "id": "82d7df6f",
   "metadata": {},
   "outputs": [
    {
     "data": {
      "text/html": [
       "<div>\n",
       "<style scoped>\n",
       "    .dataframe tbody tr th:only-of-type {\n",
       "        vertical-align: middle;\n",
       "    }\n",
       "\n",
       "    .dataframe tbody tr th {\n",
       "        vertical-align: top;\n",
       "    }\n",
       "\n",
       "    .dataframe thead th {\n",
       "        text-align: right;\n",
       "    }\n",
       "</style>\n",
       "<table border=\"1\" class=\"dataframe\">\n",
       "  <thead>\n",
       "    <tr style=\"text-align: right;\">\n",
       "      <th></th>\n",
       "      <th>user_id</th>\n",
       "      <th>date_month</th>\n",
       "      <th>distance_sum</th>\n",
       "      <th>duration_sum</th>\n",
       "      <th>rides_number</th>\n",
       "      <th>subscription_type</th>\n",
       "      <th>month_revenue</th>\n",
       "    </tr>\n",
       "  </thead>\n",
       "  <tbody>\n",
       "    <tr>\n",
       "      <th>0</th>\n",
       "      <td>1</td>\n",
       "      <td>1</td>\n",
       "      <td>7028.0</td>\n",
       "      <td>42</td>\n",
       "      <td>2</td>\n",
       "      <td>ultra</td>\n",
       "      <td>451</td>\n",
       "    </tr>\n",
       "    <tr>\n",
       "      <th>1</th>\n",
       "      <td>1</td>\n",
       "      <td>4</td>\n",
       "      <td>754.0</td>\n",
       "      <td>7</td>\n",
       "      <td>1</td>\n",
       "      <td>ultra</td>\n",
       "      <td>241</td>\n",
       "    </tr>\n",
       "    <tr>\n",
       "      <th>2</th>\n",
       "      <td>1</td>\n",
       "      <td>8</td>\n",
       "      <td>6724.0</td>\n",
       "      <td>46</td>\n",
       "      <td>2</td>\n",
       "      <td>ultra</td>\n",
       "      <td>475</td>\n",
       "    </tr>\n",
       "    <tr>\n",
       "      <th>3</th>\n",
       "      <td>1</td>\n",
       "      <td>10</td>\n",
       "      <td>5810.0</td>\n",
       "      <td>32</td>\n",
       "      <td>2</td>\n",
       "      <td>ultra</td>\n",
       "      <td>391</td>\n",
       "    </tr>\n",
       "    <tr>\n",
       "      <th>4</th>\n",
       "      <td>1</td>\n",
       "      <td>11</td>\n",
       "      <td>7004.0</td>\n",
       "      <td>56</td>\n",
       "      <td>3</td>\n",
       "      <td>ultra</td>\n",
       "      <td>535</td>\n",
       "    </tr>\n",
       "  </tbody>\n",
       "</table>\n",
       "</div>"
      ],
      "text/plain": [
       "   user_id  date_month  distance_sum  duration_sum  rides_number  \\\n",
       "0        1           1        7028.0            42             2   \n",
       "1        1           4         754.0             7             1   \n",
       "2        1           8        6724.0            46             2   \n",
       "3        1          10        5810.0            32             2   \n",
       "4        1          11        7004.0            56             3   \n",
       "\n",
       "  subscription_type  month_revenue  \n",
       "0             ultra            451  \n",
       "1             ultra            241  \n",
       "2             ultra            475  \n",
       "3             ultra            391  \n",
       "4             ultra            535  "
      ]
     },
     "execution_count": 33,
     "metadata": {},
     "output_type": "execute_result"
    }
   ],
   "source": [
    "def month_revenue_calculator(row):\n",
    "    if row['subscription_type'] == 'ultra':\n",
    "        return 199 + row['duration_sum'] * 6\n",
    "    else:\n",
    "        return row['rides_number'] * 50 + row['duration_sum'] * 8\n",
    "    \n",
    "#добавим соответствующий столбец в датафрейм\n",
    "data_groupby['month_revenue'] = data_groupby.apply(month_revenue_calculator, axis=1)\n",
    "data_groupby.head()"
   ]
  },
  {
   "cell_type": "code",
   "execution_count": 34,
   "id": "52b2afef",
   "metadata": {},
   "outputs": [
    {
     "data": {
      "image/png": "[encoded data removed]",
      "text/plain": [
       "<Figure size 500x400 with 1 Axes>"
      ]
     },
     "metadata": {},
     "output_type": "display_data"
    }
   ],
   "source": [
    "data_groupby.groupby('user_id')['month_revenue'].sum().sort_values(ascending=False).hist(figsize=(5,4), bins=30)\n",
    "None"
   ]
  },
  {
   "cell_type": "code",
   "execution_count": 35,
   "id": "22f2b6dc",
   "metadata": {},
   "outputs": [
    {
     "data": {
      "text/plain": [
       "count    1534.000000\n",
       "mean     2528.449153\n",
       "std       740.607283\n",
       "min       626.000000\n",
       "25%      2012.500000\n",
       "50%      2497.000000\n",
       "75%      3003.000000\n",
       "max      5022.000000\n",
       "Name: month_revenue, dtype: float64"
      ]
     },
     "execution_count": 35,
     "metadata": {},
     "output_type": "execute_result"
    }
   ],
   "source": [
    "data_groupby.groupby('user_id')['month_revenue'].sum().sort_values(ascending=False).describe()"
   ]
  },
  {
   "cell_type": "markdown",
   "id": "552df9a1",
   "metadata": {},
   "source": [
    "<div class=\"alert\"; style=\"border-left: 7px solid pink\">\n",
    "\n",
    "**Мини-вывод**\n",
    "- Распределение выручки от одного пользователя близко к `нормальному`\n",
    "- Как правило, один пользователь приносил `около 2500р` выручки. При этом были те, что приносили компании `менее 1000р` и `более 5000р` выручки\n",
    "</div>"
   ]
  },
  {
   "cell_type": "markdown",
   "id": "5ca6c62b",
   "metadata": {},
   "source": [
    "## Проверка гипотез <a id='8'></a>"
   ]
  },
  {
   "cell_type": "markdown",
   "id": "eeb51918",
   "metadata": {},
   "source": [
    "### Гипотеза №1. Пользователи с подпиской тратят больше времени на поездки"
   ]
  },
  {
   "cell_type": "markdown",
   "id": "13e8d200",
   "metadata": {},
   "source": [
    "**Нулевая гипотеза (Ho)**: среднее генеральной совокупности 'data_ultra_users['duration']' равно среднему генеральной совокупности'data_free_users['duration']'\n",
    "\n",
    "**Альтернативная гипотеза (H1)**: среднее генеральной совокупности 'data_ultra_users['duration']' больше среднего генеральной совокупности'data_free_users['duration']'"
   ]
  },
  {
   "cell_type": "code",
   "execution_count": 36,
   "id": "d1db1575",
   "metadata": {},
   "outputs": [
    {
     "name": "stdout",
     "output_type": "stream",
     "text": [
      "p-value: 1.2804098316645618e-34\n",
      "Отвергаем нулевую гипотезу в пользу альтернативной\n"
     ]
    }
   ],
   "source": [
    "# Для проверки данной гипотезы сформулируем и проверим одностороннюю статистическую гипотезу о равенстве средних\n",
    "# двух генеральных совокупностей - 'data_ultra_users['duration']' и 'data_free_users['duration']'\n",
    "\n",
    "alpha = .05 # установим уровень статистической значимости. если p-value окажется меньше него, то отвергнем Ho\n",
    "\n",
    "results = st.ttest_ind(data_ultra_users['duration'], data_free_users['duration'], alternative='greater')\n",
    "\n",
    "print('p-value:', results.pvalue)\n",
    "\n",
    "if results.pvalue < alpha:\n",
    "    print('Отвергаем нулевую гипотезу в пользу альтернативной')\n",
    "else:\n",
    "    print('Не отвергаем нулевую гипотезу')"
   ]
  },
  {
   "cell_type": "markdown",
   "id": "e2e3e3e3",
   "metadata": {},
   "source": [
    "<div class=\"alert\"; style=\"border-left: 7px solid pink\">\n",
    "\n",
    "Нулевая гипотеза была `отвергнута`, следовательно можно предполагать, что пользователи с подпиской тратят `больше` времени на поездки, а значит могут быть `«выгоднее»` для GoFast\n",
    "</div>"
   ]
  },
  {
   "cell_type": "markdown",
   "id": "f77032e2",
   "metadata": {},
   "source": [
    "### Гипотеза №2. Расстояние одной поездки пользователей с подпиской не превышает 3130м"
   ]
  },
  {
   "cell_type": "markdown",
   "id": "835342e6",
   "metadata": {},
   "source": [
    "**Нулевая гипотеза (Ho)**: среднее генеральной совокупности data_ultra_users['distance'] равно 3130\n",
    "\n",
    "**Альтернативная гипотеза (H1)**: среднее генеральной совокупности data_ultra_users['distance'] больше 3130"
   ]
  },
  {
   "cell_type": "code",
   "execution_count": 37,
   "id": "47bda48b",
   "metadata": {},
   "outputs": [
    {
     "name": "stdout",
     "output_type": "stream",
     "text": [
      "p-value: 0.9195649894697724\n",
      "Не отвергаем нулевую гипотезу\n"
     ]
    }
   ],
   "source": [
    "# Для проверки данной гипотезы сформулируем и проверим одностороннюю статистическую гипотезу о равенстве среднего\n",
    "# генеральной совокупности data_ultra_users['distance'] значению 3130\n",
    "\n",
    "opt_value = 3130 # оптимальное с точки зрения износа самоката расстояние одной поездки\n",
    "\n",
    "alpha = .05 # установим уровень статистической значимости\n",
    "\n",
    "results = st.ttest_1samp(data_ultra_users['distance'], opt_value, alternative='greater')\n",
    "\n",
    "print('p-value:', results.pvalue)\n",
    "\n",
    "if results.pvalue < alpha:\n",
    "    print('Отвергаем нулевую гипотезу в пользу альтернативной')\n",
    "else:\n",
    "    print('Не отвергаем нулевую гипотезу')"
   ]
  },
  {
   "cell_type": "markdown",
   "id": "d0ec2a1f",
   "metadata": {},
   "source": [
    "<div class=\"alert\"; style=\"border-left: 7px solid pink\">\n",
    "\n",
    "`Не получилось опровергнуть` нулевую гипотезу, следовательно можно предполагать, что расстояние одной поездки пользователей с подпиской `не превышает` 3130м\n",
    "</div>"
   ]
  },
  {
   "cell_type": "markdown",
   "id": "c7539381",
   "metadata": {},
   "source": [
    "### Гипотеза №3. Помесячная выручка от пользователей с подпиской по месяцам выше, чем выручка от пользователей без подписки"
   ]
  },
  {
   "cell_type": "markdown",
   "id": "007f0589",
   "metadata": {},
   "source": [
    "**Нулевая гипотеза (Ho)**: среднее генеральной совокупности 'data_groupby[data_groupby['subscription_type'] == 'ultra']['month_revenue']' равно среднему генеральной совокупности data_groupby[data_groupby['subscription_type'] == 'free']['month_revenue']\n",
    "\n",
    "**Альтернативная гипотеза (H1)**: среднее генеральной совокупности 'data_groupby[data_groupby['subscription_type'] == 'ultra']['month_revenue']' больше среднего генеральной совокупности data_groupby[data_groupby['subscription_type'] == 'free']['month_revenue']"
   ]
  },
  {
   "cell_type": "code",
   "execution_count": 38,
   "id": "1cc41e55",
   "metadata": {},
   "outputs": [
    {
     "name": "stdout",
     "output_type": "stream",
     "text": [
      "p-value: 1.8850394384715216e-31\n",
      "Отвергаем нулевую гипотезу в пользу альтернативной\n"
     ]
    }
   ],
   "source": [
    "# Для проверки данной гипотезы сформулируем и проверим статистическую гипотезу о равенстве средних\n",
    "# двух генеральных совокупностей - 'data_groupby[data_groupby['subscription_type'] == 'ultra']['month_revenue']'\n",
    "# и data_groupby[data_groupby['subscription_type'] == 'free']['month_revenue']\n",
    "\n",
    "alpha = .05 # установим уровень статистической значимости. если p-value окажется меньше него, то отвергнем Ho\n",
    "\n",
    "results = st.ttest_ind(\n",
    "    data_groupby[data_groupby['subscription_type'] == 'ultra']['month_revenue'],\n",
    "    data_groupby[data_groupby['subscription_type'] == 'free']['month_revenue'],\n",
    "    alternative='greater')\n",
    "\n",
    "print('p-value:', results.pvalue)\n",
    "\n",
    "if results.pvalue < alpha:\n",
    "    print('Отвергаем нулевую гипотезу в пользу альтернативной')\n",
    "else:\n",
    "    print('Не отвергаем нулевую гипотезу')"
   ]
  },
  {
   "cell_type": "markdown",
   "id": "f3584301",
   "metadata": {},
   "source": [
    "<div class=\"alert\"; style=\"border-left: 7px solid pink\">\n",
    "\n",
    "Нулевая гипотеза была `отвергнута` в пользу альтернативной, следовательно можно предполагать, что помесячная выручка от пользователей с подпиской выше, чем выручка от пользователей без подписки\n",
    "</div>"
   ]
  },
  {
   "cell_type": "markdown",
   "id": "c8864b2d",
   "metadata": {},
   "source": [
    "## Распределения <a id='9'></a>"
   ]
  },
  {
   "cell_type": "markdown",
   "id": "f92841ea",
   "metadata": {},
   "source": [
    "Отделу маркетинга GoFast поставили задачу: нужно провести акцию с раздачей промокодов на один бесплатный месяц подписки, в рамках которой как минимум 100 существующих клиентов должны продлить эту подписку. То есть по завершении периода действия подписки пользователь может либо отказаться от неё, либо продлить, совершив соответствующий платёж. Эта акция уже проводилась ранее и по итогу выяснилось, что после бесплатного пробного периода подписку продлевают 10 % пользователей.\n",
    "\n",
    "Выясните, какое минимальное количество промокодов нужно разослать, чтобы вероятность не выполнить план была примерно 5 %. Подберите параметры распределения, описывающего эту ситуацию, постройте график распределения и сформулируйте ответ на вопрос о количестве промокодов."
   ]
  },
  {
   "cell_type": "code",
   "execution_count": 39,
   "id": "317370ca",
   "metadata": {},
   "outputs": [
    {
     "name": "stdout",
     "output_type": "stream",
     "text": [
      "0.9520774340068084\n"
     ]
    },
    {
     "data": {
      "image/png": "[encoded data removed]",
      "text/plain": [
       "<Figure size 640x480 with 1 Axes>"
      ]
     },
     "metadata": {},
     "output_type": "display_data"
    }
   ],
   "source": [
    "p = 0.1 # вероятность продлить подписку\n",
    "n = 854 # количество разосланных промокодов\n",
    "\n",
    "mu = n * p\n",
    "sigma = sqrt(n * p * (1 - p))\n",
    "\n",
    "distr = st.norm(mu, sigma)\n",
    "\n",
    "x = 100 # значение, для которого хотим найти вероятность\n",
    "\n",
    "\n",
    "result = distr.cdf(x) # считаем вероятность получить значение, равное x или меньше \n",
    "\n",
    "print(result)\n",
    "\n",
    "distr_plot = []\n",
    "for k in range(0, n + 1):\n",
    "    choose = factorial(n) / (factorial(k) * factorial(n - k))\n",
    "    prob = choose * p**k * (1 - p)**(n - k) \n",
    "    distr_plot.append(prob)\n",
    "    \n",
    "plt.bar(range(0, n + 1), distr_plot)\n",
    "None"
   ]
  },
  {
   "cell_type": "markdown",
   "id": "9de10474",
   "metadata": {},
   "source": [
    "<div class=\"alert\"; style=\"border-left: 7px solid pink\">\n",
    "\n",
    "**Ответ:**\n",
    "    \n",
    "Нужно отправить `854 промокода`, что вероятность не выполнить план была 5%\n",
    "</div>"
   ]
  },
  {
   "cell_type": "markdown",
   "id": "751b0e69",
   "metadata": {},
   "source": [
    "*7.2 Отдел маркетинга рассылает клиентам push-уведомления в мобильном приложении. Клиенты могут открыть его или не открывать. Известно, что уведомления открывают около 40 % получивших клиентов. Отдел планирует разослать 1 млн уведомлений. С помощью аппроксимации постройте примерный график распределения и оцените вероятность того, что уведомление откроют не более 399,5 тыс. пользователей.*"
   ]
  },
  {
   "cell_type": "code",
   "execution_count": 40,
   "id": "8198b3f4",
   "metadata": {},
   "outputs": [
    {
     "name": "stdout",
     "output_type": "stream",
     "text": [
      "0.15371708296369768\n"
     ]
    }
   ],
   "source": [
    "# задаём параметры биномиального распределения\n",
    "n = 1_000_000\n",
    "p = 0.4\n",
    "\n",
    "# зададим параметры нормального распределения равными\n",
    "# мат.ожиданию и дисперсии биномиального распределения\n",
    "mu = n * p\n",
    "sigma = sqrt(n * p * (1 - p))\n",
    "\n",
    "# задаём нормальное распределение с математическим ожиданием 18 \n",
    "# и стандартным отклонением ~3.29\n",
    "distr = st.norm(mu, sigma) \n",
    "\n",
    "# границы интервала\n",
    "y = 399500\n",
    "\n",
    "# считаем вероятность получить значение до y\n",
    "result = distr.cdf(y)\n",
    "\n",
    "print(result)"
   ]
  },
  {
   "cell_type": "markdown",
   "id": "2aa689df",
   "metadata": {},
   "source": [
    "<div class=\"alert\"; style=\"border-left: 7px solid pink\">\n",
    "\n",
    "**Ответ:**\n",
    "    \n",
    "Вероятность того, что уведомление откроют `не более 399,5 тыс.` пользователей равна `15%`\n",
    "</div>"
   ]
  },
  {
   "cell_type": "markdown",
   "id": "ce8b0f1d",
   "metadata": {},
   "source": [
    "## Вывод <a id='10'></a>"
   ]
  },
  {
   "cell_type": "markdown",
   "id": "69b2ac1d",
   "metadata": {},
   "source": [
    "В данном исследовании были проанализированны данные о пользователях сервиса аренды самокатов *GoFast* из нескольких городов и их поездах *с целью* определить точки роста сервиса. В результате можно сформулированать следующее заключение:\n",
    "\n",
    "- Пользователи с подпиской тратят больше времени на поездки, а значит могут быть «выгоднее» для GoFast. Это подтверждается тем, что помесячная выручка от пользователей с подпиской выше, чем выручка от пользователей без подписки. В этом ключе стоит `обеспечить рост данной категории пользователей`. Зона роста есть, так как сейчас только `45.6%` пользователей (699) пользуются платной подпиской\n",
    "- Расстояние одной поездки пользователей с подпиской, как правило, не превышает `3130м`, следовательно самокаты изнашиваются с `оптимальной` интенсивностью\n",
    "***\n",
    "\n",
    "\n",
    "*Среди прочего анализа было также определено:*\n",
    "- *Большинство пользователей в возрасте `20-30 лет`*\n",
    "- *Продолжительность поездок в среднем составляет `17-18 минут`*"
   ]
  }
 ],
 "metadata": {
  "ExecuteTimeLog": [
   {
    "duration": 1246,
    "start_time": "2023-08-23T10:12:28.543Z"
   },
   {
    "duration": 93,
    "start_time": "2023-08-23T10:12:29.790Z"
   },
   {
    "duration": 12,
    "start_time": "2023-08-23T10:12:29.885Z"
   },
   {
    "duration": 167,
    "start_time": "2023-08-23T10:12:29.899Z"
   },
   {
    "duration": 93,
    "start_time": "2023-08-23T10:12:30.068Z"
   },
   {
    "duration": 21,
    "start_time": "2023-08-23T10:12:30.164Z"
   },
   {
    "duration": 284,
    "start_time": "2023-08-23T10:12:30.187Z"
   },
   {
    "duration": 97,
    "start_time": "2023-08-23T10:12:30.473Z"
   },
   {
    "duration": 12,
    "start_time": "2023-08-23T10:12:30.572Z"
   },
   {
    "duration": 64,
    "start_time": "2023-08-23T10:12:30.587Z"
   },
   {
    "duration": 64,
    "start_time": "2023-08-23T10:12:30.653Z"
   },
   {
    "duration": 37,
    "start_time": "2023-08-23T10:12:30.719Z"
   },
   {
    "duration": 127,
    "start_time": "2023-08-23T10:12:30.758Z"
   },
   {
    "duration": 198,
    "start_time": "2023-08-23T10:12:30.886Z"
   },
   {
    "duration": 6,
    "start_time": "2023-08-23T10:12:31.086Z"
   },
   {
    "duration": 121,
    "start_time": "2023-08-23T10:12:31.094Z"
   },
   {
    "duration": 191,
    "start_time": "2023-08-23T10:12:31.217Z"
   },
   {
    "duration": 109,
    "start_time": "2023-08-23T10:12:31.410Z"
   },
   {
    "duration": 9,
    "start_time": "2023-08-23T10:12:31.521Z"
   },
   {
    "duration": 238,
    "start_time": "2023-08-23T10:12:31.532Z"
   },
   {
    "duration": 136,
    "start_time": "2023-08-23T10:12:31.773Z"
   },
   {
    "duration": 12,
    "start_time": "2023-08-23T10:12:31.910Z"
   },
   {
    "duration": 22,
    "start_time": "2023-08-23T10:12:31.924Z"
   },
   {
    "duration": 23,
    "start_time": "2023-08-23T10:12:31.948Z"
   },
   {
    "duration": 216,
    "start_time": "2023-08-23T10:12:31.973Z"
   },
   {
    "duration": 123,
    "start_time": "2023-08-23T10:12:32.190Z"
   },
   {
    "duration": 10,
    "start_time": "2023-08-23T10:12:32.315Z"
   },
   {
    "duration": 222,
    "start_time": "2023-08-23T10:12:32.329Z"
   },
   {
    "duration": 32,
    "start_time": "2023-08-23T10:12:32.557Z"
   },
   {
    "duration": 15,
    "start_time": "2023-08-23T10:12:32.591Z"
   },
   {
    "duration": 13,
    "start_time": "2023-08-23T10:12:32.607Z"
   },
   {
    "duration": 353,
    "start_time": "2023-08-23T10:12:32.622Z"
   },
   {
    "duration": 16,
    "start_time": "2023-08-23T10:12:32.979Z"
   },
   {
    "duration": 350,
    "start_time": "2023-08-23T10:12:32.997Z"
   },
   {
    "duration": 26,
    "start_time": "2023-08-23T10:12:33.358Z"
   },
   {
    "duration": 123,
    "start_time": "2023-08-23T10:12:33.386Z"
   },
   {
    "duration": 0,
    "start_time": "2023-08-23T10:12:33.511Z"
   },
   {
    "duration": 0,
    "start_time": "2023-08-23T10:12:33.513Z"
   },
   {
    "duration": 0,
    "start_time": "2023-08-23T10:12:33.514Z"
   },
   {
    "duration": 0,
    "start_time": "2023-08-23T10:12:33.515Z"
   },
   {
    "duration": 0,
    "start_time": "2023-08-23T10:12:33.517Z"
   },
   {
    "duration": 0,
    "start_time": "2023-08-23T10:12:33.518Z"
   },
   {
    "duration": 0,
    "start_time": "2023-08-23T10:12:33.519Z"
   },
   {
    "duration": 0,
    "start_time": "2023-08-23T10:12:33.520Z"
   },
   {
    "duration": 0,
    "start_time": "2023-08-23T10:12:33.521Z"
   },
   {
    "duration": 0,
    "start_time": "2023-08-23T10:12:33.522Z"
   },
   {
    "duration": 1220,
    "start_time": "2023-08-23T10:26:23.385Z"
   },
   {
    "duration": 98,
    "start_time": "2023-08-23T10:26:24.607Z"
   },
   {
    "duration": 11,
    "start_time": "2023-08-23T10:26:24.707Z"
   },
   {
    "duration": 145,
    "start_time": "2023-08-23T10:26:24.720Z"
   },
   {
    "duration": 97,
    "start_time": "2023-08-23T10:26:24.867Z"
   },
   {
    "duration": 13,
    "start_time": "2023-08-23T10:26:24.966Z"
   },
   {
    "duration": 248,
    "start_time": "2023-08-23T10:26:24.982Z"
   },
   {
    "duration": 84,
    "start_time": "2023-08-23T10:26:25.232Z"
   },
   {
    "duration": 11,
    "start_time": "2023-08-23T10:26:25.318Z"
   },
   {
    "duration": 32,
    "start_time": "2023-08-23T10:26:25.331Z"
   },
   {
    "duration": 26,
    "start_time": "2023-08-23T10:26:25.365Z"
   },
   {
    "duration": 7,
    "start_time": "2023-08-23T10:26:25.393Z"
   },
   {
    "duration": 27,
    "start_time": "2023-08-23T10:26:25.401Z"
   },
   {
    "duration": 152,
    "start_time": "2023-08-23T10:26:25.432Z"
   },
   {
    "duration": 8,
    "start_time": "2023-08-23T10:26:25.586Z"
   },
   {
    "duration": 96,
    "start_time": "2023-08-23T10:26:25.597Z"
   },
   {
    "duration": 170,
    "start_time": "2023-08-23T10:26:25.695Z"
   },
   {
    "duration": 109,
    "start_time": "2023-08-23T10:26:25.869Z"
   },
   {
    "duration": 8,
    "start_time": "2023-08-23T10:26:25.980Z"
   },
   {
    "duration": 216,
    "start_time": "2023-08-23T10:26:25.990Z"
   },
   {
    "duration": 117,
    "start_time": "2023-08-23T10:26:26.207Z"
   },
   {
    "duration": 13,
    "start_time": "2023-08-23T10:26:26.326Z"
   },
   {
    "duration": 22,
    "start_time": "2023-08-23T10:26:26.340Z"
   },
   {
    "duration": 11,
    "start_time": "2023-08-23T10:26:26.364Z"
   },
   {
    "duration": 196,
    "start_time": "2023-08-23T10:26:26.377Z"
   },
   {
    "duration": 215,
    "start_time": "2023-08-23T10:26:26.576Z"
   },
   {
    "duration": 11,
    "start_time": "2023-08-23T10:26:26.793Z"
   },
   {
    "duration": 124,
    "start_time": "2023-08-23T10:26:26.806Z"
   },
   {
    "duration": 44,
    "start_time": "2023-08-23T10:26:26.932Z"
   },
   {
    "duration": 21,
    "start_time": "2023-08-23T10:26:26.978Z"
   },
   {
    "duration": 19,
    "start_time": "2023-08-23T10:26:27.001Z"
   },
   {
    "duration": 37,
    "start_time": "2023-08-23T10:26:27.021Z"
   },
   {
    "duration": 323,
    "start_time": "2023-08-23T10:26:27.061Z"
   },
   {
    "duration": 16,
    "start_time": "2023-08-23T10:26:27.386Z"
   },
   {
    "duration": 307,
    "start_time": "2023-08-23T10:26:27.404Z"
   },
   {
    "duration": 18,
    "start_time": "2023-08-23T10:26:27.713Z"
   },
   {
    "duration": 116,
    "start_time": "2023-08-23T10:26:27.733Z"
   },
   {
    "duration": 0,
    "start_time": "2023-08-23T10:26:27.856Z"
   },
   {
    "duration": 0,
    "start_time": "2023-08-23T10:26:27.857Z"
   },
   {
    "duration": 0,
    "start_time": "2023-08-23T10:26:27.859Z"
   },
   {
    "duration": 0,
    "start_time": "2023-08-23T10:26:27.861Z"
   },
   {
    "duration": 0,
    "start_time": "2023-08-23T10:26:27.863Z"
   },
   {
    "duration": 0,
    "start_time": "2023-08-23T10:26:27.865Z"
   },
   {
    "duration": 0,
    "start_time": "2023-08-23T10:26:27.867Z"
   },
   {
    "duration": 0,
    "start_time": "2023-08-23T10:26:27.869Z"
   },
   {
    "duration": 0,
    "start_time": "2023-08-23T10:26:27.871Z"
   },
   {
    "duration": 0,
    "start_time": "2023-08-23T10:26:27.873Z"
   },
   {
    "duration": 12,
    "start_time": "2023-08-23T10:27:04.947Z"
   },
   {
    "duration": 1265,
    "start_time": "2023-08-23T10:27:16.776Z"
   },
   {
    "duration": 94,
    "start_time": "2023-08-23T10:27:18.044Z"
   },
   {
    "duration": 12,
    "start_time": "2023-08-23T10:27:18.140Z"
   },
   {
    "duration": 165,
    "start_time": "2023-08-23T10:27:18.154Z"
   },
   {
    "duration": 97,
    "start_time": "2023-08-23T10:27:18.322Z"
   },
   {
    "duration": 11,
    "start_time": "2023-08-23T10:27:18.421Z"
   },
   {
    "duration": 242,
    "start_time": "2023-08-23T10:27:18.434Z"
   },
   {
    "duration": 79,
    "start_time": "2023-08-23T10:27:18.678Z"
   },
   {
    "duration": 14,
    "start_time": "2023-08-23T10:27:18.759Z"
   },
   {
    "duration": 41,
    "start_time": "2023-08-23T10:27:18.776Z"
   },
   {
    "duration": 45,
    "start_time": "2023-08-23T10:27:18.819Z"
   },
   {
    "duration": 7,
    "start_time": "2023-08-23T10:27:18.866Z"
   },
   {
    "duration": 29,
    "start_time": "2023-08-23T10:27:18.875Z"
   },
   {
    "duration": 195,
    "start_time": "2023-08-23T10:27:18.909Z"
   },
   {
    "duration": 8,
    "start_time": "2023-08-23T10:27:19.106Z"
   },
   {
    "duration": 152,
    "start_time": "2023-08-23T10:27:19.117Z"
   },
   {
    "duration": 180,
    "start_time": "2023-08-23T10:27:19.271Z"
   },
   {
    "duration": 118,
    "start_time": "2023-08-23T10:27:19.453Z"
   },
   {
    "duration": 13,
    "start_time": "2023-08-23T10:27:19.574Z"
   },
   {
    "duration": 200,
    "start_time": "2023-08-23T10:27:19.589Z"
   },
   {
    "duration": 114,
    "start_time": "2023-08-23T10:27:19.790Z"
   },
   {
    "duration": 13,
    "start_time": "2023-08-23T10:27:19.905Z"
   },
   {
    "duration": 13,
    "start_time": "2023-08-23T10:27:19.919Z"
   },
   {
    "duration": 43,
    "start_time": "2023-08-23T10:27:19.933Z"
   },
   {
    "duration": 216,
    "start_time": "2023-08-23T10:27:19.978Z"
   },
   {
    "duration": 222,
    "start_time": "2023-08-23T10:27:20.196Z"
   },
   {
    "duration": 10,
    "start_time": "2023-08-23T10:27:20.420Z"
   },
   {
    "duration": 26,
    "start_time": "2023-08-23T10:27:20.432Z"
   },
   {
    "duration": 128,
    "start_time": "2023-08-23T10:27:20.461Z"
   },
   {
    "duration": 12,
    "start_time": "2023-08-23T10:27:20.591Z"
   },
   {
    "duration": 45,
    "start_time": "2023-08-23T10:27:20.604Z"
   },
   {
    "duration": 36,
    "start_time": "2023-08-23T10:27:20.651Z"
   },
   {
    "duration": 25,
    "start_time": "2023-08-23T10:27:20.689Z"
   },
   {
    "duration": 18,
    "start_time": "2023-08-23T10:27:20.716Z"
   },
   {
    "duration": 329,
    "start_time": "2023-08-23T10:27:20.735Z"
   },
   {
    "duration": 24,
    "start_time": "2023-08-23T10:27:21.067Z"
   },
   {
    "duration": 336,
    "start_time": "2023-08-23T10:27:21.093Z"
   },
   {
    "duration": 29,
    "start_time": "2023-08-23T10:27:21.431Z"
   },
   {
    "duration": 118,
    "start_time": "2023-08-23T10:27:21.463Z"
   },
   {
    "duration": 0,
    "start_time": "2023-08-23T10:27:21.584Z"
   },
   {
    "duration": 0,
    "start_time": "2023-08-23T10:27:21.585Z"
   },
   {
    "duration": 0,
    "start_time": "2023-08-23T10:27:21.586Z"
   },
   {
    "duration": 0,
    "start_time": "2023-08-23T10:27:21.587Z"
   },
   {
    "duration": 0,
    "start_time": "2023-08-23T10:27:21.588Z"
   },
   {
    "duration": 0,
    "start_time": "2023-08-23T10:27:21.589Z"
   },
   {
    "duration": 0,
    "start_time": "2023-08-23T10:27:21.590Z"
   },
   {
    "duration": 0,
    "start_time": "2023-08-23T10:27:21.591Z"
   },
   {
    "duration": 0,
    "start_time": "2023-08-23T10:27:21.592Z"
   },
   {
    "duration": 0,
    "start_time": "2023-08-23T10:27:21.593Z"
   },
   {
    "duration": 1350,
    "start_time": "2023-08-23T14:32:35.963Z"
   },
   {
    "duration": 154,
    "start_time": "2023-08-23T14:32:37.315Z"
   },
   {
    "duration": 13,
    "start_time": "2023-08-23T14:32:37.471Z"
   },
   {
    "duration": 158,
    "start_time": "2023-08-23T14:32:37.486Z"
   },
   {
    "duration": 222,
    "start_time": "2023-08-23T14:32:37.646Z"
   },
   {
    "duration": 12,
    "start_time": "2023-08-23T14:32:37.870Z"
   },
   {
    "duration": 235,
    "start_time": "2023-08-23T14:32:37.884Z"
   },
   {
    "duration": 122,
    "start_time": "2023-08-23T14:32:38.121Z"
   },
   {
    "duration": 11,
    "start_time": "2023-08-23T14:32:38.244Z"
   },
   {
    "duration": 13,
    "start_time": "2023-08-23T14:32:38.258Z"
   },
   {
    "duration": 15,
    "start_time": "2023-08-23T14:32:38.273Z"
   },
   {
    "duration": 9,
    "start_time": "2023-08-23T14:32:38.289Z"
   },
   {
    "duration": 13,
    "start_time": "2023-08-23T14:32:38.301Z"
   },
   {
    "duration": 10,
    "start_time": "2023-08-23T14:32:38.316Z"
   },
   {
    "duration": 192,
    "start_time": "2023-08-23T14:32:38.328Z"
   },
   {
    "duration": 7,
    "start_time": "2023-08-23T14:32:38.522Z"
   },
   {
    "duration": 88,
    "start_time": "2023-08-23T14:32:38.531Z"
   },
   {
    "duration": 169,
    "start_time": "2023-08-23T14:32:38.621Z"
   },
   {
    "duration": 103,
    "start_time": "2023-08-23T14:32:38.792Z"
   },
   {
    "duration": 8,
    "start_time": "2023-08-23T14:32:38.897Z"
   },
   {
    "duration": 202,
    "start_time": "2023-08-23T14:32:38.906Z"
   },
   {
    "duration": 106,
    "start_time": "2023-08-23T14:32:39.110Z"
   },
   {
    "duration": 13,
    "start_time": "2023-08-23T14:32:39.218Z"
   },
   {
    "duration": 29,
    "start_time": "2023-08-23T14:32:39.233Z"
   },
   {
    "duration": 11,
    "start_time": "2023-08-23T14:32:39.264Z"
   },
   {
    "duration": 197,
    "start_time": "2023-08-23T14:32:39.277Z"
   },
   {
    "duration": 201,
    "start_time": "2023-08-23T14:32:39.476Z"
   },
   {
    "duration": 10,
    "start_time": "2023-08-23T14:32:39.681Z"
   },
   {
    "duration": 11,
    "start_time": "2023-08-23T14:32:39.692Z"
   },
   {
    "duration": 21,
    "start_time": "2023-08-23T14:32:39.705Z"
   },
   {
    "duration": 19,
    "start_time": "2023-08-23T14:32:39.759Z"
   },
   {
    "duration": 16,
    "start_time": "2023-08-23T14:32:39.780Z"
   },
   {
    "duration": 311,
    "start_time": "2023-08-23T14:32:39.797Z"
   },
   {
    "duration": 16,
    "start_time": "2023-08-23T14:32:40.110Z"
   },
   {
    "duration": 295,
    "start_time": "2023-08-23T14:32:40.128Z"
   },
   {
    "duration": 16,
    "start_time": "2023-08-23T14:32:40.425Z"
   },
   {
    "duration": 655,
    "start_time": "2023-08-23T14:32:40.443Z"
   },
   {
    "duration": 6673,
    "start_time": "2023-08-23T14:32:41.099Z"
   },
   {
    "duration": 8,
    "start_time": "2023-08-23T14:32:47.774Z"
   },
   {
    "duration": 148,
    "start_time": "2023-08-23T14:32:47.783Z"
   },
   {
    "duration": 156,
    "start_time": "2023-08-23T14:32:47.933Z"
   },
   {
    "duration": 10,
    "start_time": "2023-08-23T14:32:48.091Z"
   },
   {
    "duration": 31,
    "start_time": "2023-08-23T14:32:48.103Z"
   },
   {
    "duration": 6,
    "start_time": "2023-08-23T14:32:48.136Z"
   },
   {
    "duration": 11,
    "start_time": "2023-08-23T14:32:48.144Z"
   },
   {
    "duration": 1273,
    "start_time": "2023-08-23T14:32:48.159Z"
   },
   {
    "duration": 5,
    "start_time": "2023-08-23T14:32:49.434Z"
   },
   {
    "duration": 7,
    "start_time": "2023-08-23T14:39:37.964Z"
   },
   {
    "duration": 1166,
    "start_time": "2023-08-23T17:47:10.344Z"
   },
   {
    "duration": 88,
    "start_time": "2023-08-23T17:47:11.512Z"
   },
   {
    "duration": 12,
    "start_time": "2023-08-23T17:47:11.601Z"
   },
   {
    "duration": 170,
    "start_time": "2023-08-23T17:47:11.616Z"
   },
   {
    "duration": 103,
    "start_time": "2023-08-23T17:47:11.789Z"
   },
   {
    "duration": 11,
    "start_time": "2023-08-23T17:47:11.894Z"
   },
   {
    "duration": 261,
    "start_time": "2023-08-23T17:47:11.907Z"
   },
   {
    "duration": 77,
    "start_time": "2023-08-23T17:47:12.170Z"
   },
   {
    "duration": 14,
    "start_time": "2023-08-23T17:47:12.249Z"
   },
   {
    "duration": 15,
    "start_time": "2023-08-23T17:47:12.269Z"
   },
   {
    "duration": 45,
    "start_time": "2023-08-23T17:47:12.286Z"
   },
   {
    "duration": 7,
    "start_time": "2023-08-23T17:47:12.333Z"
   },
   {
    "duration": 13,
    "start_time": "2023-08-23T17:47:12.341Z"
   },
   {
    "duration": 16,
    "start_time": "2023-08-23T17:47:12.356Z"
   },
   {
    "duration": 210,
    "start_time": "2023-08-23T17:47:12.374Z"
   },
   {
    "duration": 9,
    "start_time": "2023-08-23T17:47:12.586Z"
   },
   {
    "duration": 11,
    "start_time": "2023-08-23T17:47:12.596Z"
   },
   {
    "duration": 93,
    "start_time": "2023-08-23T17:47:12.609Z"
   },
   {
    "duration": 181,
    "start_time": "2023-08-23T17:47:12.705Z"
   },
   {
    "duration": 91,
    "start_time": "2023-08-23T17:47:12.888Z"
   },
   {
    "duration": 14,
    "start_time": "2023-08-23T17:47:12.980Z"
   },
   {
    "duration": 206,
    "start_time": "2023-08-23T17:47:12.996Z"
   },
   {
    "duration": 113,
    "start_time": "2023-08-23T17:47:13.204Z"
   },
   {
    "duration": 13,
    "start_time": "2023-08-23T17:47:13.320Z"
   },
   {
    "duration": 47,
    "start_time": "2023-08-23T17:47:13.335Z"
   },
   {
    "duration": 10,
    "start_time": "2023-08-23T17:47:13.386Z"
   },
   {
    "duration": 193,
    "start_time": "2023-08-23T17:47:13.397Z"
   },
   {
    "duration": 115,
    "start_time": "2023-08-23T17:47:13.594Z"
   },
   {
    "duration": 10,
    "start_time": "2023-08-23T17:47:13.710Z"
   },
   {
    "duration": 11,
    "start_time": "2023-08-23T17:47:13.721Z"
   },
   {
    "duration": 59,
    "start_time": "2023-08-23T17:47:13.733Z"
   },
   {
    "duration": 16,
    "start_time": "2023-08-23T17:47:13.794Z"
   },
   {
    "duration": 14,
    "start_time": "2023-08-23T17:47:13.812Z"
   },
   {
    "duration": 513,
    "start_time": "2023-08-23T17:47:13.827Z"
   },
   {
    "duration": 39,
    "start_time": "2023-08-23T17:47:14.342Z"
   },
   {
    "duration": 323,
    "start_time": "2023-08-23T17:47:14.392Z"
   },
   {
    "duration": 17,
    "start_time": "2023-08-23T17:47:14.717Z"
   },
   {
    "duration": 697,
    "start_time": "2023-08-23T17:47:14.736Z"
   },
   {
    "duration": 7157,
    "start_time": "2023-08-23T17:47:15.434Z"
   },
   {
    "duration": 7,
    "start_time": "2023-08-23T17:47:22.593Z"
   },
   {
    "duration": 214,
    "start_time": "2023-08-23T17:47:22.601Z"
   },
   {
    "duration": 174,
    "start_time": "2023-08-23T17:47:22.817Z"
   },
   {
    "duration": 10,
    "start_time": "2023-08-23T17:47:22.993Z"
   },
   {
    "duration": 5,
    "start_time": "2023-08-23T17:47:23.005Z"
   },
   {
    "duration": 9,
    "start_time": "2023-08-23T17:47:23.011Z"
   },
   {
    "duration": 14,
    "start_time": "2023-08-23T17:47:23.022Z"
   },
   {
    "duration": 1512,
    "start_time": "2023-08-23T17:47:23.064Z"
   },
   {
    "duration": 10,
    "start_time": "2023-08-23T17:47:24.578Z"
   },
   {
    "duration": 567,
    "start_time": "2023-08-23T17:50:00.586Z"
   },
   {
    "duration": 13,
    "start_time": "2023-08-23T17:50:44.043Z"
   },
   {
    "duration": 82,
    "start_time": "2023-08-23T17:51:08.460Z"
   },
   {
    "duration": 766,
    "start_time": "2023-08-23T17:52:14.183Z"
   },
   {
    "duration": 497,
    "start_time": "2023-08-23T17:52:39.211Z"
   },
   {
    "duration": 689,
    "start_time": "2023-08-23T17:53:44.737Z"
   },
   {
    "duration": 1219,
    "start_time": "2023-08-23T17:53:53.076Z"
   },
   {
    "duration": 102,
    "start_time": "2023-08-23T17:53:54.302Z"
   },
   {
    "duration": 14,
    "start_time": "2023-08-23T17:53:54.406Z"
   },
   {
    "duration": 168,
    "start_time": "2023-08-23T17:53:54.422Z"
   },
   {
    "duration": 98,
    "start_time": "2023-08-23T17:53:54.592Z"
   },
   {
    "duration": 12,
    "start_time": "2023-08-23T17:53:54.691Z"
   },
   {
    "duration": 239,
    "start_time": "2023-08-23T17:53:54.705Z"
   },
   {
    "duration": 75,
    "start_time": "2023-08-23T17:53:54.946Z"
   },
   {
    "duration": 10,
    "start_time": "2023-08-23T17:53:55.023Z"
   },
   {
    "duration": 35,
    "start_time": "2023-08-23T17:53:55.035Z"
   },
   {
    "duration": 19,
    "start_time": "2023-08-23T17:53:55.072Z"
   },
   {
    "duration": 18,
    "start_time": "2023-08-23T17:53:55.093Z"
   },
   {
    "duration": 15,
    "start_time": "2023-08-23T17:53:55.112Z"
   },
   {
    "duration": 15,
    "start_time": "2023-08-23T17:53:55.130Z"
   },
   {
    "duration": 165,
    "start_time": "2023-08-23T17:53:55.147Z"
   },
   {
    "duration": 6,
    "start_time": "2023-08-23T17:53:55.314Z"
   },
   {
    "duration": 8,
    "start_time": "2023-08-23T17:53:55.321Z"
   },
   {
    "duration": 93,
    "start_time": "2023-08-23T17:53:55.331Z"
   },
   {
    "duration": 172,
    "start_time": "2023-08-23T17:53:55.426Z"
   },
   {
    "duration": 101,
    "start_time": "2023-08-23T17:53:55.600Z"
   },
   {
    "duration": 8,
    "start_time": "2023-08-23T17:53:55.702Z"
   },
   {
    "duration": 199,
    "start_time": "2023-08-23T17:53:55.712Z"
   },
   {
    "duration": 108,
    "start_time": "2023-08-23T17:53:55.913Z"
   },
   {
    "duration": 13,
    "start_time": "2023-08-23T17:53:56.022Z"
   },
   {
    "duration": 52,
    "start_time": "2023-08-23T17:53:56.037Z"
   },
   {
    "duration": 9,
    "start_time": "2023-08-23T17:53:56.091Z"
   },
   {
    "duration": 192,
    "start_time": "2023-08-23T17:53:56.102Z"
   },
   {
    "duration": 231,
    "start_time": "2023-08-23T17:53:56.296Z"
   },
   {
    "duration": 10,
    "start_time": "2023-08-23T17:53:56.529Z"
   },
   {
    "duration": 25,
    "start_time": "2023-08-23T17:53:56.541Z"
   },
   {
    "duration": 34,
    "start_time": "2023-08-23T17:53:56.574Z"
   },
   {
    "duration": 18,
    "start_time": "2023-08-23T17:53:56.610Z"
   },
   {
    "duration": 45,
    "start_time": "2023-08-23T17:53:56.630Z"
   },
   {
    "duration": 308,
    "start_time": "2023-08-23T17:53:56.680Z"
   },
   {
    "duration": 16,
    "start_time": "2023-08-23T17:53:56.992Z"
   },
   {
    "duration": 302,
    "start_time": "2023-08-23T17:53:57.010Z"
   },
   {
    "duration": 18,
    "start_time": "2023-08-23T17:53:57.314Z"
   },
   {
    "duration": 728,
    "start_time": "2023-08-23T17:53:57.334Z"
   },
   {
    "duration": 505,
    "start_time": "2023-08-23T17:53:58.064Z"
   },
   {
    "duration": 813,
    "start_time": "2023-08-23T17:53:58.572Z"
   },
   {
    "duration": 7408,
    "start_time": "2023-08-23T17:53:59.390Z"
   },
   {
    "duration": 9,
    "start_time": "2023-08-23T17:54:06.801Z"
   },
   {
    "duration": 178,
    "start_time": "2023-08-23T17:54:06.812Z"
   },
   {
    "duration": 181,
    "start_time": "2023-08-23T17:54:06.992Z"
   },
   {
    "duration": 12,
    "start_time": "2023-08-23T17:54:07.180Z"
   },
   {
    "duration": 6,
    "start_time": "2023-08-23T17:54:07.193Z"
   },
   {
    "duration": 5,
    "start_time": "2023-08-23T17:54:07.201Z"
   },
   {
    "duration": 17,
    "start_time": "2023-08-23T17:54:07.208Z"
   },
   {
    "duration": 1393,
    "start_time": "2023-08-23T17:54:07.227Z"
   },
   {
    "duration": 6,
    "start_time": "2023-08-23T17:54:08.621Z"
   },
   {
    "duration": 628,
    "start_time": "2023-08-23T17:54:19.147Z"
   },
   {
    "duration": 1440,
    "start_time": "2023-08-23T19:01:17.819Z"
   },
   {
    "duration": 3,
    "start_time": "2023-08-23T19:01:26.348Z"
   },
   {
    "duration": 141,
    "start_time": "2023-08-23T19:01:26.364Z"
   },
   {
    "duration": 24,
    "start_time": "2023-08-23T19:01:26.507Z"
   },
   {
    "duration": 154,
    "start_time": "2023-08-23T19:01:26.533Z"
   },
   {
    "duration": 125,
    "start_time": "2023-08-23T19:01:26.688Z"
   },
   {
    "duration": 12,
    "start_time": "2023-08-23T19:01:26.815Z"
   },
   {
    "duration": 247,
    "start_time": "2023-08-23T19:01:26.828Z"
   },
   {
    "duration": 138,
    "start_time": "2023-08-23T19:01:27.077Z"
   },
   {
    "duration": 10,
    "start_time": "2023-08-23T19:01:27.217Z"
   },
   {
    "duration": 16,
    "start_time": "2023-08-23T19:01:27.229Z"
   },
   {
    "duration": 17,
    "start_time": "2023-08-23T19:01:27.247Z"
   },
   {
    "duration": 14,
    "start_time": "2023-08-23T19:01:27.265Z"
   },
   {
    "duration": 26,
    "start_time": "2023-08-23T19:01:27.281Z"
   },
   {
    "duration": 9,
    "start_time": "2023-08-23T19:01:27.308Z"
   },
   {
    "duration": 155,
    "start_time": "2023-08-23T19:01:27.320Z"
   },
   {
    "duration": 5,
    "start_time": "2023-08-23T19:01:27.477Z"
   },
   {
    "duration": 11,
    "start_time": "2023-08-23T19:01:27.483Z"
   },
   {
    "duration": 89,
    "start_time": "2023-08-23T19:01:27.497Z"
   },
   {
    "duration": 159,
    "start_time": "2023-08-23T19:01:27.589Z"
   },
   {
    "duration": 85,
    "start_time": "2023-08-23T19:01:27.750Z"
   },
   {
    "duration": 23,
    "start_time": "2023-08-23T19:01:27.836Z"
   },
   {
    "duration": 179,
    "start_time": "2023-08-23T19:01:27.860Z"
   },
   {
    "duration": 116,
    "start_time": "2023-08-23T19:01:28.041Z"
   },
   {
    "duration": 12,
    "start_time": "2023-08-23T19:01:28.159Z"
   },
   {
    "duration": 11,
    "start_time": "2023-08-23T19:01:28.173Z"
   },
   {
    "duration": 7,
    "start_time": "2023-08-23T19:01:28.186Z"
   },
   {
    "duration": 357,
    "start_time": "2023-08-23T19:01:28.195Z"
   },
   {
    "duration": 110,
    "start_time": "2023-08-23T19:01:28.555Z"
   },
   {
    "duration": 8,
    "start_time": "2023-08-23T19:01:28.667Z"
   },
   {
    "duration": 16,
    "start_time": "2023-08-23T19:01:28.677Z"
   },
   {
    "duration": 20,
    "start_time": "2023-08-23T19:01:28.695Z"
   },
   {
    "duration": 39,
    "start_time": "2023-08-23T19:01:28.717Z"
   },
   {
    "duration": 16,
    "start_time": "2023-08-23T19:01:28.757Z"
   },
   {
    "duration": 284,
    "start_time": "2023-08-23T19:01:28.774Z"
   },
   {
    "duration": 16,
    "start_time": "2023-08-23T19:01:29.060Z"
   },
   {
    "duration": 283,
    "start_time": "2023-08-23T19:01:29.078Z"
   },
   {
    "duration": 22,
    "start_time": "2023-08-23T19:01:29.363Z"
   },
   {
    "duration": 588,
    "start_time": "2023-08-23T19:01:32.272Z"
   },
   {
    "duration": 496,
    "start_time": "2023-08-23T19:01:36.704Z"
   },
   {
    "duration": 6,
    "start_time": "2023-08-23T19:01:39.912Z"
   },
   {
    "duration": 581,
    "start_time": "2023-08-23T19:01:54.295Z"
   }
  ],
  "kernelspec": {
   "display_name": "Python 3 (ipykernel)",
   "language": "python",
   "name": "python3"
  },
  "language_info": {
   "codemirror_mode": {
    "name": "ipython",
    "version": 3
   },
   "file_extension": ".py",
   "mimetype": "text/x-python",
   "name": "python",
   "nbconvert_exporter": "python",
   "pygments_lexer": "ipython3",
   "version": "3.11.7"
  },
  "toc": {
   "base_numbering": 1,
   "nav_menu": {
    "height": "82px",
    "width": "339px"
   },
   "number_sections": true,
   "sideBar": true,
   "skip_h1_title": true,
   "title_cell": "Table of Contents",
   "title_sidebar": "Contents",
   "toc_cell": false,
   "toc_position": {},
   "toc_section_display": true,
   "toc_window_display": false
  }
 },
 "nbformat": 4,
 "nbformat_minor": 5
}
